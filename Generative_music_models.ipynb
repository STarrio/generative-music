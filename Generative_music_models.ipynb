{
 "cells": [
  {
   "cell_type": "markdown",
   "id": "K3bJPweay7x7",
   "metadata": {
    "id": "K3bJPweay7x7"
   },
   "source": [
    "### Settings & imports"
   ]
  },
  {
   "cell_type": "markdown",
   "id": "E4GmduUuJ0K5",
   "metadata": {
    "id": "E4GmduUuJ0K5"
   },
   "source": [
    "Estas celdas realizan algunos pasos previos a la ejecución que son necesarios para la misma:\n",
    "- Conectar Google Drive para leer y escribir ficheros que persistan tras la ejecución (modelos, pesos, datasets, resultados, etc.)\n",
    "- Actualizar la librería music21, ya que a veces ha pasado que la versión instalada por defecto cuando se inicia el kernel es una anterior, que no es compatible con las últimas actualizaciones y se rompe al intentar parsear los ficheros MIDI\n",
    "- Importar las librerías que se van a utilizar en el proyecto"
   ]
  },
  {
   "cell_type": "code",
   "execution_count": 4,
   "id": "8q5oWycnE5s1",
   "metadata": {
    "colab": {
     "base_uri": "https://localhost:8080/"
    },
    "id": "8q5oWycnE5s1",
    "outputId": "aa2874ce-a4d4-49a3-e2fa-d3a274e2469f"
   },
   "outputs": [],
   "source": [
    "ENV = 'local'\n",
    "if(ENV == 'colab'):\n",
    "  BASE_PATH = '/content/drive/MyDrive/uni/TFG2023/generative-music/'\n",
    "  from google.colab import drive\n",
    "  drive.mount('/content/drive')\n",
    "\n",
    "  !pip install --upgrade music21\n",
    "    \n",
    "elif(ENV == 'local'):\n",
    "  BASE_PATH = './'\n",
    "else:\n",
    "  raise Exception()"
   ]
  },
  {
   "cell_type": "code",
   "execution_count": null,
   "id": "96592c2d",
   "metadata": {
    "id": "96592c2d"
   },
   "outputs": [],
   "source": [
    "import music21 as m21\n",
    "import os\n",
    "import numpy as np\n",
    "from tensorflow.keras.utils import to_categorical\n",
    "from tensorflow.keras.callbacks import ModelCheckpoint, EarlyStopping\n",
    "import tensorflow.keras.backend as K \n",
    "import tensorflow.keras as keras\n",
    "import tensorflow as tf\n",
    "import gc\n",
    "import pickle"
   ]
  },
  {
   "cell_type": "markdown",
   "id": "fUz_WgSxKx1T",
   "metadata": {
    "id": "fUz_WgSxKx1T"
   },
   "source": [
    "### Base generator class\n",
    "\n",
    "La clase MusicGenerator engloba toda la funcionalidad necesaria para generar un caso de prueba.\n",
    "Empieza por inicializar la prueba, definiendo los siguientes parámetros:\n",
    "- **mode**: Determina si es una prueba nueva o si requiere cargar un modelo guardado en el parámetro __store_path__.\n",
    "- **store_path**: Ruta donde guardar todos los ficheros resultantes de la ejecución.\n",
    "- **seq_len**: longitud de la secuencia para generar el dataset de entrenamiento (por defecto 32)\n",
    "- **delimiter**: carácter delimitador entre piezas musicales, _delimiter * seq_len_ determina el principio de una nueva pieza musical\n",
    "- **input_type**: permite alternar entre los dos tipos de input_shape, single o multi (por defecto multi)\n",
    "\n",
    "Al crear un objeto de la clase MusicGenerator, se inicializan las siguientes configuraciones en función del parámetro **mode**:\n",
    "- **mode = 'build'**: Crea el árbol de ficheros para la prueba en el **store_path**, e inicializa todo a None.\n",
    "- **mode = 'load'**: Carga las tablas de notas y duraciones, yel modelo almacenado en la ruta (si lo hubiera).\n",
    "\n",
    "### Funciones\n",
    "#### load_song_data()\n",
    "\n",
    "La función **load_song_data(song_path)** parsea y carga en memoria todos los ficheros de formato MIDI (.mid) que encuentre en *song_path*. Para ello utiliza la librería Music21, que convierte todos los ficheros en objetos que contienen la información de compases, notas, acordes, duraciones y pistas de la canción almacenada en el fichero. Esta información se carga en dos listas del mismo tamaño que contienen la información de notas y duraciones para cada timestep:\n",
    "- self.notes contiene la información de las notas y acordes de todas las canciones leídas, separando cada canción por medio de _delimiter*seq_len_ \n",
    "- self.durations contiene la información de la duración de la nota en el mismo índice para cada timestep.\n",
    "\n",
    "Esta función también crea las llamadas lookup tables para notas y duraciones, que son dos diccionarios que asocian cada nota, acorde y duración encontrados en las canciones a un número entero que las codifica.\n",
    "\n",
    "#### create_dataset()\n",
    "\n",
    "La función **create_dataset()** genera una tupla (inputs, outputs) donde inputs es una lista [notes, durations] que contiene las notas y duraciones para cada *seq_len* timesteps, y outputs contiene la [note, duration] para el timestep *seq_len + 1*. Estas dos matrices están en la forma esperada por el modelo, de manera que sirvan para su entrenamiento.\n",
    "\n",
    "#### build_model()\n",
    "\n",
    "La función **build_model()** recibe a su vez una función mediante el parámetro _builder_. Esta función debe definir la estructura del modelo que se va a usar en la prueba, de manera que se puedan intercambiar diferentes modelos cambiando la función _builder_. Una vez ejecutada la función build_model(), el modelo está guardado en self.model, listo para ser entrenado.\n",
    "\n",
    "#### fit_model()\n",
    "\n",
    "La función **fit_model()** entrena el modelo con las inputs y outputs creadas anteriormente, durante las épocas definidas en *epochs*. Al finalizar el entrenamiento, guarda el modelo y los pesos en la ruta *./weights*.\n",
    "\n",
    "####  generate()\n",
    "\n",
    "La función **generate()** genera una nueva muestra de música, a partir de *seed* (que puede ser un fichero MIDI existente o un array  vacío), generando la cantidad de timesteps definidos en *num_steps*.\n"
   ]
  },
  {
   "cell_type": "code",
   "execution_count": null,
   "id": "2d6eb315",
   "metadata": {
    "id": "2d6eb315"
   },
   "outputs": [],
   "source": [
    "DATASET_PATH = './data/nesmdb_midi'\n",
    "SEQ_LEN = 32\n",
    "\n",
    "NUM_UNITS = [256]\n",
    "LOSS = 'categorical_crossentropy'\n",
    "LR = 0.001\n",
    "EPOCHS = 10\n",
    "BATCH_SIZE = 64\n",
    "\n",
    "class MusicGenerator:\n",
    "    \n",
    "    def __init__(self, mode, store_path, seq_len=SEQ_LEN, delimiter='/', input_type='multi'): \n",
    "        \n",
    "        self.store_path = os.path.join('runs',store_path)\n",
    "        self.seq_len = seq_len\n",
    "        self.delimiter = delimiter\n",
    "        self.mode = mode\n",
    "        self.input_type = input_type\n",
    "        self.model_path = os.path.join(self.store_path, f'model_{self.input_type}-input.h5')\n",
    "        self.saved_songs = 0\n",
    "        self.model = None\n",
    "        \n",
    "        print(f'MODE SET TO: {self.mode}')\n",
    "        \n",
    "        if (self.mode=='build'):\n",
    "            print('BUILD MODE')\n",
    "            print(\"\"\"A new directory will be created for this run,\n",
    "                    where vocabularies and lookup tables will be stored upon creation.\n",
    "                    Everything is set to 0.\"\"\")\n",
    "            \n",
    "            os.mkdir(self.store_path)\n",
    "            os.mkdir(os.path.join(self.store_path,'weights'))\n",
    "            self.note_lookup_table = None\n",
    "            self.duration_lookup_table = None\n",
    "            self.note_vocab_size = 0\n",
    "            self.duration_vocab_size = 0\n",
    "            self.song_data = {} \n",
    "            self.notes = None\n",
    "            self.durations = None\n",
    "            \n",
    "        elif(self.mode=='load'):\n",
    "            print('LOAD MODE')\n",
    "            print(\"\"\"An existing run will be loaded from the directory,\n",
    "                    loading existing vocabularies, lookup tables and model.\"\"\")\n",
    "            \n",
    "            # load notes & durations from pickle\n",
    "            with open(os.path.join(self.store_path, 'notes'),'rb') as fn:\n",
    "                self.notes = pickle.load(fn)\n",
    "            \n",
    "            with open(os.path.join(self.store_path, 'durations'),'rb') as fd:\n",
    "                self.durations = pickle.load(fd)\n",
    "                \n",
    "            # load lookup tables\n",
    "            self.note_vocab_size,self.note_lookup_table = self.load_lookup_table(self.notes)\n",
    "            self.duration_vocab_size,self.duration_lookup_table = self.load_lookup_table(self.durations)\n",
    "                \n",
    "            # load model\n",
    "            if(os.path.exists(self.model_path)):\n",
    "                print('Loaded model')\n",
    "                self.model = keras.models.load_model(self.model_path)\n",
    "                self.model.summary()\n",
    "        else:\n",
    "            raise Exception(f\"Invalid value for mode: {mode}. Must be either 'build' or 'load'.\")\n",
    "            \n",
    "        \n",
    "    def load_song_data(self,song_path):\n",
    "        \n",
    "        if(self.mode == 'load'):\n",
    "            raise Exception(\"Running mode set to 'load'\")\n",
    "            \n",
    "        # Get song data from data_path and parse it as a Music21 object\n",
    "        songs = {}\n",
    "\n",
    "        for path,subdir,files in os.walk(song_path):\n",
    "            for file in files:\n",
    "                if (file[-3:] == 'mid'):\n",
    "                    try:\n",
    "                        song = m21.converter.parse(os.path.join(path,file)).chordify()\n",
    "                        songs[file[:-4]] = song\n",
    "                    except:\n",
    "                        print(f'Parsing file {file} failed. Skipping.')\n",
    "                        continue\n",
    "        print(f'Found {len(songs)} valid songs. Parsing song notes...')\n",
    "        self.load_notes(songs)\n",
    "        print('Finished loading songs.')\n",
    "        \n",
    "    def load_notes(self, song_data):\n",
    "        # Load songs\n",
    "        titles, songs = list(song_data.keys()), list(song_data.values())\n",
    "\n",
    "        notes = []\n",
    "        durations = []\n",
    "\n",
    "        # Clean short songs\n",
    "        for i,song in enumerate(songs):\n",
    "            # Clean short songs\n",
    "            if(song.duration.quarterLength < 1):\n",
    "                print(f'Skipping song {titles[i]} with duration {song.duration.quarterLength}')\n",
    "                continue\n",
    "            \n",
    "            if(i%10==0):\n",
    "                print(f'Parsed {i} songs.')\n",
    "            \n",
    "            song_notes, song_durations = self.__encode_song(song)\n",
    "            notes=notes + [self.delimiter] * self.seq_len\n",
    "            notes=notes + song_notes\n",
    "            durations=durations + [0] * self.seq_len\n",
    "            durations=durations + song_durations\n",
    "            \n",
    "\n",
    "        print(f'Parsed {len(song_data)} songs.')\n",
    "        \n",
    "        print('Building lookup tables for notes...')\n",
    "        self.note_vocab_size,self.note_lookup_table = self.load_lookup_table(notes)\n",
    "        print(f'Note vocabulary size: {self.note_vocab_size}')\n",
    "        \n",
    "        print('Building lookup tables for durations...')\n",
    "        self.duration_vocab_size,self.duration_lookup_table = self.load_lookup_table(durations)\n",
    "        print(f'Duration vocabulary size: {self.duration_vocab_size}')\n",
    "        \n",
    "        self.notes = notes\n",
    "        self.durations = durations\n",
    "        \n",
    "        with open(os.path.join(self.store_path, 'notes'),'wb') as fn:\n",
    "            pickle.dump(notes,fn)\n",
    "            \n",
    "        with open(os.path.join(self.store_path, 'durations'),'wb') as fd:\n",
    "            pickle.dump(durations,fd)\n",
    "        \n",
    "        del song_data\n",
    "        \n",
    "    def load_lookup_table(self,elements):\n",
    "        return len(list(set(elements))),{v:i for i,v in enumerate(list(set(elements)))}\n",
    "        \n",
    "    def load_lookup_tables(self,notes,durations):\n",
    "        self.note_lookup_table = {v:i for i,v in enumerate(list(set(notes)))}\n",
    "        self.duration_lookup_table = {v:i for i,v in enumerate(list(set(durations)))}\n",
    "        self.vocab_size = len(self.lookup_table.keys())\n",
    "    \n",
    "    def create_dataset(self):\n",
    "        print(f'Creating network inputs and outputs from stored song data.')\n",
    "        if(self.input_type == 'multi'):\n",
    "            return self.create_dataset_multi_input()\n",
    "        elif(self.input_type == 'single'):\n",
    "            return self.create_dataset_single_input()\n",
    "        else:\n",
    "            raise Exception('Invalid version.')\n",
    "            \n",
    "    def create_dataset_multi_input(self):\n",
    "        print('Creating multi-input dataset.')\n",
    "    \n",
    "        note_inputs = []\n",
    "        duration_inputs = []\n",
    "        note_outputs = []\n",
    "        duration_outputs = []\n",
    "\n",
    "        for i in range(len(self.notes)-self.seq_len):\n",
    "            note_sequence_in = self.notes[i:i + self.seq_len]\n",
    "            duration_sequence_in = self.durations[i:i + self.seq_len]\n",
    "            note_sequence_out = self.notes[i + self.seq_len]\n",
    "            duration_sequence_out = self.durations[i + self.seq_len]\n",
    "\n",
    "            note_inputs.append([self.note_lookup_table[char] for char in note_sequence_in])\n",
    "            duration_inputs.append([self.duration_lookup_table[char] for char in duration_sequence_in])\n",
    "            note_outputs.append(self.note_lookup_table[note_sequence_out])\n",
    "            duration_outputs.append(self.duration_lookup_table[duration_sequence_out])\n",
    "\n",
    "        note_inputs = np.reshape(note_inputs, (len(note_inputs), self.seq_len))\n",
    "        duration_inputs = np.reshape(duration_inputs, (len(duration_inputs), self.seq_len))\n",
    "        inputs = [note_inputs,duration_inputs]\n",
    "        \n",
    "        note_outputs = to_categorical(note_outputs,self.note_vocab_size)\n",
    "        duration_outputs = to_categorical(duration_outputs,self.duration_vocab_size)\n",
    "        outputs = [note_outputs, duration_outputs]\n",
    "        \n",
    "\n",
    "        del self.notes\n",
    "        del self.durations\n",
    "        gc.collect()\n",
    "        print(f'Input shape: {inputs[0].shape}')\n",
    "        print(f'Output shape: {outputs[0].shape}')\n",
    "        \n",
    "        return (inputs, outputs)\n",
    "    \n",
    "    \n",
    "    def create_dataset_single_input(self):\n",
    "    \n",
    "        print('Creating single-input dataset.')\n",
    "        inputs = []\n",
    "        note_outputs = []\n",
    "        duration_outputs = []\n",
    "\n",
    "        for i in range(len(self.notes)-self.seq_len):\n",
    "            note_sequence_in = self.notes[i:i + self.seq_len]\n",
    "            duration_sequence_in = self.durations[i:i + self.seq_len]\n",
    "            \n",
    "            note_sequence_out = self.notes[i + self.seq_len]\n",
    "            duration_sequence_out = self.durations[i + self.seq_len]\n",
    "\n",
    "            note_sequence_in=[self.note_lookup_table[char] for char in note_sequence_in]\n",
    "            duration_sequence_in=[self.duration_lookup_table[char] for char in duration_sequence_in]\n",
    "            \n",
    "            note_sequence_out=self.note_lookup_table[note_sequence_out]\n",
    "            duration_sequence_out=self.duration_lookup_table[duration_sequence_out]\n",
    "            \n",
    "            sequence_in = [list(a) for a in zip(note_sequence_in,duration_sequence_in)]\n",
    "            \n",
    "            note_outputs.append(note_sequence_out)\n",
    "            duration_outputs.append(duration_sequence_out)\n",
    "            \n",
    "            inputs.append(sequence_in)\n",
    "\n",
    "        inputs = np.reshape(inputs, (len(inputs), self.seq_len, 2))\n",
    "        \n",
    "        note_outputs = to_categorical(note_outputs,self.note_vocab_size)\n",
    "        duration_outputs = to_categorical(duration_outputs,self.duration_vocab_size)\n",
    "        outputs = [note_outputs, duration_outputs]\n",
    "        \n",
    "\n",
    "        del self.notes\n",
    "        del self.durations\n",
    "        gc.collect()\n",
    "        \n",
    "        print(f'Input shape: {inputs[0].shape}')\n",
    "        print(f'Output shape: {outputs[0].shape}')\n",
    "        \n",
    "        return (inputs, outputs)\n",
    "    \n",
    "    def build_model(self, builder, num_units, loss, lr, embed_size = 100, coerce=False):\n",
    "        if(self.model is not None and not coerce):\n",
    "            raise Exception('A model already exists!')\n",
    "            \n",
    "        model_params = {\n",
    "            'seq_len': self.seq_len,\n",
    "            'note_vocab_size':self.note_vocab_size,\n",
    "            'duration_vocab_size':self.duration_vocab_size\n",
    "        }\n",
    "            \n",
    "        model, att_model = builder(model_params, num_units, loss, lr, embed_size)\n",
    "            \n",
    "        model.summary()\n",
    "        self.model = model\n",
    "        self.model.save(self.model_path) \n",
    "    \n",
    "    def fit_model(self,inputs, outputs, epochs=EPOCHS, batch_size=BATCH_SIZE):\n",
    "        weights_folder = os.path.join(self.store_path, 'weights')\n",
    "        \n",
    "        checkpoint1 = ModelCheckpoint(\n",
    "            os.path.join(weights_folder, \"weights-improvement-{epoch:02d}-{loss:.4f}-bigger.h5\"),\n",
    "            monitor='loss',\n",
    "            verbose=0,\n",
    "            save_best_only=True,\n",
    "            mode='min'\n",
    "        )\n",
    "\n",
    "        checkpoint2 = ModelCheckpoint(\n",
    "            os.path.join(weights_folder, \"weights.h5\"),\n",
    "            monitor='loss',\n",
    "            verbose=0,\n",
    "            save_best_only=True,\n",
    "            mode='min'\n",
    "        )\n",
    "\n",
    "        early_stopping = EarlyStopping(\n",
    "            monitor='loss'\n",
    "            , restore_best_weights=True\n",
    "            , patience = 10\n",
    "        )\n",
    "\n",
    "\n",
    "        callbacks_list = [\n",
    "            checkpoint1\n",
    "            , checkpoint2\n",
    "            , early_stopping\n",
    "         ]\n",
    "\n",
    "        self.model.save_weights(os.path.join(weights_folder, \"weights.h5\"))\n",
    "        self.model.fit(inputs, outputs\n",
    "                  , epochs=epochs, batch_size=batch_size\n",
    "                  , callbacks=callbacks_list\n",
    "                  , shuffle=True\n",
    "                 )\n",
    "        \n",
    "        self.model.save(self.model_path)\n",
    "        \n",
    "    def generate(self, seed, num_steps, max_seq_len, temperature):\n",
    "        \n",
    "        note_stream, duration_stream = seed\n",
    "        \n",
    "        # create seed with start symbol\n",
    "        notes_seed, durations_seed = seed\n",
    "        \n",
    "        notes_seed = [self.delimiter] * self.seq_len + notes_seed\n",
    "        notes_seed = [self.note_lookup_table[symbol] for symbol in notes_seed]\n",
    "\n",
    "        durations_seed = [0] * self.seq_len + durations_seed\n",
    "        durations_seed = [self.duration_lookup_table[symbol] for symbol in durations_seed]\n",
    "        \n",
    "        \n",
    "        for _ in range(num_steps):\n",
    "            \n",
    "            # limit seed to max_seq_len\n",
    "            notes_seed = notes_seed[-self.seq_len:]\n",
    "            durations_seed = durations_seed[-self.seq_len:]\n",
    "            \n",
    "            # add dimension for batch\n",
    "            # (1, max_seq_len, vocab_size)\n",
    "            # network_input = [np.reshape(notes_seed,(1,64)),np.reshape(durations_seed,(1,self.seq_len))]\n",
    "            if(self.input_type == 'multi'):\n",
    "                network_input = [np.reshape(notes_seed,(1,self.seq_len)),np.reshape(durations_seed,(1,self.seq_len))]\n",
    "            elif(self.input_type == 'single'):\n",
    "                network_input = [list(a) for a in zip(notes_seed,durations_seed)]\n",
    "                network_input = np.reshape(network_input,(1,self.seq_len,2))\n",
    "            else:\n",
    "                raise Exception('Invalid version.')\n",
    "            \n",
    "            \n",
    "            # make a prediction\n",
    "            note_prob_dist, duration_prob_dist = self.model.predict(network_input)\n",
    "            # [0.1, 0.2, 0.1, 0.6] example -> softmax adds to 1\n",
    "            \n",
    "            note_output = self._sample_with_temperature(note_prob_dist[0], temperature)\n",
    "            duration_output = self._sample_with_temperature(duration_prob_dist[0], temperature)\n",
    "            \n",
    "            # update seed\n",
    "            notes_seed.append(note_output)\n",
    "            durations_seed.append(duration_output)\n",
    "            \n",
    "            # map int to encoding\n",
    "            note_symbol = [k for k, v in self.note_lookup_table.items() if v == note_output][0]\n",
    "            duration_symbol = [k for k, v in self.duration_lookup_table.items() if v == duration_output][0]\n",
    "            \n",
    "            # check end of melody\n",
    "            if (note_symbol == '/'):\n",
    "                break\n",
    "            \n",
    "            # update melody\n",
    "            note_stream.append(note_symbol)\n",
    "            duration_stream.append(duration_symbol)\n",
    "            \n",
    "        return [note_stream, duration_stream]\n",
    "    \n",
    "    \n",
    "    def save(self, song, step_duration=0.25, format='midi'):\n",
    "        \n",
    "        filename = self.store_path + '/gensong_' +str(self.saved_songs) + '_' + str(self.input_type) + '-input.midi'\n",
    "        self.saved_songs+=1\n",
    "         \n",
    "        # create a music21 stream\n",
    "        stream = m21.stream.Stream()\n",
    "        \n",
    "        # pass symbols in melody and create note/rest/chord objects\n",
    "        start_symbol = None\n",
    "        step_counter = 1\n",
    "        \n",
    "        notes, durations = song\n",
    "        \n",
    "        for i in range(len(notes)):\n",
    "            \n",
    "            current_note = notes[i]\n",
    "            current_duration = durations[i]\n",
    "            \n",
    "            if(current_note == 'r'):\n",
    "                # rest\n",
    "                m21_event = m21.note.Rest(quarterLength=current_duration)\n",
    "\n",
    "            elif('.' in current_note):\n",
    "                # chord\n",
    "                pitches = [int(p) for p in current_note.split('.')]\n",
    "                m21_event = m21.chord.Chord(pitches,quarterLength=current_duration)\n",
    "\n",
    "            else:\n",
    "                # note\n",
    "                m21_event = m21.note.Note(int(current_note), quarterLength=current_duration)\n",
    "\n",
    "            stream.append(m21_event)\n",
    "                \n",
    "        \n",
    "        # write music21 stream to midi file\n",
    "        stream.write(format,filename)\n",
    "        \n",
    "        \n",
    "    def get_seed_from_midi(self,midi_path):\n",
    "        song = m21.converter.parse(midi_path).chordify()\n",
    "        encoded = self.__encode_song(song)\n",
    "        return encoded\n",
    "        \n",
    "    \n",
    "    def __encode_song(self, song, time_step=0.25):\n",
    "        encoded_notes = []\n",
    "        encoded_durations = []\n",
    "        for event in song.flat.notesAndRests:\n",
    "            if(isinstance(event,m21.note.Note)):\n",
    "                symbol = str(event.pitch.midi)\n",
    "                duration = event.duration.quarterLength\n",
    "            elif(isinstance(event,m21.note.Rest)):\n",
    "                symbol = 'r'\n",
    "                duration = event.duration.quarterLength\n",
    "            elif(isinstance(event,m21.chord.Chord)):\n",
    "                symbol = '.'.join([str(p.midi) for p in event.pitches]) \n",
    "                duration = event.duration.quarterLength\n",
    "            elif(isinstance(event,m21.note.Unpitched) or isinstance(event,m21.percussion.PercussionChord) ):\n",
    "                continue\n",
    "            else:\n",
    "                raise Exception(f'unknown event type {type(event)}')\n",
    "\n",
    "            encoded_notes.append(symbol)\n",
    "            encoded_durations.append(duration)\n",
    "        return encoded_notes, encoded_durations\n",
    "        \n",
    "    def __convert_song(self,song):\n",
    "        return [self.lookup_table[symbol] for symbol in song] \n",
    "    \n",
    "    def _sample_with_temperature(self, probabilities, temperature):\n",
    "        # temperature -> inf then acts like random sampling\n",
    "        # temperature -> 0 then the highest prob wins\n",
    "        # temperature -> 1 \n",
    "        # how explorative we want the network to be\n",
    "\n",
    "        predictions = np.log(probabilities) / temperature\n",
    "        probabilities = np.exp(predictions) / np.sum(np.exp(predictions))\n",
    "\n",
    "        choices = range(len(probabilities)) # [0, 1, 2 ,3]\n",
    "        index = np.random.choice(choices, p=probabilities) # sample from probability distribution\n",
    "            \n",
    "        return index\n",
    "        \n",
    "        "
   ]
  },
  {
   "cell_type": "markdown",
   "id": "89wUWvBMAQXl",
   "metadata": {
    "id": "89wUWvBMAQXl"
   },
   "source": [
    "### Builder functions\n",
    "\n",
    "En este apartado se definen las distintas funciones que se le pueden pasar como _builder function_ a la función *build_model()*, que sirven para generar el modelo generativo correspondiente.\n",
    "\n",
    "Hasta el momento, existen las siguientes:\n",
    "\n",
    "#### build_lstm_multi_input()\n",
    "\n",
    "Construye un modelo basado en una red neuronal LSTM con mecanismo de atención, y con dos Embedding layers que aprenden la representación vectorial de las entradas [notes,  durations]\n",
    "\n",
    "#### build_lstm_single_input()\n",
    "\n",
    "Construye el mismo modelo que la función anterior, pero esperando una entrada del tipo [[note_1, duration_1], [note_2, duration_2], ...,  [note_n, duration_n]], de manera que se prescinde de las Embedding layers."
   ]
  },
  {
   "cell_type": "code",
   "execution_count": null,
   "id": "2c4737e7",
   "metadata": {
    "id": "2c4737e7"
   },
   "outputs": [],
   "source": [
    "# BUILDER FUNCTIONS\n",
    "def build_lstm_multi_input(build_params, num_units, loss, lr, embed_size = 100, with_attention=True):\n",
    "\n",
    "    # create model architecture\n",
    "    note_input = keras.layers.Input(shape=(build_params['seq_len'],))\n",
    "    duration_input = keras.layers.Input(shape=(build_params['seq_len']))\n",
    "\n",
    "    x1 = keras.layers.Embedding(build_params['note_vocab_size'], embed_size)(note_input)\n",
    "    x2 = keras.layers.Embedding(build_params['duration_vocab_size'], embed_size)(duration_input) \n",
    "\n",
    "    x = keras.layers.Concatenate()([x1,x2])\n",
    "\n",
    "    x = keras.layers.LSTM(num_units[0],return_sequences=True)(x)\n",
    "    #x = keras.layers.Dropout(0.2)(x)\n",
    "\n",
    "    c = keras.layers.LSTM(num_units[0], return_sequences=True)(x)\n",
    "    #x = keras.layers.Dropout(0.2)(x)\n",
    "\n",
    "    if(with_attention):\n",
    "      # ATTENTION MECHANISM\n",
    "      e = keras.layers.Dense(1, activation='tanh')(c)\n",
    "      e = keras.layers.Reshape([-1])(e)\n",
    "      alpha = keras.layers.Activation('softmax')(e)\n",
    "\n",
    "      alpha_repeated = keras.layers.Permute([2,1])(keras.layers.RepeatVector(num_units[0])(alpha))\n",
    "\n",
    "      c = keras.layers.Multiply()([x, alpha_repeated])\n",
    "      c = keras.layers.Lambda(lambda xi: K.sum(xi,axis=1), output_shape=(num_units[0],))(c)\n",
    "\n",
    "      note_output = keras.layers.Dense(build_params['note_vocab_size'], activation='softmax')(c)\n",
    "      duration_output = keras.layers.Dense(build_params['duration_vocab_size'], activation='softmax')(c)\n",
    "\n",
    "      model = keras.Model([note_input, duration_input], [note_output,duration_output],name='embedding_lstm')\n",
    "      att_model = keras.Model([note_input, duration_input], alpha, name='embedding_attention_model')\n",
    "    else:\n",
    "      note_output = keras.layers.Dense(build_params['note_vocab_size'], activation='softmax')(c)\n",
    "      duration_output = keras.layers.Dense(build_params['duration_vocab_size'], activation='softmax')(c)\n",
    "\n",
    "      model = keras.Model([note_input, duration_input], [note_output,duration_output],name='embedding_lstm')\n",
    "      att_model = None\n",
    "\n",
    "    # compile model\n",
    "    optimizer = keras.optimizers.Adam(learning_rate=lr) # keras.optimizers.RMSprop(lr = lr)\n",
    "    model.compile(loss=[loss,loss], optimizer=optimizer, metrics=['accuracy'])\n",
    "    return model, att_model\n",
    "\n",
    "\n",
    "\n",
    "\n",
    "def build_lstm_single_input(build_params, num_units, loss, lr, embed_size = 100, with_attention=True):\n",
    "\n",
    "    # create model architecture\n",
    "\n",
    "    i = keras.layers.Input(shape=(build_params['seq_len'],2))\n",
    "\n",
    "    x = keras.layers.LSTM(num_units[0],return_sequences=True)(i)\n",
    "    #x = keras.layers.Dropout(0.2)(x)\n",
    "\n",
    "    x = keras.layers.LSTM(num_units[0])(x)\n",
    "    c = keras.layers.Dropout(0.2)(x)\n",
    "\n",
    "    if(with_attention):\n",
    "      # ATTENTION MECHANISM\n",
    "      e = keras.layers.Dense(1, activation='tanh')(x)\n",
    "      e = keras.layers.Reshape([-1])(e)\n",
    "      alpha = keras.layers.Activation('softmax')(e)\n",
    "\n",
    "      alpha_repeated = keras.layers.Permute([2,1])(keras.layers.RepeatVector(num_units[0])(alpha))\n",
    "\n",
    "      c = keras.layers.Multiply()([x, alpha_repeated])\n",
    "      c = keras.layers.Lambda(lambda xi: K.sum(xi,axis=1), output_shape=(num_units[0],))(c)\n",
    "\n",
    "      note_output = keras.layers.Dense(build_params['note_vocab_size'], activation='softmax')(c)\n",
    "      duration_output = keras.layers.Dense(build_params['duration_vocab_size'], activation='softmax')(c)\n",
    "\n",
    "      model = keras.Model(i, [note_output,duration_output], name='single_input_lstm')\n",
    "      att_model = keras.Model(i, alpha, name='single_input_attention_model')\n",
    "    else:\n",
    "      note_output = keras.layers.Dense(build_params['note_vocab_size'], activation='softmax')(c)\n",
    "      duration_output = keras.layers.Dense(build_params['duration_vocab_size'], activation='softmax')(c)\n",
    "\n",
    "      model = keras.Model(i, [note_output,duration_output], name='single_input_lstm')\n",
    "      att_model = None\n",
    "    # compile model\n",
    "    optimizer = keras.optimizers.Adam(learning_rate=lr) # keras.optimizers.RMSprop(lr = lr)\n",
    "    model.compile(loss=[loss,loss], optimizer=optimizer, metrics=['accuracy'])\n",
    "\n",
    "    return model, att_model"
   ]
  },
  {
   "cell_type": "markdown",
   "id": "71e85e4f",
   "metadata": {
    "id": "71e85e4f"
   },
   "source": [
    "### New run"
   ]
  },
  {
   "cell_type": "code",
   "execution_count": null,
   "id": "491a84ba",
   "metadata": {
    "colab": {
     "base_uri": "https://localhost:8080/"
    },
    "id": "491a84ba",
    "outputId": "167add4c-9a43-469a-b4bb-be1ca0b8911e"
   },
   "outputs": [
    {
     "name": "stdout",
     "output_type": "stream",
     "text": [
      "MODE SET TO: build\n",
      "BUILD MODE\n",
      "A new directory will be created for this run,\n",
      "                    where vocabularies and lookup tables will be stored upon creation.\n",
      "                    Everything is set to 0.\n"
     ]
    }
   ],
   "source": [
    "mg = MusicGenerator('build', '/content/drive/MyDrive/uni/TFG2023/generative_music/rnn',input_type='multi',seq_len=SEQ_LEN)"
   ]
  },
  {
   "cell_type": "code",
   "execution_count": null,
   "id": "002d6142",
   "metadata": {
    "colab": {
     "base_uri": "https://localhost:8080/"
    },
    "id": "002d6142",
    "outputId": "c970a6c2-be8e-4c5b-c4a2-422394b01b15"
   },
   "outputs": [
    {
     "name": "stderr",
     "output_type": "stream",
     "text": [
      "/usr/local/lib/python3.9/dist-packages/music21/midi/translate.py:863: TranslateWarning: Unable to determine instrument from <music21.midi.MidiEvent SEQUENCE_TRACK_NAME, track=4, channel=None, data=b'Copyright \\xa9 2002 by Bernd Krueger'>; getting generic Instrument\n",
      "  warnings.warn(\n",
      "/usr/local/lib/python3.9/dist-packages/music21/midi/translate.py:863: TranslateWarning: Unable to determine instrument from <music21.midi.MidiEvent SEQUENCE_TRACK_NAME, track=4, channel=None, data=b'Copyright \\xa9 2003 by Bernd Krueger'>; getting generic Instrument\n",
      "  warnings.warn(\n",
      "/usr/local/lib/python3.9/dist-packages/music21/midi/translate.py:863: TranslateWarning: Unable to determine instrument from <music21.midi.MidiEvent SEQUENCE_TRACK_NAME, track=5, channel=None, data=b'Copyright \\xa9 1997 by Bernd Krueger'>; getting generic Instrument\n",
      "  warnings.warn(\n",
      "/usr/local/lib/python3.9/dist-packages/music21/midi/translate.py:863: TranslateWarning: Unable to determine instrument from <music21.midi.MidiEvent SEQUENCE_TRACK_NAME, track=0, channel=None, data=b'Et\\xfcde Opus 10 No. 5'>; getting generic Instrument\n",
      "  warnings.warn(\n",
      "/usr/local/lib/python3.9/dist-packages/music21/midi/translate.py:863: TranslateWarning: Unable to determine instrument from <music21.midi.MidiEvent SEQUENCE_TRACK_NAME, track=0, channel=None, data=b'Schwarze-Tasten-Et\\xfcde'>; getting generic Instrument\n",
      "  warnings.warn(\n",
      "/usr/local/lib/python3.9/dist-packages/music21/midi/translate.py:863: TranslateWarning: Unable to determine instrument from <music21.midi.MidiEvent SEQUENCE_TRACK_NAME, track=4, channel=None, data=b'Copyright \\xa9 1999 by Bernd Kr\\xfcger'>; getting generic Instrument\n",
      "  warnings.warn(\n",
      "/usr/local/lib/python3.9/dist-packages/music21/midi/translate.py:863: TranslateWarning: Unable to determine instrument from <music21.midi.MidiEvent SEQUENCE_TRACK_NAME, track=0, channel=None, data=b'Et\\xfcde Nr. 12'>; getting generic Instrument\n",
      "  warnings.warn(\n",
      "/usr/local/lib/python3.9/dist-packages/music21/midi/translate.py:863: TranslateWarning: Unable to determine instrument from <music21.midi.MidiEvent SEQUENCE_TRACK_NAME, track=4, channel=None, data=b'Copyright \\xa9 1997 by Bernd Kr\\xfcger'>; getting generic Instrument\n",
      "  warnings.warn(\n",
      "/usr/local/lib/python3.9/dist-packages/music21/midi/translate.py:863: TranslateWarning: Unable to determine instrument from <music21.midi.MidiEvent SEQUENCE_TRACK_NAME, track=0, channel=None, data=b'Et\\xfcde Opus 25, No. 11'>; getting generic Instrument\n",
      "  warnings.warn(\n",
      "/usr/local/lib/python3.9/dist-packages/music21/midi/translate.py:863: TranslateWarning: Unable to determine instrument from <music21.midi.MidiEvent SEQUENCE_TRACK_NAME, track=0, channel=None, data=b'Sturmet\\xfcde'>; getting generic Instrument\n",
      "  warnings.warn(\n",
      "/usr/local/lib/python3.9/dist-packages/music21/midi/translate.py:863: TranslateWarning: Unable to determine instrument from <music21.midi.MidiEvent SEQUENCE_TRACK_NAME, track=4, channel=None, data=b'Copyright \\xa9 1997 by Bernd Krueger'>; getting generic Instrument\n",
      "  warnings.warn(\n"
     ]
    },
    {
     "name": "stdout",
     "output_type": "stream",
     "text": [
      "Parsing file chpn_op33_2.mid failed. Skipping.\n"
     ]
    },
    {
     "name": "stderr",
     "output_type": "stream",
     "text": [
      "/usr/local/lib/python3.9/dist-packages/music21/midi/translate.py:863: TranslateWarning: Unable to determine instrument from <music21.midi.MidiEvent SEQUENCE_TRACK_NAME, track=5, channel=None, data=b'Copyright \\xa9 2002 by Bernd Kr\\xfcger'>; getting generic Instrument\n",
      "  warnings.warn(\n"
     ]
    },
    {
     "name": "stdout",
     "output_type": "stream",
     "text": [
      "Parsing file chpn_op35_2.mid failed. Skipping.\n"
     ]
    },
    {
     "name": "stderr",
     "output_type": "stream",
     "text": [
      "/usr/local/lib/python3.9/dist-packages/music21/midi/translate.py:863: TranslateWarning: Unable to determine instrument from <music21.midi.MidiEvent SEQUENCE_TRACK_NAME, track=4, channel=None, data=b'Copyright \\xa9 2002 by Bernd Kr\\xfcger'>; getting generic Instrument\n",
      "  warnings.warn(\n",
      "/usr/local/lib/python3.9/dist-packages/music21/midi/translate.py:863: TranslateWarning: Unable to determine instrument from <music21.midi.MidiEvent SEQUENCE_TRACK_NAME, track=5, channel=None, data=b'Copyright \\xa9 2002 by Bernd Krueger'>; getting generic Instrument\n",
      "  warnings.warn(\n"
     ]
    },
    {
     "name": "stdout",
     "output_type": "stream",
     "text": [
      "Found 46 valid songs. Parsing song notes...\n",
      "Parsed 0 songs.\n",
      "Parsed 10 songs.\n",
      "Parsed 20 songs.\n",
      "Parsed 30 songs.\n",
      "Parsed 40 songs.\n",
      "Parsed 46 songs.\n",
      "Building lookup tables for notes...\n",
      "Note vocabulary size: 10978\n",
      "Building lookup tables for durations...\n",
      "Duration vocabulary size: 31\n",
      "Finished loading songs.\n"
     ]
    }
   ],
   "source": [
    "mg.load_song_data('/content/drive/MyDrive/uni/TFG2023/generative_music/data/chopin/full')"
   ]
  },
  {
   "cell_type": "markdown",
   "id": "63fc39f1",
   "metadata": {
    "id": "63fc39f1"
   },
   "source": [
    "### Create dataset"
   ]
  },
  {
   "cell_type": "code",
   "execution_count": null,
   "id": "b7e5e426",
   "metadata": {
    "colab": {
     "base_uri": "https://localhost:8080/"
    },
    "id": "b7e5e426",
    "outputId": "87566831-7abc-4edc-ae6a-e5baeb072042"
   },
   "outputs": [
    {
     "name": "stdout",
     "output_type": "stream",
     "text": [
      "Creating network inputs and outputs from stored song data.\n",
      "Creating multi-input dataset.\n",
      "Input shape: (44280, 32)\n",
      "Output shape: (44280, 10978)\n"
     ]
    }
   ],
   "source": [
    "inputs, outputs = mg.create_dataset()"
   ]
  },
  {
   "cell_type": "markdown",
   "id": "80ca20e2",
   "metadata": {
    "id": "80ca20e2"
   },
   "source": [
    "### Build model"
   ]
  },
  {
   "cell_type": "code",
   "execution_count": null,
   "id": "b6b9c981",
   "metadata": {
    "colab": {
     "base_uri": "https://localhost:8080/"
    },
    "id": "b6b9c981",
    "outputId": "425f7239-d129-4c0a-ddc4-1f274aaaa9df"
   },
   "outputs": [
    {
     "name": "stdout",
     "output_type": "stream",
     "text": [
      "Model: \"embedding_lstm\"\n",
      "__________________________________________________________________________________________________\n",
      " Layer (type)                   Output Shape         Param #     Connected to                     \n",
      "==================================================================================================\n",
      " input_1 (InputLayer)           [(None, 32)]         0           []                               \n",
      "                                                                                                  \n",
      " input_2 (InputLayer)           [(None, 32)]         0           []                               \n",
      "                                                                                                  \n",
      " embedding (Embedding)          (None, 32, 100)      1097800     ['input_1[0][0]']                \n",
      "                                                                                                  \n",
      " embedding_1 (Embedding)        (None, 32, 100)      3100        ['input_2[0][0]']                \n",
      "                                                                                                  \n",
      " concatenate (Concatenate)      (None, 32, 200)      0           ['embedding[0][0]',              \n",
      "                                                                  'embedding_1[0][0]']            \n",
      "                                                                                                  \n",
      " lstm (LSTM)                    (None, 32, 256)      467968      ['concatenate[0][0]']            \n",
      "                                                                                                  \n",
      " lstm_1 (LSTM)                  (None, 32, 256)      525312      ['lstm[0][0]']                   \n",
      "                                                                                                  \n",
      " dense (Dense)                  (None, 32, 1)        257         ['lstm_1[0][0]']                 \n",
      "                                                                                                  \n",
      " reshape (Reshape)              (None, 32)           0           ['dense[0][0]']                  \n",
      "                                                                                                  \n",
      " activation (Activation)        (None, 32)           0           ['reshape[0][0]']                \n",
      "                                                                                                  \n",
      " repeat_vector (RepeatVector)   (None, 256, 32)      0           ['activation[0][0]']             \n",
      "                                                                                                  \n",
      " permute (Permute)              (None, 32, 256)      0           ['repeat_vector[0][0]']          \n",
      "                                                                                                  \n",
      " multiply (Multiply)            (None, 32, 256)      0           ['lstm[0][0]',                   \n",
      "                                                                  'permute[0][0]']                \n",
      "                                                                                                  \n",
      " lambda (Lambda)                (None, 256)          0           ['multiply[0][0]']               \n",
      "                                                                                                  \n",
      " dense_1 (Dense)                (None, 10978)        2821346     ['lambda[0][0]']                 \n",
      "                                                                                                  \n",
      " dense_2 (Dense)                (None, 31)           7967        ['lambda[0][0]']                 \n",
      "                                                                                                  \n",
      "==================================================================================================\n",
      "Total params: 4,923,750\n",
      "Trainable params: 4,923,750\n",
      "Non-trainable params: 0\n",
      "__________________________________________________________________________________________________\n"
     ]
    }
   ],
   "source": [
    "model = mg.build_model(build_lstm_multi_input,NUM_UNITS,LOSS,LR,coerce=True)"
   ]
  },
  {
   "cell_type": "code",
   "execution_count": null,
   "id": "vZJQYujobALe",
   "metadata": {
    "colab": {
     "base_uri": "https://localhost:8080/",
     "height": 1000
    },
    "id": "vZJQYujobALe",
    "outputId": "1767d9b4-eff4-464d-bc73-572f01fcea1f"
   },
   "outputs": [
    {
     "data": {
      "image/png": "[encoded data removed]",
      "text/plain": [
       "<IPython.core.display.Image object>"
      ]
     },
     "execution_count": 15,
     "metadata": {},
     "output_type": "execute_result"
    }
   ],
   "source": [
    "from tensorflow.keras.utils import plot_model\n",
    "plot_model(mg.model)"
   ]
  },
  {
   "cell_type": "code",
   "execution_count": null,
   "id": "7bc90e97",
   "metadata": {
    "id": "7bc90e97"
   },
   "outputs": [],
   "source": [
    "# model[0].load_weights('runs/bach616/model_v1.h5')"
   ]
  },
  {
   "cell_type": "markdown",
   "id": "030c307c",
   "metadata": {
    "id": "030c307c"
   },
   "source": [
    "### Fit model"
   ]
  },
  {
   "cell_type": "code",
   "execution_count": null,
   "id": "8b03819e",
   "metadata": {
    "colab": {
     "base_uri": "https://localhost:8080/"
    },
    "id": "8b03819e",
    "outputId": "8aa2ab59-81d9-43f8-d181-e2cb6898d463"
   },
   "outputs": [
    {
     "name": "stdout",
     "output_type": "stream",
     "text": [
      "Epoch 1/100\n",
      "692/692 [==============================] - 78s 98ms/step - loss: 8.9094 - dense_4_loss: 7.9329 - dense_5_loss: 0.9766 - dense_4_accuracy: 0.0692 - dense_5_accuracy: 0.6780\n",
      "Epoch 2/100\n",
      "692/692 [==============================] - 22s 32ms/step - loss: 7.2986 - dense_4_loss: 6.5472 - dense_5_loss: 0.7514 - dense_4_accuracy: 0.0901 - dense_5_accuracy: 0.7215\n",
      "Epoch 3/100\n",
      "692/692 [==============================] - 17s 25ms/step - loss: 6.2596 - dense_4_loss: 5.5724 - dense_5_loss: 0.6872 - dense_4_accuracy: 0.1127 - dense_5_accuracy: 0.7395\n",
      "Epoch 4/100\n",
      "692/692 [==============================] - 15s 22ms/step - loss: 5.4170 - dense_4_loss: 4.7856 - dense_5_loss: 0.6314 - dense_4_accuracy: 0.1382 - dense_5_accuracy: 0.7600\n",
      "Epoch 5/100\n",
      "692/692 [==============================] - 16s 23ms/step - loss: 4.7363 - dense_4_loss: 4.1561 - dense_5_loss: 0.5802 - dense_4_accuracy: 0.1667 - dense_5_accuracy: 0.7801\n",
      "Epoch 6/100\n",
      "692/692 [==============================] - 14s 20ms/step - loss: 4.2126 - dense_4_loss: 3.6656 - dense_5_loss: 0.5470 - dense_4_accuracy: 0.1946 - dense_5_accuracy: 0.7912\n",
      "Epoch 7/100\n",
      "692/692 [==============================] - 13s 19ms/step - loss: 3.7923 - dense_4_loss: 3.2742 - dense_5_loss: 0.5180 - dense_4_accuracy: 0.2257 - dense_5_accuracy: 0.8009\n",
      "Epoch 8/100\n",
      "692/692 [==============================] - 14s 20ms/step - loss: 3.4484 - dense_4_loss: 2.9585 - dense_5_loss: 0.4899 - dense_4_accuracy: 0.2612 - dense_5_accuracy: 0.8126\n",
      "Epoch 9/100\n",
      "692/692 [==============================] - 14s 20ms/step - loss: 3.1593 - dense_4_loss: 2.6939 - dense_5_loss: 0.4654 - dense_4_accuracy: 0.2955 - dense_5_accuracy: 0.8223\n",
      "Epoch 10/100\n",
      "692/692 [==============================] - 12s 17ms/step - loss: 2.9030 - dense_4_loss: 2.4617 - dense_5_loss: 0.4414 - dense_4_accuracy: 0.3330 - dense_5_accuracy: 0.8329\n",
      "Epoch 11/100\n",
      "692/692 [==============================] - 13s 18ms/step - loss: 2.6860 - dense_4_loss: 2.2641 - dense_5_loss: 0.4219 - dense_4_accuracy: 0.3664 - dense_5_accuracy: 0.8378\n",
      "Epoch 12/100\n",
      "692/692 [==============================] - 12s 18ms/step - loss: 2.4825 - dense_4_loss: 2.0817 - dense_5_loss: 0.4008 - dense_4_accuracy: 0.4053 - dense_5_accuracy: 0.8486\n",
      "Epoch 13/100\n",
      "692/692 [==============================] - 11s 16ms/step - loss: 2.3243 - dense_4_loss: 1.9380 - dense_5_loss: 0.3863 - dense_4_accuracy: 0.4373 - dense_5_accuracy: 0.8535\n",
      "Epoch 14/100\n",
      "692/692 [==============================] - 12s 17ms/step - loss: 2.1557 - dense_4_loss: 1.7886 - dense_5_loss: 0.3671 - dense_4_accuracy: 0.4739 - dense_5_accuracy: 0.8607\n",
      "Epoch 15/100\n",
      "692/692 [==============================] - 12s 17ms/step - loss: 2.0191 - dense_4_loss: 1.6660 - dense_5_loss: 0.3531 - dense_4_accuracy: 0.5069 - dense_5_accuracy: 0.8667\n",
      "Epoch 16/100\n",
      "692/692 [==============================] - 11s 16ms/step - loss: 1.8880 - dense_4_loss: 1.5509 - dense_5_loss: 0.3371 - dense_4_accuracy: 0.5325 - dense_5_accuracy: 0.8725\n",
      "Epoch 17/100\n",
      "692/692 [==============================] - 12s 18ms/step - loss: 1.7708 - dense_4_loss: 1.4499 - dense_5_loss: 0.3209 - dense_4_accuracy: 0.5657 - dense_5_accuracy: 0.8777\n",
      "Epoch 18/100\n",
      "692/692 [==============================] - 12s 17ms/step - loss: 1.6500 - dense_4_loss: 1.3402 - dense_5_loss: 0.3098 - dense_4_accuracy: 0.5942 - dense_5_accuracy: 0.8827\n",
      "Epoch 19/100\n",
      "692/692 [==============================] - 11s 16ms/step - loss: 1.5970 - dense_4_loss: 1.3007 - dense_5_loss: 0.2963 - dense_4_accuracy: 0.6109 - dense_5_accuracy: 0.8891\n",
      "Epoch 20/100\n",
      "692/692 [==============================] - 12s 17ms/step - loss: 1.4803 - dense_4_loss: 1.1980 - dense_5_loss: 0.2823 - dense_4_accuracy: 0.6327 - dense_5_accuracy: 0.8932\n",
      "Epoch 21/100\n",
      "692/692 [==============================] - 12s 17ms/step - loss: 1.3623 - dense_4_loss: 1.0941 - dense_5_loss: 0.2682 - dense_4_accuracy: 0.6673 - dense_5_accuracy: 0.8998\n",
      "Epoch 22/100\n",
      "692/692 [==============================] - 12s 18ms/step - loss: 1.3076 - dense_4_loss: 1.0460 - dense_5_loss: 0.2617 - dense_4_accuracy: 0.6795 - dense_5_accuracy: 0.9016\n",
      "Epoch 23/100\n",
      "692/692 [==============================] - 12s 17ms/step - loss: 1.2591 - dense_4_loss: 1.0074 - dense_5_loss: 0.2517 - dense_4_accuracy: 0.6944 - dense_5_accuracy: 0.9069\n",
      "Epoch 24/100\n",
      "692/692 [==============================] - 11s 16ms/step - loss: 1.1973 - dense_4_loss: 0.9529 - dense_5_loss: 0.2444 - dense_4_accuracy: 0.7081 - dense_5_accuracy: 0.9076\n",
      "Epoch 25/100\n",
      "692/692 [==============================] - 12s 17ms/step - loss: 1.1074 - dense_4_loss: 0.8789 - dense_5_loss: 0.2286 - dense_4_accuracy: 0.7308 - dense_5_accuracy: 0.9146\n",
      "Epoch 26/100\n",
      "692/692 [==============================] - 11s 16ms/step - loss: 1.0365 - dense_4_loss: 0.8206 - dense_5_loss: 0.2159 - dense_4_accuracy: 0.7519 - dense_5_accuracy: 0.9200\n",
      "Epoch 27/100\n",
      "692/692 [==============================] - 12s 17ms/step - loss: 1.0115 - dense_4_loss: 0.7960 - dense_5_loss: 0.2154 - dense_4_accuracy: 0.7582 - dense_5_accuracy: 0.9188\n",
      "Epoch 28/100\n",
      "692/692 [==============================] - 12s 17ms/step - loss: 0.9590 - dense_4_loss: 0.7514 - dense_5_loss: 0.2076 - dense_4_accuracy: 0.7712 - dense_5_accuracy: 0.9233\n",
      "Epoch 29/100\n",
      "692/692 [==============================] - 12s 17ms/step - loss: 0.9244 - dense_4_loss: 0.7250 - dense_5_loss: 0.1993 - dense_4_accuracy: 0.7783 - dense_5_accuracy: 0.9253\n",
      "Epoch 30/100\n",
      "692/692 [==============================] - 12s 18ms/step - loss: 0.8730 - dense_4_loss: 0.6834 - dense_5_loss: 0.1897 - dense_4_accuracy: 0.7926 - dense_5_accuracy: 0.9296\n",
      "Epoch 31/100\n",
      "692/692 [==============================] - 11s 15ms/step - loss: 0.8424 - dense_4_loss: 0.6589 - dense_5_loss: 0.1835 - dense_4_accuracy: 0.7981 - dense_5_accuracy: 0.9315\n",
      "Epoch 32/100\n",
      "692/692 [==============================] - 12s 17ms/step - loss: 0.8228 - dense_4_loss: 0.6393 - dense_5_loss: 0.1835 - dense_4_accuracy: 0.8040 - dense_5_accuracy: 0.9323\n",
      "Epoch 33/100\n",
      "692/692 [==============================] - 12s 17ms/step - loss: 0.8057 - dense_4_loss: 0.6268 - dense_5_loss: 0.1789 - dense_4_accuracy: 0.8069 - dense_5_accuracy: 0.9342\n",
      "Epoch 34/100\n",
      "692/692 [==============================] - 12s 17ms/step - loss: 0.7555 - dense_4_loss: 0.5872 - dense_5_loss: 0.1683 - dense_4_accuracy: 0.8203 - dense_5_accuracy: 0.9383\n",
      "Epoch 35/100\n",
      "692/692 [==============================] - 12s 18ms/step - loss: 0.7320 - dense_4_loss: 0.5649 - dense_5_loss: 0.1671 - dense_4_accuracy: 0.8261 - dense_5_accuracy: 0.9380\n",
      "Epoch 36/100\n",
      "692/692 [==============================] - 12s 18ms/step - loss: 0.7063 - dense_4_loss: 0.5432 - dense_5_loss: 0.1630 - dense_4_accuracy: 0.8332 - dense_5_accuracy: 0.9400\n",
      "Epoch 37/100\n",
      "692/692 [==============================] - 12s 18ms/step - loss: 0.6711 - dense_4_loss: 0.5174 - dense_5_loss: 0.1537 - dense_4_accuracy: 0.8404 - dense_5_accuracy: 0.9430\n",
      "Epoch 38/100\n",
      "692/692 [==============================] - 12s 17ms/step - loss: 0.6593 - dense_4_loss: 0.5089 - dense_5_loss: 0.1505 - dense_4_accuracy: 0.8436 - dense_5_accuracy: 0.9449\n",
      "Epoch 39/100\n",
      "692/692 [==============================] - 11s 16ms/step - loss: 0.6331 - dense_4_loss: 0.4882 - dense_5_loss: 0.1448 - dense_4_accuracy: 0.8505 - dense_5_accuracy: 0.9474\n",
      "Epoch 40/100\n",
      "692/692 [==============================] - 12s 17ms/step - loss: 0.6003 - dense_4_loss: 0.4598 - dense_5_loss: 0.1406 - dense_4_accuracy: 0.8599 - dense_5_accuracy: 0.9476\n",
      "Epoch 41/100\n",
      "692/692 [==============================] - 11s 17ms/step - loss: 0.5850 - dense_4_loss: 0.4512 - dense_5_loss: 0.1338 - dense_4_accuracy: 0.8628 - dense_5_accuracy: 0.9523\n",
      "Epoch 42/100\n",
      "692/692 [==============================] - 12s 17ms/step - loss: 0.5691 - dense_4_loss: 0.4360 - dense_5_loss: 0.1331 - dense_4_accuracy: 0.8683 - dense_5_accuracy: 0.9515\n",
      "Epoch 43/100\n",
      "692/692 [==============================] - 11s 16ms/step - loss: 0.5753 - dense_4_loss: 0.4387 - dense_5_loss: 0.1366 - dense_4_accuracy: 0.8656 - dense_5_accuracy: 0.9488\n",
      "Epoch 44/100\n",
      "692/692 [==============================] - 12s 17ms/step - loss: 0.5530 - dense_4_loss: 0.4230 - dense_5_loss: 0.1299 - dense_4_accuracy: 0.8701 - dense_5_accuracy: 0.9518\n",
      "Epoch 45/100\n",
      "692/692 [==============================] - 12s 17ms/step - loss: 0.5198 - dense_4_loss: 0.3973 - dense_5_loss: 0.1225 - dense_4_accuracy: 0.8799 - dense_5_accuracy: 0.9549\n",
      "Epoch 46/100\n",
      "692/692 [==============================] - 10s 15ms/step - loss: 0.5216 - dense_4_loss: 0.3979 - dense_5_loss: 0.1237 - dense_4_accuracy: 0.8783 - dense_5_accuracy: 0.9552\n",
      "Epoch 47/100\n",
      "692/692 [==============================] - 13s 18ms/step - loss: 0.5059 - dense_4_loss: 0.3856 - dense_5_loss: 0.1203 - dense_4_accuracy: 0.8823 - dense_5_accuracy: 0.9550\n",
      "Epoch 48/100\n",
      "692/692 [==============================] - 11s 17ms/step - loss: 0.5002 - dense_4_loss: 0.3818 - dense_5_loss: 0.1183 - dense_4_accuracy: 0.8814 - dense_5_accuracy: 0.9579\n",
      "Epoch 49/100\n",
      "692/692 [==============================] - 12s 17ms/step - loss: 0.4834 - dense_4_loss: 0.3678 - dense_5_loss: 0.1155 - dense_4_accuracy: 0.8873 - dense_5_accuracy: 0.9579\n",
      "Epoch 50/100\n",
      "692/692 [==============================] - 12s 17ms/step - loss: 0.4592 - dense_4_loss: 0.3527 - dense_5_loss: 0.1065 - dense_4_accuracy: 0.8905 - dense_5_accuracy: 0.9613\n",
      "Epoch 51/100\n",
      "692/692 [==============================] - 13s 19ms/step - loss: 0.4435 - dense_4_loss: 0.3352 - dense_5_loss: 0.1083 - dense_4_accuracy: 0.8978 - dense_5_accuracy: 0.9598\n",
      "Epoch 52/100\n",
      "692/692 [==============================] - 12s 17ms/step - loss: 0.4428 - dense_4_loss: 0.3357 - dense_5_loss: 0.1071 - dense_4_accuracy: 0.8961 - dense_5_accuracy: 0.9607\n",
      "Epoch 53/100\n",
      "692/692 [==============================] - 11s 16ms/step - loss: 0.4507 - dense_4_loss: 0.3435 - dense_5_loss: 0.1072 - dense_4_accuracy: 0.8937 - dense_5_accuracy: 0.9605\n",
      "Epoch 54/100\n",
      "692/692 [==============================] - 13s 18ms/step - loss: 0.4397 - dense_4_loss: 0.3323 - dense_5_loss: 0.1074 - dense_4_accuracy: 0.8967 - dense_5_accuracy: 0.9607\n",
      "Epoch 55/100\n",
      "692/692 [==============================] - 12s 17ms/step - loss: 0.4029 - dense_4_loss: 0.3067 - dense_5_loss: 0.0962 - dense_4_accuracy: 0.9045 - dense_5_accuracy: 0.9647\n",
      "Epoch 56/100\n",
      "692/692 [==============================] - 12s 17ms/step - loss: 0.3898 - dense_4_loss: 0.2968 - dense_5_loss: 0.0930 - dense_4_accuracy: 0.9085 - dense_5_accuracy: 0.9668\n",
      "Epoch 57/100\n",
      "692/692 [==============================] - 12s 17ms/step - loss: 0.3824 - dense_4_loss: 0.2902 - dense_5_loss: 0.0923 - dense_4_accuracy: 0.9092 - dense_5_accuracy: 0.9648\n",
      "Epoch 58/100\n",
      "692/692 [==============================] - 11s 16ms/step - loss: 0.4146 - dense_4_loss: 0.3111 - dense_5_loss: 0.1035 - dense_4_accuracy: 0.9023 - dense_5_accuracy: 0.9625\n",
      "Epoch 59/100\n",
      "692/692 [==============================] - 10s 14ms/step - loss: 0.4145 - dense_4_loss: 0.3117 - dense_5_loss: 0.1029 - dense_4_accuracy: 0.9032 - dense_5_accuracy: 0.9625\n",
      "Epoch 60/100\n",
      "692/692 [==============================] - 11s 15ms/step - loss: 0.3825 - dense_4_loss: 0.2893 - dense_5_loss: 0.0932 - dense_4_accuracy: 0.9100 - dense_5_accuracy: 0.9657\n",
      "Epoch 61/100\n",
      "692/692 [==============================] - 12s 17ms/step - loss: 0.3511 - dense_4_loss: 0.2638 - dense_5_loss: 0.0873 - dense_4_accuracy: 0.9177 - dense_5_accuracy: 0.9682\n",
      "Epoch 62/100\n",
      "692/692 [==============================] - 11s 16ms/step - loss: 0.3744 - dense_4_loss: 0.2830 - dense_5_loss: 0.0914 - dense_4_accuracy: 0.9117 - dense_5_accuracy: 0.9664\n",
      "Epoch 63/100\n",
      "692/692 [==============================] - 12s 18ms/step - loss: 0.3477 - dense_4_loss: 0.2639 - dense_5_loss: 0.0838 - dense_4_accuracy: 0.9168 - dense_5_accuracy: 0.9694\n",
      "Epoch 64/100\n",
      "692/692 [==============================] - 12s 17ms/step - loss: 0.3341 - dense_4_loss: 0.2520 - dense_5_loss: 0.0820 - dense_4_accuracy: 0.9225 - dense_5_accuracy: 0.9703\n",
      "Epoch 65/100\n",
      "692/692 [==============================] - 10s 15ms/step - loss: 0.3496 - dense_4_loss: 0.2626 - dense_5_loss: 0.0869 - dense_4_accuracy: 0.9184 - dense_5_accuracy: 0.9688\n",
      "Epoch 66/100\n",
      "692/692 [==============================] - 11s 16ms/step - loss: 0.3457 - dense_4_loss: 0.2585 - dense_5_loss: 0.0872 - dense_4_accuracy: 0.9193 - dense_5_accuracy: 0.9695\n",
      "Epoch 67/100\n",
      "692/692 [==============================] - 11s 15ms/step - loss: 0.3399 - dense_4_loss: 0.2551 - dense_5_loss: 0.0848 - dense_4_accuracy: 0.9195 - dense_5_accuracy: 0.9698\n",
      "Epoch 68/100\n",
      "692/692 [==============================] - 11s 15ms/step - loss: 0.3373 - dense_4_loss: 0.2531 - dense_5_loss: 0.0843 - dense_4_accuracy: 0.9195 - dense_5_accuracy: 0.9692\n",
      "Epoch 69/100\n",
      "692/692 [==============================] - 12s 18ms/step - loss: 0.3316 - dense_4_loss: 0.2488 - dense_5_loss: 0.0829 - dense_4_accuracy: 0.9214 - dense_5_accuracy: 0.9708\n",
      "Epoch 70/100\n",
      "692/692 [==============================] - 11s 17ms/step - loss: 0.3151 - dense_4_loss: 0.2378 - dense_5_loss: 0.0772 - dense_4_accuracy: 0.9256 - dense_5_accuracy: 0.9720\n",
      "Epoch 71/100\n",
      "692/692 [==============================] - 11s 16ms/step - loss: 0.2981 - dense_4_loss: 0.2260 - dense_5_loss: 0.0721 - dense_4_accuracy: 0.9295 - dense_5_accuracy: 0.9741\n",
      "Epoch 72/100\n",
      "692/692 [==============================] - 12s 17ms/step - loss: 0.2920 - dense_4_loss: 0.2198 - dense_5_loss: 0.0722 - dense_4_accuracy: 0.9309 - dense_5_accuracy: 0.9742\n",
      "Epoch 73/100\n",
      "692/692 [==============================] - 11s 16ms/step - loss: 0.3249 - dense_4_loss: 0.2444 - dense_5_loss: 0.0805 - dense_4_accuracy: 0.9229 - dense_5_accuracy: 0.9711\n",
      "Epoch 74/100\n",
      "692/692 [==============================] - 11s 16ms/step - loss: 0.3242 - dense_4_loss: 0.2428 - dense_5_loss: 0.0814 - dense_4_accuracy: 0.9246 - dense_5_accuracy: 0.9707\n",
      "Epoch 75/100\n",
      "692/692 [==============================] - 11s 16ms/step - loss: 0.3010 - dense_4_loss: 0.2258 - dense_5_loss: 0.0751 - dense_4_accuracy: 0.9288 - dense_5_accuracy: 0.9734\n",
      "Epoch 76/100\n",
      "692/692 [==============================] - 13s 19ms/step - loss: 0.2885 - dense_4_loss: 0.2168 - dense_5_loss: 0.0717 - dense_4_accuracy: 0.9313 - dense_5_accuracy: 0.9744\n",
      "Epoch 77/100\n",
      "692/692 [==============================] - 11s 16ms/step - loss: 0.2848 - dense_4_loss: 0.2139 - dense_5_loss: 0.0709 - dense_4_accuracy: 0.9317 - dense_5_accuracy: 0.9739\n",
      "Epoch 78/100\n",
      "692/692 [==============================] - 12s 17ms/step - loss: 0.2662 - dense_4_loss: 0.1991 - dense_5_loss: 0.0670 - dense_4_accuracy: 0.9376 - dense_5_accuracy: 0.9756\n",
      "Epoch 79/100\n",
      "692/692 [==============================] - 12s 17ms/step - loss: 0.2868 - dense_4_loss: 0.2129 - dense_5_loss: 0.0739 - dense_4_accuracy: 0.9328 - dense_5_accuracy: 0.9730\n",
      "Epoch 80/100\n",
      "692/692 [==============================] - 12s 17ms/step - loss: 0.2903 - dense_4_loss: 0.2166 - dense_5_loss: 0.0736 - dense_4_accuracy: 0.9325 - dense_5_accuracy: 0.9729\n",
      "Epoch 81/100\n",
      "692/692 [==============================] - 12s 17ms/step - loss: 0.2742 - dense_4_loss: 0.2043 - dense_5_loss: 0.0699 - dense_4_accuracy: 0.9351 - dense_5_accuracy: 0.9752\n",
      "Epoch 82/100\n",
      "692/692 [==============================] - 11s 17ms/step - loss: 0.2745 - dense_4_loss: 0.2022 - dense_5_loss: 0.0723 - dense_4_accuracy: 0.9353 - dense_5_accuracy: 0.9735\n",
      "Epoch 83/100\n",
      "692/692 [==============================] - 11s 15ms/step - loss: 0.2842 - dense_4_loss: 0.2100 - dense_5_loss: 0.0741 - dense_4_accuracy: 0.9328 - dense_5_accuracy: 0.9748\n",
      "Epoch 84/100\n",
      "692/692 [==============================] - 13s 18ms/step - loss: 0.2538 - dense_4_loss: 0.1907 - dense_5_loss: 0.0631 - dense_4_accuracy: 0.9397 - dense_5_accuracy: 0.9773\n",
      "Epoch 85/100\n",
      "692/692 [==============================] - 11s 16ms/step - loss: 0.2550 - dense_4_loss: 0.1900 - dense_5_loss: 0.0649 - dense_4_accuracy: 0.9402 - dense_5_accuracy: 0.9767\n",
      "Epoch 86/100\n",
      "692/692 [==============================] - 11s 16ms/step - loss: 0.2704 - dense_4_loss: 0.1988 - dense_5_loss: 0.0716 - dense_4_accuracy: 0.9372 - dense_5_accuracy: 0.9749\n",
      "Epoch 87/100\n",
      "692/692 [==============================] - 11s 16ms/step - loss: 0.2749 - dense_4_loss: 0.2021 - dense_5_loss: 0.0728 - dense_4_accuracy: 0.9353 - dense_5_accuracy: 0.9745\n",
      "Epoch 88/100\n",
      "692/692 [==============================] - 11s 16ms/step - loss: 0.2603 - dense_4_loss: 0.1920 - dense_5_loss: 0.0683 - dense_4_accuracy: 0.9384 - dense_5_accuracy: 0.9759\n",
      "Epoch 89/100\n",
      "692/692 [==============================] - 10s 15ms/step - loss: 0.2551 - dense_4_loss: 0.1913 - dense_5_loss: 0.0639 - dense_4_accuracy: 0.9390 - dense_5_accuracy: 0.9776\n",
      "Epoch 90/100\n",
      "692/692 [==============================] - 12s 18ms/step - loss: 0.2473 - dense_4_loss: 0.1841 - dense_5_loss: 0.0632 - dense_4_accuracy: 0.9415 - dense_5_accuracy: 0.9771\n",
      "Epoch 91/100\n",
      "692/692 [==============================] - 11s 16ms/step - loss: 0.2522 - dense_4_loss: 0.1875 - dense_5_loss: 0.0647 - dense_4_accuracy: 0.9411 - dense_5_accuracy: 0.9766\n",
      "Epoch 92/100\n",
      "692/692 [==============================] - 11s 16ms/step - loss: 0.2541 - dense_4_loss: 0.1876 - dense_5_loss: 0.0664 - dense_4_accuracy: 0.9409 - dense_5_accuracy: 0.9760\n",
      "Epoch 93/100\n",
      "692/692 [==============================] - 11s 16ms/step - loss: 0.2506 - dense_4_loss: 0.1831 - dense_5_loss: 0.0675 - dense_4_accuracy: 0.9421 - dense_5_accuracy: 0.9754\n",
      "Epoch 94/100\n",
      "692/692 [==============================] - 13s 18ms/step - loss: 0.2272 - dense_4_loss: 0.1702 - dense_5_loss: 0.0569 - dense_4_accuracy: 0.9456 - dense_5_accuracy: 0.9793\n",
      "Epoch 95/100\n",
      "692/692 [==============================] - 11s 16ms/step - loss: 0.2387 - dense_4_loss: 0.1753 - dense_5_loss: 0.0634 - dense_4_accuracy: 0.9433 - dense_5_accuracy: 0.9787\n",
      "Epoch 96/100\n",
      "692/692 [==============================] - 11s 15ms/step - loss: 0.2408 - dense_4_loss: 0.1762 - dense_5_loss: 0.0646 - dense_4_accuracy: 0.9430 - dense_5_accuracy: 0.9773\n",
      "Epoch 97/100\n",
      "692/692 [==============================] - 11s 16ms/step - loss: 0.2465 - dense_4_loss: 0.1807 - dense_5_loss: 0.0658 - dense_4_accuracy: 0.9423 - dense_5_accuracy: 0.9761\n",
      "Epoch 98/100\n",
      "692/692 [==============================] - 11s 16ms/step - loss: 0.2315 - dense_4_loss: 0.1711 - dense_5_loss: 0.0604 - dense_4_accuracy: 0.9453 - dense_5_accuracy: 0.9785\n",
      "Epoch 99/100\n",
      "692/692 [==============================] - 12s 18ms/step - loss: 0.2191 - dense_4_loss: 0.1624 - dense_5_loss: 0.0566 - dense_4_accuracy: 0.9484 - dense_5_accuracy: 0.9806\n",
      "Epoch 100/100\n",
      "692/692 [==============================] - 11s 17ms/step - loss: 0.2305 - dense_4_loss: 0.1709 - dense_5_loss: 0.0596 - dense_4_accuracy: 0.9445 - dense_5_accuracy: 0.9786\n"
     ]
    }
   ],
   "source": [
    "mg.fit_model(inputs,outputs,epochs=100,batch_size=BATCH_SIZE)"
   ]
  },
  {
   "cell_type": "code",
   "execution_count": null,
   "id": "84df67fa",
   "metadata": {
    "id": "84df67fa"
   },
   "outputs": [],
   "source": []
  },
  {
   "cell_type": "code",
   "execution_count": null,
   "id": "82349c37",
   "metadata": {
    "colab": {
     "base_uri": "https://localhost:8080/"
    },
    "id": "82349c37",
    "outputId": "c7b9a1aa-d568-4911-f157-82e42d57c673"
   },
   "outputs": [
    {
     "name": "stdout",
     "output_type": "stream",
     "text": [
      "Model: \"embedding_lstm\"\n",
      "__________________________________________________________________________________________________\n",
      " Layer (type)                   Output Shape         Param #     Connected to                     \n",
      "==================================================================================================\n",
      " input_2 (InputLayer)           [(None, 32)]         0           []                               \n",
      "                                                                                                  \n",
      " input_3 (InputLayer)           [(None, 32)]         0           []                               \n",
      "                                                                                                  \n",
      " embedding (Embedding)          (None, 32, 100)      1097800     ['input_2[0][0]']                \n",
      "                                                                                                  \n",
      " embedding_1 (Embedding)        (None, 32, 100)      3100        ['input_3[0][0]']                \n",
      "                                                                                                  \n",
      " concatenate (Concatenate)      (None, 32, 200)      0           ['embedding[0][0]',              \n",
      "                                                                  'embedding_1[0][0]']            \n",
      "                                                                                                  \n",
      " lstm_2 (LSTM)                  (None, 32, 256)      467968      ['concatenate[0][0]']            \n",
      "                                                                                                  \n",
      " lstm_3 (LSTM)                  (None, 32, 256)      525312      ['lstm_2[0][0]']                 \n",
      "                                                                                                  \n",
      " dense_3 (Dense)                (None, 32, 1)        257         ['lstm_3[0][0]']                 \n",
      "                                                                                                  \n",
      " reshape_1 (Reshape)            (None, 32)           0           ['dense_3[0][0]']                \n",
      "                                                                                                  \n",
      " activation_1 (Activation)      (None, 32)           0           ['reshape_1[0][0]']              \n",
      "                                                                                                  \n",
      " repeat_vector_1 (RepeatVector)  (None, 256, 32)     0           ['activation_1[0][0]']           \n",
      "                                                                                                  \n",
      " permute_1 (Permute)            (None, 32, 256)      0           ['repeat_vector_1[0][0]']        \n",
      "                                                                                                  \n",
      " multiply_1 (Multiply)          (None, 32, 256)      0           ['lstm_2[0][0]',                 \n",
      "                                                                  'permute_1[0][0]']              \n",
      "                                                                                                  \n",
      " lambda_1 (Lambda)              (None, 256)          0           ['multiply_1[0][0]']             \n",
      "                                                                                                  \n",
      " dense_4 (Dense)                (None, 10978)        2821346     ['lambda_1[0][0]']               \n",
      "                                                                                                  \n",
      " dense_5 (Dense)                (None, 31)           7967        ['lambda_1[0][0]']               \n",
      "                                                                                                  \n",
      "==================================================================================================\n",
      "Total params: 4,923,750\n",
      "Trainable params: 4,923,750\n",
      "Non-trainable params: 0\n",
      "__________________________________________________________________________________________________\n"
     ]
    }
   ],
   "source": [
    "mg.model.summary()"
   ]
  },
  {
   "cell_type": "code",
   "execution_count": null,
   "id": "3bf0949d",
   "metadata": {
    "id": "3bf0949d"
   },
   "outputs": [],
   "source": []
  },
  {
   "cell_type": "markdown",
   "id": "b3178ffe",
   "metadata": {
    "id": "b3178ffe",
    "scrolled": true
   },
   "source": [
    "### Load run (loads model)"
   ]
  },
  {
   "cell_type": "code",
   "execution_count": null,
   "id": "021e8387",
   "metadata": {
    "id": "021e8387",
    "outputId": "03694f53-2afa-43cd-dc32-f48856b4e32c"
   },
   "outputs": [
    {
     "name": "stdout",
     "output_type": "stream",
     "text": [
      "2.10.0\n"
     ]
    }
   ],
   "source": [
    " print(tf. __version__)"
   ]
  },
  {
   "cell_type": "code",
   "execution_count": null,
   "id": "f1469dc6",
   "metadata": {
    "id": "f1469dc6"
   },
   "outputs": [],
   "source": [
    "model = keras.models.load_model('runs/bach616/model_v0.h5')"
   ]
  },
  {
   "cell_type": "code",
   "execution_count": null,
   "id": "24b5845a",
   "metadata": {
    "id": "24b5845a",
    "outputId": "93787856-ac26-4354-e011-475db03b06e7"
   },
   "outputs": [
    {
     "name": "stdout",
     "output_type": "stream",
     "text": [
      "load run\n",
      "Loaded model\n",
      "Model: \"model_4\"\n",
      "__________________________________________________________________________________________________\n",
      " Layer (type)                   Output Shape         Param #     Connected to                     \n",
      "==================================================================================================\n",
      " input_5 (InputLayer)           [(None, 32)]         0           []                               \n",
      "                                                                                                  \n",
      " input_6 (InputLayer)           [(None, 32)]         0           []                               \n",
      "                                                                                                  \n",
      " embedding_4 (Embedding)        (None, 32, 100)      47100       ['input_5[0][0]']                \n",
      "                                                                                                  \n",
      " embedding_5 (Embedding)        (None, 32, 100)      2200        ['input_6[0][0]']                \n",
      "                                                                                                  \n",
      " concatenate_2 (Concatenate)    (None, 32, 200)      0           ['embedding_4[0][0]',            \n",
      "                                                                  'embedding_5[0][0]']            \n",
      "                                                                                                  \n",
      " lstm_4 (LSTM)                  (None, 32, 256)      467968      ['concatenate_2[0][0]']          \n",
      "                                                                                                  \n",
      " lstm_5 (LSTM)                  (None, 32, 256)      525312      ['lstm_4[0][0]']                 \n",
      "                                                                                                  \n",
      " dense_6 (Dense)                (None, 32, 1)        257         ['lstm_5[0][0]']                 \n",
      "                                                                                                  \n",
      " reshape_2 (Reshape)            (None, 32)           0           ['dense_6[0][0]']                \n",
      "                                                                                                  \n",
      " activation_2 (Activation)      (None, 32)           0           ['reshape_2[0][0]']              \n",
      "                                                                                                  \n",
      " repeat_vector_2 (RepeatVector)  (None, 256, 32)     0           ['activation_2[0][0]']           \n",
      "                                                                                                  \n",
      " permute_2 (Permute)            (None, 32, 256)      0           ['repeat_vector_2[0][0]']        \n",
      "                                                                                                  \n",
      " multiply_2 (Multiply)          (None, 32, 256)      0           ['lstm_5[0][0]',                 \n",
      "                                                                  'permute_2[0][0]']              \n",
      "                                                                                                  \n",
      " lambda_2 (Lambda)              (None, 256)          0           ['multiply_2[0][0]']             \n",
      "                                                                                                  \n",
      " dense_7 (Dense)                (None, 471)          121047      ['lambda_2[0][0]']               \n",
      "                                                                                                  \n",
      " dense_8 (Dense)                (None, 22)           5654        ['lambda_2[0][0]']               \n",
      "                                                                                                  \n",
      "==================================================================================================\n",
      "Total params: 1,169,538\n",
      "Trainable params: 1,169,538\n",
      "Non-trainable params: 0\n",
      "__________________________________________________________________________________________________\n"
     ]
    }
   ],
   "source": [
    "mg = MusicGeneratorWithAttention('load', 'bach997',version=0)"
   ]
  },
  {
   "cell_type": "code",
   "execution_count": null,
   "id": "375835d4",
   "metadata": {
    "id": "375835d4",
    "outputId": "7a27b8e8-000d-40c4-90d8-fc88ff4e01fe"
   },
   "outputs": [
    {
     "data": {
      "text/plain": [
       "4159"
      ]
     },
     "execution_count": 14,
     "metadata": {},
     "output_type": "execute_result"
    }
   ],
   "source": [
    "gc.collect()"
   ]
  },
  {
   "cell_type": "markdown",
   "id": "f1a2b214",
   "metadata": {
    "id": "f1a2b214"
   },
   "source": [
    "### Generate new music"
   ]
  },
  {
   "cell_type": "code",
   "execution_count": null,
   "id": "0b3b50d9",
   "metadata": {
    "colab": {
     "base_uri": "https://localhost:8080/"
    },
    "id": "0b3b50d9",
    "outputId": "72b8802b-3a21-418d-c6f0-da164371307b"
   },
   "outputs": [
    {
     "name": "stdout",
     "output_type": "stream",
     "text": [
      "1/1 [==============================] - 0s 25ms/step\n",
      "1/1 [==============================] - 0s 22ms/step\n",
      "1/1 [==============================] - 0s 20ms/step\n",
      "1/1 [==============================] - 0s 22ms/step\n",
      "1/1 [==============================] - 0s 20ms/step\n",
      "1/1 [==============================] - 0s 20ms/step\n",
      "1/1 [==============================] - 0s 22ms/step\n",
      "1/1 [==============================] - 0s 27ms/step\n",
      "1/1 [==============================] - 0s 21ms/step\n",
      "1/1 [==============================] - 0s 20ms/step\n",
      "1/1 [==============================] - 0s 20ms/step\n",
      "1/1 [==============================] - 0s 21ms/step\n",
      "1/1 [==============================] - 0s 21ms/step\n",
      "1/1 [==============================] - 0s 21ms/step\n",
      "1/1 [==============================] - 0s 20ms/step\n",
      "1/1 [==============================] - 0s 19ms/step\n",
      "1/1 [==============================] - 0s 21ms/step\n",
      "1/1 [==============================] - 0s 22ms/step\n",
      "1/1 [==============================] - 0s 20ms/step\n",
      "1/1 [==============================] - 0s 22ms/step\n",
      "1/1 [==============================] - 0s 20ms/step\n",
      "1/1 [==============================] - 0s 26ms/step\n",
      "1/1 [==============================] - 0s 24ms/step\n",
      "1/1 [==============================] - 0s 21ms/step\n",
      "1/1 [==============================] - 0s 22ms/step\n",
      "1/1 [==============================] - 0s 20ms/step\n",
      "1/1 [==============================] - 0s 20ms/step\n",
      "1/1 [==============================] - 0s 23ms/step\n",
      "1/1 [==============================] - 0s 21ms/step\n",
      "1/1 [==============================] - 0s 21ms/step\n",
      "1/1 [==============================] - 0s 21ms/step\n",
      "1/1 [==============================] - 0s 21ms/step\n",
      "1/1 [==============================] - 0s 23ms/step\n",
      "1/1 [==============================] - 0s 20ms/step\n",
      "1/1 [==============================] - 0s 20ms/step\n",
      "1/1 [==============================] - 0s 22ms/step\n",
      "1/1 [==============================] - 0s 20ms/step\n",
      "1/1 [==============================] - 0s 23ms/step\n",
      "1/1 [==============================] - 0s 22ms/step\n",
      "1/1 [==============================] - 0s 21ms/step\n",
      "1/1 [==============================] - 0s 20ms/step\n",
      "1/1 [==============================] - 0s 21ms/step\n",
      "1/1 [==============================] - 0s 21ms/step\n",
      "1/1 [==============================] - 0s 20ms/step\n",
      "1/1 [==============================] - 0s 20ms/step\n",
      "1/1 [==============================] - 0s 22ms/step\n",
      "1/1 [==============================] - 0s 20ms/step\n",
      "1/1 [==============================] - 0s 23ms/step\n",
      "1/1 [==============================] - 0s 21ms/step\n",
      "1/1 [==============================] - 0s 22ms/step\n",
      "1/1 [==============================] - 0s 24ms/step\n",
      "1/1 [==============================] - 0s 20ms/step\n",
      "1/1 [==============================] - 0s 21ms/step\n",
      "1/1 [==============================] - 0s 20ms/step\n",
      "1/1 [==============================] - 0s 21ms/step\n",
      "1/1 [==============================] - 0s 19ms/step\n",
      "1/1 [==============================] - 0s 23ms/step\n",
      "1/1 [==============================] - 0s 20ms/step\n",
      "1/1 [==============================] - 0s 20ms/step\n",
      "1/1 [==============================] - 0s 20ms/step\n",
      "1/1 [==============================] - 0s 20ms/step\n",
      "1/1 [==============================] - 0s 34ms/step\n",
      "1/1 [==============================] - 0s 35ms/step\n",
      "1/1 [==============================] - 0s 33ms/step\n",
      "1/1 [==============================] - 0s 31ms/step\n",
      "1/1 [==============================] - 0s 31ms/step\n",
      "1/1 [==============================] - 0s 29ms/step\n",
      "1/1 [==============================] - 0s 38ms/step\n",
      "1/1 [==============================] - 0s 30ms/step\n",
      "1/1 [==============================] - 0s 33ms/step\n",
      "1/1 [==============================] - 0s 28ms/step\n",
      "1/1 [==============================] - 0s 30ms/step\n",
      "1/1 [==============================] - 0s 31ms/step\n",
      "1/1 [==============================] - 0s 28ms/step\n",
      "1/1 [==============================] - 0s 30ms/step\n",
      "1/1 [==============================] - 0s 29ms/step\n",
      "1/1 [==============================] - 0s 30ms/step\n",
      "1/1 [==============================] - 0s 31ms/step\n",
      "1/1 [==============================] - 0s 42ms/step\n",
      "1/1 [==============================] - 0s 32ms/step\n",
      "1/1 [==============================] - 0s 35ms/step\n",
      "1/1 [==============================] - 0s 33ms/step\n",
      "1/1 [==============================] - 0s 33ms/step\n",
      "1/1 [==============================] - 0s 32ms/step\n",
      "1/1 [==============================] - 0s 33ms/step\n",
      "1/1 [==============================] - 0s 34ms/step\n",
      "1/1 [==============================] - 0s 30ms/step\n",
      "1/1 [==============================] - 0s 30ms/step\n",
      "1/1 [==============================] - 0s 32ms/step\n",
      "1/1 [==============================] - 0s 29ms/step\n",
      "1/1 [==============================] - 0s 30ms/step\n",
      "1/1 [==============================] - 0s 32ms/step\n",
      "1/1 [==============================] - 0s 30ms/step\n",
      "1/1 [==============================] - 0s 31ms/step\n",
      "1/1 [==============================] - 0s 31ms/step\n",
      "1/1 [==============================] - 0s 65ms/step\n",
      "1/1 [==============================] - 0s 21ms/step\n",
      "1/1 [==============================] - 0s 23ms/step\n",
      "1/1 [==============================] - 0s 21ms/step\n",
      "1/1 [==============================] - 0s 22ms/step\n"
     ]
    }
   ],
   "source": [
    "# seed =  mg.get_seed_from_midi('./runs/bach001/bach_seed.mid')\n",
    "song = mg.generate(([],[]),100,32,0.1)"
   ]
  },
  {
   "cell_type": "code",
   "execution_count": null,
   "id": "53cebbd0",
   "metadata": {
    "id": "53cebbd0"
   },
   "outputs": [],
   "source": [
    "mg.save(song)"
   ]
  },
  {
   "cell_type": "code",
   "execution_count": null,
   "id": "27207b02",
   "metadata": {
    "id": "27207b02"
   },
   "outputs": [],
   "source": []
  },
  {
   "cell_type": "code",
   "execution_count": null,
   "id": "288c460a",
   "metadata": {
    "id": "288c460a"
   },
   "outputs": [],
   "source": []
  },
  {
   "cell_type": "code",
   "execution_count": null,
   "id": "f4f33a3a",
   "metadata": {
    "id": "f4f33a3a"
   },
   "outputs": [],
   "source": []
  },
  {
   "cell_type": "code",
   "execution_count": null,
   "id": "f3be1d3e",
   "metadata": {
    "id": "f3be1d3e"
   },
   "outputs": [],
   "source": []
  },
  {
   "cell_type": "code",
   "execution_count": null,
   "id": "91482b5a",
   "metadata": {
    "id": "91482b5a"
   },
   "outputs": [],
   "source": []
  },
  {
   "cell_type": "code",
   "execution_count": null,
   "id": "b1a7e8ff",
   "metadata": {
    "id": "b1a7e8ff"
   },
   "outputs": [],
   "source": []
  },
  {
   "cell_type": "code",
   "execution_count": null,
   "id": "a8bcc507",
   "metadata": {
    "id": "a8bcc507"
   },
   "outputs": [],
   "source": []
  },
  {
   "cell_type": "code",
   "execution_count": null,
   "id": "f6f93b63",
   "metadata": {
    "id": "f6f93b63"
   },
   "outputs": [],
   "source": [
    "def load_song_data(self,song_path):\n",
    "        \n",
    "        if(self.mode == 'load'):\n",
    "            raise Exception(\"Running mode set to 'load'\")\n",
    "            \n",
    "        # Get song data from data_path and parse it as a Music21 object\n",
    "        songs = {}\n",
    "\n",
    "        for path,subdir,files in os.walk(song_path):\n",
    "            for file in files:\n",
    "                if (file[-3:] == 'mid'):\n",
    "                    song = m21.converter.parse(os.path.join(path,file)).chordify()\n",
    "                    songs[file[:-4]] = song\n",
    "        print(f'Found {len(songs)} valid songs. Parsing song notes...')\n",
    "        self.load_notes(songs)\n",
    "        print('Finished loading songs.')"
   ]
  },
  {
   "cell_type": "code",
   "execution_count": null,
   "id": "6b8ff72c",
   "metadata": {
    "colab": {
     "base_uri": "https://localhost:8080/",
     "height": 1000
    },
    "id": "6b8ff72c",
    "outputId": "d3afa12f-7e6a-4b52-dd0e-1739bd5c174a"
   },
   "outputs": [
    {
     "name": "stdout",
     "output_type": "stream",
     "text": [
      "chpn_op10_e05.mid\n",
      "chpn_op10_e12.mid\n",
      "chpn_op10_e01.mid\n",
      "chpn_op7_1.mid\n",
      "chpn_op7_2.mid\n",
      "chp_op18.mid\n",
      "chpn_op23.mid\n",
      "chpn_op25_e2.mid\n",
      "chpn_op25_e3.mid\n",
      "chpn_op25_e4.mid\n",
      "chpn_op25_e11.mid\n",
      "chpn_op25_e12.mid\n",
      "chpn_op27_1.mid\n",
      "chpn_op27_2.mid\n",
      "chpn-p1.mid\n",
      "chpn-p2.mid\n",
      "chpn-p3.mid\n",
      "chpn-p4.mid\n",
      "chpn-p5.mid\n",
      "chpn-p6.mid\n",
      "chpn-p7.mid\n",
      "chpn-p8.mid\n",
      "chpn-p10.mid\n",
      "chpn-p11.mid\n",
      "chpn-p12.mid\n",
      "chpn-p13.mid\n",
      "chpn-p14.mid\n",
      "chpn-p15.mid\n",
      "chpn-p16.mid\n",
      "chpn-p17.mid\n",
      "chpn-p18.mid\n",
      "chpn-p19.mid\n",
      "chpn-p20.mid\n",
      "chpn-p21.mid\n",
      "chpn-p22.mid\n",
      "chpn-p23.mid\n",
      "chpn-p24.mid\n",
      "chp_op31.mid\n",
      "chpn_op33_2.mid\n"
     ]
    },
    {
     "ename": "KeyError",
     "evalue": "ignored",
     "output_type": "error",
     "traceback": [
      "\u001b[0;31m---------------------------------------------------------------------------\u001b[0m",
      "\u001b[0;31mKeyError\u001b[0m                                  Traceback (most recent call last)",
      "\u001b[0;32m<ipython-input-11-69928ae3a2dd>\u001b[0m in \u001b[0;36m<cell line: 1>\u001b[0;34m()\u001b[0m\n\u001b[1;32m      3\u001b[0m                 \u001b[0;32mif\u001b[0m \u001b[0;34m(\u001b[0m\u001b[0mfile\u001b[0m\u001b[0;34m[\u001b[0m\u001b[0;34m-\u001b[0m\u001b[0;36m3\u001b[0m\u001b[0;34m:\u001b[0m\u001b[0;34m]\u001b[0m \u001b[0;34m==\u001b[0m \u001b[0;34m'mid'\u001b[0m\u001b[0;34m)\u001b[0m\u001b[0;34m:\u001b[0m\u001b[0;34m\u001b[0m\u001b[0;34m\u001b[0m\u001b[0m\n\u001b[1;32m      4\u001b[0m                   \u001b[0mprint\u001b[0m\u001b[0;34m(\u001b[0m\u001b[0mfile\u001b[0m\u001b[0;34m)\u001b[0m\u001b[0;34m\u001b[0m\u001b[0;34m\u001b[0m\u001b[0m\n\u001b[0;32m----> 5\u001b[0;31m                   \u001b[0msong\u001b[0m \u001b[0;34m=\u001b[0m \u001b[0mm21\u001b[0m\u001b[0;34m.\u001b[0m\u001b[0mconverter\u001b[0m\u001b[0;34m.\u001b[0m\u001b[0mparse\u001b[0m\u001b[0;34m(\u001b[0m\u001b[0mos\u001b[0m\u001b[0;34m.\u001b[0m\u001b[0mpath\u001b[0m\u001b[0;34m.\u001b[0m\u001b[0mjoin\u001b[0m\u001b[0;34m(\u001b[0m\u001b[0mpath\u001b[0m\u001b[0;34m,\u001b[0m\u001b[0mfile\u001b[0m\u001b[0;34m)\u001b[0m\u001b[0;34m)\u001b[0m\u001b[0;34m.\u001b[0m\u001b[0mchordify\u001b[0m\u001b[0;34m(\u001b[0m\u001b[0;34m)\u001b[0m\u001b[0;34m\u001b[0m\u001b[0;34m\u001b[0m\u001b[0m\n\u001b[0m",
      "\u001b[0;32m/usr/local/lib/python3.9/dist-packages/music21/converter/__init__.py\u001b[0m in \u001b[0;36mparse\u001b[0;34m(value, forceSource, number, format, **keywords)\u001b[0m\n\u001b[1;32m   1295\u001b[0m     elif (not isinstance(value, bytes)\n\u001b[1;32m   1296\u001b[0m           and _osCanLoad(valueStr)):\n\u001b[0;32m-> 1297\u001b[0;31m         return parseFile(valueStr, number=number, format=format,\n\u001b[0m\u001b[1;32m   1298\u001b[0m                          forceSource=forceSource, **keywords)\n\u001b[1;32m   1299\u001b[0m     elif (not isinstance(value, bytes)\n",
      "\u001b[0;32m/usr/local/lib/python3.9/dist-packages/music21/converter/__init__.py\u001b[0m in \u001b[0;36mparseFile\u001b[0;34m(fp, number, format, forceSource, **keywords)\u001b[0m\n\u001b[1;32m   1149\u001b[0m     \u001b[0mv\u001b[0m \u001b[0;34m=\u001b[0m \u001b[0mConverter\u001b[0m\u001b[0;34m(\u001b[0m\u001b[0;34m)\u001b[0m\u001b[0;34m\u001b[0m\u001b[0;34m\u001b[0m\u001b[0m\n\u001b[1;32m   1150\u001b[0m     \u001b[0mfp\u001b[0m \u001b[0;34m=\u001b[0m \u001b[0mcommon\u001b[0m\u001b[0;34m.\u001b[0m\u001b[0mcleanpath\u001b[0m\u001b[0;34m(\u001b[0m\u001b[0mfp\u001b[0m\u001b[0;34m,\u001b[0m \u001b[0mreturnPathlib\u001b[0m\u001b[0;34m=\u001b[0m\u001b[0;32mTrue\u001b[0m\u001b[0;34m)\u001b[0m\u001b[0;34m\u001b[0m\u001b[0;34m\u001b[0m\u001b[0m\n\u001b[0;32m-> 1151\u001b[0;31m     \u001b[0mv\u001b[0m\u001b[0;34m.\u001b[0m\u001b[0mparseFile\u001b[0m\u001b[0;34m(\u001b[0m\u001b[0mfp\u001b[0m\u001b[0;34m,\u001b[0m \u001b[0mnumber\u001b[0m\u001b[0;34m=\u001b[0m\u001b[0mnumber\u001b[0m\u001b[0;34m,\u001b[0m \u001b[0mformat\u001b[0m\u001b[0;34m=\u001b[0m\u001b[0mformat\u001b[0m\u001b[0;34m,\u001b[0m \u001b[0mforceSource\u001b[0m\u001b[0;34m=\u001b[0m\u001b[0mforceSource\u001b[0m\u001b[0;34m,\u001b[0m \u001b[0;34m**\u001b[0m\u001b[0mkeywords\u001b[0m\u001b[0;34m)\u001b[0m\u001b[0;34m\u001b[0m\u001b[0;34m\u001b[0m\u001b[0m\n\u001b[0m\u001b[1;32m   1152\u001b[0m     \u001b[0;32mif\u001b[0m \u001b[0mt\u001b[0m\u001b[0;34m.\u001b[0m\u001b[0mTYPE_CHECKING\u001b[0m\u001b[0;34m:\u001b[0m\u001b[0;34m\u001b[0m\u001b[0;34m\u001b[0m\u001b[0m\n\u001b[1;32m   1153\u001b[0m         \u001b[0;32massert\u001b[0m \u001b[0misinstance\u001b[0m\u001b[0;34m(\u001b[0m\u001b[0mv\u001b[0m\u001b[0;34m.\u001b[0m\u001b[0mstream\u001b[0m\u001b[0;34m,\u001b[0m \u001b[0;34m(\u001b[0m\u001b[0mstream\u001b[0m\u001b[0;34m.\u001b[0m\u001b[0mScore\u001b[0m\u001b[0;34m,\u001b[0m \u001b[0mstream\u001b[0m\u001b[0;34m.\u001b[0m\u001b[0mPart\u001b[0m\u001b[0;34m,\u001b[0m \u001b[0mstream\u001b[0m\u001b[0;34m.\u001b[0m\u001b[0mOpus\u001b[0m\u001b[0;34m)\u001b[0m\u001b[0;34m)\u001b[0m\u001b[0;34m\u001b[0m\u001b[0;34m\u001b[0m\u001b[0m\n",
      "\u001b[0;32m/usr/local/lib/python3.9/dist-packages/music21/converter/__init__.py\u001b[0m in \u001b[0;36mparseFile\u001b[0;34m(self, fp, number, format, forceSource, storePickle, **keywords)\u001b[0m\n\u001b[1;32m    619\u001b[0m         \u001b[0;32melse\u001b[0m\u001b[0;34m:\u001b[0m\u001b[0;34m\u001b[0m\u001b[0;34m\u001b[0m\u001b[0m\n\u001b[1;32m    620\u001b[0m             \u001b[0menvironLocal\u001b[0m\u001b[0;34m.\u001b[0m\u001b[0mprintDebug\u001b[0m\u001b[0;34m(\u001b[0m\u001b[0;34m'Loading original version'\u001b[0m\u001b[0;34m)\u001b[0m\u001b[0;34m\u001b[0m\u001b[0;34m\u001b[0m\u001b[0m\n\u001b[0;32m--> 621\u001b[0;31m             \u001b[0mself\u001b[0m\u001b[0;34m.\u001b[0m\u001b[0mparseFileNoPickle\u001b[0m\u001b[0;34m(\u001b[0m\u001b[0mfp\u001b[0m\u001b[0;34m,\u001b[0m \u001b[0mnumber\u001b[0m\u001b[0;34m,\u001b[0m \u001b[0mformat\u001b[0m\u001b[0;34m,\u001b[0m \u001b[0mforceSource\u001b[0m\u001b[0;34m,\u001b[0m \u001b[0;34m**\u001b[0m\u001b[0mkeywords\u001b[0m\u001b[0;34m)\u001b[0m\u001b[0;34m\u001b[0m\u001b[0;34m\u001b[0m\u001b[0m\n\u001b[0m\u001b[1;32m    622\u001b[0m             \u001b[0;32mif\u001b[0m \u001b[0mwritePickle\u001b[0m \u001b[0;32mis\u001b[0m \u001b[0;32mTrue\u001b[0m \u001b[0;32mand\u001b[0m \u001b[0mfpPickle\u001b[0m \u001b[0;32mis\u001b[0m \u001b[0;32mnot\u001b[0m \u001b[0;32mNone\u001b[0m \u001b[0;32mand\u001b[0m \u001b[0mstorePickle\u001b[0m \u001b[0;32mis\u001b[0m \u001b[0;32mTrue\u001b[0m\u001b[0;34m:\u001b[0m\u001b[0;34m\u001b[0m\u001b[0;34m\u001b[0m\u001b[0m\n\u001b[1;32m    623\u001b[0m                 \u001b[0;31m# save the stream to disk...\u001b[0m\u001b[0;34m\u001b[0m\u001b[0;34m\u001b[0m\u001b[0m\n",
      "\u001b[0;32m/usr/local/lib/python3.9/dist-packages/music21/converter/__init__.py\u001b[0m in \u001b[0;36mparseFileNoPickle\u001b[0;34m(self, fp, number, format, forceSource, **keywords)\u001b[0m\n\u001b[1;32m    541\u001b[0m         \u001b[0mself\u001b[0m\u001b[0;34m.\u001b[0m\u001b[0msubConverter\u001b[0m\u001b[0;34m.\u001b[0m\u001b[0mkeywords\u001b[0m \u001b[0;34m=\u001b[0m \u001b[0mkeywords\u001b[0m\u001b[0;34m\u001b[0m\u001b[0;34m\u001b[0m\u001b[0m\n\u001b[1;32m    542\u001b[0m         \u001b[0;32mtry\u001b[0m\u001b[0;34m:\u001b[0m\u001b[0;34m\u001b[0m\u001b[0;34m\u001b[0m\u001b[0m\n\u001b[0;32m--> 543\u001b[0;31m             self.subConverter.parseFile(\n\u001b[0m\u001b[1;32m    544\u001b[0m                 \u001b[0mfp\u001b[0m\u001b[0;34m,\u001b[0m\u001b[0;34m\u001b[0m\u001b[0;34m\u001b[0m\u001b[0m\n\u001b[1;32m    545\u001b[0m                 \u001b[0mnumber\u001b[0m\u001b[0;34m=\u001b[0m\u001b[0mnumber\u001b[0m\u001b[0;34m,\u001b[0m\u001b[0;34m\u001b[0m\u001b[0;34m\u001b[0m\u001b[0m\n",
      "\u001b[0;32m/usr/local/lib/python3.9/dist-packages/music21/converter/subConverters.py\u001b[0m in \u001b[0;36mparseFile\u001b[0;34m(self, filePath, number, **keywords)\u001b[0m\n\u001b[1;32m   1201\u001b[0m         '''\n\u001b[1;32m   1202\u001b[0m         \u001b[0;32mfrom\u001b[0m \u001b[0mmusic21\u001b[0m\u001b[0;34m.\u001b[0m\u001b[0mmidi\u001b[0m \u001b[0;32mimport\u001b[0m \u001b[0mtranslate\u001b[0m \u001b[0;32mas\u001b[0m \u001b[0mmidiTranslate\u001b[0m\u001b[0;34m\u001b[0m\u001b[0;34m\u001b[0m\u001b[0m\n\u001b[0;32m-> 1203\u001b[0;31m         \u001b[0mmidiTranslate\u001b[0m\u001b[0;34m.\u001b[0m\u001b[0mmidiFilePathToStream\u001b[0m\u001b[0;34m(\u001b[0m\u001b[0mfilePath\u001b[0m\u001b[0;34m,\u001b[0m \u001b[0minputM21\u001b[0m\u001b[0;34m=\u001b[0m\u001b[0mself\u001b[0m\u001b[0;34m.\u001b[0m\u001b[0mstream\u001b[0m\u001b[0;34m,\u001b[0m \u001b[0;34m**\u001b[0m\u001b[0mkeywords\u001b[0m\u001b[0;34m)\u001b[0m\u001b[0;34m\u001b[0m\u001b[0;34m\u001b[0m\u001b[0m\n\u001b[0m\u001b[1;32m   1204\u001b[0m \u001b[0;34m\u001b[0m\u001b[0m\n\u001b[1;32m   1205\u001b[0m     def write(self,\n",
      "\u001b[0;32m/usr/local/lib/python3.9/dist-packages/music21/midi/translate.py\u001b[0m in \u001b[0;36mmidiFilePathToStream\u001b[0;34m(filePath, inputM21, **keywords)\u001b[0m\n\u001b[1;32m   2703\u001b[0m     \u001b[0mmf\u001b[0m\u001b[0;34m.\u001b[0m\u001b[0mread\u001b[0m\u001b[0;34m(\u001b[0m\u001b[0;34m)\u001b[0m\u001b[0;34m\u001b[0m\u001b[0;34m\u001b[0m\u001b[0m\n\u001b[1;32m   2704\u001b[0m     \u001b[0mmf\u001b[0m\u001b[0;34m.\u001b[0m\u001b[0mclose\u001b[0m\u001b[0;34m(\u001b[0m\u001b[0;34m)\u001b[0m\u001b[0;34m\u001b[0m\u001b[0;34m\u001b[0m\u001b[0m\n\u001b[0;32m-> 2705\u001b[0;31m     \u001b[0;32mreturn\u001b[0m \u001b[0mmidiFileToStream\u001b[0m\u001b[0;34m(\u001b[0m\u001b[0mmf\u001b[0m\u001b[0;34m,\u001b[0m \u001b[0minputM21\u001b[0m\u001b[0;34m=\u001b[0m\u001b[0minputM21\u001b[0m\u001b[0;34m,\u001b[0m \u001b[0;34m**\u001b[0m\u001b[0mkeywords\u001b[0m\u001b[0;34m)\u001b[0m\u001b[0;34m\u001b[0m\u001b[0;34m\u001b[0m\u001b[0m\n\u001b[0m\u001b[1;32m   2706\u001b[0m \u001b[0;34m\u001b[0m\u001b[0m\n\u001b[1;32m   2707\u001b[0m \u001b[0;34m\u001b[0m\u001b[0m\n",
      "\u001b[0;32m/usr/local/lib/python3.9/dist-packages/music21/midi/translate.py\u001b[0m in \u001b[0;36mmidiFileToStream\u001b[0;34m(mf, inputM21, quantizePost, **keywords)\u001b[0m\n\u001b[1;32m   2874\u001b[0m     \u001b[0;31m# create a stream for each track\u001b[0m\u001b[0;34m\u001b[0m\u001b[0;34m\u001b[0m\u001b[0m\n\u001b[1;32m   2875\u001b[0m     \u001b[0;31m# may need to check if tracks actually have event data\u001b[0m\u001b[0;34m\u001b[0m\u001b[0;34m\u001b[0m\u001b[0m\n\u001b[0;32m-> 2876\u001b[0;31m     midiTracksToStreams(mf.tracks,\n\u001b[0m\u001b[1;32m   2877\u001b[0m                         \u001b[0mticksPerQuarter\u001b[0m\u001b[0;34m=\u001b[0m\u001b[0mmf\u001b[0m\u001b[0;34m.\u001b[0m\u001b[0mticksPerQuarterNote\u001b[0m\u001b[0;34m,\u001b[0m\u001b[0;34m\u001b[0m\u001b[0;34m\u001b[0m\u001b[0m\n\u001b[1;32m   2878\u001b[0m                         \u001b[0mquantizePost\u001b[0m\u001b[0;34m=\u001b[0m\u001b[0mquantizePost\u001b[0m\u001b[0;34m,\u001b[0m\u001b[0;34m\u001b[0m\u001b[0;34m\u001b[0m\u001b[0m\n",
      "\u001b[0;32m/usr/local/lib/python3.9/dist-packages/music21/midi/translate.py\u001b[0m in \u001b[0;36mmidiTracksToStreams\u001b[0;34m(midiTracks, ticksPerQuarter, quantizePost, inputM21, **keywords)\u001b[0m\n\u001b[1;32m   2611\u001b[0m             \u001b[0mstreamPart\u001b[0m \u001b[0;34m=\u001b[0m \u001b[0mconductorPart\u001b[0m\u001b[0;34m\u001b[0m\u001b[0;34m\u001b[0m\u001b[0m\n\u001b[1;32m   2612\u001b[0m \u001b[0;34m\u001b[0m\u001b[0m\n\u001b[0;32m-> 2613\u001b[0;31m         midiTrackToStream(mt,\n\u001b[0m\u001b[1;32m   2614\u001b[0m                           \u001b[0mticksPerQuarter\u001b[0m\u001b[0;34m=\u001b[0m\u001b[0mticksPerQuarter\u001b[0m\u001b[0;34m,\u001b[0m\u001b[0;34m\u001b[0m\u001b[0;34m\u001b[0m\u001b[0m\n\u001b[1;32m   2615\u001b[0m                           \u001b[0mquantizePost\u001b[0m\u001b[0;34m=\u001b[0m\u001b[0mquantizePost\u001b[0m\u001b[0;34m,\u001b[0m\u001b[0;34m\u001b[0m\u001b[0;34m\u001b[0m\u001b[0m\n",
      "\u001b[0;32m/usr/local/lib/python3.9/dist-packages/music21/midi/translate.py\u001b[0m in \u001b[0;36mmidiTrackToStream\u001b[0;34m(mt, ticksPerQuarter, quantizePost, inputM21, conductorPart, isFirst, quarterLengthDivisors, **keywords)\u001b[0m\n\u001b[1;32m   2089\u001b[0m             \u001b[0;31m# Gaps will be filled by makeRests, below, which now recurses\u001b[0m\u001b[0;34m\u001b[0m\u001b[0;34m\u001b[0m\u001b[0m\n\u001b[1;32m   2090\u001b[0m             \u001b[0mm\u001b[0m\u001b[0;34m.\u001b[0m\u001b[0mmakeVoices\u001b[0m\u001b[0;34m(\u001b[0m\u001b[0minPlace\u001b[0m\u001b[0;34m=\u001b[0m\u001b[0;32mTrue\u001b[0m\u001b[0;34m,\u001b[0m \u001b[0mfillGaps\u001b[0m\u001b[0;34m=\u001b[0m\u001b[0;32mFalse\u001b[0m\u001b[0;34m)\u001b[0m\u001b[0;34m\u001b[0m\u001b[0;34m\u001b[0m\u001b[0m\n\u001b[0;32m-> 2091\u001b[0;31m     \u001b[0ms\u001b[0m\u001b[0;34m.\u001b[0m\u001b[0mmakeTies\u001b[0m\u001b[0;34m(\u001b[0m\u001b[0minPlace\u001b[0m\u001b[0;34m=\u001b[0m\u001b[0;32mTrue\u001b[0m\u001b[0;34m)\u001b[0m\u001b[0;34m\u001b[0m\u001b[0;34m\u001b[0m\u001b[0m\n\u001b[0m\u001b[1;32m   2092\u001b[0m     \u001b[0;31m# always need to fill gaps, as rests are not found in any other way\u001b[0m\u001b[0;34m\u001b[0m\u001b[0;34m\u001b[0m\u001b[0m\n\u001b[1;32m   2093\u001b[0m     \u001b[0ms\u001b[0m\u001b[0;34m.\u001b[0m\u001b[0mmakeRests\u001b[0m\u001b[0;34m(\u001b[0m\u001b[0minPlace\u001b[0m\u001b[0;34m=\u001b[0m\u001b[0;32mTrue\u001b[0m\u001b[0;34m,\u001b[0m \u001b[0mfillGaps\u001b[0m\u001b[0;34m=\u001b[0m\u001b[0;32mTrue\u001b[0m\u001b[0;34m,\u001b[0m \u001b[0mtimeRangeFromBarDuration\u001b[0m\u001b[0;34m=\u001b[0m\u001b[0;32mTrue\u001b[0m\u001b[0;34m)\u001b[0m\u001b[0;34m\u001b[0m\u001b[0;34m\u001b[0m\u001b[0m\n",
      "\u001b[0;32m/usr/local/lib/python3.9/dist-packages/music21/stream/base.py\u001b[0m in \u001b[0;36mmakeTies\u001b[0;34m(self, meterStream, inPlace, displayTiedAccidentals, classFilterList)\u001b[0m\n\u001b[1;32m   6497\u001b[0m         \u001b[0mAdded\u001b[0m \u001b[0;32min\u001b[0m \u001b[0mv\u001b[0m\u001b[0;36m.7\u001b[0m\u001b[0;34m,\u001b[0m\u001b[0;31m \u001b[0m\u001b[0;31m`\u001b[0m\u001b[0mclassFilterList\u001b[0m\u001b[0;31m`\u001b[0m\u001b[0;34m.\u001b[0m\u001b[0;34m\u001b[0m\u001b[0;34m\u001b[0m\u001b[0m\n\u001b[1;32m   6498\u001b[0m         '''\n\u001b[0;32m-> 6499\u001b[0;31m         return makeNotation.makeTies(\n\u001b[0m\u001b[1;32m   6500\u001b[0m             \u001b[0mself\u001b[0m\u001b[0;34m,\u001b[0m\u001b[0;34m\u001b[0m\u001b[0;34m\u001b[0m\u001b[0m\n\u001b[1;32m   6501\u001b[0m             \u001b[0mmeterStream\u001b[0m\u001b[0;34m=\u001b[0m\u001b[0mmeterStream\u001b[0m\u001b[0;34m,\u001b[0m\u001b[0;34m\u001b[0m\u001b[0;34m\u001b[0m\u001b[0m\n",
      "\u001b[0;32m/usr/local/lib/python3.9/dist-packages/music21/stream/makeNotation.py\u001b[0m in \u001b[0;36mmakeTies\u001b[0;34m(s, meterStream, inPlace, displayTiedAccidentals, classFilterList)\u001b[0m\n\u001b[1;32m   1310\u001b[0m                 \u001b[0;31m# manually set activeSite\u001b[0m\u001b[0;34m\u001b[0m\u001b[0;34m\u001b[0m\u001b[0m\n\u001b[1;32m   1311\u001b[0m                 \u001b[0;31m# cannot use coreInsert here\u001b[0m\u001b[0;34m\u001b[0m\u001b[0;34m\u001b[0m\u001b[0m\n\u001b[0;32m-> 1312\u001b[0;31m                 \u001b[0mdst\u001b[0m\u001b[0;34m.\u001b[0m\u001b[0minsert\u001b[0m\u001b[0;34m(\u001b[0m\u001b[0;36m0\u001b[0m\u001b[0;34m,\u001b[0m \u001b[0meRemain\u001b[0m\u001b[0;34m)\u001b[0m\u001b[0;34m\u001b[0m\u001b[0;34m\u001b[0m\u001b[0m\n\u001b[0m\u001b[1;32m   1313\u001b[0m \u001b[0;34m\u001b[0m\u001b[0m\n\u001b[1;32m   1314\u001b[0m                 \u001b[0;31m# we are not sure that this element fits\u001b[0m\u001b[0;34m\u001b[0m\u001b[0;34m\u001b[0m\u001b[0m\n",
      "\u001b[0;32m/usr/local/lib/python3.9/dist-packages/music21/stream/base.py\u001b[0m in \u001b[0;36minsert\u001b[0;34m(self, offsetOrItemOrList, itemOrNone, ignoreSort, setActiveSite)\u001b[0m\n\u001b[1;32m   2255\u001b[0m         \u001b[0;31m# main insert procedure here\u001b[0m\u001b[0;34m\u001b[0m\u001b[0;34m\u001b[0m\u001b[0m\n\u001b[1;32m   2256\u001b[0m \u001b[0;34m\u001b[0m\u001b[0m\n\u001b[0;32m-> 2257\u001b[0;31m         storeSorted = self.coreInsert(offset,\n\u001b[0m\u001b[1;32m   2258\u001b[0m                                       \u001b[0melement\u001b[0m\u001b[0;34m,\u001b[0m\u001b[0;34m\u001b[0m\u001b[0;34m\u001b[0m\u001b[0m\n\u001b[1;32m   2259\u001b[0m                                       \u001b[0mignoreSort\u001b[0m\u001b[0;34m=\u001b[0m\u001b[0mignoreSort\u001b[0m\u001b[0;34m,\u001b[0m\u001b[0;34m\u001b[0m\u001b[0;34m\u001b[0m\u001b[0m\n",
      "\u001b[0;32m/usr/local/lib/python3.9/dist-packages/music21/stream/core.py\u001b[0m in \u001b[0;36mcoreInsert\u001b[0;34m(self, offset, element, ignoreSort, setActiveSite)\u001b[0m\n\u001b[1;32m    109\u001b[0m                     \u001b[0;32melse\u001b[0m\u001b[0;34m:\u001b[0m\u001b[0;34m\u001b[0m\u001b[0;34m\u001b[0m\u001b[0m\n\u001b[1;32m    110\u001b[0m                         \u001b[0mhighestSortTuple\u001b[0m \u001b[0;34m=\u001b[0m \u001b[0mself\u001b[0m\u001b[0;34m.\u001b[0m\u001b[0m_elements\u001b[0m\u001b[0;34m[\u001b[0m\u001b[0;34m-\u001b[0m\u001b[0;36m1\u001b[0m\u001b[0;34m]\u001b[0m\u001b[0;34m.\u001b[0m\u001b[0msortTuple\u001b[0m\u001b[0;34m(\u001b[0m\u001b[0;34m)\u001b[0m\u001b[0;34m\u001b[0m\u001b[0;34m\u001b[0m\u001b[0m\n\u001b[0;32m--> 111\u001b[0;31m                         \u001b[0mthisSortTuple\u001b[0m \u001b[0;34m=\u001b[0m \u001b[0melement\u001b[0m\u001b[0;34m.\u001b[0m\u001b[0msortTuple\u001b[0m\u001b[0;34m(\u001b[0m\u001b[0;34m)\u001b[0m\u001b[0;34m.\u001b[0m\u001b[0mmodify\u001b[0m\u001b[0;34m(\u001b[0m\u001b[0moffset\u001b[0m\u001b[0;34m=\u001b[0m\u001b[0moffset\u001b[0m\u001b[0;34m)\u001b[0m\u001b[0;34m\u001b[0m\u001b[0;34m\u001b[0m\u001b[0m\n\u001b[0m\u001b[1;32m    112\u001b[0m \u001b[0;34m\u001b[0m\u001b[0m\n\u001b[1;32m    113\u001b[0m                         \u001b[0;32mif\u001b[0m \u001b[0mhighestSortTuple\u001b[0m \u001b[0;34m<\u001b[0m \u001b[0mthisSortTuple\u001b[0m\u001b[0;34m:\u001b[0m\u001b[0;34m\u001b[0m\u001b[0;34m\u001b[0m\u001b[0m\n",
      "\u001b[0;32m/usr/local/lib/python3.9/dist-packages/music21/base.py\u001b[0m in \u001b[0;36msortTuple\u001b[0;34m(self, useSite, raiseExceptionOnMiss)\u001b[0m\n\u001b[1;32m   2670\u001b[0m             \u001b[0minsertIndex\u001b[0m \u001b[0;34m=\u001b[0m \u001b[0mself\u001b[0m\u001b[0;34m.\u001b[0m\u001b[0msites\u001b[0m\u001b[0;34m.\u001b[0m\u001b[0msiteDict\u001b[0m\u001b[0;34m[\u001b[0m\u001b[0mid\u001b[0m\u001b[0;34m(\u001b[0m\u001b[0museSite\u001b[0m\u001b[0;34m)\u001b[0m\u001b[0;34m]\u001b[0m\u001b[0;34m.\u001b[0m\u001b[0mglobalSiteIndex\u001b[0m\u001b[0;34m\u001b[0m\u001b[0;34m\u001b[0m\u001b[0m\n\u001b[1;32m   2671\u001b[0m         \u001b[0;32melif\u001b[0m \u001b[0mself\u001b[0m\u001b[0;34m.\u001b[0m\u001b[0mactiveSite\u001b[0m \u001b[0;32mis\u001b[0m \u001b[0;32mnot\u001b[0m \u001b[0;32mNone\u001b[0m\u001b[0;34m:\u001b[0m\u001b[0;34m\u001b[0m\u001b[0;34m\u001b[0m\u001b[0m\n\u001b[0;32m-> 2672\u001b[0;31m             \u001b[0minsertIndex\u001b[0m \u001b[0;34m=\u001b[0m \u001b[0mself\u001b[0m\u001b[0;34m.\u001b[0m\u001b[0msites\u001b[0m\u001b[0;34m.\u001b[0m\u001b[0msiteDict\u001b[0m\u001b[0;34m[\u001b[0m\u001b[0mid\u001b[0m\u001b[0;34m(\u001b[0m\u001b[0mself\u001b[0m\u001b[0;34m.\u001b[0m\u001b[0mactiveSite\u001b[0m\u001b[0;34m)\u001b[0m\u001b[0;34m]\u001b[0m\u001b[0;34m.\u001b[0m\u001b[0mglobalSiteIndex\u001b[0m\u001b[0;34m\u001b[0m\u001b[0;34m\u001b[0m\u001b[0m\n\u001b[0m\u001b[1;32m   2673\u001b[0m         \u001b[0;32melse\u001b[0m\u001b[0;34m:\u001b[0m  \u001b[0;31m# for None, use this instead of default of -2.\u001b[0m\u001b[0;34m\u001b[0m\u001b[0;34m\u001b[0m\u001b[0m\n\u001b[1;32m   2674\u001b[0m             \u001b[0minsertIndex\u001b[0m \u001b[0;34m=\u001b[0m \u001b[0;36m0\u001b[0m\u001b[0;34m\u001b[0m\u001b[0;34m\u001b[0m\u001b[0m\n",
      "\u001b[0;31mKeyError\u001b[0m: 139712674072656"
     ]
    }
   ],
   "source": [
    "for path,subdir,files in os.walk('/content/drive/MyDrive/generative_music/data/chopin/full'):\n",
    "            for file in files:\n",
    "                if (file[-3:] == 'mid'):\n",
    "                  print(file)\n",
    "                  song = m21.converter.parse(os.path.join(path,file)).chordify()"
   ]
  },
  {
   "cell_type": "code",
   "execution_count": null,
   "id": "358812e9",
   "metadata": {
    "id": "358812e9"
   },
   "outputs": [],
   "source": []
  },
  {
   "cell_type": "code",
   "execution_count": null,
   "id": "a1b6e952",
   "metadata": {
    "id": "a1b6e952"
   },
   "outputs": [],
   "source": []
  },
  {
   "cell_type": "code",
   "execution_count": null,
   "id": "38930695",
   "metadata": {
    "id": "38930695"
   },
   "outputs": [],
   "source": []
  },
  {
   "cell_type": "code",
   "execution_count": null,
   "id": "d158c4f4",
   "metadata": {
    "id": "d158c4f4"
   },
   "outputs": [],
   "source": []
  },
  {
   "cell_type": "code",
   "execution_count": null,
   "id": "c677b11c",
   "metadata": {
    "id": "c677b11c"
   },
   "outputs": [],
   "source": []
  },
  {
   "cell_type": "code",
   "execution_count": null,
   "id": "c306fc1c",
   "metadata": {
    "id": "c306fc1c"
   },
   "outputs": [],
   "source": []
  }
 ],
 "metadata": {
  "accelerator": "GPU",
  "colab": {
   "collapsed_sections": [
    "b3178ffe",
    "f1a2b214"
   ],
   "provenance": []
  },
  "gpuClass": "standard",
  "kernelspec": {
   "display_name": "Python 3 (ipykernel)",
   "language": "python",
   "name": "python3"
  },
  "language_info": {
   "codemirror_mode": {
    "name": "ipython",
    "version": 3
   },
   "file_extension": ".py",
   "mimetype": "text/x-python",
   "name": "python",
   "nbconvert_exporter": "python",
   "pygments_lexer": "ipython3",
   "version": "3.10.8"
  }
 },
 "nbformat": 4,
 "nbformat_minor": 5
}
