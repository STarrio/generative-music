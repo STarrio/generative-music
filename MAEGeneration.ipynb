{
 "cells": [
  {
   "cell_type": "markdown",
   "id": "6a36985a",
   "metadata": {
    "id": "6a36985a"
   },
   "source": [
    "# Generación de piezas musicales polifónicas con Autoencoder-CNN"
   ]
  },
  {
   "cell_type": "code",
   "execution_count": null,
   "id": "fd00a348",
   "metadata": {},
   "outputs": [],
   "source": [
    "!pip install pypianoroll"
   ]
  },
  {
   "cell_type": "code",
   "execution_count": 22,
   "id": "bb4e22b0",
   "metadata": {},
   "outputs": [],
   "source": [
    "import os\n",
    "import numpy as np\n",
    "import pandas as pd\n",
    "import random\n",
    "#from tensorflow.keras.callbacks import ModelCheckpoint, EarlyStopping\n",
    "#import tensorflow.keras.backend as K \n",
    "#import tensorflow.keras as keras\n",
    "#from tensorflow.keras.utils import plot_model\n",
    "#from sklearn.model_selection import train_test_split\n",
    "import pypianoroll as pr\n",
    "#import matplotlib.pyplot as plt"
   ]
  },
  {
   "cell_type": "code",
   "execution_count": 2,
   "id": "16c5f162",
   "metadata": {},
   "outputs": [],
   "source": [
    "ENV = 'local'\n",
    "if(ENV == 'colab'):\n",
    "    BASE_PATH = '/content/drive/MyDrive/uni/TFG2023/generative-music/'\n",
    "    from google.colab import drive\n",
    "    drive.mount('/content/drive')\n",
    "    \n",
    "elif(ENV == 'local'):\n",
    "    BASE_PATH = './'\n",
    "else:\n",
    "    raise Exception()"
   ]
  },
  {
   "cell_type": "code",
   "execution_count": 91,
   "id": "55f3fa44",
   "metadata": {},
   "outputs": [],
   "source": [
    "DATASET = 'POP909'\n",
    "DATA_PATH=os.path.join(BASE_PATH, 'data')\n",
    "DATASET_PATH = os.path.join(DATA_PATH, DATASET)\n",
    "\n",
    "STORE_PATH=os.path.join(BASE_PATH,'generated')\n",
    "\n",
    "RANDOM_SEED=616\n",
    "SEQ_LEN=32\n",
    "RESOLUTION=2\n",
    "\n",
    "random.seed(RANDOM_SEED)\n",
    "\n",
    "INSTRUMENTS = {'lpd_5': ['Drums','Piano','Guitar','Bass','Strings'],\n",
    "              'POP909': ['MELODY', 'BRIDGE', 'PIANO']}\n",
    "MAIN_INSTRUMENT = {'lpd_5': 'Piano',\n",
    "              'POP909': 'MELODY'}"
   ]
  },
  {
   "cell_type": "markdown",
   "id": "8b316a7d",
   "metadata": {
    "id": "8b316a7d"
   },
   "source": [
    "### Clases para el preprocesamiento de los datos y la compilación del modelo"
   ]
  },
  {
   "cell_type": "code",
   "execution_count": 99,
   "id": "1e795377",
   "metadata": {},
   "outputs": [],
   "source": [
    "# MAEDatasetEncoder\n",
    "class MAEDatasetEncoder:\n",
    "    \n",
    "    def __init__(self, path, seq_len=32, delimiter='/', blend_tracks=False, with_csv=False, k=1000):\n",
    "        self.path = path\n",
    "        self.seq_len = seq_len\n",
    "        self.delimiter = delimiter\n",
    "        self.blend_tracks = blend_tracks\n",
    "        self.with_csv = with_csv\n",
    "        self.k = k\n",
    "        self.parsed_files = self.load()\n",
    "    \n",
    "    def load(self):\n",
    "        \n",
    "        # Get song data from data_path and parse it as a pypianoroll object\n",
    "        songs = {}\n",
    "        \n",
    "        if(self.with_csv):\n",
    "            \n",
    "            # reading from csv\n",
    "            files_df = pd.read_csv(os.path.join(self.path,self.with_csv))\n",
    "            files = files_df['npz_local'].values.tolist()\n",
    "            sample = random.sample(files, k=self.k)\n",
    "            print(len(list(set(sample))))\n",
    "\n",
    "            for file in sample:\n",
    "                if (file[-3:] == 'mid'):\n",
    "                    try:\n",
    "                        song = pr.read(os.path.join(self.path,file))\n",
    "                        songs[file[:-4]] = song\n",
    "                    except:\n",
    "                        print(f'Parsing file {file} failed. Skipping.')\n",
    "                        continue\n",
    "                elif (file[-3:] == 'npz'):\n",
    "                    \n",
    "                    try:\n",
    "                        song = pr.load(os.path.join(self.path,file))\n",
    "                        if(file[:-4] in songs.keys()):\n",
    "                            print(file[:-4])\n",
    "                        songs[file[:-4]] = song\n",
    "                    except:\n",
    "                        print(f'Parsing file {file} failed. Skipping.')\n",
    "                        continue\n",
    "        else:\n",
    "            # reading from folder\n",
    "            for path,subdir,files in os.walk(self.path):\n",
    "                for file in files:\n",
    "                    if (file[-3:] == 'mid'):\n",
    "                        try:\n",
    "                            song = pr.read(os.path.join(path,file))\n",
    "                            songs[file[:-4]] = song\n",
    "                        except:\n",
    "                            print(f'Parsing file {file} failed. Skipping.')\n",
    "                            continue\n",
    "                            \n",
    "        print(f'Loaded {len(songs.keys())} songs.')\n",
    "        return songs\n",
    "        \n",
    "    def encode(self):\n",
    "        encoded_files = {}\n",
    "        titles, files = list(self.parsed_files.keys()), list(self.parsed_files.values())\n",
    "        \n",
    "        \n",
    "        for i,file in enumerate(files):\n",
    "\n",
    "            # Clean short songs\n",
    "            if(file.get_max_length() < self.seq_len):\n",
    "                print(f'Skipping song {titles[i]}')\n",
    "                continue\n",
    "\n",
    "            encoded_file = self.encode_song(file)\n",
    "            encoded_files[titles[i]] = encoded_file\n",
    "        \n",
    "        print(f'Loaded {len(encoded_files.keys())} songs.')\n",
    "        self.encoded_files = encoded_files\n",
    "    \n",
    "    def encode_song(self, song):\n",
    "        \n",
    "        processed_tracks = {}\n",
    "        \n",
    "        padded = song.set_resolution(RESOLUTION).pad_to_same()\n",
    "        \n",
    "        if(self.blend_tracks):\n",
    "            return { 'MAIN_TRACK':padded.binarize().blend().astype(float) }\n",
    "        \n",
    "        for t in song.tracks:\n",
    "            bt = t.binarize()\n",
    "            processed_tracks[bt.name] = bt.pianoroll.astype(float)\n",
    "        return processed_tracks"
   ]
  },
  {
   "cell_type": "code",
   "execution_count": 100,
   "id": "bcb0b568",
   "metadata": {},
   "outputs": [
    {
     "name": "stdout",
     "output_type": "stream",
     "text": [
      "Loaded 909 songs.\n"
     ]
    }
   ],
   "source": [
    "encoder = MAEDatasetEncoder(DATASET_PATH, with_csv=False)"
   ]
  },
  {
   "cell_type": "code",
   "execution_count": 79,
   "id": "7d006fc0",
   "metadata": {},
   "outputs": [
    {
     "data": {
      "text/plain": [
       "['Drums', 'Piano', 'Guitar', 'Bass', 'Strings']"
      ]
     },
     "execution_count": 79,
     "metadata": {},
     "output_type": "execute_result"
    }
   ],
   "source": [
    "encoder.instruments"
   ]
  },
  {
   "cell_type": "code",
   "execution_count": 96,
   "id": "b4494dc2",
   "metadata": {},
   "outputs": [
    {
     "name": "stdout",
     "output_type": "stream",
     "text": [
      "Loaded 909 songs.\n"
     ]
    }
   ],
   "source": [
    "encoder.encode()"
   ]
  },
  {
   "cell_type": "code",
   "execution_count": 98,
   "id": "af20a5b5",
   "metadata": {},
   "outputs": [
    {
     "data": {
      "text/plain": [
       "{'MELODY': array([[0., 0., 0., ..., 0., 0., 0.],\n",
       "        [0., 0., 0., ..., 0., 0., 0.],\n",
       "        [0., 0., 0., ..., 0., 0., 0.],\n",
       "        ...,\n",
       "        [0., 0., 0., ..., 0., 0., 0.],\n",
       "        [0., 0., 0., ..., 0., 0., 0.],\n",
       "        [0., 0., 0., ..., 0., 0., 0.]]),\n",
       " 'BRIDGE': array([[0., 0., 0., ..., 0., 0., 0.],\n",
       "        [0., 0., 0., ..., 0., 0., 0.],\n",
       "        [0., 0., 0., ..., 0., 0., 0.],\n",
       "        ...,\n",
       "        [0., 0., 0., ..., 0., 0., 0.],\n",
       "        [0., 0., 0., ..., 0., 0., 0.],\n",
       "        [0., 0., 0., ..., 0., 0., 0.]]),\n",
       " 'PIANO': array([[0., 0., 0., ..., 0., 0., 0.],\n",
       "        [0., 0., 0., ..., 0., 0., 0.],\n",
       "        [0., 0., 0., ..., 0., 0., 0.],\n",
       "        ...,\n",
       "        [0., 0., 0., ..., 0., 0., 0.],\n",
       "        [0., 0., 0., ..., 0., 0., 0.],\n",
       "        [0., 0., 0., ..., 0., 0., 0.]])}"
      ]
     },
     "execution_count": 98,
     "metadata": {},
     "output_type": "execute_result"
    }
   ],
   "source": [
    "encoder.encoded_files['001']"
   ]
  }
 ],
 "metadata": {
  "kernelspec": {
   "display_name": "Python 3 (ipykernel)",
   "language": "python",
   "name": "python3"
  },
  "language_info": {
   "codemirror_mode": {
    "name": "ipython",
    "version": 3
   },
   "file_extension": ".py",
   "mimetype": "text/x-python",
   "name": "python",
   "nbconvert_exporter": "python",
   "pygments_lexer": "ipython3",
   "version": "3.10.8"
  }
 },
 "nbformat": 4,
 "nbformat_minor": 5
}
