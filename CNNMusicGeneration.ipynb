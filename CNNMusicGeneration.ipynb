{
 "cells": [
  {
   "cell_type": "markdown",
   "id": "6a36985a",
   "metadata": {},
   "source": [
    "# Generación de piezas musicales con CNN"
   ]
  },
  {
   "cell_type": "code",
   "execution_count": null,
   "id": "906a4588",
   "metadata": {},
   "outputs": [],
   "source": [
    "!pip install pypianoroll"
   ]
  },
  {
   "cell_type": "code",
   "execution_count": 285,
   "id": "25ceaad0",
   "metadata": {},
   "outputs": [],
   "source": [
    "import os\n",
    "import numpy as np\n",
    "#from tensorflow.keras.utils import to_categorical\n",
    "from tensorflow.keras.callbacks import ModelCheckpoint, EarlyStopping\n",
    "import tensorflow.keras.backend as K \n",
    "import tensorflow.keras as keras\n",
    "from tensorflow.keras.utils import plot_model\n",
    "#import tensorflow as tf\n",
    "#import gc\n",
    "#import pickle\n",
    "from sklearn.model_selection import train_test_split\n",
    "import pypianoroll as pr\n",
    "import matplotlib.pyplot as plt"
   ]
  },
  {
   "cell_type": "code",
   "execution_count": 151,
   "id": "add5860a",
   "metadata": {},
   "outputs": [],
   "source": [
    "ENV = 'local'\n",
    "if(ENV == 'colab'):\n",
    "    BASE_PATH = '/content/drive/MyDrive/uni/TFG2023/generative-music/'\n",
    "    from google.colab import drive\n",
    "    drive.mount('/content/drive')\n",
    "    \n",
    "elif(ENV == 'local'):\n",
    "    BASE_PATH = './'\n",
    "else:\n",
    "    raise Exception()"
   ]
  },
  {
   "cell_type": "code",
   "execution_count": 153,
   "id": "332f22d6",
   "metadata": {},
   "outputs": [],
   "source": [
    "DATASET = 'sample'\n",
    "DATA_PATH=os.path.join(BASE_PATH, 'data')\n",
    "DATASET_PATH = os.path.join(DATA_PATH, DATASET)\n",
    "\n",
    "STORE_PATH=os.path.join(BASE_PATH,'generated')\n",
    "\n",
    "RANDOM_SEED=616\n",
    "SEQ_LEN=32"
   ]
  },
  {
   "cell_type": "code",
   "execution_count": null,
   "id": "4ce4a150",
   "metadata": {},
   "outputs": [],
   "source": []
  },
  {
   "cell_type": "code",
   "execution_count": 210,
   "id": "49866180",
   "metadata": {},
   "outputs": [],
   "source": [
    "# CNNDatasetEncoder\n",
    "class CNNDatasetEncoder:\n",
    "    \n",
    "    def __init__(self, path, seq_len=32, delimiter='/', blend_tracks=False):\n",
    "        self.path = path\n",
    "        self.parsed_files = self.load()\n",
    "        self.seq_len = seq_len\n",
    "        self.delimiter = delimiter\n",
    "        self.blend_tracks = blend_tracks\n",
    "    \n",
    "    def load(self):\n",
    "        \n",
    "        # Get song data from data_path and parse it as a pypianoroll object\n",
    "        songs = {}\n",
    "\n",
    "        for path,subdir,files in os.walk(self.path):\n",
    "            for file in files:\n",
    "                if (file[-3:] == 'mid'):\n",
    "                    try:\n",
    "                        song = pr.read(os.path.join(path,file))\n",
    "                        songs[file[:-4]] = song\n",
    "                    except:\n",
    "                        print(f'Parsing file {file} failed. Skipping.')\n",
    "                        continue\n",
    "        return songs\n",
    "        \n",
    "    def encode(self):\n",
    "        encoded_files = {}\n",
    "        titles, files = list(self.parsed_files.keys()), list(self.parsed_files.values())\n",
    "        \n",
    "        \n",
    "        for i,file in enumerate(files):\n",
    "            print(f'Processing song {titles[i]}')\n",
    "\n",
    "            # Clean short songs\n",
    "            if(file.get_max_length() < self.seq_len):\n",
    "                print(f'Skipping song {titles[i]}')\n",
    "                continue\n",
    "\n",
    "            encoded_file = self.encode_song(file)\n",
    "            encoded_files[titles[i]] = encoded_file\n",
    "        \n",
    "        self.encoded_files = encoded_files\n",
    "    \n",
    "    def encode_song(self, song):\n",
    "        \n",
    "        processed_tracks = {}\n",
    "        \n",
    "        padded = song.pad_to_same()\n",
    "        \n",
    "        if(self.blend_tracks):\n",
    "            return { 'MAIN_TRACK':padded.binarize().blend().astype(float) }\n",
    "        \n",
    "        for t in song.tracks:\n",
    "            bt = t.binarize()\n",
    "            processed_tracks[bt.name] = bt.pianoroll.astype(float)\n",
    "        return processed_tracks"
   ]
  },
  {
   "cell_type": "code",
   "execution_count": 137,
   "id": "728a4409",
   "metadata": {},
   "outputs": [],
   "source": [
    "class CNNSequenceGenerator:\n",
    "    def __init__(self, encoder, seq_len=SEQ_LEN):\n",
    "        self.encoded_files = encoder.encoded_files\n",
    "        self.seq_len = seq_len\n",
    "        \n",
    "    def generate_sequences(self, validation_split=0.15):\n",
    "        inputs = []\n",
    "        outputs = []\n",
    "        \n",
    "        for n, s in self.encoded_files.items():\n",
    "            pianoroll = s['MAIN_TRACK']\n",
    "\n",
    "            X_s = [pianoroll[SEQ_LEN*i:SEQ_LEN*i + SEQ_LEN] for i in range(int((pianoroll.shape[0] - SEQ_LEN)/SEQ_LEN))]\n",
    "            y_s = [pianoroll[SEQ_LEN*i + SEQ_LEN:SEQ_LEN*i + SEQ_LEN*2] for i in range(int((pianoroll.shape[0] - SEQ_LEN)/SEQ_LEN))]\n",
    "\n",
    "            inputs = inputs + X_s\n",
    "            outputs = outputs + y_s\n",
    "        \n",
    "        X = np.reshape(inputs, (len(inputs), self.seq_len, 128))\n",
    "        y = np.reshape(outputs, (len(outputs), self.seq_len, 128))\n",
    "        \n",
    "        print(f'Input shape: {X.shape}')\n",
    "        print(f'Output shape: {y.shape}')\n",
    "        \n",
    "        X_train, X_valid, y_train, y_valid = train_test_split(X, y, test_size=validation_split, random_state=RANDOM_SEED)\n",
    "        \n",
    "        return X_train, X_valid, y_train, y_valid\n"
   ]
  },
  {
   "cell_type": "code",
   "execution_count": 279,
   "id": "5a52ea7e",
   "metadata": {},
   "outputs": [],
   "source": [
    "class CNNAutoencoder:\n",
    "    def __init__(self, enc_num_units, enc_kernels, enc_strides, dec_num_units, dec_kernels, dec_strides, seq_len, lr, latent_dim = 64):\n",
    "        \n",
    "        self.name = 'base_conv'\n",
    "        \n",
    "        if(not os.path.exists(os.path.join(BASE_PATH, 'weights',self.name))):\n",
    "            os.mkdir(os.path.join(BASE_PATH, 'weights',self.name))\n",
    "        \n",
    "        self.weights_folder = os.path.join(BASE_PATH, 'weights',self.name)\n",
    "        \n",
    "        input_shape = (seq_len, 128, 1)\n",
    "        \n",
    "        # ENCODER\n",
    "        i_e = keras.layers.Input(shape=input_shape, name='enc_input')\n",
    "        \n",
    "        x = keras.layers.Conv2D(filters=enc_num_units[0], kernel_size=enc_kernels[0], strides=enc_strides[0], padding='same')(i_e)\n",
    "        #x = keras.layers.BatchNormalization()(x)\n",
    "        x = keras.layers.ReLU()(x)\n",
    "        \n",
    "        x = keras.layers.Conv2D(filters=enc_num_units[1], kernel_size=enc_kernels[1], strides=enc_strides[1], padding='same')(x)\n",
    "        #x = keras.layers.BatchNormalization()(x)\n",
    "        x = keras.layers.ReLU()(x)\n",
    "        \n",
    "        x = keras.layers.Conv2D(filters=enc_num_units[2], kernel_size=enc_kernels[2], strides=enc_strides[2], padding='same')(x)\n",
    "        #x = keras.layers.BatchNormalization()(x)\n",
    "        x = keras.layers.ReLU()(x)\n",
    "        \n",
    "        #x = keras.layers.Dropout(0.4)(x)\n",
    "        \n",
    "        dec_shape = K.int_shape(x)[1:]\n",
    "        \n",
    "        x = keras.layers.Flatten()(x)\n",
    "        \n",
    "        e = keras.layers.Dense(latent_dim)(x)\n",
    "        \n",
    "        self.encoder = keras.Model(i_e, e, name='cnn_encoder')\n",
    "        \n",
    "        \n",
    "        # DECODER\n",
    "        i_d = keras.layers.Input(shape=(latent_dim,), name='dec_input')\n",
    "        \n",
    "        x = keras.layers.Dense(np.prod(dec_shape))(i_d)\n",
    "        x = keras.layers.Reshape((dec_shape))(x)\n",
    "        \n",
    "        x = keras.layers.Conv2DTranspose(filters=dec_num_units[0], kernel_size=dec_kernels[0], strides=dec_strides[0], padding='same')(x)\n",
    "        x = keras.layers.ReLU()(x)\n",
    "        \n",
    "        x = keras.layers.Conv2DTranspose(filters=dec_num_units[1], kernel_size=dec_kernels[1], strides=dec_strides[1], padding='same')(x)\n",
    "        x = keras.layers.ReLU()(x)\n",
    "        \n",
    "        x = keras.layers.Conv2DTranspose(filters=dec_num_units[2], kernel_size=dec_kernels[2], strides=dec_strides[2], padding='same')(x)\n",
    "        d = keras.layers.Activation('sigmoid')(x)\n",
    "        \n",
    "        self.decoder = keras.Model(i_d, d, name='cnn_decoder')\n",
    "        \n",
    "        autoencoder_input = i_e\n",
    "        autoencoder_output = self.decoder(e)\n",
    "        \n",
    "        self.autoencoder = keras.Model(autoencoder_input, autoencoder_output, name='cnn_autoencoder')\n",
    "        \n",
    "        # COMPILATION\n",
    "        opt = keras.optimizers.Adam(learning_rate=lr)\n",
    "        \n",
    "        def collapsed_rmse(y_true, y_pred):\n",
    "            return K.mean(K.square(y_true - y_pred), axis=[1,2])\n",
    "        \n",
    "        self.autoencoder.compile(optimizer=opt, loss=collapsed_rmse)\n",
    "        \n",
    "        self.get_model_summary()\n",
    "        \n",
    "        \n",
    "    def fit_model(self, train_inputs, train_outputs, validation_inputs, validation_outputs, store_path, epochs=100, batch_size=32):\n",
    "    \n",
    "        weights_folder = self.weights_folder\n",
    "\n",
    "        checkpoint = ModelCheckpoint(\n",
    "            os.path.join(weights_folder, f\"{DATASET}_weights.h5\"),\n",
    "            monitor='loss',\n",
    "            verbose=0,\n",
    "            save_best_only=True,\n",
    "            mode='min'\n",
    "        )\n",
    "\n",
    "        early_stopping = EarlyStopping(\n",
    "            monitor='loss'\n",
    "            , restore_best_weights=True\n",
    "            , patience = 10\n",
    "        )\n",
    "\n",
    "\n",
    "        callbacks_list = [ checkpoint, early_stopping ]\n",
    "\n",
    "        history = self.autoencoder.fit(train_inputs, train_outputs\n",
    "                  , epochs=epochs, batch_size=batch_size\n",
    "                  , callbacks=callbacks_list\n",
    "                  , validation_data=(validation_inputs, validation_outputs)\n",
    "                  , shuffle=True\n",
    "                 )\n",
    "        \n",
    "        self.autoencoder.save(os.path.join(weights_folder, f\"{DATASET}_model.h5\"))\n",
    "        \n",
    "        return history\n",
    "    \n",
    "    def get_model_summary(self):\n",
    "        self.encoder.summary()\n",
    "        print('--------------------')\n",
    "        self.decoder.summary()\n",
    "        print('--------------------')\n",
    "        self.autoencoder.summary()\n",
    "        \n",
    "    def plot_model_graph(self):\n",
    "        return plot_model(self.model)\n",
    "    \n",
    "    def plot_loss(self, history):\n",
    "        plt.figure()\n",
    "        plt.plot(history.history['loss'])\n",
    "        plt.plot(history.history['val_loss'])\n",
    "        \n",
    "        plt.title('Model loss')\n",
    "        plt.ylabel('Loss')\n",
    "        plt.xlabel('Epoch')\n",
    "        plt.legend(['Train loss', 'Validation loss'])\n",
    "        plt.show()"
   ]
  },
  {
   "cell_type": "code",
   "execution_count": 211,
   "id": "15ccc254",
   "metadata": {},
   "outputs": [],
   "source": [
    "encoder = CNNDatasetEncoder('./data/sample/', blend_tracks=True)"
   ]
  },
  {
   "cell_type": "code",
   "execution_count": 212,
   "id": "83db1b77",
   "metadata": {},
   "outputs": [
    {
     "name": "stdout",
     "output_type": "stream",
     "text": [
      "Processing song aver2\n",
      "Processing song gen\n"
     ]
    }
   ],
   "source": [
    "encoder.encode()"
   ]
  },
  {
   "cell_type": "code",
   "execution_count": 213,
   "id": "b1ea6bf3",
   "metadata": {},
   "outputs": [],
   "source": [
    "s=encoder.encoded_files['gen']"
   ]
  },
  {
   "cell_type": "code",
   "execution_count": 180,
   "id": "96b7b118",
   "metadata": {},
   "outputs": [],
   "source": [
    "seq_generator = CNNSequenceGenerator(encoder)"
   ]
  },
  {
   "cell_type": "code",
   "execution_count": 181,
   "id": "f3392163",
   "metadata": {},
   "outputs": [
    {
     "name": "stdout",
     "output_type": "stream",
     "text": [
      "Input shape: (22, 32, 128)\n",
      "Output shape: (22, 32, 128)\n"
     ]
    }
   ],
   "source": [
    "X_train, X_valid, y_train, y_valid = seq_generator.generate_sequences()"
   ]
  },
  {
   "cell_type": "code",
   "execution_count": 280,
   "id": "9a2b7f4e",
   "metadata": {},
   "outputs": [
    {
     "name": "stdout",
     "output_type": "stream",
     "text": [
      "Model: \"cnn_encoder\"\n",
      "_________________________________________________________________\n",
      " Layer (type)                Output Shape              Param #   \n",
      "=================================================================\n",
      " enc_input (InputLayer)      [(None, 32, 128, 1)]      0         \n",
      "                                                                 \n",
      " conv2d_25 (Conv2D)          (None, 32, 128, 32)       544       \n",
      "                                                                 \n",
      " re_lu_40 (ReLU)             (None, 32, 128, 32)       0         \n",
      "                                                                 \n",
      " conv2d_26 (Conv2D)          (None, 16, 64, 64)        32832     \n",
      "                                                                 \n",
      " re_lu_41 (ReLU)             (None, 16, 64, 64)        0         \n",
      "                                                                 \n",
      " conv2d_27 (Conv2D)          (None, 16, 64, 128)       131200    \n",
      "                                                                 \n",
      " re_lu_42 (ReLU)             (None, 16, 64, 128)       0         \n",
      "                                                                 \n",
      " flatten_8 (Flatten)         (None, 131072)            0         \n",
      "                                                                 \n",
      " dense_16 (Dense)            (None, 64)                8388672   \n",
      "                                                                 \n",
      "=================================================================\n",
      "Total params: 8,553,248\n",
      "Trainable params: 8,553,248\n",
      "Non-trainable params: 0\n",
      "_________________________________________________________________\n",
      "--------------------\n",
      "Model: \"cnn_decoder\"\n",
      "_________________________________________________________________\n",
      " Layer (type)                Output Shape              Param #   \n",
      "=================================================================\n",
      " dec_input (InputLayer)      [(None, 64)]              0         \n",
      "                                                                 \n",
      " dense_17 (Dense)            (None, 131072)            8519680   \n",
      "                                                                 \n",
      " reshape_8 (Reshape)         (None, 16, 64, 128)       0         \n",
      "                                                                 \n",
      " conv2d_transpose_24 (Conv2D  (None, 16, 64, 64)       131136    \n",
      " Transpose)                                                      \n",
      "                                                                 \n",
      " re_lu_43 (ReLU)             (None, 16, 64, 64)        0         \n",
      "                                                                 \n",
      " conv2d_transpose_25 (Conv2D  (None, 32, 128, 32)      32800     \n",
      " Transpose)                                                      \n",
      "                                                                 \n",
      " re_lu_44 (ReLU)             (None, 32, 128, 32)       0         \n",
      "                                                                 \n",
      " conv2d_transpose_26 (Conv2D  (None, 32, 128, 1)       513       \n",
      " Transpose)                                                      \n",
      "                                                                 \n",
      " activation_8 (Activation)   (None, 32, 128, 1)        0         \n",
      "                                                                 \n",
      "=================================================================\n",
      "Total params: 8,684,129\n",
      "Trainable params: 8,684,129\n",
      "Non-trainable params: 0\n",
      "_________________________________________________________________\n",
      "--------------------\n",
      "Model: \"cnn_autoencoder\"\n",
      "_________________________________________________________________\n",
      " Layer (type)                Output Shape              Param #   \n",
      "=================================================================\n",
      " enc_input (InputLayer)      [(None, 32, 128, 1)]      0         \n",
      "                                                                 \n",
      " conv2d_25 (Conv2D)          (None, 32, 128, 32)       544       \n",
      "                                                                 \n",
      " re_lu_40 (ReLU)             (None, 32, 128, 32)       0         \n",
      "                                                                 \n",
      " conv2d_26 (Conv2D)          (None, 16, 64, 64)        32832     \n",
      "                                                                 \n",
      " re_lu_41 (ReLU)             (None, 16, 64, 64)        0         \n",
      "                                                                 \n",
      " conv2d_27 (Conv2D)          (None, 16, 64, 128)       131200    \n",
      "                                                                 \n",
      " re_lu_42 (ReLU)             (None, 16, 64, 128)       0         \n",
      "                                                                 \n",
      " flatten_8 (Flatten)         (None, 131072)            0         \n",
      "                                                                 \n",
      " dense_16 (Dense)            (None, 64)                8388672   \n",
      "                                                                 \n",
      " cnn_decoder (Functional)    (None, 32, 128, 1)        8684129   \n",
      "                                                                 \n",
      "=================================================================\n",
      "Total params: 17,237,377\n",
      "Trainable params: 17,237,377\n",
      "Non-trainable params: 0\n",
      "_________________________________________________________________\n"
     ]
    }
   ],
   "source": [
    "enc_num_units = [32, 64, 128]\n",
    "enc_kernels = [(4,4), (4,4), (4,4)]\n",
    "enc_strides = [1,2,1]\n",
    "dec_num_units = [64, 32, 1]\n",
    "dec_kernels = [(4,4), (4,4), (4,4)]\n",
    "dec_strides = [1,2,1]\n",
    "lr = 0.001\n",
    "\n",
    "cnn = CNNAutoencoder(enc_num_units, enc_kernels, enc_strides, dec_num_units, dec_kernels, dec_strides, SEQ_LEN, lr)"
   ]
  },
  {
   "cell_type": "code",
   "execution_count": 287,
   "id": "8cbff4d1",
   "metadata": {},
   "outputs": [
    {
     "name": "stdout",
     "output_type": "stream",
     "text": [
      "Epoch 1/10\n",
      "1/1 [==============================] - 1s 1s/step - loss: 96.1638 - val_loss: 32.1950\n",
      "Epoch 2/10\n",
      "1/1 [==============================] - 1s 1s/step - loss: 95.9169 - val_loss: 32.0697\n",
      "Epoch 3/10\n",
      "1/1 [==============================] - 1s 1s/step - loss: 95.8076 - val_loss: 32.0396\n",
      "Epoch 4/10\n",
      "1/1 [==============================] - 1s 1s/step - loss: 95.7775 - val_loss: 32.0279\n",
      "Epoch 5/10\n",
      "1/1 [==============================] - 1s 1s/step - loss: 95.7638 - val_loss: 32.0159\n",
      "Epoch 6/10\n",
      "1/1 [==============================] - 1s 1s/step - loss: 95.7541 - val_loss: 32.0084\n",
      "Epoch 7/10\n",
      "1/1 [==============================] - 0s 466ms/step - loss: 95.7619 - val_loss: 32.0157\n",
      "Epoch 8/10\n",
      "1/1 [==============================] - 0s 456ms/step - loss: 95.7671 - val_loss: 32.0054\n",
      "Epoch 9/10\n",
      "1/1 [==============================] - 1s 1s/step - loss: 95.7539 - val_loss: 32.0054\n",
      "Epoch 10/10\n",
      "1/1 [==============================] - 1s 953ms/step - loss: 95.7539 - val_loss: 32.0052\n"
     ]
    }
   ],
   "source": [
    "train_hist=cnn.fit_model(X_train, y_train, X_valid, y_valid, STORE_PATH, epochs=10)"
   ]
  },
  {
   "cell_type": "code",
   "execution_count": 288,
   "id": "b87dc4b5",
   "metadata": {},
   "outputs": [
    {
     "data": {
      "image/png": "[encoded data removed]",
      "text/plain": [
       "<Figure size 640x480 with 1 Axes>"
      ]
     },
     "metadata": {},
     "output_type": "display_data"
    }
   ],
   "source": [
    "cnn.plot_loss(train_hist)"
   ]
  },
  {
   "cell_type": "code",
   "execution_count": 275,
   "id": "72440a6c",
   "metadata": {},
   "outputs": [],
   "source": [
    "class CNNSampleGenerator:\n",
    "    def __init__(self, model, encoder, store_path=STORE_PATH):\n",
    "        self.model = model.autoencoder\n",
    "        self.encoder = encoder\n",
    "        self.n_sample = 0\n",
    "        self.store_path = store_path\n",
    "    \n",
    "    def generate(self, seed, sample_length, threshold=0.6):\n",
    "        seed = seed.astype(float)\n",
    "        stream = seed\n",
    "        \n",
    "        for _ in range(sample_length):\n",
    "            \n",
    "            # add dimension for batch\n",
    "            # (1, max_seq_len, vocab_size)\n",
    "            # network_input = [np.reshape(notes_seed,(1,64)),np.reshape(durations_seed,(1,self.seq_len))]\n",
    "            p_in = np.reshape(seed, (1,self.encoder.seq_len, 128))\n",
    "            \n",
    "            \n",
    "            # make a prediction\n",
    "            p_out = self.model.predict(p_in,verbose=0)\n",
    "            p_out[p_out < threshold] = 0.0\n",
    "            p_out[p_out >= threshold] = 1.0\n",
    "            \n",
    "            # update seed\n",
    "            p_out = np.reshape(p_out, (self.encoder.seq_len,128))\n",
    "            print(stream.shape, p_out.shape)\n",
    "            stream = np.concatenate((stream, p_out))\n",
    "            \n",
    "        self.generated_sequence = stream\n",
    "        self.n_sample=self.n_sample+1\n",
    "        print(f'Generated sample n.{self.n_sample}')\n",
    "        \n",
    "        \n",
    "    def gen2midi(self):\n",
    "\n",
    "        filename = f'{DATASET}-{self.model.name}_n_{self.n_sample}.mid'\n",
    "\n",
    "        pianoroll = self.generated_sequence\n",
    "\n",
    "        bt = pr.BinaryTrack(name='track1', pianoroll=pianoroll)\n",
    "        print(bt.pianoroll)\n",
    "        multitrack = pr.Multitrack(name='song1',tracks=[bt])\n",
    "        \n",
    "        self.plot_sample(multitrack)\n",
    "\n",
    "        pr.write(f'{self.store_path}/{filename}', multitrack)\n",
    "        print(f'Saved with name {filename}.')\n",
    "        \n",
    "    def plot_sample(self, midi):\n",
    "        midi.plot()"
   ]
  },
  {
   "cell_type": "code",
   "execution_count": null,
   "id": "2ea6969e",
   "metadata": {},
   "outputs": [],
   "source": []
  },
  {
   "cell_type": "code",
   "execution_count": 214,
   "id": "47e6b99d",
   "metadata": {},
   "outputs": [],
   "source": [
    "pianoroll = s['MAIN_TRACK']"
   ]
  },
  {
   "cell_type": "code",
   "execution_count": 221,
   "id": "3df1ddfc",
   "metadata": {},
   "outputs": [],
   "source": [
    "s_in=pianoroll[0:32,:]"
   ]
  },
  {
   "cell_type": "code",
   "execution_count": 289,
   "id": "4fc0bc4d",
   "metadata": {},
   "outputs": [],
   "source": [
    "sampler = CNNSampleGenerator(cnn, encoder)"
   ]
  },
  {
   "cell_type": "code",
   "execution_count": 292,
   "id": "bcc9a03e",
   "metadata": {},
   "outputs": [
    {
     "name": "stdout",
     "output_type": "stream",
     "text": [
      "(32, 128) (32, 128)\n",
      "(64, 128) (32, 128)\n",
      "(96, 128) (32, 128)\n",
      "(128, 128) (32, 128)\n",
      "(160, 128) (32, 128)\n",
      "(192, 128) (32, 128)\n",
      "(224, 128) (32, 128)\n",
      "(256, 128) (32, 128)\n",
      "(288, 128) (32, 128)\n",
      "(320, 128) (32, 128)\n",
      "(352, 128) (32, 128)\n",
      "(384, 128) (32, 128)\n",
      "(416, 128) (32, 128)\n",
      "(448, 128) (32, 128)\n",
      "(480, 128) (32, 128)\n",
      "(512, 128) (32, 128)\n",
      "(544, 128) (32, 128)\n",
      "(576, 128) (32, 128)\n",
      "(608, 128) (32, 128)\n",
      "(640, 128) (32, 128)\n",
      "Generated sample n.2\n"
     ]
    }
   ],
   "source": [
    "sampler.generate(s_in, sample_length=20)"
   ]
  },
  {
   "cell_type": "code",
   "execution_count": 293,
   "id": "055e0b56",
   "metadata": {},
   "outputs": [
    {
     "name": "stdout",
     "output_type": "stream",
     "text": [
      "[[False False False ... False False False]\n",
      " [False False False ... False False False]\n",
      " [False False False ... False False False]\n",
      " ...\n",
      " [False False False ... False False False]\n",
      " [False False False ... False False False]\n",
      " [False False False ... False False False]]\n",
      "Saved with name sample-cnn_autoencoder_n_2.mid.\n"
     ]
    },
    {
     "data": {
      "image/png": "[encoded data removed]",
      "text/plain": [
       "<Figure size 640x480 with 1 Axes>"
      ]
     },
     "metadata": {},
     "output_type": "display_data"
    }
   ],
   "source": [
    "sampler.gen2midi()"
   ]
  },
  {
   "cell_type": "code",
   "execution_count": 294,
   "id": "7e7c525e",
   "metadata": {},
   "outputs": [
    {
     "data": {
      "text/plain": [
       "array([[0., 0., 0., ..., 0., 0., 0.],\n",
       "       [0., 0., 0., ..., 0., 0., 0.],\n",
       "       [0., 0., 0., ..., 0., 0., 0.],\n",
       "       ...,\n",
       "       [0., 0., 0., ..., 0., 0., 0.],\n",
       "       [0., 0., 0., ..., 0., 0., 0.],\n",
       "       [0., 0., 0., ..., 0., 0., 0.]])"
      ]
     },
     "execution_count": 294,
     "metadata": {},
     "output_type": "execute_result"
    }
   ],
   "source": [
    "sampler.generated_sequence"
   ]
  },
  {
   "cell_type": "code",
   "execution_count": 91,
   "id": "a0070b3f",
   "metadata": {},
   "outputs": [
    {
     "data": {
      "text/plain": [
       "array([[0, 0, 0, ..., 0, 0, 0],\n",
       "       [0, 0, 0, ..., 0, 0, 0],\n",
       "       [0, 0, 0, ..., 0, 0, 0],\n",
       "       ...,\n",
       "       [0, 0, 0, ..., 0, 0, 0],\n",
       "       [0, 0, 0, ..., 0, 0, 0],\n",
       "       [0, 0, 0, ..., 0, 0, 0]])"
      ]
     },
     "execution_count": 91,
     "metadata": {},
     "output_type": "execute_result"
    }
   ],
   "source": [
    "pianoroll[SEQ_LEN:SEQ_LEN*2,:]"
   ]
  },
  {
   "cell_type": "code",
   "execution_count": 122,
   "id": "1863cc35",
   "metadata": {},
   "outputs": [
    {
     "data": {
      "text/plain": [
       "(384, 128)"
      ]
     },
     "execution_count": 122,
     "metadata": {},
     "output_type": "execute_result"
    }
   ],
   "source": [
    "pianoroll.shape"
   ]
  },
  {
   "cell_type": "code",
   "execution_count": 123,
   "id": "ab04ae61",
   "metadata": {},
   "outputs": [
    {
     "name": "stdout",
     "output_type": "stream",
     "text": [
      "from 0 to 32 for X\n",
      "from 32 to 64 for y\n",
      "from 32 to 64 for X\n",
      "from 64 to 96 for y\n",
      "from 64 to 96 for X\n",
      "from 96 to 128 for y\n",
      "from 96 to 128 for X\n",
      "from 128 to 160 for y\n",
      "from 128 to 160 for X\n",
      "from 160 to 192 for y\n",
      "from 160 to 192 for X\n",
      "from 192 to 224 for y\n",
      "from 192 to 224 for X\n",
      "from 224 to 256 for y\n",
      "from 224 to 256 for X\n",
      "from 256 to 288 for y\n",
      "from 256 to 288 for X\n",
      "from 288 to 320 for y\n",
      "from 288 to 320 for X\n",
      "from 320 to 352 for y\n",
      "from 320 to 352 for X\n",
      "from 352 to 384 for y\n"
     ]
    }
   ],
   "source": [
    "for i in range(int((pianoroll.shape[0] - SEQ_LEN)/SEQ_LEN)):\n",
    "    print(f'from {SEQ_LEN*i} to {SEQ_LEN*i + SEQ_LEN} for X')\n",
    "    print(f'from {SEQ_LEN*i + SEQ_LEN} to {SEQ_LEN*i + SEQ_LEN*2} for y')"
   ]
  },
  {
   "cell_type": "code",
   "execution_count": 103,
   "id": "0e49de30",
   "metadata": {},
   "outputs": [],
   "source": [
    "X = [pianoroll[SEQ_LEN*i:SEQ_LEN*i + SEQ_LEN] for i in range(int((pianoroll.shape[0] - SEQ_LEN)/SEQ_LEN))]\n",
    "y = [pianoroll[SEQ_LEN*i + SEQ_LEN:SEQ_LEN*i + SEQ_LEN*2] for i in range(int((pianoroll.shape[0] - SEQ_LEN)/SEQ_LEN))]"
   ]
  },
  {
   "cell_type": "code",
   "execution_count": 106,
   "id": "92c0eb56",
   "metadata": {},
   "outputs": [
    {
     "name": "stdout",
     "output_type": "stream",
     "text": [
      "(32, 128)\n",
      "(32, 128)\n",
      "(32, 128)\n",
      "(32, 128)\n",
      "(32, 128)\n",
      "(32, 128)\n",
      "(32, 128)\n",
      "(32, 128)\n",
      "(32, 128)\n",
      "(32, 128)\n",
      "(32, 128)\n"
     ]
    }
   ],
   "source": [
    "for yy in y:\n",
    "    print(yy.shape)"
   ]
  },
  {
   "cell_type": "code",
   "execution_count": 114,
   "id": "d6a8a218",
   "metadata": {},
   "outputs": [],
   "source": [
    "X = []\n",
    "y = []\n",
    "for n, s in encoder.encoded_files.items():\n",
    "    pianoroll = s['MAIN_TRACK']\n",
    "    \n",
    "    X_s = [pianoroll[SEQ_LEN*i:SEQ_LEN*i + SEQ_LEN] for i in range(int((pianoroll.shape[0] - SEQ_LEN)/SEQ_LEN))]\n",
    "    y_s = [pianoroll[SEQ_LEN*i + SEQ_LEN:SEQ_LEN*i + SEQ_LEN*2] for i in range(int((pianoroll.shape[0] - SEQ_LEN)/SEQ_LEN))]\n",
    "    \n",
    "    X = X + X_s\n",
    "    y = y + y_s"
   ]
  },
  {
   "cell_type": "code",
   "execution_count": 196,
   "id": "6ca0796a",
   "metadata": {},
   "outputs": [],
   "source": [
    "seed = X[0]"
   ]
  },
  {
   "cell_type": "code",
   "execution_count": null,
   "id": "44c8a249",
   "metadata": {},
   "outputs": [],
   "source": []
  },
  {
   "cell_type": "code",
   "execution_count": 133,
   "id": "e0a3b5cd",
   "metadata": {},
   "outputs": [],
   "source": [
    "X=np.reshape(X,(len(X),SEQ_LEN, 128))\n",
    "y=np.reshape(y,(len(y),SEQ_LEN, 128))"
   ]
  },
  {
   "cell_type": "code",
   "execution_count": 134,
   "id": "fb0242f0",
   "metadata": {},
   "outputs": [
    {
     "data": {
      "text/plain": [
       "((22, 32, 128), (22, 32, 128))"
      ]
     },
     "execution_count": 134,
     "metadata": {},
     "output_type": "execute_result"
    }
   ],
   "source": [
    "X.shape, y.shape"
   ]
  }
 ],
 "metadata": {
  "kernelspec": {
   "display_name": "Python 3 (ipykernel)",
   "language": "python",
   "name": "python3"
  },
  "language_info": {
   "codemirror_mode": {
    "name": "ipython",
    "version": 3
   },
   "file_extension": ".py",
   "mimetype": "text/x-python",
   "name": "python",
   "nbconvert_exporter": "python",
   "pygments_lexer": "ipython3",
   "version": "3.10.8"
  }
 },
 "nbformat": 4,
 "nbformat_minor": 5
}
