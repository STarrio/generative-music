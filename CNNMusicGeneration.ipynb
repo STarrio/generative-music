{
  "cells": [
    {
      "cell_type": "markdown",
      "id": "6a36985a",
      "metadata": {
        "id": "6a36985a"
      },
      "source": [
        "# Generación de piezas musicales con Autoencoder-CNN"
      ]
    },
    {
      "cell_type": "code",
      "execution_count": 1,
      "id": "906a4588",
      "metadata": {
        "id": "906a4588",
        "outputId": "e339a3e1-76ba-490c-d236-9b281afae77a",
        "colab": {
          "base_uri": "https://localhost:8080/"
        }
      },
      "outputs": [
        {
          "output_type": "stream",
          "name": "stdout",
          "text": [
            "Looking in indexes: https://pypi.org/simple, https://us-python.pkg.dev/colab-wheels/public/simple/\n",
            "Collecting pypianoroll\n",
            "  Downloading pypianoroll-1.0.4-py3-none-any.whl (26 kB)\n",
            "Requirement already satisfied: numpy>=1.12.0 in /usr/local/lib/python3.10/dist-packages (from pypianoroll) (1.22.4)\n",
            "Requirement already satisfied: scipy>=1.0.0 in /usr/local/lib/python3.10/dist-packages (from pypianoroll) (1.10.1)\n",
            "Collecting pretty-midi>=0.2.8 (from pypianoroll)\n",
            "  Downloading pretty_midi-0.2.10.tar.gz (5.6 MB)\n",
            "\u001b[2K     \u001b[90m━━━━━━━━━━━━━━━━━━━━━━━━━━━━━━━━━━━━━━━━\u001b[0m \u001b[32m5.6/5.6 MB\u001b[0m \u001b[31m36.0 MB/s\u001b[0m eta \u001b[36m0:00:00\u001b[0m\n",
            "\u001b[?25h  Preparing metadata (setup.py) ... \u001b[?25l\u001b[?25hdone\n",
            "Requirement already satisfied: matplotlib>=1.5 in /usr/local/lib/python3.10/dist-packages (from pypianoroll) (3.7.1)\n",
            "Requirement already satisfied: contourpy>=1.0.1 in /usr/local/lib/python3.10/dist-packages (from matplotlib>=1.5->pypianoroll) (1.0.7)\n",
            "Requirement already satisfied: cycler>=0.10 in /usr/local/lib/python3.10/dist-packages (from matplotlib>=1.5->pypianoroll) (0.11.0)\n",
            "Requirement already satisfied: fonttools>=4.22.0 in /usr/local/lib/python3.10/dist-packages (from matplotlib>=1.5->pypianoroll) (4.39.3)\n",
            "Requirement already satisfied: kiwisolver>=1.0.1 in /usr/local/lib/python3.10/dist-packages (from matplotlib>=1.5->pypianoroll) (1.4.4)\n",
            "Requirement already satisfied: packaging>=20.0 in /usr/local/lib/python3.10/dist-packages (from matplotlib>=1.5->pypianoroll) (23.1)\n",
            "Requirement already satisfied: pillow>=6.2.0 in /usr/local/lib/python3.10/dist-packages (from matplotlib>=1.5->pypianoroll) (8.4.0)\n",
            "Requirement already satisfied: pyparsing>=2.3.1 in /usr/local/lib/python3.10/dist-packages (from matplotlib>=1.5->pypianoroll) (3.0.9)\n",
            "Requirement already satisfied: python-dateutil>=2.7 in /usr/local/lib/python3.10/dist-packages (from matplotlib>=1.5->pypianoroll) (2.8.2)\n",
            "Collecting mido>=1.1.16 (from pretty-midi>=0.2.8->pypianoroll)\n",
            "  Downloading mido-1.2.10-py2.py3-none-any.whl (51 kB)\n",
            "\u001b[2K     \u001b[90m━━━━━━━━━━━━━━━━━━━━━━━━━━━━━━━━━━━━━━━━\u001b[0m \u001b[32m51.1/51.1 kB\u001b[0m \u001b[31m3.4 MB/s\u001b[0m eta \u001b[36m0:00:00\u001b[0m\n",
            "\u001b[?25hRequirement already satisfied: six in /usr/local/lib/python3.10/dist-packages (from pretty-midi>=0.2.8->pypianoroll) (1.16.0)\n",
            "Building wheels for collected packages: pretty-midi\n",
            "  Building wheel for pretty-midi (setup.py) ... \u001b[?25l\u001b[?25hdone\n",
            "  Created wheel for pretty-midi: filename=pretty_midi-0.2.10-py3-none-any.whl size=5592289 sha256=25146bde95e043bc10e62346dad08d5634e3b82f9a8da5855b068213110f1ac4\n",
            "  Stored in directory: /root/.cache/pip/wheels/cd/a5/30/7b8b7f58709f5150f67f98fde4b891ebf0be9ef07a8af49f25\n",
            "Successfully built pretty-midi\n",
            "Installing collected packages: mido, pretty-midi, pypianoroll\n",
            "Successfully installed mido-1.2.10 pretty-midi-0.2.10 pypianoroll-1.0.4\n"
          ]
        }
      ],
      "source": [
        "!pip install pypianoroll"
      ]
    },
    {
      "cell_type": "code",
      "execution_count": 2,
      "id": "25ceaad0",
      "metadata": {
        "id": "25ceaad0"
      },
      "outputs": [],
      "source": [
        "import os\n",
        "import numpy as np\n",
        "#from tensorflow.keras.utils import to_categorical\n",
        "from tensorflow.keras.callbacks import ModelCheckpoint, EarlyStopping\n",
        "import tensorflow.keras.backend as K \n",
        "import tensorflow.keras as keras\n",
        "from tensorflow.keras.utils import plot_model\n",
        "#import tensorflow as tf\n",
        "#import gc\n",
        "#import pickle\n",
        "from sklearn.model_selection import train_test_split\n",
        "import pypianoroll as pr\n",
        "import matplotlib.pyplot as plt"
      ]
    },
    {
      "cell_type": "code",
      "execution_count": 3,
      "id": "add5860a",
      "metadata": {
        "id": "add5860a",
        "outputId": "6f01e164-023a-4950-b89a-63ce565eb6af",
        "colab": {
          "base_uri": "https://localhost:8080/"
        }
      },
      "outputs": [
        {
          "output_type": "stream",
          "name": "stdout",
          "text": [
            "Mounted at /content/drive\n"
          ]
        }
      ],
      "source": [
        "ENV = 'colab'\n",
        "if(ENV == 'colab'):\n",
        "    BASE_PATH = '/content/drive/MyDrive/uni/TFG2023/generative-music/'\n",
        "    from google.colab import drive\n",
        "    drive.mount('/content/drive')\n",
        "    \n",
        "elif(ENV == 'local'):\n",
        "    BASE_PATH = './'\n",
        "else:\n",
        "    raise Exception()"
      ]
    },
    {
      "cell_type": "code",
      "execution_count": 4,
      "id": "332f22d6",
      "metadata": {
        "id": "332f22d6"
      },
      "outputs": [],
      "source": [
        "DATASET = 'cello'\n",
        "DATA_PATH=os.path.join(BASE_PATH, 'data')\n",
        "DATASET_PATH = os.path.join(DATA_PATH, DATASET)\n",
        "\n",
        "STORE_PATH=os.path.join(BASE_PATH,'generated')\n",
        "\n",
        "RANDOM_SEED=616\n",
        "SEQ_LEN=32"
      ]
    },
    {
      "cell_type": "markdown",
      "id": "8b316a7d",
      "metadata": {
        "id": "8b316a7d"
      },
      "source": [
        "### Clases para el preprocesamiento de los datos y la compilación del modelo:"
      ]
    },
    {
      "cell_type": "code",
      "execution_count": 5,
      "id": "49866180",
      "metadata": {
        "id": "49866180"
      },
      "outputs": [],
      "source": [
        "# CNNDatasetEncoder\n",
        "class CNNDatasetEncoder:\n",
        "    \n",
        "    def __init__(self, path, seq_len=32, delimiter='/', blend_tracks=False):\n",
        "        self.path = path\n",
        "        self.parsed_files = self.load()\n",
        "        self.seq_len = seq_len\n",
        "        self.delimiter = delimiter\n",
        "        self.blend_tracks = blend_tracks\n",
        "    \n",
        "    def load(self):\n",
        "        \n",
        "        # Get song data from data_path and parse it as a pypianoroll object\n",
        "        songs = {}\n",
        "\n",
        "        for path,subdir,files in os.walk(self.path):\n",
        "            for file in files:\n",
        "                if (file[-3:] == 'mid'):\n",
        "                    try:\n",
        "                        song = pr.read(os.path.join(path,file))\n",
        "                        songs[file[:-4]] = song\n",
        "                    except:\n",
        "                        print(f'Parsing file {file} failed. Skipping.')\n",
        "                        continue\n",
        "        return songs\n",
        "        \n",
        "    def encode(self):\n",
        "        encoded_files = {}\n",
        "        titles, files = list(self.parsed_files.keys()), list(self.parsed_files.values())\n",
        "        \n",
        "        \n",
        "        for i,file in enumerate(files):\n",
        "            print(f'Processing song {titles[i]}')\n",
        "\n",
        "            # Clean short songs\n",
        "            if(file.get_max_length() < self.seq_len):\n",
        "                print(f'Skipping song {titles[i]}')\n",
        "                continue\n",
        "\n",
        "            encoded_file = self.encode_song(file)\n",
        "            encoded_files[titles[i]] = encoded_file\n",
        "        \n",
        "        self.encoded_files = encoded_files\n",
        "    \n",
        "    def encode_song(self, song):\n",
        "        \n",
        "        processed_tracks = {}\n",
        "        \n",
        "        padded = song.pad_to_same()\n",
        "        \n",
        "        if(self.blend_tracks):\n",
        "            return { 'MAIN_TRACK':padded.binarize().blend().astype(float) }\n",
        "        \n",
        "        for t in song.tracks:\n",
        "            bt = t.binarize()\n",
        "            processed_tracks[bt.name] = bt.pianoroll.astype(float)\n",
        "        return processed_tracks"
      ]
    },
    {
      "cell_type": "code",
      "execution_count": 6,
      "id": "728a4409",
      "metadata": {
        "id": "728a4409"
      },
      "outputs": [],
      "source": [
        "class CNNSequenceGenerator:\n",
        "    def __init__(self, encoder, seq_len=SEQ_LEN):\n",
        "        self.encoded_files = encoder.encoded_files\n",
        "        self.seq_len = seq_len\n",
        "        \n",
        "    def generate_sequences(self, validation_split=0.15):\n",
        "        inputs = []\n",
        "        outputs = []\n",
        "        \n",
        "        for n, s in self.encoded_files.items():\n",
        "            pianoroll = s['MAIN_TRACK']\n",
        "\n",
        "            X_s = [pianoroll[SEQ_LEN*i:SEQ_LEN*i + SEQ_LEN] for i in range(int((pianoroll.shape[0] - SEQ_LEN)/SEQ_LEN))]\n",
        "            y_s = [pianoroll[SEQ_LEN*i + SEQ_LEN:SEQ_LEN*i + SEQ_LEN*2] for i in range(int((pianoroll.shape[0] - SEQ_LEN)/SEQ_LEN))]\n",
        "\n",
        "            inputs = inputs + X_s\n",
        "            outputs = outputs + y_s\n",
        "        \n",
        "        X = np.reshape(inputs, (len(inputs), self.seq_len, 128))\n",
        "        y = np.reshape(outputs, (len(outputs), self.seq_len, 128))\n",
        "        \n",
        "        print(f'Input shape: {X.shape}')\n",
        "        print(f'Output shape: {y.shape}')\n",
        "        \n",
        "        X_train, X_valid, y_train, y_valid = train_test_split(X, y, test_size=validation_split, random_state=RANDOM_SEED)\n",
        "        \n",
        "        return X_train, X_valid, y_train, y_valid\n"
      ]
    },
    {
      "cell_type": "code",
      "execution_count": 7,
      "id": "5a52ea7e",
      "metadata": {
        "id": "5a52ea7e"
      },
      "outputs": [],
      "source": [
        "class CNNAutoencoder:\n",
        "    def __init__(self, enc_num_units, enc_kernels, enc_strides, dec_num_units, dec_kernels, dec_strides, seq_len, lr, latent_dim = 64):\n",
        "        \n",
        "        self.name = 'base_conv'\n",
        "        \n",
        "        if(not os.path.exists(os.path.join(BASE_PATH, 'weights',self.name))):\n",
        "            os.mkdir(os.path.join(BASE_PATH, 'weights',self.name))\n",
        "        \n",
        "        self.weights_folder = os.path.join(BASE_PATH, 'weights',self.name)\n",
        "        \n",
        "        input_shape = (seq_len, 128, 1)\n",
        "        \n",
        "        # ENCODER\n",
        "        i_e = keras.layers.Input(shape=input_shape, name='enc_input')\n",
        "        \n",
        "        x = keras.layers.Conv2D(filters=enc_num_units[0], kernel_size=enc_kernels[0], strides=enc_strides[0], padding='same', name='conv_1')(i_e)\n",
        "        x = keras.layers.BatchNormalization()(x)\n",
        "        x = keras.layers.LeakyReLU()(x)\n",
        "        \n",
        "        x = keras.layers.Dropout(0.4)(x)\n",
        "        \n",
        "        x = keras.layers.Conv2D(filters=enc_num_units[1], kernel_size=enc_kernels[1], strides=enc_strides[1], padding='same', name='conv_2')(x)\n",
        "        x = keras.layers.BatchNormalization()(x)\n",
        "        x = keras.layers.LeakyReLU()(x)\n",
        "        \n",
        "        x = keras.layers.Dropout(0.4)(x)\n",
        "        \n",
        "        x = keras.layers.Conv2D(filters=enc_num_units[2], kernel_size=enc_kernels[2], strides=enc_strides[2], padding='same', name='conv_3')(x)\n",
        "        x = keras.layers.BatchNormalization()(x)\n",
        "        x = keras.layers.LeakyReLU()(x)\n",
        "        \n",
        "        dec_shape = K.int_shape(x)[1:]\n",
        "        \n",
        "        x = keras.layers.Flatten()(x)\n",
        "        \n",
        "        e = keras.layers.Dense(latent_dim, name='latent')(x)\n",
        "        \n",
        "        self.encoder = keras.Model(i_e, e, name='cnn_encoder')\n",
        "        \n",
        "        \n",
        "        # DECODER\n",
        "        i_d = keras.layers.Input(shape=(latent_dim,), name='dec_input')\n",
        "        \n",
        "        x = keras.layers.Dense(np.prod(dec_shape))(i_d)\n",
        "        x = keras.layers.Reshape((dec_shape))(x)\n",
        "        \n",
        "        x = keras.layers.Conv2DTranspose(filters=dec_num_units[0], kernel_size=dec_kernels[0], strides=dec_strides[0], padding='same', name='deconv_1')(x)\n",
        "        x = keras.layers.BatchNormalization()(x)\n",
        "        x = keras.layers.LeakyReLU()(x)\n",
        "        \n",
        "        x = keras.layers.Conv2DTranspose(filters=dec_num_units[1], kernel_size=dec_kernels[1], strides=dec_strides[1], padding='same', name='deconv_2')(x)\n",
        "        x = keras.layers.BatchNormalization()(x)\n",
        "        x = keras.layers.LeakyReLU()(x)\n",
        "        \n",
        "        x = keras.layers.Conv2DTranspose(filters=dec_num_units[2], kernel_size=dec_kernels[2], strides=dec_strides[2], padding='same', name='deconv_3')(x)\n",
        "        d = keras.layers.Activation('sigmoid')(x)\n",
        "        \n",
        "        self.decoder = keras.Model(i_d, d, name='cnn_decoder')\n",
        "        \n",
        "        autoencoder_input = i_e\n",
        "        autoencoder_output = self.decoder(e)\n",
        "        \n",
        "        self.autoencoder = keras.Model(autoencoder_input, autoencoder_output, name='cnn_autoencoder')\n",
        "        \n",
        "        # COMPILATION\n",
        "        opt = keras.optimizers.Adam(learning_rate=lr)\n",
        "        \n",
        "        def collapsed_rmse(y_true, y_pred):\n",
        "            return K.mean(K.square(y_true - y_pred), axis=[1,2])\n",
        "        \n",
        "        self.autoencoder.compile(optimizer=opt, loss=collapsed_rmse)\n",
        "        \n",
        "        self.get_model_summary()\n",
        "        \n",
        "        \n",
        "    def fit_model(self, train_inputs, train_outputs, validation_inputs, validation_outputs, store_path, epochs=100, batch_size=32):\n",
        "    \n",
        "        weights_folder = self.weights_folder\n",
        "\n",
        "        checkpoint = ModelCheckpoint(\n",
        "            os.path.join(weights_folder, f\"{DATASET}_weights.h5\"),\n",
        "            monitor='loss',\n",
        "            verbose=0,\n",
        "            save_best_only=True,\n",
        "            mode='min'\n",
        "        )\n",
        "\n",
        "        early_stopping = EarlyStopping(\n",
        "            monitor='loss'\n",
        "            , restore_best_weights=True\n",
        "            , patience = 10\n",
        "        )\n",
        "\n",
        "\n",
        "        callbacks_list = [ checkpoint, early_stopping ]\n",
        "\n",
        "        history = self.autoencoder.fit(train_inputs, train_outputs\n",
        "                  , epochs=epochs, batch_size=batch_size\n",
        "                  , callbacks=callbacks_list\n",
        "                  , validation_data=(validation_inputs, validation_outputs)\n",
        "                  , shuffle=True\n",
        "                 )\n",
        "        \n",
        "        self.autoencoder.save(os.path.join(weights_folder, f\"{DATASET}_model.h5\"))\n",
        "        \n",
        "        return history\n",
        "    \n",
        "    def get_model_summary(self):\n",
        "        self.encoder.summary()\n",
        "        print('--------------------')\n",
        "        self.decoder.summary()\n",
        "        print('--------------------')\n",
        "        self.autoencoder.summary()\n",
        "        \n",
        "    def plot_model_graph(self):\n",
        "        return plot_model(self.model)\n",
        "    \n",
        "    def plot_loss(self, history):\n",
        "        plt.figure()\n",
        "        plt.plot(history.history['loss'])\n",
        "        plt.plot(history.history['val_loss'])\n",
        "        \n",
        "        plt.title('Model loss')\n",
        "        plt.ylabel('Loss')\n",
        "        plt.xlabel('Epoch')\n",
        "        plt.legend(['Train loss', 'Validation loss'])\n",
        "        plt.show()"
      ]
    },
    {
      "cell_type": "code",
      "execution_count": 8,
      "id": "7b18a578",
      "metadata": {
        "id": "7b18a578"
      },
      "outputs": [],
      "source": [
        "class CNNSampleGenerator:\n",
        "    def __init__(self, model, encoder, store_path=STORE_PATH):\n",
        "        self.model = model.autoencoder\n",
        "        self.encoder = encoder\n",
        "        self.n_sample = 0\n",
        "        self.store_path = store_path\n",
        "    \n",
        "    def generate(self, seed, sample_length, threshold=0.6):\n",
        "        seed = seed.astype(float)\n",
        "        stream = seed\n",
        "        \n",
        "        for _ in range(sample_length):\n",
        "            \n",
        "            # add dimension for batch\n",
        "            # (1, max_seq_len, vocab_size)\n",
        "            # network_input = [np.reshape(notes_seed,(1,64)),np.reshape(durations_seed,(1,self.seq_len))]\n",
        "            p_in = np.reshape(seed, (1,self.encoder.seq_len, 128))\n",
        "            \n",
        "            \n",
        "            # make a prediction\n",
        "            p_out = self.model.predict(p_in,verbose=0)\n",
        "            p_out[p_out < threshold] = 0.0\n",
        "            p_out[p_out >= threshold] = 1.0\n",
        "            \n",
        "            # update seed\n",
        "            p_out = np.reshape(p_out, (self.encoder.seq_len,128))\n",
        "            print(f'Generated sample from ts={stream.shape[0]} to ts={stream.shape[0]+self.encoder.seq_len}.')\n",
        "            stream = np.concatenate((stream, p_out))\n",
        "            \n",
        "        self.generated_sequence = stream\n",
        "        self.n_sample=self.n_sample+1\n",
        "        print(f'Generated sample n.{self.n_sample}')\n",
        "        \n",
        "        \n",
        "    def gen2midi(self):\n",
        "\n",
        "        filename = f'{DATASET}-{self.model.name}_n_{self.n_sample}.mid'\n",
        "\n",
        "        pianoroll = self.generated_sequence\n",
        "\n",
        "        bt = pr.BinaryTrack(name='track1', pianoroll=pianoroll)\n",
        "        multitrack = pr.Multitrack(name='song1',tracks=[bt])\n",
        "        \n",
        "        self.plot_sample(multitrack)\n",
        "\n",
        "        pr.write(f'{self.store_path}/{filename}', multitrack)\n",
        "        print(f'Saved with name {filename}.')\n",
        "        \n",
        "    def plot_sample(self, midi):\n",
        "        midi.plot()"
      ]
    },
    {
      "cell_type": "markdown",
      "source": [
        "### Tratamiento de los datos"
      ],
      "metadata": {
        "id": "J8tmn9Kv99bH"
      },
      "id": "J8tmn9Kv99bH"
    },
    {
      "cell_type": "markdown",
      "id": "afa06f0a",
      "metadata": {
        "id": "afa06f0a"
      },
      "source": [
        "Se procesan los ficheros MIDI y se convierten a matrices usando la librería pypianoroll:"
      ]
    },
    {
      "cell_type": "code",
      "execution_count": 9,
      "id": "15ccc254",
      "metadata": {
        "id": "15ccc254"
      },
      "outputs": [],
      "source": [
        "encoder = CNNDatasetEncoder(DATASET_PATH, blend_tracks=True)"
      ]
    },
    {
      "cell_type": "code",
      "execution_count": 10,
      "id": "83db1b77",
      "metadata": {
        "id": "83db1b77",
        "outputId": "3f65e89d-1b6d-4525-a662-5757a36ba055",
        "colab": {
          "base_uri": "https://localhost:8080/"
        }
      },
      "outputs": [
        {
          "output_type": "stream",
          "name": "stdout",
          "text": [
            "Processing song cs1-1pre\n",
            "Processing song cs1-2all\n",
            "Processing song cs1-3cou\n",
            "Processing song cs1-6gig\n",
            "Processing song cs2-1pre\n",
            "Processing song cs2-2all\n",
            "Processing song cs2-3cou\n",
            "Processing song cs4-2all\n",
            "Processing song cs4-5bou\n",
            "Processing song cs4-6gig\n",
            "Processing song cs5-4sar\n",
            "Processing song cs6-1pre\n",
            "Processing song cs6-2all\n",
            "Processing song cs6-5gav\n",
            "Processing song cs2-4sar\n",
            "Processing song cs1-4sar\n",
            "Processing song cs2-6gig\n",
            "Processing song cs3-1pre\n",
            "Processing song cs3-3cou\n",
            "Processing song cs3-2all\n",
            "Processing song cs3-4sar\n",
            "Processing song cs3-5bou\n",
            "Processing song cs4-1pre\n",
            "Processing song cs4-3cou\n",
            "Processing song cs4-4sar\n",
            "Processing song cs5-1pre\n",
            "Processing song cs5-6gig\n",
            "Processing song cs6-3cou\n",
            "Processing song cs6-6gig\n",
            "Processing song cs3-6gig\n",
            "Processing song cs5-2all\n",
            "Processing song cs5-3cou\n",
            "Processing song cs5-5gav\n",
            "Processing song cs6-4sar\n",
            "Processing song cs1-5men\n",
            "Processing song cs2-5men\n"
          ]
        }
      ],
      "source": [
        "encoder.encode()"
      ]
    },
    {
      "cell_type": "markdown",
      "id": "60841b66",
      "metadata": {
        "id": "60841b66"
      },
      "source": [
        "Se generan las secuencias de entrenamiento (X_train, y_train) y validación (X_valid, y_valid):"
      ]
    },
    {
      "cell_type": "code",
      "execution_count": 11,
      "id": "96b7b118",
      "metadata": {
        "id": "96b7b118"
      },
      "outputs": [],
      "source": [
        "seq_generator = CNNSequenceGenerator(encoder)"
      ]
    },
    {
      "cell_type": "code",
      "execution_count": 12,
      "id": "f3392163",
      "metadata": {
        "id": "f3392163",
        "outputId": "ce03306d-a716-4707-89d8-0594796d2743",
        "colab": {
          "base_uri": "https://localhost:8080/"
        }
      },
      "outputs": [
        {
          "output_type": "stream",
          "name": "stdout",
          "text": [
            "Input shape: (8749, 32, 128)\n",
            "Output shape: (8749, 32, 128)\n"
          ]
        }
      ],
      "source": [
        "X_train, X_valid, y_train, y_valid = seq_generator.generate_sequences()"
      ]
    },
    {
      "cell_type": "markdown",
      "source": [
        "### Compilación del modelo"
      ],
      "metadata": {
        "id": "kgSTjW6b-MFV"
      },
      "id": "kgSTjW6b-MFV"
    },
    {
      "cell_type": "markdown",
      "id": "08e2b4d6",
      "metadata": {
        "id": "08e2b4d6"
      },
      "source": [
        "Se construye y compila el Autoencoder:"
      ]
    },
    {
      "cell_type": "code",
      "execution_count": 13,
      "id": "9a2b7f4e",
      "metadata": {
        "id": "9a2b7f4e",
        "outputId": "ce5aad8b-1f54-4218-d6ee-81947fe5a368",
        "colab": {
          "base_uri": "https://localhost:8080/"
        }
      },
      "outputs": [
        {
          "output_type": "stream",
          "name": "stdout",
          "text": [
            "Model: \"cnn_encoder\"\n",
            "_________________________________________________________________\n",
            " Layer (type)                Output Shape              Param #   \n",
            "=================================================================\n",
            " enc_input (InputLayer)      [(None, 32, 128, 1)]      0         \n",
            "                                                                 \n",
            " conv_1 (Conv2D)             (None, 32, 128, 32)       544       \n",
            "                                                                 \n",
            " batch_normalization (BatchN  (None, 32, 128, 32)      128       \n",
            " ormalization)                                                   \n",
            "                                                                 \n",
            " leaky_re_lu (LeakyReLU)     (None, 32, 128, 32)       0         \n",
            "                                                                 \n",
            " dropout (Dropout)           (None, 32, 128, 32)       0         \n",
            "                                                                 \n",
            " conv_2 (Conv2D)             (None, 16, 64, 64)        32832     \n",
            "                                                                 \n",
            " batch_normalization_1 (Batc  (None, 16, 64, 64)       256       \n",
            " hNormalization)                                                 \n",
            "                                                                 \n",
            " leaky_re_lu_1 (LeakyReLU)   (None, 16, 64, 64)        0         \n",
            "                                                                 \n",
            " dropout_1 (Dropout)         (None, 16, 64, 64)        0         \n",
            "                                                                 \n",
            " conv_3 (Conv2D)             (None, 16, 64, 128)       131200    \n",
            "                                                                 \n",
            " batch_normalization_2 (Batc  (None, 16, 64, 128)      512       \n",
            " hNormalization)                                                 \n",
            "                                                                 \n",
            " leaky_re_lu_2 (LeakyReLU)   (None, 16, 64, 128)       0         \n",
            "                                                                 \n",
            " flatten (Flatten)           (None, 131072)            0         \n",
            "                                                                 \n",
            " latent (Dense)              (None, 64)                8388672   \n",
            "                                                                 \n",
            "=================================================================\n",
            "Total params: 8,554,144\n",
            "Trainable params: 8,553,696\n",
            "Non-trainable params: 448\n",
            "_________________________________________________________________\n",
            "--------------------\n",
            "Model: \"cnn_decoder\"\n",
            "_________________________________________________________________\n",
            " Layer (type)                Output Shape              Param #   \n",
            "=================================================================\n",
            " dec_input (InputLayer)      [(None, 64)]              0         \n",
            "                                                                 \n",
            " dense (Dense)               (None, 131072)            8519680   \n",
            "                                                                 \n",
            " reshape (Reshape)           (None, 16, 64, 128)       0         \n",
            "                                                                 \n",
            " deconv_1 (Conv2DTranspose)  (None, 16, 64, 64)        131136    \n",
            "                                                                 \n",
            " batch_normalization_3 (Batc  (None, 16, 64, 64)       256       \n",
            " hNormalization)                                                 \n",
            "                                                                 \n",
            " leaky_re_lu_3 (LeakyReLU)   (None, 16, 64, 64)        0         \n",
            "                                                                 \n",
            " deconv_2 (Conv2DTranspose)  (None, 32, 128, 32)       32800     \n",
            "                                                                 \n",
            " batch_normalization_4 (Batc  (None, 32, 128, 32)      128       \n",
            " hNormalization)                                                 \n",
            "                                                                 \n",
            " leaky_re_lu_4 (LeakyReLU)   (None, 32, 128, 32)       0         \n",
            "                                                                 \n",
            " deconv_3 (Conv2DTranspose)  (None, 32, 128, 1)        513       \n",
            "                                                                 \n",
            " activation (Activation)     (None, 32, 128, 1)        0         \n",
            "                                                                 \n",
            "=================================================================\n",
            "Total params: 8,684,513\n",
            "Trainable params: 8,684,321\n",
            "Non-trainable params: 192\n",
            "_________________________________________________________________\n",
            "--------------------\n",
            "Model: \"cnn_autoencoder\"\n",
            "_________________________________________________________________\n",
            " Layer (type)                Output Shape              Param #   \n",
            "=================================================================\n",
            " enc_input (InputLayer)      [(None, 32, 128, 1)]      0         \n",
            "                                                                 \n",
            " conv_1 (Conv2D)             (None, 32, 128, 32)       544       \n",
            "                                                                 \n",
            " batch_normalization (BatchN  (None, 32, 128, 32)      128       \n",
            " ormalization)                                                   \n",
            "                                                                 \n",
            " leaky_re_lu (LeakyReLU)     (None, 32, 128, 32)       0         \n",
            "                                                                 \n",
            " dropout (Dropout)           (None, 32, 128, 32)       0         \n",
            "                                                                 \n",
            " conv_2 (Conv2D)             (None, 16, 64, 64)        32832     \n",
            "                                                                 \n",
            " batch_normalization_1 (Batc  (None, 16, 64, 64)       256       \n",
            " hNormalization)                                                 \n",
            "                                                                 \n",
            " leaky_re_lu_1 (LeakyReLU)   (None, 16, 64, 64)        0         \n",
            "                                                                 \n",
            " dropout_1 (Dropout)         (None, 16, 64, 64)        0         \n",
            "                                                                 \n",
            " conv_3 (Conv2D)             (None, 16, 64, 128)       131200    \n",
            "                                                                 \n",
            " batch_normalization_2 (Batc  (None, 16, 64, 128)      512       \n",
            " hNormalization)                                                 \n",
            "                                                                 \n",
            " leaky_re_lu_2 (LeakyReLU)   (None, 16, 64, 128)       0         \n",
            "                                                                 \n",
            " flatten (Flatten)           (None, 131072)            0         \n",
            "                                                                 \n",
            " latent (Dense)              (None, 64)                8388672   \n",
            "                                                                 \n",
            " cnn_decoder (Functional)    (None, 32, 128, 1)        8684513   \n",
            "                                                                 \n",
            "=================================================================\n",
            "Total params: 17,238,657\n",
            "Trainable params: 17,238,017\n",
            "Non-trainable params: 640\n",
            "_________________________________________________________________\n"
          ]
        }
      ],
      "source": [
        "enc_num_units = [32, 64, 128]\n",
        "enc_kernels = [(4,4), (4,4), (4,4)]\n",
        "enc_strides = [1,2,1]\n",
        "dec_num_units = [64, 32, 1]\n",
        "dec_kernels = [(4,4), (4,4), (4,4)]\n",
        "dec_strides = [1,2,1]\n",
        "lr = 0.001\n",
        "\n",
        "cnn = CNNAutoencoder(enc_num_units, enc_kernels, enc_strides, dec_num_units, dec_kernels, dec_strides, SEQ_LEN, lr)"
      ]
    },
    {
      "cell_type": "markdown",
      "source": [
        "### Entrenamiento"
      ],
      "metadata": {
        "id": "sSf0nszM-Q_C"
      },
      "id": "sSf0nszM-Q_C"
    },
    {
      "cell_type": "markdown",
      "id": "5784ef74",
      "metadata": {
        "id": "5784ef74"
      },
      "source": [
        "Proceso de entrenamiento del modelo:"
      ]
    },
    {
      "cell_type": "code",
      "execution_count": 14,
      "id": "8cbff4d1",
      "metadata": {
        "id": "8cbff4d1",
        "outputId": "55501488-b2c4-4ea7-99d8-115e193ebec7",
        "colab": {
          "base_uri": "https://localhost:8080/"
        }
      },
      "outputs": [
        {
          "output_type": "stream",
          "name": "stdout",
          "text": [
            "Epoch 1/100\n",
            "233/233 [==============================] - 26s 47ms/step - loss: 0.0121 - val_loss: 0.0088\n",
            "Epoch 2/100\n",
            "233/233 [==============================] - 10s 44ms/step - loss: 0.0084 - val_loss: 0.0085\n",
            "Epoch 3/100\n",
            "233/233 [==============================] - 10s 45ms/step - loss: 0.0081 - val_loss: 0.0080\n",
            "Epoch 4/100\n",
            "233/233 [==============================] - 10s 44ms/step - loss: 0.0078 - val_loss: 0.0078\n",
            "Epoch 5/100\n",
            "233/233 [==============================] - 10s 44ms/step - loss: 0.0075 - val_loss: 0.0074\n",
            "Epoch 6/100\n",
            "233/233 [==============================] - 11s 45ms/step - loss: 0.0073 - val_loss: 0.0073\n",
            "Epoch 7/100\n",
            "233/233 [==============================] - 10s 43ms/step - loss: 0.0071 - val_loss: 0.0071\n",
            "Epoch 8/100\n",
            "233/233 [==============================] - 10s 45ms/step - loss: 0.0068 - val_loss: 0.0070\n",
            "Epoch 9/100\n",
            "233/233 [==============================] - 10s 45ms/step - loss: 0.0066 - val_loss: 0.0069\n",
            "Epoch 10/100\n",
            "233/233 [==============================] - 12s 50ms/step - loss: 0.0064 - val_loss: 0.0068\n",
            "Epoch 11/100\n",
            "233/233 [==============================] - 10s 44ms/step - loss: 0.0061 - val_loss: 0.0067\n",
            "Epoch 12/100\n",
            "233/233 [==============================] - 11s 45ms/step - loss: 0.0059 - val_loss: 0.0067\n",
            "Epoch 13/100\n",
            "233/233 [==============================] - 10s 45ms/step - loss: 0.0056 - val_loss: 0.0068\n",
            "Epoch 14/100\n",
            "233/233 [==============================] - 10s 44ms/step - loss: 0.0054 - val_loss: 0.0065\n",
            "Epoch 15/100\n",
            "233/233 [==============================] - 11s 46ms/step - loss: 0.0052 - val_loss: 0.0065\n",
            "Epoch 16/100\n",
            "233/233 [==============================] - 10s 45ms/step - loss: 0.0049 - val_loss: 0.0064\n",
            "Epoch 17/100\n",
            "233/233 [==============================] - 11s 46ms/step - loss: 0.0047 - val_loss: 0.0063\n",
            "Epoch 18/100\n",
            "233/233 [==============================] - 11s 45ms/step - loss: 0.0044 - val_loss: 0.0062\n",
            "Epoch 19/100\n",
            "233/233 [==============================] - 11s 46ms/step - loss: 0.0043 - val_loss: 0.0061\n",
            "Epoch 20/100\n",
            "233/233 [==============================] - 11s 45ms/step - loss: 0.0041 - val_loss: 0.0061\n",
            "Epoch 21/100\n",
            "233/233 [==============================] - 10s 45ms/step - loss: 0.0039 - val_loss: 0.0059\n",
            "Epoch 22/100\n",
            "233/233 [==============================] - 11s 48ms/step - loss: 0.0037 - val_loss: 0.0060\n",
            "Epoch 23/100\n",
            "233/233 [==============================] - 13s 58ms/step - loss: 0.0035 - val_loss: 0.0058\n",
            "Epoch 24/100\n",
            "233/233 [==============================] - 13s 58ms/step - loss: 0.0034 - val_loss: 0.0059\n",
            "Epoch 25/100\n",
            "233/233 [==============================] - 11s 47ms/step - loss: 0.0033 - val_loss: 0.0057\n",
            "Epoch 26/100\n",
            "233/233 [==============================] - 10s 45ms/step - loss: 0.0032 - val_loss: 0.0057\n",
            "Epoch 27/100\n",
            "233/233 [==============================] - 11s 45ms/step - loss: 0.0031 - val_loss: 0.0057\n",
            "Epoch 28/100\n",
            "233/233 [==============================] - 11s 45ms/step - loss: 0.0030 - val_loss: 0.0056\n",
            "Epoch 29/100\n",
            "233/233 [==============================] - 11s 45ms/step - loss: 0.0030 - val_loss: 0.0056\n",
            "Epoch 30/100\n",
            "233/233 [==============================] - 11s 46ms/step - loss: 0.0029 - val_loss: 0.0056\n",
            "Epoch 31/100\n",
            "233/233 [==============================] - 10s 45ms/step - loss: 0.0028 - val_loss: 0.0056\n",
            "Epoch 32/100\n",
            "233/233 [==============================] - 11s 45ms/step - loss: 0.0028 - val_loss: 0.0055\n",
            "Epoch 33/100\n",
            "233/233 [==============================] - 10s 44ms/step - loss: 0.0027 - val_loss: 0.0055\n",
            "Epoch 34/100\n",
            "233/233 [==============================] - 11s 45ms/step - loss: 0.0027 - val_loss: 0.0054\n",
            "Epoch 35/100\n",
            "233/233 [==============================] - 11s 46ms/step - loss: 0.0026 - val_loss: 0.0056\n",
            "Epoch 36/100\n",
            "233/233 [==============================] - 10s 44ms/step - loss: 0.0026 - val_loss: 0.0055\n",
            "Epoch 37/100\n",
            "233/233 [==============================] - 10s 45ms/step - loss: 0.0026 - val_loss: 0.0056\n",
            "Epoch 38/100\n",
            "233/233 [==============================] - 11s 45ms/step - loss: 0.0025 - val_loss: 0.0055\n",
            "Epoch 39/100\n",
            "233/233 [==============================] - 10s 44ms/step - loss: 0.0025 - val_loss: 0.0053\n",
            "Epoch 40/100\n",
            "233/233 [==============================] - 10s 44ms/step - loss: 0.0025 - val_loss: 0.0053\n",
            "Epoch 41/100\n",
            "233/233 [==============================] - 11s 49ms/step - loss: 0.0024 - val_loss: 0.0055\n",
            "Epoch 42/100\n",
            "233/233 [==============================] - 11s 45ms/step - loss: 0.0024 - val_loss: 0.0054\n",
            "Epoch 43/100\n",
            "233/233 [==============================] - 11s 46ms/step - loss: 0.0024 - val_loss: 0.0054\n",
            "Epoch 44/100\n",
            "233/233 [==============================] - 10s 44ms/step - loss: 0.0024 - val_loss: 0.0053\n",
            "Epoch 45/100\n",
            "233/233 [==============================] - 11s 45ms/step - loss: 0.0024 - val_loss: 0.0053\n",
            "Epoch 46/100\n",
            "233/233 [==============================] - 10s 45ms/step - loss: 0.0023 - val_loss: 0.0053\n",
            "Epoch 47/100\n",
            "233/233 [==============================] - 10s 45ms/step - loss: 0.0023 - val_loss: 0.0053\n",
            "Epoch 48/100\n",
            "233/233 [==============================] - 11s 47ms/step - loss: 0.0023 - val_loss: 0.0053\n",
            "Epoch 49/100\n",
            "233/233 [==============================] - 10s 44ms/step - loss: 0.0023 - val_loss: 0.0053\n",
            "Epoch 50/100\n",
            "233/233 [==============================] - 10s 44ms/step - loss: 0.0022 - val_loss: 0.0053\n",
            "Epoch 51/100\n",
            "233/233 [==============================] - 11s 45ms/step - loss: 0.0022 - val_loss: 0.0052\n",
            "Epoch 52/100\n",
            "233/233 [==============================] - 11s 45ms/step - loss: 0.0022 - val_loss: 0.0052\n",
            "Epoch 53/100\n",
            "233/233 [==============================] - 10s 44ms/step - loss: 0.0022 - val_loss: 0.0052\n",
            "Epoch 54/100\n",
            "233/233 [==============================] - 10s 44ms/step - loss: 0.0022 - val_loss: 0.0053\n",
            "Epoch 55/100\n",
            "233/233 [==============================] - 11s 45ms/step - loss: 0.0022 - val_loss: 0.0053\n",
            "Epoch 56/100\n",
            "233/233 [==============================] - 10s 44ms/step - loss: 0.0022 - val_loss: 0.0053\n",
            "Epoch 57/100\n",
            "233/233 [==============================] - 11s 46ms/step - loss: 0.0021 - val_loss: 0.0053\n",
            "Epoch 58/100\n",
            "233/233 [==============================] - 10s 44ms/step - loss: 0.0021 - val_loss: 0.0053\n",
            "Epoch 59/100\n",
            "233/233 [==============================] - 10s 42ms/step - loss: 0.0021 - val_loss: 0.0052\n",
            "Epoch 60/100\n",
            "233/233 [==============================] - 15s 65ms/step - loss: 0.0021 - val_loss: 0.0052\n",
            "Epoch 61/100\n",
            "233/233 [==============================] - 10s 44ms/step - loss: 0.0021 - val_loss: 0.0052\n",
            "Epoch 62/100\n",
            "233/233 [==============================] - 11s 45ms/step - loss: 0.0021 - val_loss: 0.0052\n",
            "Epoch 63/100\n",
            "233/233 [==============================] - 10s 44ms/step - loss: 0.0021 - val_loss: 0.0053\n",
            "Epoch 64/100\n",
            "233/233 [==============================] - 10s 41ms/step - loss: 0.0021 - val_loss: 0.0053\n",
            "Epoch 65/100\n",
            "233/233 [==============================] - 15s 66ms/step - loss: 0.0020 - val_loss: 0.0052\n",
            "Epoch 66/100\n",
            "233/233 [==============================] - 16s 69ms/step - loss: 0.0020 - val_loss: 0.0052\n",
            "Epoch 67/100\n",
            "233/233 [==============================] - 12s 52ms/step - loss: 0.0020 - val_loss: 0.0052\n",
            "Epoch 68/100\n",
            "233/233 [==============================] - 10s 42ms/step - loss: 0.0020 - val_loss: 0.0052\n",
            "Epoch 69/100\n",
            "233/233 [==============================] - 16s 67ms/step - loss: 0.0020 - val_loss: 0.0052\n",
            "Epoch 70/100\n",
            "233/233 [==============================] - 12s 52ms/step - loss: 0.0020 - val_loss: 0.0052\n",
            "Epoch 71/100\n",
            "233/233 [==============================] - 9s 41ms/step - loss: 0.0020 - val_loss: 0.0052\n",
            "Epoch 72/100\n",
            "233/233 [==============================] - 14s 59ms/step - loss: 0.0020 - val_loss: 0.0052\n",
            "Epoch 73/100\n",
            "233/233 [==============================] - 11s 46ms/step - loss: 0.0020 - val_loss: 0.0052\n",
            "Epoch 74/100\n",
            "233/233 [==============================] - 10s 45ms/step - loss: 0.0020 - val_loss: 0.0051\n",
            "Epoch 75/100\n",
            "233/233 [==============================] - 11s 45ms/step - loss: 0.0019 - val_loss: 0.0051\n",
            "Epoch 76/100\n",
            "233/233 [==============================] - 10s 41ms/step - loss: 0.0019 - val_loss: 0.0052\n",
            "Epoch 77/100\n",
            "233/233 [==============================] - 10s 41ms/step - loss: 0.0019 - val_loss: 0.0051\n",
            "Epoch 78/100\n",
            "233/233 [==============================] - 12s 50ms/step - loss: 0.0019 - val_loss: 0.0050\n",
            "Epoch 79/100\n",
            "233/233 [==============================] - 11s 45ms/step - loss: 0.0019 - val_loss: 0.0051\n",
            "Epoch 80/100\n",
            "233/233 [==============================] - 9s 41ms/step - loss: 0.0019 - val_loss: 0.0050\n",
            "Epoch 81/100\n",
            "233/233 [==============================] - 9s 40ms/step - loss: 0.0019 - val_loss: 0.0051\n",
            "Epoch 82/100\n",
            "233/233 [==============================] - 15s 64ms/step - loss: 0.0019 - val_loss: 0.0051\n",
            "Epoch 83/100\n",
            "233/233 [==============================] - 11s 46ms/step - loss: 0.0019 - val_loss: 0.0050\n",
            "Epoch 84/100\n",
            "233/233 [==============================] - 11s 45ms/step - loss: 0.0019 - val_loss: 0.0051\n",
            "Epoch 85/100\n",
            "233/233 [==============================] - 10s 41ms/step - loss: 0.0019 - val_loss: 0.0051\n",
            "Epoch 86/100\n",
            "233/233 [==============================] - 16s 67ms/step - loss: 0.0019 - val_loss: 0.0051\n",
            "Epoch 87/100\n",
            "233/233 [==============================] - 11s 46ms/step - loss: 0.0019 - val_loss: 0.0051\n",
            "Epoch 88/100\n",
            "233/233 [==============================] - 11s 46ms/step - loss: 0.0019 - val_loss: 0.0051\n",
            "Epoch 89/100\n",
            "233/233 [==============================] - 10s 45ms/step - loss: 0.0018 - val_loss: 0.0050\n",
            "Epoch 90/100\n",
            "233/233 [==============================] - 11s 47ms/step - loss: 0.0018 - val_loss: 0.0051\n",
            "Epoch 91/100\n",
            "233/233 [==============================] - 10s 41ms/step - loss: 0.0018 - val_loss: 0.0051\n",
            "Epoch 92/100\n",
            "233/233 [==============================] - 12s 51ms/step - loss: 0.0018 - val_loss: 0.0050\n",
            "Epoch 93/100\n",
            "233/233 [==============================] - 11s 46ms/step - loss: 0.0018 - val_loss: 0.0050\n",
            "Epoch 94/100\n",
            "233/233 [==============================] - 10s 44ms/step - loss: 0.0018 - val_loss: 0.0051\n",
            "Epoch 95/100\n",
            "233/233 [==============================] - 11s 45ms/step - loss: 0.0018 - val_loss: 0.0050\n",
            "Epoch 96/100\n",
            "233/233 [==============================] - 10s 42ms/step - loss: 0.0018 - val_loss: 0.0050\n",
            "Epoch 97/100\n",
            "233/233 [==============================] - 16s 68ms/step - loss: 0.0018 - val_loss: 0.0051\n",
            "Epoch 98/100\n",
            "233/233 [==============================] - 15s 62ms/step - loss: 0.0018 - val_loss: 0.0050\n",
            "Epoch 99/100\n",
            "233/233 [==============================] - 11s 46ms/step - loss: 0.0018 - val_loss: 0.0050\n",
            "Epoch 100/100\n",
            "233/233 [==============================] - 10s 42ms/step - loss: 0.0018 - val_loss: 0.0050\n"
          ]
        }
      ],
      "source": [
        "train_hist=cnn.fit_model(X_train, y_train, X_valid, y_valid, STORE_PATH, epochs=100)"
      ]
    },
    {
      "cell_type": "markdown",
      "id": "68b61cd4",
      "metadata": {
        "id": "68b61cd4"
      },
      "source": [
        "Gráfico de evolución de los errores de entrenamiento y validación durante el proceso de entrenamiento:"
      ]
    },
    {
      "cell_type": "code",
      "execution_count": 15,
      "id": "b87dc4b5",
      "metadata": {
        "id": "b87dc4b5",
        "outputId": "8e4eda6d-2efe-4a5b-fb95-263dae42ad01",
        "colab": {
          "base_uri": "https://localhost:8080/",
          "height": 472
        }
      },
      "outputs": [
        {
          "output_type": "display_data",
          "data": {
            "text/plain": [
              "<Figure size 640x480 with 1 Axes>"
            ],
            "image/png": "[encoded data removed]"
          },
          "metadata": {}
        }
      ],
      "source": [
        "cnn.plot_loss(train_hist)"
      ]
    },
    {
      "cell_type": "markdown",
      "source": [
        "### Proceso de generación"
      ],
      "metadata": {
        "id": "d95t8bcc_PfZ"
      },
      "id": "d95t8bcc_PfZ"
    },
    {
      "cell_type": "markdown",
      "id": "cbf3ccd1",
      "metadata": {
        "id": "cbf3ccd1"
      },
      "source": [
        "Se procede a generar nuevas piezas en base al modelo entrenado:"
      ]
    },
    {
      "cell_type": "code",
      "execution_count": 24,
      "id": "2ea6969e",
      "metadata": {
        "id": "2ea6969e",
        "outputId": "40aeecd2-6b5f-40b5-cb1d-cfc588218cbc",
        "colab": {
          "base_uri": "https://localhost:8080/"
        }
      },
      "outputs": [
        {
          "output_type": "stream",
          "name": "stdout",
          "text": [
            "Song: cs4-6gig\n"
          ]
        }
      ],
      "source": [
        "# seed para la generación\n",
        "song_name=np.random.choice(list(encoder.encoded_files.keys()))\n",
        "print(f'Song: {song_name}')\n",
        "s=encoder.encoded_files[song_name]\n",
        "pianoroll = s['MAIN_TRACK']\n",
        "start_ts = np.random.randint(pianoroll.shape[0]-SEQ_LEN)\n",
        "s_in=pianoroll[start_ts:start_ts+SEQ_LEN,:]"
      ]
    },
    {
      "cell_type": "code",
      "execution_count": 21,
      "id": "ba53453b",
      "metadata": {
        "id": "ba53453b",
        "outputId": "798c50ac-6fb1-4637-c5fc-385865b66533",
        "colab": {
          "base_uri": "https://localhost:8080/"
        }
      },
      "outputs": [
        {
          "output_type": "execute_result",
          "data": {
            "text/plain": [
              "(32, 128)"
            ]
          },
          "metadata": {},
          "execution_count": 21
        }
      ],
      "source": [
        "s_in.shape"
      ]
    },
    {
      "cell_type": "code",
      "execution_count": 22,
      "id": "4fc0bc4d",
      "metadata": {
        "id": "4fc0bc4d"
      },
      "outputs": [],
      "source": [
        "# SampleGenerator object\n",
        "sampler = CNNSampleGenerator(cnn, encoder)"
      ]
    },
    {
      "cell_type": "code",
      "execution_count": 25,
      "id": "bcc9a03e",
      "metadata": {
        "id": "bcc9a03e",
        "outputId": "de9056af-ad3d-44e4-b3ef-a116c7013bce",
        "colab": {
          "base_uri": "https://localhost:8080/",
          "height": 851
        }
      },
      "outputs": [
        {
          "output_type": "stream",
          "name": "stdout",
          "text": [
            "Generated sample from ts=32 to ts=64.\n",
            "Generated sample from ts=64 to ts=96.\n",
            "Generated sample from ts=96 to ts=128.\n",
            "Generated sample from ts=128 to ts=160.\n",
            "Generated sample from ts=160 to ts=192.\n",
            "Generated sample from ts=192 to ts=224.\n",
            "Generated sample from ts=224 to ts=256.\n",
            "Generated sample from ts=256 to ts=288.\n",
            "Generated sample from ts=288 to ts=320.\n",
            "Generated sample from ts=320 to ts=352.\n",
            "Generated sample from ts=352 to ts=384.\n",
            "Generated sample from ts=384 to ts=416.\n",
            "Generated sample from ts=416 to ts=448.\n",
            "Generated sample from ts=448 to ts=480.\n",
            "Generated sample from ts=480 to ts=512.\n",
            "Generated sample from ts=512 to ts=544.\n",
            "Generated sample from ts=544 to ts=576.\n",
            "Generated sample from ts=576 to ts=608.\n",
            "Generated sample from ts=608 to ts=640.\n",
            "Generated sample from ts=640 to ts=672.\n",
            "Generated sample n.2\n",
            "Saved with name cello-cnn_autoencoder_n_2.mid.\n"
          ]
        },
        {
          "output_type": "display_data",
          "data": {
            "text/plain": [
              "<Figure size 640x480 with 1 Axes>"
            ],
            "image/png": "[encoded data removed]"
          },
          "metadata": {}
        }
      ],
      "source": [
        "# Generamos una nueva pieza y se guarda en formato MIDI\n",
        "sampler.generate(s_in, sample_length=20, threshold=0.4)\n",
        "sampler.gen2midi()"
      ]
    },
    {
      "cell_type": "markdown",
      "id": "b0c83e63",
      "metadata": {
        "id": "b0c83e63"
      },
      "source": [
        "#### Heatmap de probabilidades [TODO]:"
      ]
    },
    {
      "cell_type": "code",
      "execution_count": null,
      "id": "7e7c525e",
      "metadata": {
        "id": "7e7c525e"
      },
      "outputs": [],
      "source": []
    },
    {
      "cell_type": "code",
      "execution_count": null,
      "id": "a0070b3f",
      "metadata": {
        "id": "a0070b3f"
      },
      "outputs": [],
      "source": []
    },
    {
      "cell_type": "code",
      "execution_count": null,
      "id": "1863cc35",
      "metadata": {
        "id": "1863cc35"
      },
      "outputs": [],
      "source": []
    },
    {
      "cell_type": "markdown",
      "id": "752bf819",
      "metadata": {
        "id": "752bf819"
      },
      "source": [
        "### Autoencoder debugging paso a paso"
      ]
    },
    {
      "cell_type": "code",
      "execution_count": null,
      "id": "dc3939d7",
      "metadata": {
        "id": "dc3939d7"
      },
      "outputs": [],
      "source": [
        "def collapsed_rmse(y_true, y_pred):\n",
        "    return K.mean(K.square(y_true - y_pred), axis=[1,2])"
      ]
    },
    {
      "cell_type": "code",
      "execution_count": null,
      "id": "0e49de30",
      "metadata": {
        "id": "0e49de30"
      },
      "outputs": [],
      "source": [
        "MODEL_PATH = os.path.join(BASE_PATH, 'weights/base_conv/cello_model.h5')"
      ]
    },
    {
      "cell_type": "code",
      "execution_count": null,
      "id": "3de624a3",
      "metadata": {
        "id": "3de624a3"
      },
      "outputs": [],
      "source": [
        "cello_autoencoder = keras.models.load_model(MODEL_PATH, custom_objects={'collapsed_rmse':collapsed_rmse})"
      ]
    },
    {
      "cell_type": "code",
      "execution_count": null,
      "id": "6f0336e8",
      "metadata": {
        "id": "6f0336e8"
      },
      "outputs": [],
      "source": [
        "cello_autoencoder = cnn.autoencoder"
      ]
    },
    {
      "cell_type": "code",
      "execution_count": null,
      "id": "0d6a2dfd",
      "metadata": {
        "id": "0d6a2dfd",
        "outputId": "e1bada84-67b8-4006-9766-d49624ce2cd6"
      },
      "outputs": [
        {
          "name": "stdout",
          "output_type": "stream",
          "text": [
            "Model: \"cnn_autoencoder\"\n",
            "_________________________________________________________________\n",
            " Layer (type)                Output Shape              Param #   \n",
            "=================================================================\n",
            " enc_input (InputLayer)      [(None, 32, 128, 1)]      0         \n",
            "                                                                 \n",
            " conv2d_40 (Conv2D)          (None, 32, 128, 32)       320       \n",
            "                                                                 \n",
            " leaky_re_lu_5 (LeakyReLU)   (None, 32, 128, 32)       0         \n",
            "                                                                 \n",
            " conv2d_41 (Conv2D)          (None, 16, 64, 64)        18496     \n",
            "                                                                 \n",
            " leaky_re_lu_6 (LeakyReLU)   (None, 16, 64, 64)        0         \n",
            "                                                                 \n",
            " conv2d_42 (Conv2D)          (None, 16, 64, 128)       73856     \n",
            "                                                                 \n",
            " leaky_re_lu_7 (LeakyReLU)   (None, 16, 64, 128)       0         \n",
            "                                                                 \n",
            " flatten_13 (Flatten)        (None, 131072)            0         \n",
            "                                                                 \n",
            " dense_26 (Dense)            (None, 64)                8388672   \n",
            "                                                                 \n",
            " cnn_decoder (Functional)    (None, 32, 128, 1)        8612225   \n",
            "                                                                 \n",
            "=================================================================\n",
            "Total params: 17,093,569\n",
            "Trainable params: 17,093,569\n",
            "Non-trainable params: 0\n",
            "_________________________________________________________________\n"
          ]
        }
      ],
      "source": [
        "cello_autoencoder.summary()"
      ]
    },
    {
      "cell_type": "code",
      "execution_count": null,
      "id": "8fc2b6ee",
      "metadata": {
        "id": "8fc2b6ee"
      },
      "outputs": [],
      "source": [
        "from keras.models import Model"
      ]
    },
    {
      "cell_type": "code",
      "execution_count": null,
      "id": "0a407e87",
      "metadata": {
        "id": "0a407e87"
      },
      "outputs": [],
      "source": [
        "cello_encoder= Model(inputs=cello_autoencoder.input, outputs=cello_autoencoder.get_layer('dense_26').output)"
      ]
    },
    {
      "cell_type": "code",
      "execution_count": null,
      "id": "02cb32a4",
      "metadata": {
        "id": "02cb32a4",
        "outputId": "39d9fcc7-f47b-407b-fe58-b55358e3e72d"
      },
      "outputs": [
        {
          "name": "stdout",
          "output_type": "stream",
          "text": [
            "Model: \"model_13\"\n",
            "_________________________________________________________________\n",
            " Layer (type)                Output Shape              Param #   \n",
            "=================================================================\n",
            " enc_input (InputLayer)      [(None, 32, 128, 1)]      0         \n",
            "                                                                 \n",
            " conv2d_40 (Conv2D)          (None, 32, 128, 32)       320       \n",
            "                                                                 \n",
            " leaky_re_lu_5 (LeakyReLU)   (None, 32, 128, 32)       0         \n",
            "                                                                 \n",
            " conv2d_41 (Conv2D)          (None, 16, 64, 64)        18496     \n",
            "                                                                 \n",
            " leaky_re_lu_6 (LeakyReLU)   (None, 16, 64, 64)        0         \n",
            "                                                                 \n",
            " conv2d_42 (Conv2D)          (None, 16, 64, 128)       73856     \n",
            "                                                                 \n",
            " leaky_re_lu_7 (LeakyReLU)   (None, 16, 64, 128)       0         \n",
            "                                                                 \n",
            " flatten_13 (Flatten)        (None, 131072)            0         \n",
            "                                                                 \n",
            " dense_26 (Dense)            (None, 64)                8388672   \n",
            "                                                                 \n",
            "=================================================================\n",
            "Total params: 8,481,344\n",
            "Trainable params: 8,481,344\n",
            "Non-trainable params: 0\n",
            "_________________________________________________________________\n"
          ]
        }
      ],
      "source": [
        "cello_encoder.summary()"
      ]
    },
    {
      "cell_type": "code",
      "execution_count": null,
      "id": "92c0eb56",
      "metadata": {
        "id": "92c0eb56"
      },
      "outputs": [],
      "source": [
        "cello_decoder = cello_autoencoder.get_layer('cnn_decoder')"
      ]
    },
    {
      "cell_type": "code",
      "execution_count": null,
      "id": "78bc0a2a",
      "metadata": {
        "id": "78bc0a2a",
        "outputId": "156cd4f5-aed4-4c7f-f130-b683666b3d81"
      },
      "outputs": [
        {
          "data": {
            "text/plain": [
              "array([1., 1., 1., 1., 1., 1., 1., 1., 1., 1., 1., 1., 1., 1., 1., 1., 1.,\n",
              "       1., 1., 1., 1., 1., 1., 1., 1., 1., 1., 1., 1., 1.])"
            ]
          },
          "execution_count": 482,
          "metadata": {},
          "output_type": "execute_result"
        }
      ],
      "source": [
        "p_in[p_in>0]"
      ]
    },
    {
      "cell_type": "code",
      "execution_count": null,
      "id": "d6a8a218",
      "metadata": {
        "id": "d6a8a218"
      },
      "outputs": [],
      "source": [
        "p_in = np.reshape(s_in, (1,32, 128))"
      ]
    },
    {
      "cell_type": "code",
      "execution_count": null,
      "id": "6ca0796a",
      "metadata": {
        "id": "6ca0796a",
        "outputId": "e44b0222-24c7-4c96-b696-3d485d1d6d26"
      },
      "outputs": [
        {
          "name": "stdout",
          "output_type": "stream",
          "text": [
            "1/1 [==============================] - 0s 64ms/step\n"
          ]
        }
      ],
      "source": [
        "encoder_out = cello_encoder.predict(p_in)"
      ]
    },
    {
      "cell_type": "code",
      "execution_count": null,
      "id": "44c8a249",
      "metadata": {
        "id": "44c8a249",
        "outputId": "e7b120d3-15a0-4cde-a7e4-083c89fa61c7"
      },
      "outputs": [
        {
          "data": {
            "text/plain": [
              "array([[ 28.045034 ,  26.726141 , -26.81782  ,  18.787397 , -28.856007 ,\n",
              "        -10.302297 , -15.524402 ,  24.291624 ,  28.67144  ,  22.864805 ,\n",
              "        -27.589104 , -23.547625 ,  28.277987 , -27.21346  ,  27.650772 ,\n",
              "         16.101278 , -25.489244 , -28.83682  , -25.15083  ,  22.271095 ,\n",
              "        -27.921665 , -24.325354 , -18.51132  ,  20.050303 ,  -2.9813104,\n",
              "         27.043327 , -28.940636 ,  22.556269 ,  26.668158 , -25.761135 ,\n",
              "        -30.706991 ,  27.622488 , -19.980145 , -26.762564 ,  21.16973  ,\n",
              "         29.621979 ,  28.052168 ,  19.964235 , -28.430208 , -26.110807 ,\n",
              "         29.493996 ,  16.126373 , -28.752935 , -26.929123 ,  21.632662 ,\n",
              "         24.10541  ,  28.917948 ,  27.764034 , -17.553223 ,  25.473272 ,\n",
              "         27.945309 ,  27.890415 ,  26.022217 ,  26.745584 ,  29.053875 ,\n",
              "        -26.94474  ,  17.374283 , -26.99535  , -22.600546 , -23.477789 ,\n",
              "        -26.748484 ,  27.541327 ,  26.21627  ,  28.386456 ]],\n",
              "      dtype=float32)"
            ]
          },
          "execution_count": 485,
          "metadata": {},
          "output_type": "execute_result"
        }
      ],
      "source": [
        "encoder_out"
      ]
    },
    {
      "cell_type": "code",
      "execution_count": null,
      "id": "0f8a3be9",
      "metadata": {
        "id": "0f8a3be9",
        "outputId": "3f932dc3-f73c-455b-cfef-9756af211366"
      },
      "outputs": [
        {
          "data": {
            "text/plain": [
              "[<keras.engine.input_layer.InputLayer at 0x13f199420>,\n",
              " <keras.layers.core.dense.Dense at 0x13f199000>,\n",
              " <keras.layers.reshaping.reshape.Reshape at 0x13f19bd90>,\n",
              " <keras.layers.convolutional.conv2d_transpose.Conv2DTranspose at 0x13ddeaec0>,\n",
              " <keras.layers.activation.leaky_relu.LeakyReLU at 0x13f124d30>,\n",
              " <keras.layers.convolutional.conv2d_transpose.Conv2DTranspose at 0x13ddeb400>,\n",
              " <keras.layers.activation.leaky_relu.LeakyReLU at 0x13f1983d0>,\n",
              " <keras.layers.convolutional.conv2d_transpose.Conv2DTranspose at 0x13f125ed0>,\n",
              " <keras.layers.core.activation.Activation at 0x13f127e50>]"
            ]
          },
          "execution_count": 486,
          "metadata": {},
          "output_type": "execute_result"
        }
      ],
      "source": [
        "cello_decoder.layers"
      ]
    },
    {
      "cell_type": "code",
      "execution_count": null,
      "id": "0200d22f",
      "metadata": {
        "id": "0200d22f",
        "outputId": "54b3de6b-7918-4676-9872-95befa446171"
      },
      "outputs": [
        {
          "data": {
            "text/plain": [
              "array([[ 28.045034 ,  26.726141 , -26.81782  ,  18.787397 , -28.856007 ,\n",
              "        -10.302297 , -15.524402 ,  24.291624 ,  28.67144  ,  22.864805 ,\n",
              "        -27.589104 , -23.547625 ,  28.277987 , -27.21346  ,  27.650772 ,\n",
              "         16.101278 , -25.489244 , -28.83682  , -25.15083  ,  22.271095 ,\n",
              "        -27.921665 , -24.325354 , -18.51132  ,  20.050303 ,  -2.9813104,\n",
              "         27.043327 , -28.940636 ,  22.556269 ,  26.668158 , -25.761135 ,\n",
              "        -30.706991 ,  27.622488 , -19.980145 , -26.762564 ,  21.16973  ,\n",
              "         29.621979 ,  28.052168 ,  19.964235 , -28.430208 , -26.110807 ,\n",
              "         29.493996 ,  16.126373 , -28.752935 , -26.929123 ,  21.632662 ,\n",
              "         24.10541  ,  28.917948 ,  27.764034 , -17.553223 ,  25.473272 ,\n",
              "         27.945309 ,  27.890415 ,  26.022217 ,  26.745584 ,  29.053875 ,\n",
              "        -26.94474  ,  17.374283 , -26.99535  , -22.600546 , -23.477789 ,\n",
              "        -26.748484 ,  27.541327 ,  26.21627  ,  28.386456 ]],\n",
              "      dtype=float32)"
            ]
          },
          "execution_count": 487,
          "metadata": {},
          "output_type": "execute_result"
        }
      ],
      "source": [
        "encoder_out"
      ]
    },
    {
      "cell_type": "code",
      "execution_count": null,
      "id": "e0a3b5cd",
      "metadata": {
        "id": "e0a3b5cd",
        "outputId": "a0a11b50-2f6c-4b07-c64c-3045a856db39"
      },
      "outputs": [
        {
          "name": "stdout",
          "output_type": "stream",
          "text": [
            "dec_input\n",
            "tf.Tensor(\n",
            "[[ 28.045034   26.726141  -26.81782    18.787397  -28.856007  -10.302297\n",
            "  -15.524402   24.291624   28.67144    22.864805  -27.589104  -23.547625\n",
            "   28.277987  -27.21346    27.650772   16.101278  -25.489244  -28.83682\n",
            "  -25.15083    22.271095  -27.921665  -24.325354  -18.51132    20.050303\n",
            "   -2.9813104  27.043327  -28.940636   22.556269   26.668158  -25.761135\n",
            "  -30.706991   27.622488  -19.980145  -26.762564   21.16973    29.621979\n",
            "   28.052168   19.964235  -28.430208  -26.110807   29.493996   16.126373\n",
            "  -28.752935  -26.929123   21.632662   24.10541    28.917948   27.764034\n",
            "  -17.553223   25.473272   27.945309   27.890415   26.022217   26.745584\n",
            "   29.053875  -26.94474    17.374283  -26.99535   -22.600546  -23.477789\n",
            "  -26.748484   27.541327   26.21627    28.386456 ]], shape=(1, 64), dtype=float32)\n"
          ]
        }
      ],
      "source": [
        "l0 = cello_decoder.layers[0](encoder_out)\n",
        "print(cello_decoder.layers[0].name)\n",
        "print(l0)"
      ]
    },
    {
      "cell_type": "code",
      "execution_count": null,
      "id": "fb0242f0",
      "metadata": {
        "id": "fb0242f0",
        "outputId": "9d80ba98-e0da-48aa-9888-ce0313704d8c"
      },
      "outputs": [
        {
          "name": "stdout",
          "output_type": "stream",
          "text": [
            "dense_27\n",
            "tf.Tensor([[ 2.5158765  5.781309  -7.4028263 ... -3.045957  -4.6127253 -5.711607 ]], shape=(1, 131072), dtype=float32)\n"
          ]
        }
      ],
      "source": [
        "l1 = cello_decoder.layers[1](l0)\n",
        "print(cello_decoder.layers[1].name)\n",
        "print(l1)"
      ]
    },
    {
      "cell_type": "code",
      "execution_count": null,
      "id": "5f4363a3",
      "metadata": {
        "id": "5f4363a3",
        "outputId": "b3951136-b6d5-48c3-a26b-268558364766"
      },
      "outputs": [
        {
          "name": "stdout",
          "output_type": "stream",
          "text": [
            "reshape_13\n",
            "tf.Tensor(\n",
            "[[[[ 2.5158765   5.781309   -7.4028263  ...  8.155597   -0.825825\n",
            "    -4.904072  ]\n",
            "   [-4.7483544   8.489149   -8.539413   ...  9.050387   -4.4479575\n",
            "    -6.33209   ]\n",
            "   [-2.8163357   8.767466   -6.6192927  ...  6.987852   -2.907537\n",
            "    -4.7845173 ]\n",
            "   ...\n",
            "   [-1.0261403   6.9061737  -6.9845314  ...  8.42689    -2.1211352\n",
            "    -6.3299947 ]\n",
            "   [-4.0985804   8.035296   -5.208414   ...  7.5468516  -5.4410963\n",
            "    -3.9179165 ]\n",
            "   [-1.9921591   7.272552   -3.356821   ...  8.457171   -5.3817143\n",
            "    -6.0697665 ]]\n",
            "\n",
            "  [[-5.016197    6.004167   -4.518661   ...  5.3317084  -7.984757\n",
            "     7.3652344 ]\n",
            "   [-6.735937    9.684912   -6.987439   ...  2.152275   -5.9784174\n",
            "    -4.278957  ]\n",
            "   [-7.408337    7.84474    -6.910563   ...  5.2382617  -7.774349\n",
            "    -7.191754  ]\n",
            "   ...\n",
            "   [-5.646018    9.603076   -7.8226647  ...  3.7661278  -6.9259796\n",
            "    -6.892314  ]\n",
            "   [-7.0791125   7.6951156  -6.2338786  ...  2.6975055  -7.9461107\n",
            "    -4.161305  ]\n",
            "   [-7.9294434   7.4481893  -6.2980156  ... -1.6597676  -7.3052254\n",
            "    -6.5889516 ]]\n",
            "\n",
            "  [[-3.7823334   4.5805793  -7.13111    ...  7.190575   -5.6224957\n",
            "     4.8152094 ]\n",
            "   [-6.2029786   7.666973   -7.1760015  ...  6.153436   -5.7021112\n",
            "    -5.0063224 ]\n",
            "   [-5.605887    6.8970046  -7.2861147  ...  4.0363984  -5.633311\n",
            "    -4.8515954 ]\n",
            "   ...\n",
            "   [-4.5357976   7.5099998  -6.3184133  ...  6.60312    -6.382165\n",
            "    -6.098022  ]\n",
            "   [-6.101305    6.1923165  -7.8008275  ...  5.029752   -5.3596954\n",
            "    -4.2629128 ]\n",
            "   [-5.248869    6.3511987  -5.77886    ...  2.4906728  -8.255337\n",
            "    -6.0042305 ]]\n",
            "\n",
            "  ...\n",
            "\n",
            "  [[-5.1370554   6.3163586  -6.683143   ...  6.84856    -7.3960414\n",
            "     3.7614307 ]\n",
            "   [-6.6486874   8.500119   -8.391864   ...  6.880482   -6.020435\n",
            "    -6.820426  ]\n",
            "   [-6.881851    8.895166   -7.823155   ...  5.9435515  -4.390248\n",
            "    -6.534095  ]\n",
            "   ...\n",
            "   [-5.96019     7.830984   -8.218461   ...  5.0491505  -6.122008\n",
            "    -5.97057   ]\n",
            "   [-4.949594    7.7237363  -6.7357726  ...  4.5800667  -5.542727\n",
            "    -7.2537017 ]\n",
            "   [-5.2448883   7.0330167  -5.2483053  ...  3.1325507  -6.8219295\n",
            "    -5.8672466 ]]\n",
            "\n",
            "  [[-6.8481936   8.132433   -7.173591   ...  6.6865644  -6.2309937\n",
            "    -0.9412824 ]\n",
            "   [-4.697436    6.8336887  -6.4478154  ...  5.679046   -6.3213964\n",
            "    -6.4924784 ]\n",
            "   [-6.139372    5.708829   -7.087582   ...  4.8404713  -6.701463\n",
            "    -7.312266  ]\n",
            "   ...\n",
            "   [-5.177017    7.785828   -6.877201   ...  4.9265165  -6.0167117\n",
            "    -3.6256306 ]\n",
            "   [-6.795949    5.088955   -7.5072675  ...  6.1869845  -7.154206\n",
            "    -4.8575277 ]\n",
            "   [-6.692861    5.0697055  -4.3230853  ...  2.0788302  -7.2169766\n",
            "    -5.3044443 ]]\n",
            "\n",
            "  [[-2.8815968   4.8667183  -0.9657339  ...  4.7700343  -6.0353403\n",
            "     5.6856666 ]\n",
            "   [-6.089659    8.719464   -4.406837   ...  0.42418697 -7.6590853\n",
            "    -3.6786406 ]\n",
            "   [-5.998493    5.8094864  -3.471754   ...  0.7259419  -7.490977\n",
            "    -1.1930559 ]\n",
            "   ...\n",
            "   [-4.8805475   5.656426   -3.4365704  ...  1.7457292  -6.2072444\n",
            "    -2.9610753 ]\n",
            "   [-6.949901    4.7019973  -5.472911   ...  0.28465554 -4.146914\n",
            "     1.90388   ]\n",
            "   [-6.575706    7.0440364  -0.35937306 ... -3.045957   -4.6127253\n",
            "    -5.711607  ]]]], shape=(1, 16, 64, 128), dtype=float32)\n"
          ]
        }
      ],
      "source": [
        "l2=cello_decoder.layers[2](l1)\n",
        "print(cello_decoder.layers[2].name)\n",
        "print(l2)"
      ]
    },
    {
      "cell_type": "code",
      "execution_count": null,
      "id": "f486351e",
      "metadata": {
        "id": "f486351e",
        "outputId": "93b27e4c-90f2-4464-a275-3cf50f57aa68"
      },
      "outputs": [
        {
          "name": "stdout",
          "output_type": "stream",
          "text": [
            "conv2d_transpose_39\n",
            "tf.Tensor(\n",
            "[[[[ 38.943836  31.544588 -23.42413  ...  41.673775  26.375431\n",
            "     28.139154]\n",
            "   [ 40.363525  41.24036  -36.61161  ...  59.280643  41.4044\n",
            "     38.447025]\n",
            "   [ 40.530434  43.58769  -41.84736  ...  60.352806  40.500076\n",
            "     40.32756 ]\n",
            "   ...\n",
            "   [ 38.577465  43.74812  -38.502068 ...  59.312943  38.890156\n",
            "     41.174335]\n",
            "   [ 39.291965  39.427055 -37.015945 ...  58.82185   41.215183\n",
            "     40.0902  ]\n",
            "   [ 18.980986  17.029116 -24.500322 ...  37.901608  26.977667\n",
            "     25.945618]]\n",
            "\n",
            "  [[ 56.079002  50.820644 -37.57349  ...  57.192818  52.76405\n",
            "     41.9062  ]\n",
            "   [ 67.99002   68.29351  -58.213306 ...  93.01562   68.562096\n",
            "     55.985573]\n",
            "   [ 69.63033   67.40735  -58.77234  ...  92.78815   70.16603\n",
            "     60.20433 ]\n",
            "   ...\n",
            "   [ 67.932884  63.396427 -57.437862 ...  88.563446  64.828316\n",
            "     59.35804 ]\n",
            "   [ 66.55896   62.14233  -57.10024  ...  83.66141   65.08439\n",
            "     55.7349  ]\n",
            "   [ 37.619312  30.301323 -36.799232 ...  54.844067  41.084652\n",
            "     33.97891 ]]\n",
            "\n",
            "  [[ 55.24921   49.79858  -38.578762 ...  61.4173    51.18598\n",
            "     41.014286]\n",
            "   [ 66.226     72.176636 -57.665363 ...  90.52102   68.89554\n",
            "     58.56875 ]\n",
            "   [ 68.50659   69.01375  -60.214535 ...  92.74153   67.32164\n",
            "     59.8409  ]\n",
            "   ...\n",
            "   [ 64.13435   66.765045 -59.418156 ...  90.23259   64.286316\n",
            "     59.44911 ]\n",
            "   [ 62.65685   61.684605 -57.25964  ...  85.018295  63.129124\n",
            "     57.474537]\n",
            "   [ 34.88019   30.687798 -38.673656 ...  52.47589   40.865486\n",
            "     35.40952 ]]\n",
            "\n",
            "  ...\n",
            "\n",
            "  [[ 54.305065  50.227455 -37.62228  ...  58.594646  49.64115\n",
            "     39.400925]\n",
            "   [ 68.047585  70.376305 -58.89771  ...  90.44902   65.11313\n",
            "     58.00879 ]\n",
            "   [ 66.11376   66.22833  -59.490376 ...  92.554184  65.81123\n",
            "     59.3355  ]\n",
            "   ...\n",
            "   [ 67.05615   65.96172  -58.52614  ...  90.30749   65.37586\n",
            "     58.594574]\n",
            "   [ 63.5758    58.177616 -54.11308  ...  86.170204  62.348087\n",
            "     55.339268]\n",
            "   [ 36.06948   29.518835 -36.797703 ...  55.39251   40.16078\n",
            "     35.46543 ]]\n",
            "\n",
            "  [[ 55.562004  48.706444 -35.472874 ...  54.1906    50.918236\n",
            "     42.38352 ]\n",
            "   [ 69.71977   67.64215  -53.30753  ...  90.39729   63.38239\n",
            "     60.161457]\n",
            "   [ 66.96225   64.90756  -54.54198  ...  89.8942    65.022644\n",
            "     57.55371 ]\n",
            "   ...\n",
            "   [ 68.741104  65.601425 -54.19935  ...  88.61351   64.50468\n",
            "     59.66139 ]\n",
            "   [ 66.60099   60.65256  -51.56916  ...  85.079926  61.651566\n",
            "     56.108444]\n",
            "   [ 36.57663   30.022589 -33.928127 ...  54.31991   40.433743\n",
            "     31.720945]]\n",
            "\n",
            "  [[ 30.302496  28.492085 -22.793213 ...  30.007656  39.75192\n",
            "     26.536139]\n",
            "   [ 40.1915    42.25154  -34.645893 ...  54.091316  46.208485\n",
            "     30.531992]\n",
            "   [ 41.929165  43.675655 -36.85713  ...  53.549446  49.15821\n",
            "     30.648577]\n",
            "   ...\n",
            "   [ 40.42531   43.004833 -34.99229  ...  50.547478  47.113716\n",
            "     29.74488 ]\n",
            "   [ 38.423306  39.734516 -34.83715  ...  47.577965  46.693375\n",
            "     27.317396]\n",
            "   [ 24.141314  19.702492 -23.351458 ...  27.833393  29.215157\n",
            "     13.906992]]]], shape=(1, 16, 64, 64), dtype=float32)\n"
          ]
        }
      ],
      "source": [
        "l3=cello_decoder.layers[3](l2)\n",
        "print(cello_decoder.layers[3].name)\n",
        "print(l3)"
      ]
    },
    {
      "cell_type": "code",
      "execution_count": null,
      "id": "2fe79923",
      "metadata": {
        "id": "2fe79923",
        "outputId": "20a61c49-9328-42ca-b1f5-674ffd28f6f7"
      },
      "outputs": [
        {
          "name": "stdout",
          "output_type": "stream",
          "text": [
            "leaky_re_lu_8\n",
            "tf.Tensor(\n",
            "[[[[ 38.943836   31.544588   -7.0272393 ...  41.673775   26.375431\n",
            "     28.139154 ]\n",
            "   [ 40.363525   41.24036   -10.983483  ...  59.280643   41.4044\n",
            "     38.447025 ]\n",
            "   [ 40.530434   43.58769   -12.554208  ...  60.352806   40.500076\n",
            "     40.32756  ]\n",
            "   ...\n",
            "   [ 38.577465   43.74812   -11.550621  ...  59.312943   38.890156\n",
            "     41.174335 ]\n",
            "   [ 39.291965   39.427055  -11.104784  ...  58.82185    41.215183\n",
            "     40.0902   ]\n",
            "   [ 18.980986   17.029116   -7.350097  ...  37.901608   26.977667\n",
            "     25.945618 ]]\n",
            "\n",
            "  [[ 56.079002   50.820644  -11.272047  ...  57.192818   52.76405\n",
            "     41.9062   ]\n",
            "   [ 67.99002    68.29351   -17.463993  ...  93.01562    68.562096\n",
            "     55.985573 ]\n",
            "   [ 69.63033    67.40735   -17.631702  ...  92.78815    70.16603\n",
            "     60.20433  ]\n",
            "   ...\n",
            "   [ 67.932884   63.396427  -17.23136   ...  88.563446   64.828316\n",
            "     59.35804  ]\n",
            "   [ 66.55896    62.14233   -17.130072  ...  83.66141    65.08439\n",
            "     55.7349   ]\n",
            "   [ 37.619312   30.301323  -11.03977   ...  54.844067   41.084652\n",
            "     33.97891  ]]\n",
            "\n",
            "  [[ 55.24921    49.79858   -11.573629  ...  61.4173     51.18598\n",
            "     41.014286 ]\n",
            "   [ 66.226      72.176636  -17.29961   ...  90.52102    68.89554\n",
            "     58.56875  ]\n",
            "   [ 68.50659    69.01375   -18.064362  ...  92.74153    67.32164\n",
            "     59.8409   ]\n",
            "   ...\n",
            "   [ 64.13435    66.765045  -17.825447  ...  90.23259    64.286316\n",
            "     59.44911  ]\n",
            "   [ 62.65685    61.684605  -17.177893  ...  85.018295   63.129124\n",
            "     57.474537 ]\n",
            "   [ 34.88019    30.687798  -11.6020975 ...  52.47589    40.865486\n",
            "     35.40952  ]]\n",
            "\n",
            "  ...\n",
            "\n",
            "  [[ 54.305065   50.227455  -11.286684  ...  58.594646   49.64115\n",
            "     39.400925 ]\n",
            "   [ 68.047585   70.376305  -17.669313  ...  90.44902    65.11313\n",
            "     58.00879  ]\n",
            "   [ 66.11376    66.22833   -17.847113  ...  92.554184   65.81123\n",
            "     59.3355   ]\n",
            "   ...\n",
            "   [ 67.05615    65.96172   -17.557842  ...  90.30749    65.37586\n",
            "     58.594574 ]\n",
            "   [ 63.5758     58.177616  -16.233925  ...  86.170204   62.348087\n",
            "     55.339268 ]\n",
            "   [ 36.06948    29.518835  -11.039311  ...  55.39251    40.16078\n",
            "     35.46543  ]]\n",
            "\n",
            "  [[ 55.562004   48.706444  -10.641863  ...  54.1906     50.918236\n",
            "     42.38352  ]\n",
            "   [ 69.71977    67.64215   -15.992259  ...  90.39729    63.38239\n",
            "     60.161457 ]\n",
            "   [ 66.96225    64.90756   -16.362595  ...  89.8942     65.022644\n",
            "     57.55371  ]\n",
            "   ...\n",
            "   [ 68.741104   65.601425  -16.259806  ...  88.61351    64.50468\n",
            "     59.66139  ]\n",
            "   [ 66.60099    60.65256   -15.470749  ...  85.079926   61.651566\n",
            "     56.108444 ]\n",
            "   [ 36.57663    30.022589  -10.178438  ...  54.31991    40.433743\n",
            "     31.720945 ]]\n",
            "\n",
            "  [[ 30.302496   28.492085   -6.837964  ...  30.007656   39.75192\n",
            "     26.536139 ]\n",
            "   [ 40.1915     42.25154   -10.393768  ...  54.091316   46.208485\n",
            "     30.531992 ]\n",
            "   [ 41.929165   43.675655  -11.057138  ...  53.549446   49.15821\n",
            "     30.648577 ]\n",
            "   ...\n",
            "   [ 40.42531    43.004833  -10.497687  ...  50.547478   47.113716\n",
            "     29.74488  ]\n",
            "   [ 38.423306   39.734516  -10.451145  ...  47.577965   46.693375\n",
            "     27.317396 ]\n",
            "   [ 24.141314   19.702492   -7.0054374 ...  27.833393   29.215157\n",
            "     13.906992 ]]]], shape=(1, 16, 64, 64), dtype=float32)\n"
          ]
        }
      ],
      "source": [
        "l4=cello_decoder.layers[4](l3)\n",
        "print(cello_decoder.layers[4].name)\n",
        "print(l4)"
      ]
    },
    {
      "cell_type": "code",
      "execution_count": null,
      "id": "685c25ae",
      "metadata": {
        "id": "685c25ae",
        "outputId": "b7ae21b9-1956-4a6f-bfcb-25522de65699"
      },
      "outputs": [
        {
          "name": "stdout",
          "output_type": "stream",
          "text": [
            "conv2d_transpose_40\n",
            "tf.Tensor(\n",
            "[[[[-1.08074160e+01 -1.60636578e+01  1.49333429e+01 ...  1.70158653e+01\n",
            "     9.64703336e-02 -2.01597939e+01]\n",
            "   [ 7.52222538e+00 -2.39560394e+01  1.29888411e+01 ...  1.44642735e+00\n",
            "     1.57291574e+01 -1.76931572e+01]\n",
            "   [-4.50862198e+01 -1.34427443e+01  1.73000259e+01 ...  3.53914642e+01\n",
            "    -3.30382180e+00 -3.98747177e+01]\n",
            "   ...\n",
            "   [ 8.89426041e+00 -3.22973938e+01  1.50312786e+01 ...  2.45517278e+00\n",
            "     1.95271358e+01 -2.40693550e+01]\n",
            "   [-4.75348701e+01 -3.76750159e+00  4.85138130e+00 ...  2.95178909e+01\n",
            "    -8.31688595e+00 -3.26575432e+01]\n",
            "   [ 5.09803915e+00 -2.05606155e+01  8.55414963e+00 ...  2.89922881e+00\n",
            "     1.21979370e+01 -1.53671551e+01]]\n",
            "\n",
            "  [[-1.33041630e+01 -2.14869881e+01  1.19876451e+01 ...  1.44099789e+01\n",
            "    -4.51809692e+00 -1.17803478e+01]\n",
            "   [-9.84392166e+00 -1.58181391e+01  2.23991470e+01 ...  3.04121571e+01\n",
            "     3.25526929e+00 -6.51295757e+00]\n",
            "   [-3.23533287e+01 -3.01452656e+01  3.84372787e+01 ...  5.04064941e+01\n",
            "     2.75419176e-01 -3.79577904e+01]\n",
            "   ...\n",
            "   [-1.56622200e+01 -2.27659912e+01  2.99974823e+01 ...  4.26404266e+01\n",
            "     5.79092121e+00 -9.50070095e+00]\n",
            "   [-2.86032066e+01 -1.92118244e+01  3.96422691e+01 ...  5.09502831e+01\n",
            "     5.86994267e+00 -3.66168671e+01]\n",
            "   [-8.72737885e+00 -1.38130417e+01  1.94803104e+01 ...  2.70036030e+01\n",
            "     3.68292141e+00 -6.42711926e+00]]\n",
            "\n",
            "  [[-2.84202023e+01 -3.03843365e+01  4.90837517e+01 ...  5.25999565e+01\n",
            "     8.83526134e+00 -4.28349113e+01]\n",
            "   [ 8.21459866e+00 -4.81233521e+01  3.86732674e+01 ...  3.67501602e+01\n",
            "     4.18785896e+01 -3.30416374e+01]\n",
            "   [-1.03969315e+02 -4.14198418e+01  8.53391418e+01 ...  1.00415001e+02\n",
            "     1.42606525e+01 -9.44318695e+01]\n",
            "   ...\n",
            "   [ 8.57779026e+00 -6.33532295e+01  4.91717987e+01 ...  4.98663712e+01\n",
            "     5.62916374e+01 -4.26361847e+01]\n",
            "   [-1.14282990e+02 -2.48689098e+01  5.51974869e+01 ...  8.33436050e+01\n",
            "     5.70167065e+00 -7.50768585e+01]\n",
            "   [ 5.98197269e+00 -3.92888184e+01  2.78970432e+01 ...  3.16401005e+01\n",
            "     3.57031059e+01 -2.46583729e+01]]\n",
            "\n",
            "  ...\n",
            "\n",
            "  [[-1.96292858e+01 -2.68694611e+01  1.39989872e+01 ...  2.07016277e+01\n",
            "    -8.39361286e+00 -1.89295120e+01]\n",
            "   [-1.65547581e+01 -2.25211926e+01  3.23548355e+01 ...  4.34339867e+01\n",
            "     2.95919180e+00 -1.06205540e+01]\n",
            "   [-4.54216957e+01 -4.51313896e+01  4.86736641e+01 ...  7.09850388e+01\n",
            "    -1.75774670e+00 -5.39677162e+01]\n",
            "   ...\n",
            "   [-2.21811161e+01 -3.24806633e+01  4.13994942e+01 ...  6.02361450e+01\n",
            "     6.08830166e+00 -1.53780222e+01]\n",
            "   [-4.03733635e+01 -2.82104378e+01  5.31156044e+01 ...  7.01182709e+01\n",
            "     8.34455872e+00 -5.25867424e+01]\n",
            "   [-1.35907745e+01 -2.03799572e+01  2.58101196e+01 ...  3.79814529e+01\n",
            "     3.99706912e+00 -9.48544216e+00]]\n",
            "\n",
            "  [[-2.35148182e+01 -2.44604664e+01  5.17280388e+01 ...  5.53461037e+01\n",
            "     1.43287201e+01 -3.36893272e+01]\n",
            "   [-1.93392292e-01 -3.42107620e+01  4.01310272e+01 ...  4.72954865e+01\n",
            "     3.84607391e+01 -2.28484077e+01]\n",
            "   [-9.38712921e+01 -3.79848022e+01  9.89728470e+01 ...  1.03769455e+02\n",
            "     2.75115585e+01 -7.97211609e+01]\n",
            "   ...\n",
            "   [-1.60900784e+00 -4.94253349e+01  4.87930336e+01 ...  6.64792557e+01\n",
            "     5.50430489e+01 -2.80297871e+01]\n",
            "   [-1.02905243e+02 -3.08902302e+01  7.03853455e+01 ...  8.24574738e+01\n",
            "     2.19663582e+01 -6.58172455e+01]\n",
            "   [ 1.01415014e+00 -3.09061451e+01  2.85259094e+01 ...  4.25697937e+01\n",
            "     3.51040878e+01 -1.50809278e+01]]\n",
            "\n",
            "  [[-1.25918608e+01 -1.65281086e+01  8.73749924e+00 ...  1.07594385e+01\n",
            "    -7.64875746e+00 -1.07744532e+01]\n",
            "   [-1.02462997e+01 -1.40232630e+01  1.92068214e+01 ...  2.71217918e+01\n",
            "     7.83572376e-01 -7.10422230e+00]\n",
            "   [-2.93322430e+01 -2.76275768e+01  2.94031849e+01 ...  4.27636871e+01\n",
            "    -3.15101337e+00 -3.25104866e+01]\n",
            "   ...\n",
            "   [-1.43552256e+01 -2.04580574e+01  2.46823502e+01 ...  3.60710297e+01\n",
            "     6.91294789e-01 -9.28721237e+00]\n",
            "   [-2.57224789e+01 -1.77235146e+01  2.97591286e+01 ...  4.25803528e+01\n",
            "     3.53476429e+00 -3.16291790e+01]\n",
            "   [-8.98689175e+00 -1.32376318e+01  1.56883192e+01 ...  2.11134338e+01\n",
            "    -5.54359138e-01 -4.37312078e+00]]]], shape=(1, 32, 128, 32), dtype=float32)\n"
          ]
        }
      ],
      "source": [
        "l5=cello_decoder.layers[5](l4)\n",
        "print(cello_decoder.layers[5].name)\n",
        "print(l5)"
      ]
    },
    {
      "cell_type": "code",
      "execution_count": null,
      "id": "1983f982",
      "metadata": {
        "id": "1983f982",
        "outputId": "fa09c15a-00a1-4620-e476-5ba8fb671e22"
      },
      "outputs": [
        {
          "name": "stdout",
          "output_type": "stream",
          "text": [
            "leaky_re_lu_9\n",
            "tf.Tensor(\n",
            "[[[[-3.24222493e+00 -4.81909752e+00  1.49333429e+01 ...  1.70158653e+01\n",
            "     9.64703336e-02 -6.04793835e+00]\n",
            "   [ 7.52222538e+00 -7.18681192e+00  1.29888411e+01 ...  1.44642735e+00\n",
            "     1.57291574e+01 -5.30794716e+00]\n",
            "   [-1.35258665e+01 -4.03282356e+00  1.73000259e+01 ...  3.53914642e+01\n",
            "    -9.91146564e-01 -1.19624157e+01]\n",
            "   ...\n",
            "   [ 8.89426041e+00 -9.68921852e+00  1.50312786e+01 ...  2.45517278e+00\n",
            "     1.95271358e+01 -7.22080660e+00]\n",
            "   [-1.42604618e+01 -1.13025057e+00  4.85138130e+00 ...  2.95178909e+01\n",
            "    -2.49506593e+00 -9.79726315e+00]\n",
            "   [ 5.09803915e+00 -6.16818476e+00  8.55414963e+00 ...  2.89922881e+00\n",
            "     1.21979370e+01 -4.61014652e+00]]\n",
            "\n",
            "  [[-3.99124908e+00 -6.44609690e+00  1.19876451e+01 ...  1.44099789e+01\n",
            "    -1.35542917e+00 -3.53410459e+00]\n",
            "   [-2.95317650e+00 -4.74544191e+00  2.23991470e+01 ...  3.04121571e+01\n",
            "     3.25526929e+00 -1.95388734e+00]\n",
            "   [-9.70599937e+00 -9.04358006e+00  3.84372787e+01 ...  5.04064941e+01\n",
            "     2.75419176e-01 -1.13873377e+01]\n",
            "   ...\n",
            "   [-4.69866610e+00 -6.82979774e+00  2.99974823e+01 ...  4.26404266e+01\n",
            "     5.79092121e+00 -2.85021043e+00]\n",
            "   [-8.58096218e+00 -5.76354742e+00  3.96422691e+01 ...  5.09502831e+01\n",
            "     5.86994267e+00 -1.09850607e+01]\n",
            "   [-2.61821365e+00 -4.14391279e+00  1.94803104e+01 ...  2.70036030e+01\n",
            "     3.68292141e+00 -1.92813587e+00]]\n",
            "\n",
            "  [[-8.52606106e+00 -9.11530113e+00  4.90837517e+01 ...  5.25999565e+01\n",
            "     8.83526134e+00 -1.28504744e+01]\n",
            "   [ 8.21459866e+00 -1.44370060e+01  3.86732674e+01 ...  3.67501602e+01\n",
            "     4.18785896e+01 -9.91249180e+00]\n",
            "   [-3.11907959e+01 -1.24259529e+01  8.53391418e+01 ...  1.00415001e+02\n",
            "     1.42606525e+01 -2.83295612e+01]\n",
            "   ...\n",
            "   [ 8.57779026e+00 -1.90059700e+01  4.91717987e+01 ...  4.98663712e+01\n",
            "     5.62916374e+01 -1.27908564e+01]\n",
            "   [-3.42848969e+01 -7.46067333e+00  5.51974869e+01 ...  8.33436050e+01\n",
            "     5.70167065e+00 -2.25230579e+01]\n",
            "   [ 5.98197269e+00 -1.17866459e+01  2.78970432e+01 ...  3.16401005e+01\n",
            "     3.57031059e+01 -7.39751196e+00]]\n",
            "\n",
            "  ...\n",
            "\n",
            "  [[-5.88878584e+00 -8.06083870e+00  1.39989872e+01 ...  2.07016277e+01\n",
            "    -2.51808405e+00 -5.67885399e+00]\n",
            "   [-4.96642780e+00 -6.75635815e+00  3.23548355e+01 ...  4.34339867e+01\n",
            "     2.95919180e+00 -3.18616629e+00]\n",
            "   [-1.36265097e+01 -1.35394173e+01  4.86736641e+01 ...  7.09850388e+01\n",
            "    -5.27324021e-01 -1.61903152e+01]\n",
            "   ...\n",
            "   [-6.65433502e+00 -9.74419975e+00  4.13994942e+01 ...  6.02361450e+01\n",
            "     6.08830166e+00 -4.61340666e+00]\n",
            "   [-1.21120100e+01 -8.46313190e+00  5.31156044e+01 ...  7.01182709e+01\n",
            "     8.34455872e+00 -1.57760229e+01]\n",
            "   [-4.07723236e+00 -6.11398745e+00  2.58101196e+01 ...  3.79814529e+01\n",
            "     3.99706912e+00 -2.84563279e+00]]\n",
            "\n",
            "  [[-7.05444574e+00 -7.33814001e+00  5.17280388e+01 ...  5.53461037e+01\n",
            "     1.43287201e+01 -1.01067982e+01]\n",
            "   [-5.80176897e-02 -1.02632294e+01  4.01310272e+01 ...  4.72954865e+01\n",
            "     3.84607391e+01 -6.85452271e+00]\n",
            "   [-2.81613884e+01 -1.13954411e+01  9.89728470e+01 ...  1.03769455e+02\n",
            "     2.75115585e+01 -2.39163494e+01]\n",
            "   ...\n",
            "   [-4.82702374e-01 -1.48276014e+01  4.87930336e+01 ...  6.64792557e+01\n",
            "     5.50430489e+01 -8.40893650e+00]\n",
            "   [-3.08715744e+01 -9.26706982e+00  7.03853455e+01 ...  8.24574738e+01\n",
            "     2.19663582e+01 -1.97451744e+01]\n",
            "   [ 1.01415014e+00 -9.27184391e+00  2.85259094e+01 ...  4.25697937e+01\n",
            "     3.51040878e+01 -4.52427864e+00]]\n",
            "\n",
            "  [[-3.77755833e+00 -4.95843267e+00  8.73749924e+00 ...  1.07594385e+01\n",
            "    -2.29462743e+00 -3.23233604e+00]\n",
            "   [-3.07388997e+00 -4.20697927e+00  1.92068214e+01 ...  2.71217918e+01\n",
            "     7.83572376e-01 -2.13126683e+00]\n",
            "   [-8.79967308e+00 -8.28827381e+00  2.94031849e+01 ...  4.27636871e+01\n",
            "    -9.45304036e-01 -9.75314617e+00]\n",
            "   ...\n",
            "   [-4.30656767e+00 -6.13741732e+00  2.46823502e+01 ...  3.60710297e+01\n",
            "     6.91294789e-01 -2.78616381e+00]\n",
            "   [-7.71674395e+00 -5.31705475e+00  2.97591286e+01 ...  4.25803528e+01\n",
            "     3.53476429e+00 -9.48875427e+00]\n",
            "   [-2.69606757e+00 -3.97128963e+00  1.56883192e+01 ...  2.11134338e+01\n",
            "    -1.66307747e-01 -1.31193626e+00]]]], shape=(1, 32, 128, 32), dtype=float32)\n"
          ]
        }
      ],
      "source": [
        "l6=cello_decoder.layers[6](l5)\n",
        "print(cello_decoder.layers[6].name)\n",
        "print(l6)"
      ]
    },
    {
      "cell_type": "code",
      "execution_count": null,
      "id": "8c9dee76",
      "metadata": {
        "id": "8c9dee76",
        "outputId": "97194837-c56b-467e-8433-001d24247b2b"
      },
      "outputs": [
        {
          "data": {
            "text/plain": [
              "[<tf.Variable 'conv2d_transpose_41/kernel:0' shape=(3, 3, 1, 32) dtype=float32, numpy=\n",
              " array([[[[-0.07370659,  0.00962245, -0.13201514, -0.05736502,\n",
              "           -0.06718591, -0.01043948, -0.06129002,  0.11781043,\n",
              "            0.03930991,  0.07716038,  0.06305761,  0.10952831,\n",
              "           -0.06825352, -0.04324741,  0.04894667,  0.02477586,\n",
              "           -0.07953695, -0.0431023 , -0.09159931,  0.00287426,\n",
              "            0.10032887, -0.14060234, -0.04876757, -0.0860716 ,\n",
              "           -0.11748661, -0.14512353,  0.03807541,  0.04474178,\n",
              "            0.09385206, -0.04389098,  0.11324543,  0.05198344]],\n",
              " \n",
              "         [[ 0.12099554, -0.00055463, -0.04264565, -0.00064711,\n",
              "            0.03448325, -0.02097735, -0.03461795, -0.08557708,\n",
              "            0.05006867,  0.11812288,  0.12868465, -0.10595585,\n",
              "           -0.1076342 , -0.01790748, -0.00734784, -0.01703246,\n",
              "           -0.12204074, -0.05012959,  0.09598829, -0.10601254,\n",
              "            0.10311479,  0.07532651, -0.14858478,  0.02693971,\n",
              "            0.12781048, -0.08799265, -0.048439  ,  0.09720985,\n",
              "            0.078526  , -0.14864737,  0.0968958 , -0.12632719]],\n",
              " \n",
              "         [[ 0.08132476,  0.08446661, -0.03105551, -0.14449637,\n",
              "           -0.0614305 , -0.05696046,  0.13197467,  0.07948257,\n",
              "           -0.05504493,  0.06002216,  0.02649417, -0.06602692,\n",
              "           -0.0473989 ,  0.1375714 , -0.04763756,  0.1332116 ,\n",
              "           -0.03459401, -0.05509197,  0.08928858, -0.06217249,\n",
              "            0.03604155,  0.00450016,  0.03643646, -0.10219489,\n",
              "           -0.07421156, -0.07839696,  0.01217694, -0.15008263,\n",
              "           -0.0904309 , -0.0115422 ,  0.01698255,  0.02194389]]],\n",
              " \n",
              " \n",
              "        [[[-0.07783413,  0.10875154,  0.01284471, -0.03119977,\n",
              "           -0.01883212, -0.13777818, -0.05866303, -0.07125647,\n",
              "           -0.10002618,  0.06423973, -0.1357971 ,  0.06921068,\n",
              "            0.01227872,  0.12808628,  0.11409681, -0.04529697,\n",
              "           -0.11984883, -0.12426852,  0.07873802, -0.00587639,\n",
              "           -0.0802615 , -0.03422141,  0.02369718, -0.11572865,\n",
              "            0.06798445,  0.09335994, -0.061178  , -0.01840126,\n",
              "           -0.12945805,  0.00553832, -0.03613105,  0.05070884]],\n",
              " \n",
              "         [[-0.10209328, -0.0122684 , -0.07212878,  0.03203529,\n",
              "           -0.02114385,  0.08081304, -0.13801378, -0.08215557,\n",
              "           -0.09717339, -0.05681992, -0.11829296, -0.13506328,\n",
              "            0.10131939, -0.07604018, -0.09794015, -0.06186768,\n",
              "           -0.14083393, -0.04645765, -0.12519486, -0.10100554,\n",
              "           -0.12377775, -0.09687794, -0.05347581,  0.0833802 ,\n",
              "            0.02789127,  0.10375775, -0.12706311, -0.11260103,\n",
              "           -0.10050373,  0.09509281, -0.0259266 , -0.06479045]],\n",
              " \n",
              "         [[ 0.04429061,  0.0343108 ,  0.11008772, -0.13561046,\n",
              "           -0.06870987, -0.13541794, -0.01903103,  0.09932621,\n",
              "           -0.14700145, -0.07852571, -0.06387698, -0.04650934,\n",
              "            0.12195044, -0.0167941 , -0.10760657,  0.04862659,\n",
              "           -0.13144504,  0.03165457, -0.10723162,  0.1118778 ,\n",
              "            0.11139037, -0.12162453,  0.07215902,  0.07420016,\n",
              "            0.13343279, -0.02437812,  0.02759642, -0.02414271,\n",
              "           -0.11825892, -0.14223301,  0.0286702 ,  0.11480961]]],\n",
              " \n",
              " \n",
              "        [[[ 0.13959154,  0.07611919, -0.04663499,  0.01836577,\n",
              "            0.07548001,  0.08456773,  0.09598609,  0.14137012,\n",
              "           -0.00924951, -0.05945835, -0.02749829, -0.08431456,\n",
              "           -0.03070815,  0.0213926 ,  0.05954329, -0.14142242,\n",
              "           -0.00733298,  0.06108752, -0.0998293 , -0.05739392,\n",
              "            0.0816059 ,  0.09020128,  0.08066207,  0.04440776,\n",
              "           -0.06178373, -0.11945938, -0.04911056,  0.05862655,\n",
              "           -0.0070364 , -0.11670171, -0.05801627,  0.04015596]],\n",
              " \n",
              "         [[-0.03642894, -0.01130547, -0.14547251, -0.14524357,\n",
              "           -0.11537934, -0.11208332, -0.06127181, -0.07679519,\n",
              "            0.02589616,  0.12080664, -0.02500513, -0.06678577,\n",
              "           -0.03019111,  0.01219209, -0.12339617,  0.0810062 ,\n",
              "            0.05556076, -0.14716323,  0.04776783,  0.09695484,\n",
              "           -0.04979657, -0.1175503 , -0.09491119, -0.14206545,\n",
              "            0.02648958, -0.03433516, -0.08846518, -0.11317303,\n",
              "           -0.0349211 , -0.02580189, -0.07125289,  0.01417431]],\n",
              " \n",
              "         [[ 0.10810471, -0.00416012,  0.00567825, -0.06613249,\n",
              "            0.12498464, -0.08215734, -0.09408944,  0.11309862,\n",
              "            0.01271175, -0.01397109,  0.04711381, -0.0594286 ,\n",
              "            0.12891544, -0.05422739,  0.01305744, -0.02854996,\n",
              "            0.08673938, -0.00054625, -0.0013248 , -0.11414989,\n",
              "            0.12868279,  0.05157962, -0.0241989 ,  0.11540692,\n",
              "            0.10233724, -0.11422328,  0.10426728, -0.11640834,\n",
              "           -0.03968096,  0.07241184, -0.12661731,  0.08965436]]]],\n",
              "       dtype=float32)>,\n",
              " <tf.Variable 'conv2d_transpose_41/bias:0' shape=(1,) dtype=float32, numpy=array([-0.01148814], dtype=float32)>]"
            ]
          },
          "execution_count": 496,
          "metadata": {},
          "output_type": "execute_result"
        }
      ],
      "source": [
        "cello_decoder.layers[7].weights"
      ]
    },
    {
      "cell_type": "code",
      "execution_count": null,
      "id": "a57d50b3",
      "metadata": {
        "id": "a57d50b3",
        "outputId": "70519441-3240-425f-fe99-d5fc19e7e8fb"
      },
      "outputs": [
        {
          "name": "stdout",
          "output_type": "stream",
          "text": [
            "conv2d_transpose_41\n",
            "tf.Tensor(\n",
            "[[[[ -47.441162]\n",
            "   [ -89.68424 ]\n",
            "   [-127.464554]\n",
            "   ...\n",
            "   [-153.36644 ]\n",
            "   [-122.07687 ]\n",
            "   [ -86.84428 ]]\n",
            "\n",
            "  [[ -70.58846 ]\n",
            "   [-158.04286 ]\n",
            "   [-203.12292 ]\n",
            "   ...\n",
            "   [-271.33527 ]\n",
            "   [-205.20848 ]\n",
            "   [-163.27147 ]]\n",
            "\n",
            "  [[-106.57338 ]\n",
            "   [-226.78143 ]\n",
            "   [-298.2114  ]\n",
            "   ...\n",
            "   [-365.78088 ]\n",
            "   [-287.66925 ]\n",
            "   [-207.6816  ]]\n",
            "\n",
            "  ...\n",
            "\n",
            "  [[-137.42726 ]\n",
            "   [-223.55196 ]\n",
            "   [-358.8812  ]\n",
            "   ...\n",
            "   [-376.55692 ]\n",
            "   [-337.74265 ]\n",
            "   [-224.2251  ]]\n",
            "\n",
            "  [[ -92.79373 ]\n",
            "   [-212.7017  ]\n",
            "   [-264.94928 ]\n",
            "   ...\n",
            "   [-330.78314 ]\n",
            "   [-260.59808 ]\n",
            "   [-187.92722 ]]\n",
            "\n",
            "  [[ -89.087585]\n",
            "   [-108.247314]\n",
            "   [-214.08981 ]\n",
            "   ...\n",
            "   [-179.01793 ]\n",
            "   [-192.27032 ]\n",
            "   [-105.255646]]]], shape=(1, 32, 128, 1), dtype=float32)\n"
          ]
        }
      ],
      "source": [
        "l7=cello_decoder.layers[7](l6)\n",
        "print(cello_decoder.layers[7].name)\n",
        "print(l7)"
      ]
    },
    {
      "cell_type": "code",
      "execution_count": null,
      "id": "08457001",
      "metadata": {
        "id": "08457001",
        "outputId": "67eaf037-3ada-44fc-f211-0ab6b8b47000"
      },
      "outputs": [
        {
          "name": "stdout",
          "output_type": "stream",
          "text": [
            "activation_13\n",
            "tf.Tensor(\n",
            "[[[[2.4920979e-21]\n",
            "   [0.0000000e+00]\n",
            "   [0.0000000e+00]\n",
            "   ...\n",
            "   [0.0000000e+00]\n",
            "   [0.0000000e+00]\n",
            "   [1.9231358e-38]]\n",
            "\n",
            "  [[2.2070903e-31]\n",
            "   [0.0000000e+00]\n",
            "   [0.0000000e+00]\n",
            "   ...\n",
            "   [0.0000000e+00]\n",
            "   [0.0000000e+00]\n",
            "   [0.0000000e+00]]\n",
            "\n",
            "  [[0.0000000e+00]\n",
            "   [0.0000000e+00]\n",
            "   [0.0000000e+00]\n",
            "   ...\n",
            "   [0.0000000e+00]\n",
            "   [0.0000000e+00]\n",
            "   [0.0000000e+00]]\n",
            "\n",
            "  ...\n",
            "\n",
            "  [[0.0000000e+00]\n",
            "   [0.0000000e+00]\n",
            "   [0.0000000e+00]\n",
            "   ...\n",
            "   [0.0000000e+00]\n",
            "   [0.0000000e+00]\n",
            "   [0.0000000e+00]]\n",
            "\n",
            "  [[0.0000000e+00]\n",
            "   [0.0000000e+00]\n",
            "   [0.0000000e+00]\n",
            "   ...\n",
            "   [0.0000000e+00]\n",
            "   [0.0000000e+00]\n",
            "   [0.0000000e+00]]\n",
            "\n",
            "  [[0.0000000e+00]\n",
            "   [0.0000000e+00]\n",
            "   [0.0000000e+00]\n",
            "   ...\n",
            "   [0.0000000e+00]\n",
            "   [0.0000000e+00]\n",
            "   [0.0000000e+00]]]], shape=(1, 32, 128, 1), dtype=float32)\n"
          ]
        }
      ],
      "source": [
        "l8=cello_decoder.layers[8](l7)\n",
        "print(cello_decoder.layers[8].name)\n",
        "print(l8)"
      ]
    },
    {
      "cell_type": "code",
      "execution_count": null,
      "id": "bf07d4d0",
      "metadata": {
        "id": "bf07d4d0",
        "outputId": "e9cc11fe-a7d4-4bf9-d3a5-e9b24606caa5"
      },
      "outputs": [
        {
          "ename": "TypeError",
          "evalue": "only integer scalar arrays can be converted to a scalar index",
          "output_type": "error",
          "traceback": [
            "\u001b[0;31m---------------------------------------------------------------------------\u001b[0m",
            "\u001b[0;31mTypeError\u001b[0m                                 Traceback (most recent call last)",
            "Cell \u001b[0;32mIn[513], line 2\u001b[0m\n\u001b[1;32m      1\u001b[0m with_max\u001b[38;5;241m=\u001b[39ml7\u001b[38;5;241m/\u001b[39mnp\u001b[38;5;241m.\u001b[39mmax(l7)\n\u001b[0;32m----> 2\u001b[0m \u001b[43mwith_max\u001b[49m\u001b[43m[\u001b[49m\u001b[43mwith_max\u001b[49m\u001b[38;5;241;43m>\u001b[39;49m\u001b[38;5;241;43m0.5\u001b[39;49m\u001b[43m]\u001b[49m \u001b[38;5;241m=\u001b[39m \u001b[38;5;241m1.\u001b[39m\n",
            "File \u001b[0;32m/usr/local/lib/python3.10/site-packages/tensorflow/python/framework/ops.py:1068\u001b[0m, in \u001b[0;36m_EagerTensorBase.__index__\u001b[0;34m(self)\u001b[0m\n\u001b[1;32m   1067\u001b[0m \u001b[38;5;28;01mdef\u001b[39;00m \u001b[38;5;21m__index__\u001b[39m(\u001b[38;5;28mself\u001b[39m):\n\u001b[0;32m-> 1068\u001b[0m   \u001b[38;5;28;01mreturn\u001b[39;00m \u001b[38;5;28;43mself\u001b[39;49m\u001b[38;5;241;43m.\u001b[39;49m\u001b[43m_numpy\u001b[49m\u001b[43m(\u001b[49m\u001b[43m)\u001b[49m\u001b[38;5;241;43m.\u001b[39;49m\u001b[38;5;21;43m__index__\u001b[39;49m\u001b[43m(\u001b[49m\u001b[43m)\u001b[49m\n",
            "\u001b[0;31mTypeError\u001b[0m: only integer scalar arrays can be converted to a scalar index"
          ]
        }
      ],
      "source": [
        "with_max=l7/np.max(l7)\n",
        "with_max[with_max>0.5] = 1."
      ]
    }
  ],
  "metadata": {
    "kernelspec": {
      "display_name": "Python 3 (ipykernel)",
      "language": "python",
      "name": "python3"
    },
    "language_info": {
      "codemirror_mode": {
        "name": "ipython",
        "version": 3
      },
      "file_extension": ".py",
      "mimetype": "text/x-python",
      "name": "python",
      "nbconvert_exporter": "python",
      "pygments_lexer": "ipython3",
      "version": "3.10.8"
    },
    "colab": {
      "provenance": [],
      "toc_visible": true,
      "gpuType": "T4"
    },
    "accelerator": "GPU",
    "gpuClass": "standard"
  },
  "nbformat": 4,
  "nbformat_minor": 5
}