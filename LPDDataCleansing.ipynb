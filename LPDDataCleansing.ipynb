{
 "cells": [
  {
   "cell_type": "markdown",
   "id": "0ea84deb",
   "metadata": {},
   "source": [
    "# Limpieza y matcheo de LPD con géneros"
   ]
  },
  {
   "cell_type": "code",
   "execution_count": 72,
   "id": "59598e36",
   "metadata": {},
   "outputs": [],
   "source": [
    "import pandas as pd\n",
    "import random\n",
    "import pypianoroll as pr\n",
    "import shutil\n",
    "import os"
   ]
  },
  {
   "cell_type": "code",
   "execution_count": 8,
   "id": "f44d5fa7",
   "metadata": {},
   "outputs": [
    {
     "name": "stderr",
     "output_type": "stream",
     "text": [
      "/var/folders/xk/0xthy5z1397ghd1zypfzpf8c0000gn/T/ipykernel_58595/1797969999.py:1: ParserWarning: Falling back to the 'python' engine because the 'c' engine does not support regex separators (separators > 1 char and different from '\\s+' are interpreted as regex); you can avoid this warning by specifying engine='python'.\n",
      "  cleansed_ids = pd.read_csv('../lpd_5/cleansed_ids.txt', delimiter = '    ', header = None, names=['lpd_id','msd_id'])\n"
     ]
    }
   ],
   "source": [
    "cleansed_ids = pd.read_csv('../lpd_5/cleansed_ids.txt', delimiter = '    ', header = None, names=['lpd_id','msd_id'])"
   ]
  },
  {
   "cell_type": "code",
   "execution_count": 11,
   "id": "f5f16abb",
   "metadata": {},
   "outputs": [
    {
     "data": {
      "text/plain": [
       "lpd_id    object\n",
       "msd_id    object\n",
       "dtype: object"
      ]
     },
     "execution_count": 11,
     "metadata": {},
     "output_type": "execute_result"
    }
   ],
   "source": [
    "cleansed_ids.dtypes"
   ]
  },
  {
   "cell_type": "code",
   "execution_count": 6,
   "id": "be97f283",
   "metadata": {},
   "outputs": [],
   "source": [
    "msd_tagtraum = pd.read_csv('../lpd_5/msd_tagtraum_cd1.cls', delimiter='\\t', comment='#', names=['msd_id', 'genre1', 'genre2'])"
   ]
  },
  {
   "cell_type": "code",
   "execution_count": 12,
   "id": "6fa495cc",
   "metadata": {},
   "outputs": [
    {
     "data": {
      "text/plain": [
       "msd_id    object\n",
       "genre1    object\n",
       "genre2    object\n",
       "dtype: object"
      ]
     },
     "execution_count": 12,
     "metadata": {},
     "output_type": "execute_result"
    }
   ],
   "source": [
    "msd_tagtraum.dtypes"
   ]
  },
  {
   "cell_type": "code",
   "execution_count": 16,
   "id": "9df309e6",
   "metadata": {},
   "outputs": [],
   "source": [
    "lpd_with_genres = cleansed_ids.merge(msd_tagtraum, on='msd_id', how='inner')"
   ]
  },
  {
   "cell_type": "code",
   "execution_count": 25,
   "id": "0dd105c8",
   "metadata": {},
   "outputs": [],
   "source": [
    "lpd_poprock = lpd_with_genres[lpd_with_genres['genre1'].str.contains('(?i)pop')]"
   ]
  },
  {
   "cell_type": "code",
   "execution_count": 40,
   "id": "cb0716a5",
   "metadata": {},
   "outputs": [
    {
     "name": "stderr",
     "output_type": "stream",
     "text": [
      "/var/folders/xk/0xthy5z1397ghd1zypfzpf8c0000gn/T/ipykernel_58595/1324340013.py:7: SettingWithCopyWarning: \n",
      "A value is trying to be set on a copy of a slice from a DataFrame.\n",
      "Try using .loc[row_indexer,col_indexer] = value instead\n",
      "\n",
      "See the caveats in the documentation: https://pandas.pydata.org/pandas-docs/stable/user_guide/indexing.html#returning-a-view-versus-a-copy\n",
      "  lpd_poprock['npz_path'] = lpd_poprock.apply(get_path, axis=1)\n"
     ]
    }
   ],
   "source": [
    "def get_path(row):\n",
    "    msd_id = row['msd_id']\n",
    "    lpd_id = row['lpd_id']\n",
    "    \n",
    "    return f'{msd_id[2]}/{msd_id[3]}/{msd_id[4]}/{msd_id}/{lpd_id}.npz'\n",
    "\n",
    "lpd_poprock['npz_path'] = lpd_poprock.apply(get_path, axis=1)"
   ]
  },
  {
   "cell_type": "code",
   "execution_count": 71,
   "id": "93b20b05",
   "metadata": {},
   "outputs": [
    {
     "data": {
      "text/html": [
       "<div>\n",
       "<style scoped>\n",
       "    .dataframe tbody tr th:only-of-type {\n",
       "        vertical-align: middle;\n",
       "    }\n",
       "\n",
       "    .dataframe tbody tr th {\n",
       "        vertical-align: top;\n",
       "    }\n",
       "\n",
       "    .dataframe thead th {\n",
       "        text-align: right;\n",
       "    }\n",
       "</style>\n",
       "<table border=\"1\" class=\"dataframe\">\n",
       "  <thead>\n",
       "    <tr style=\"text-align: right;\">\n",
       "      <th></th>\n",
       "      <th>lpd_id</th>\n",
       "      <th>msd_id</th>\n",
       "      <th>genre1</th>\n",
       "      <th>genre2</th>\n",
       "      <th>npz_path</th>\n",
       "    </tr>\n",
       "  </thead>\n",
       "  <tbody>\n",
       "    <tr>\n",
       "      <th>0</th>\n",
       "      <td>2ac8563e4883aed6d75900a1b979ac31</td>\n",
       "      <td>TRKIZWL128EF342C5A</td>\n",
       "      <td>Pop_Rock</td>\n",
       "      <td>NaN</td>\n",
       "      <td>K/I/Z/TRKIZWL128EF342C5A/2ac8563e4883aed6d7590...</td>\n",
       "    </tr>\n",
       "    <tr>\n",
       "      <th>1</th>\n",
       "      <td>42e9658d405f3f8a2c0476fe1a7f28d0</td>\n",
       "      <td>TRMJSWT12903CA8AE1</td>\n",
       "      <td>Pop_Rock</td>\n",
       "      <td>NaN</td>\n",
       "      <td>M/J/S/TRMJSWT12903CA8AE1/42e9658d405f3f8a2c047...</td>\n",
       "    </tr>\n",
       "    <tr>\n",
       "      <th>2</th>\n",
       "      <td>904017ae5e1ceb7ab2c17022c8db49d9</td>\n",
       "      <td>TRALLSG128F425A685</td>\n",
       "      <td>Pop_Rock</td>\n",
       "      <td>NaN</td>\n",
       "      <td>A/L/L/TRALLSG128F425A685/904017ae5e1ceb7ab2c17...</td>\n",
       "    </tr>\n",
       "    <tr>\n",
       "      <th>3</th>\n",
       "      <td>694b1abd7c5a8cafbeeadc5af4b7cc98</td>\n",
       "      <td>TROUHQM128F92C5777</td>\n",
       "      <td>Pop_Rock</td>\n",
       "      <td>NaN</td>\n",
       "      <td>O/U/H/TROUHQM128F92C5777/694b1abd7c5a8cafbeead...</td>\n",
       "    </tr>\n",
       "    <tr>\n",
       "      <th>4</th>\n",
       "      <td>130ca886d247086a40126a1b245a64e7</td>\n",
       "      <td>TRCTVZG128E078ED8D</td>\n",
       "      <td>Pop_Rock</td>\n",
       "      <td>NaN</td>\n",
       "      <td>C/T/V/TRCTVZG128E078ED8D/130ca886d247086a40126...</td>\n",
       "    </tr>\n",
       "    <tr>\n",
       "      <th>...</th>\n",
       "      <td>...</td>\n",
       "      <td>...</td>\n",
       "      <td>...</td>\n",
       "      <td>...</td>\n",
       "      <td>...</td>\n",
       "    </tr>\n",
       "    <tr>\n",
       "      <th>3007</th>\n",
       "      <td>7246ec038e33530b5d0e2d5a7bfbe111</td>\n",
       "      <td>TRZVDEG128F93010FD</td>\n",
       "      <td>Pop_Rock</td>\n",
       "      <td>RnB</td>\n",
       "      <td>Z/V/D/TRZVDEG128F93010FD/7246ec038e33530b5d0e2...</td>\n",
       "    </tr>\n",
       "    <tr>\n",
       "      <th>3009</th>\n",
       "      <td>3d5d2d2ef007a374ab391670fa6b73bc</td>\n",
       "      <td>TRXWAZC128F9314B3E</td>\n",
       "      <td>Pop_Rock</td>\n",
       "      <td>NaN</td>\n",
       "      <td>X/W/A/TRXWAZC128F9314B3E/3d5d2d2ef007a374ab391...</td>\n",
       "    </tr>\n",
       "    <tr>\n",
       "      <th>3012</th>\n",
       "      <td>03f8b7578810eab2917e045006ad52b1</td>\n",
       "      <td>TRXCVHQ12903CB78F3</td>\n",
       "      <td>Pop_Rock</td>\n",
       "      <td>NaN</td>\n",
       "      <td>X/C/V/TRXCVHQ12903CB78F3/03f8b7578810eab2917e0...</td>\n",
       "    </tr>\n",
       "    <tr>\n",
       "      <th>3013</th>\n",
       "      <td>8f7783be48f8c33cca2a3f18c75f6cdd</td>\n",
       "      <td>TRXXSZA128F9305FBB</td>\n",
       "      <td>Pop_Rock</td>\n",
       "      <td>NaN</td>\n",
       "      <td>X/X/S/TRXXSZA128F9305FBB/8f7783be48f8c33cca2a3...</td>\n",
       "    </tr>\n",
       "    <tr>\n",
       "      <th>3014</th>\n",
       "      <td>8e26e007f4f7ebc19e835394cc900bd1</td>\n",
       "      <td>TRXTOSU128F42791A4</td>\n",
       "      <td>Pop_Rock</td>\n",
       "      <td>NaN</td>\n",
       "      <td>X/T/O/TRXTOSU128F42791A4/8e26e007f4f7ebc19e835...</td>\n",
       "    </tr>\n",
       "  </tbody>\n",
       "</table>\n",
       "<p>2123 rows × 5 columns</p>\n",
       "</div>"
      ],
      "text/plain": [
       "                                lpd_id              msd_id    genre1 genre2  \\\n",
       "0     2ac8563e4883aed6d75900a1b979ac31  TRKIZWL128EF342C5A  Pop_Rock    NaN   \n",
       "1     42e9658d405f3f8a2c0476fe1a7f28d0  TRMJSWT12903CA8AE1  Pop_Rock    NaN   \n",
       "2     904017ae5e1ceb7ab2c17022c8db49d9  TRALLSG128F425A685  Pop_Rock    NaN   \n",
       "3     694b1abd7c5a8cafbeeadc5af4b7cc98  TROUHQM128F92C5777  Pop_Rock    NaN   \n",
       "4     130ca886d247086a40126a1b245a64e7  TRCTVZG128E078ED8D  Pop_Rock    NaN   \n",
       "...                                ...                 ...       ...    ...   \n",
       "3007  7246ec038e33530b5d0e2d5a7bfbe111  TRZVDEG128F93010FD  Pop_Rock    RnB   \n",
       "3009  3d5d2d2ef007a374ab391670fa6b73bc  TRXWAZC128F9314B3E  Pop_Rock    NaN   \n",
       "3012  03f8b7578810eab2917e045006ad52b1  TRXCVHQ12903CB78F3  Pop_Rock    NaN   \n",
       "3013  8f7783be48f8c33cca2a3f18c75f6cdd  TRXXSZA128F9305FBB  Pop_Rock    NaN   \n",
       "3014  8e26e007f4f7ebc19e835394cc900bd1  TRXTOSU128F42791A4  Pop_Rock    NaN   \n",
       "\n",
       "                                               npz_path  \n",
       "0     K/I/Z/TRKIZWL128EF342C5A/2ac8563e4883aed6d7590...  \n",
       "1     M/J/S/TRMJSWT12903CA8AE1/42e9658d405f3f8a2c047...  \n",
       "2     A/L/L/TRALLSG128F425A685/904017ae5e1ceb7ab2c17...  \n",
       "3     O/U/H/TROUHQM128F92C5777/694b1abd7c5a8cafbeead...  \n",
       "4     C/T/V/TRCTVZG128E078ED8D/130ca886d247086a40126...  \n",
       "...                                                 ...  \n",
       "3007  Z/V/D/TRZVDEG128F93010FD/7246ec038e33530b5d0e2...  \n",
       "3009  X/W/A/TRXWAZC128F9314B3E/3d5d2d2ef007a374ab391...  \n",
       "3012  X/C/V/TRXCVHQ12903CB78F3/03f8b7578810eab2917e0...  \n",
       "3013  X/X/S/TRXXSZA128F9305FBB/8f7783be48f8c33cca2a3...  \n",
       "3014  X/T/O/TRXTOSU128F42791A4/8e26e007f4f7ebc19e835...  \n",
       "\n",
       "[2123 rows x 5 columns]"
      ]
     },
     "execution_count": 71,
     "metadata": {},
     "output_type": "execute_result"
    }
   ],
   "source": [
    "lpd_poprock"
   ]
  },
  {
   "cell_type": "code",
   "execution_count": 86,
   "id": "dbe178aa",
   "metadata": {},
   "outputs": [
    {
     "name": "stderr",
     "output_type": "stream",
     "text": [
      "/var/folders/xk/0xthy5z1397ghd1zypfzpf8c0000gn/T/ipykernel_58595/2420984860.py:7: SettingWithCopyWarning: \n",
      "A value is trying to be set on a copy of a slice from a DataFrame.\n",
      "Try using .loc[row_indexer,col_indexer] = value instead\n",
      "\n",
      "See the caveats in the documentation: https://pandas.pydata.org/pandas-docs/stable/user_guide/indexing.html#returning-a-view-versus-a-copy\n",
      "  lpd_poprock['npz_local'] = lpd_poprock.apply(set_path, axis=1)\n"
     ]
    }
   ],
   "source": [
    "def set_path(row):\n",
    "    msd_id = row['msd_id']\n",
    "    lpd_id = row['lpd_id']\n",
    "    \n",
    "    return f'{msd_id[2]}_{msd_id[3]}_{msd_id[4]}_{lpd_id}.npz'\n",
    "\n",
    "lpd_poprock['npz_local'] = lpd_poprock.apply(set_path, axis=1)"
   ]
  },
  {
   "cell_type": "code",
   "execution_count": 90,
   "id": "9c2a8888",
   "metadata": {},
   "outputs": [
    {
     "data": {
      "text/html": [
       "<div>\n",
       "<style scoped>\n",
       "    .dataframe tbody tr th:only-of-type {\n",
       "        vertical-align: middle;\n",
       "    }\n",
       "\n",
       "    .dataframe tbody tr th {\n",
       "        vertical-align: top;\n",
       "    }\n",
       "\n",
       "    .dataframe thead th {\n",
       "        text-align: right;\n",
       "    }\n",
       "</style>\n",
       "<table border=\"1\" class=\"dataframe\">\n",
       "  <thead>\n",
       "    <tr style=\"text-align: right;\">\n",
       "      <th></th>\n",
       "      <th>lpd_id</th>\n",
       "      <th>msd_id</th>\n",
       "      <th>genre1</th>\n",
       "      <th>genre2</th>\n",
       "      <th>npz_path</th>\n",
       "      <th>npz_local</th>\n",
       "    </tr>\n",
       "  </thead>\n",
       "  <tbody>\n",
       "    <tr>\n",
       "      <th>0</th>\n",
       "      <td>2ac8563e4883aed6d75900a1b979ac31</td>\n",
       "      <td>TRKIZWL128EF342C5A</td>\n",
       "      <td>Pop_Rock</td>\n",
       "      <td>NaN</td>\n",
       "      <td>K/I/Z/TRKIZWL128EF342C5A/2ac8563e4883aed6d7590...</td>\n",
       "      <td>K_I_Z_2ac8563e4883aed6d75900a1b979ac31.npz</td>\n",
       "    </tr>\n",
       "    <tr>\n",
       "      <th>1</th>\n",
       "      <td>42e9658d405f3f8a2c0476fe1a7f28d0</td>\n",
       "      <td>TRMJSWT12903CA8AE1</td>\n",
       "      <td>Pop_Rock</td>\n",
       "      <td>NaN</td>\n",
       "      <td>M/J/S/TRMJSWT12903CA8AE1/42e9658d405f3f8a2c047...</td>\n",
       "      <td>M_J_S_42e9658d405f3f8a2c0476fe1a7f28d0.npz</td>\n",
       "    </tr>\n",
       "    <tr>\n",
       "      <th>2</th>\n",
       "      <td>904017ae5e1ceb7ab2c17022c8db49d9</td>\n",
       "      <td>TRALLSG128F425A685</td>\n",
       "      <td>Pop_Rock</td>\n",
       "      <td>NaN</td>\n",
       "      <td>A/L/L/TRALLSG128F425A685/904017ae5e1ceb7ab2c17...</td>\n",
       "      <td>A_L_L_904017ae5e1ceb7ab2c17022c8db49d9.npz</td>\n",
       "    </tr>\n",
       "    <tr>\n",
       "      <th>3</th>\n",
       "      <td>694b1abd7c5a8cafbeeadc5af4b7cc98</td>\n",
       "      <td>TROUHQM128F92C5777</td>\n",
       "      <td>Pop_Rock</td>\n",
       "      <td>NaN</td>\n",
       "      <td>O/U/H/TROUHQM128F92C5777/694b1abd7c5a8cafbeead...</td>\n",
       "      <td>O_U_H_694b1abd7c5a8cafbeeadc5af4b7cc98.npz</td>\n",
       "    </tr>\n",
       "    <tr>\n",
       "      <th>4</th>\n",
       "      <td>130ca886d247086a40126a1b245a64e7</td>\n",
       "      <td>TRCTVZG128E078ED8D</td>\n",
       "      <td>Pop_Rock</td>\n",
       "      <td>NaN</td>\n",
       "      <td>C/T/V/TRCTVZG128E078ED8D/130ca886d247086a40126...</td>\n",
       "      <td>C_T_V_130ca886d247086a40126a1b245a64e7.npz</td>\n",
       "    </tr>\n",
       "    <tr>\n",
       "      <th>...</th>\n",
       "      <td>...</td>\n",
       "      <td>...</td>\n",
       "      <td>...</td>\n",
       "      <td>...</td>\n",
       "      <td>...</td>\n",
       "      <td>...</td>\n",
       "    </tr>\n",
       "    <tr>\n",
       "      <th>3007</th>\n",
       "      <td>7246ec038e33530b5d0e2d5a7bfbe111</td>\n",
       "      <td>TRZVDEG128F93010FD</td>\n",
       "      <td>Pop_Rock</td>\n",
       "      <td>RnB</td>\n",
       "      <td>Z/V/D/TRZVDEG128F93010FD/7246ec038e33530b5d0e2...</td>\n",
       "      <td>Z_V_D_7246ec038e33530b5d0e2d5a7bfbe111.npz</td>\n",
       "    </tr>\n",
       "    <tr>\n",
       "      <th>3009</th>\n",
       "      <td>3d5d2d2ef007a374ab391670fa6b73bc</td>\n",
       "      <td>TRXWAZC128F9314B3E</td>\n",
       "      <td>Pop_Rock</td>\n",
       "      <td>NaN</td>\n",
       "      <td>X/W/A/TRXWAZC128F9314B3E/3d5d2d2ef007a374ab391...</td>\n",
       "      <td>X_W_A_3d5d2d2ef007a374ab391670fa6b73bc.npz</td>\n",
       "    </tr>\n",
       "    <tr>\n",
       "      <th>3012</th>\n",
       "      <td>03f8b7578810eab2917e045006ad52b1</td>\n",
       "      <td>TRXCVHQ12903CB78F3</td>\n",
       "      <td>Pop_Rock</td>\n",
       "      <td>NaN</td>\n",
       "      <td>X/C/V/TRXCVHQ12903CB78F3/03f8b7578810eab2917e0...</td>\n",
       "      <td>X_C_V_03f8b7578810eab2917e045006ad52b1.npz</td>\n",
       "    </tr>\n",
       "    <tr>\n",
       "      <th>3013</th>\n",
       "      <td>8f7783be48f8c33cca2a3f18c75f6cdd</td>\n",
       "      <td>TRXXSZA128F9305FBB</td>\n",
       "      <td>Pop_Rock</td>\n",
       "      <td>NaN</td>\n",
       "      <td>X/X/S/TRXXSZA128F9305FBB/8f7783be48f8c33cca2a3...</td>\n",
       "      <td>X_X_S_8f7783be48f8c33cca2a3f18c75f6cdd.npz</td>\n",
       "    </tr>\n",
       "    <tr>\n",
       "      <th>3014</th>\n",
       "      <td>8e26e007f4f7ebc19e835394cc900bd1</td>\n",
       "      <td>TRXTOSU128F42791A4</td>\n",
       "      <td>Pop_Rock</td>\n",
       "      <td>NaN</td>\n",
       "      <td>X/T/O/TRXTOSU128F42791A4/8e26e007f4f7ebc19e835...</td>\n",
       "      <td>X_T_O_8e26e007f4f7ebc19e835394cc900bd1.npz</td>\n",
       "    </tr>\n",
       "  </tbody>\n",
       "</table>\n",
       "<p>2123 rows × 6 columns</p>\n",
       "</div>"
      ],
      "text/plain": [
       "                                lpd_id              msd_id    genre1 genre2  \\\n",
       "0     2ac8563e4883aed6d75900a1b979ac31  TRKIZWL128EF342C5A  Pop_Rock    NaN   \n",
       "1     42e9658d405f3f8a2c0476fe1a7f28d0  TRMJSWT12903CA8AE1  Pop_Rock    NaN   \n",
       "2     904017ae5e1ceb7ab2c17022c8db49d9  TRALLSG128F425A685  Pop_Rock    NaN   \n",
       "3     694b1abd7c5a8cafbeeadc5af4b7cc98  TROUHQM128F92C5777  Pop_Rock    NaN   \n",
       "4     130ca886d247086a40126a1b245a64e7  TRCTVZG128E078ED8D  Pop_Rock    NaN   \n",
       "...                                ...                 ...       ...    ...   \n",
       "3007  7246ec038e33530b5d0e2d5a7bfbe111  TRZVDEG128F93010FD  Pop_Rock    RnB   \n",
       "3009  3d5d2d2ef007a374ab391670fa6b73bc  TRXWAZC128F9314B3E  Pop_Rock    NaN   \n",
       "3012  03f8b7578810eab2917e045006ad52b1  TRXCVHQ12903CB78F3  Pop_Rock    NaN   \n",
       "3013  8f7783be48f8c33cca2a3f18c75f6cdd  TRXXSZA128F9305FBB  Pop_Rock    NaN   \n",
       "3014  8e26e007f4f7ebc19e835394cc900bd1  TRXTOSU128F42791A4  Pop_Rock    NaN   \n",
       "\n",
       "                                               npz_path  \\\n",
       "0     K/I/Z/TRKIZWL128EF342C5A/2ac8563e4883aed6d7590...   \n",
       "1     M/J/S/TRMJSWT12903CA8AE1/42e9658d405f3f8a2c047...   \n",
       "2     A/L/L/TRALLSG128F425A685/904017ae5e1ceb7ab2c17...   \n",
       "3     O/U/H/TROUHQM128F92C5777/694b1abd7c5a8cafbeead...   \n",
       "4     C/T/V/TRCTVZG128E078ED8D/130ca886d247086a40126...   \n",
       "...                                                 ...   \n",
       "3007  Z/V/D/TRZVDEG128F93010FD/7246ec038e33530b5d0e2...   \n",
       "3009  X/W/A/TRXWAZC128F9314B3E/3d5d2d2ef007a374ab391...   \n",
       "3012  X/C/V/TRXCVHQ12903CB78F3/03f8b7578810eab2917e0...   \n",
       "3013  X/X/S/TRXXSZA128F9305FBB/8f7783be48f8c33cca2a3...   \n",
       "3014  X/T/O/TRXTOSU128F42791A4/8e26e007f4f7ebc19e835...   \n",
       "\n",
       "                                       npz_local  \n",
       "0     K_I_Z_2ac8563e4883aed6d75900a1b979ac31.npz  \n",
       "1     M_J_S_42e9658d405f3f8a2c0476fe1a7f28d0.npz  \n",
       "2     A_L_L_904017ae5e1ceb7ab2c17022c8db49d9.npz  \n",
       "3     O_U_H_694b1abd7c5a8cafbeeadc5af4b7cc98.npz  \n",
       "4     C_T_V_130ca886d247086a40126a1b245a64e7.npz  \n",
       "...                                          ...  \n",
       "3007  Z_V_D_7246ec038e33530b5d0e2d5a7bfbe111.npz  \n",
       "3009  X_W_A_3d5d2d2ef007a374ab391670fa6b73bc.npz  \n",
       "3012  X_C_V_03f8b7578810eab2917e045006ad52b1.npz  \n",
       "3013  X_X_S_8f7783be48f8c33cca2a3f18c75f6cdd.npz  \n",
       "3014  X_T_O_8e26e007f4f7ebc19e835394cc900bd1.npz  \n",
       "\n",
       "[2123 rows x 6 columns]"
      ]
     },
     "execution_count": 90,
     "metadata": {},
     "output_type": "execute_result"
    }
   ],
   "source": [
    "lpd_poprock"
   ]
  },
  {
   "cell_type": "code",
   "execution_count": 89,
   "id": "13d0ee3c",
   "metadata": {},
   "outputs": [],
   "source": [
    "lpd_poprock.to_csv('lpd_poprock.csv')"
   ]
  },
  {
   "cell_type": "code",
   "execution_count": 108,
   "id": "c1e3530c",
   "metadata": {},
   "outputs": [
    {
     "data": {
      "text/plain": [
       "[StandardTrack(name='Drums', program=0, is_drum=True, pianoroll=array(shape=(15192, 128), dtype=uint8)),\n",
       " StandardTrack(name='Piano', program=0, is_drum=False, pianoroll=array(shape=(15192, 128), dtype=uint8)),\n",
       " BinaryTrack(name='Guitar', program=24, is_drum=False, pianoroll=array(shape=(0, 128), dtype=bool)),\n",
       " StandardTrack(name='Bass', program=32, is_drum=False, pianoroll=array(shape=(15192, 128), dtype=uint8)),\n",
       " StandardTrack(name='Strings', program=48, is_drum=False, pianoroll=array(shape=(15192, 128), dtype=uint8))]"
      ]
     },
     "execution_count": 108,
     "metadata": {},
     "output_type": "execute_result"
    }
   ],
   "source": [
    "s = pr.load(f'../lpd_5/lpd_5_cleansed/{lpd_poprock.iloc[0].npz_path}')\n",
    "s.tracks"
   ]
  },
  {
   "cell_type": "code",
   "execution_count": 88,
   "id": "8d94259e",
   "metadata": {},
   "outputs": [],
   "source": [
    "for i,r in lpd_poprock.iterrows():\n",
    "    shutil.copy(f'../lpd_5/lpd_5_cleansed/{r.npz_path}', f'./data/lpd_5/{r.npz_local}')"
   ]
  },
  {
   "cell_type": "code",
   "execution_count": 75,
   "id": "80ad1f47",
   "metadata": {},
   "outputs": [],
   "source": [
    "copied = os.listdir('./data/lpd_5/')"
   ]
  },
  {
   "cell_type": "code",
   "execution_count": 83,
   "id": "c4284ece",
   "metadata": {},
   "outputs": [],
   "source": [
    "copied = [s.split('.')[0] for s in copied]"
   ]
  },
  {
   "cell_type": "code",
   "execution_count": 84,
   "id": "8e3a067c",
   "metadata": {},
   "outputs": [
    {
     "data": {
      "text/plain": [
       "[]"
      ]
     },
     "execution_count": 84,
     "metadata": {},
     "output_type": "execute_result"
    }
   ],
   "source": [
    "[s for s in list(lpd_poprock.lpd_id.values) if s not in copied]"
   ]
  },
  {
   "cell_type": "code",
   "execution_count": 93,
   "id": "34b98f42",
   "metadata": {},
   "outputs": [
    {
     "data": {
      "text/plain": [
       "count                                           2123\n",
       "unique                                          2123\n",
       "top       K_I_Z_2ac8563e4883aed6d75900a1b979ac31.npz\n",
       "freq                                               1\n",
       "Name: npz_local, dtype: object"
      ]
     },
     "execution_count": 93,
     "metadata": {},
     "output_type": "execute_result"
    }
   ],
   "source": [
    "lpd_poprock.npz_local.describe()"
   ]
  },
  {
   "cell_type": "code",
   "execution_count": 101,
   "id": "950d8ae2",
   "metadata": {},
   "outputs": [],
   "source": [
    "lpd_poprock_ids = lpd_poprock.npz_local.values"
   ]
  },
  {
   "cell_type": "code",
   "execution_count": 103,
   "id": "c1f66168",
   "metadata": {},
   "outputs": [
    {
     "data": {
      "text/plain": [
       "array(['K_I_Z_2ac8563e4883aed6d75900a1b979ac31.npz',\n",
       "       'M_J_S_42e9658d405f3f8a2c0476fe1a7f28d0.npz',\n",
       "       'A_L_L_904017ae5e1ceb7ab2c17022c8db49d9.npz', ...,\n",
       "       'X_C_V_03f8b7578810eab2917e045006ad52b1.npz',\n",
       "       'X_X_S_8f7783be48f8c33cca2a3f18c75f6cdd.npz',\n",
       "       'X_T_O_8e26e007f4f7ebc19e835394cc900bd1.npz'], dtype=object)"
      ]
     },
     "execution_count": 103,
     "metadata": {},
     "output_type": "execute_result"
    }
   ],
   "source": []
  },
  {
   "cell_type": "code",
   "execution_count": 106,
   "id": "25b777c9",
   "metadata": {},
   "outputs": [],
   "source": [
    "lpd_subsample = random.sample(lpd_poprock_ids.tolist(), k=1000)"
   ]
  },
  {
   "cell_type": "code",
   "execution_count": 107,
   "id": "67a8f399",
   "metadata": {},
   "outputs": [
    {
     "data": {
      "text/plain": [
       "1000"
      ]
     },
     "execution_count": 107,
     "metadata": {},
     "output_type": "execute_result"
    }
   ],
   "source": [
    "len(list(set(lpd_subsample)))"
   ]
  }
 ],
 "metadata": {
  "kernelspec": {
   "display_name": "Python 3 (ipykernel)",
   "language": "python",
   "name": "python3"
  },
  "language_info": {
   "codemirror_mode": {
    "name": "ipython",
    "version": 3
   },
   "file_extension": ".py",
   "mimetype": "text/x-python",
   "name": "python",
   "nbconvert_exporter": "python",
   "pygments_lexer": "ipython3",
   "version": "3.10.8"
  }
 },
 "nbformat": 4,
 "nbformat_minor": 5
}
