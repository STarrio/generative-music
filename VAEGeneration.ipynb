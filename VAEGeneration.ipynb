{
 "cells": [
  {
   "cell_type": "markdown",
   "id": "6a36985a",
   "metadata": {
    "id": "6a36985a"
   },
   "source": [
    "# Generación de piezas musicales con Variational Autoencoder"
   ]
  },
  {
   "cell_type": "markdown",
   "id": "Bsk1tKLUaSNA",
   "metadata": {
    "id": "Bsk1tKLUaSNA"
   },
   "source": [
    "## Setup"
   ]
  },
  {
   "cell_type": "code",
   "execution_count": 1,
   "id": "906a4588",
   "metadata": {
    "colab": {
     "base_uri": "https://localhost:8080/"
    },
    "collapsed": true,
    "id": "906a4588",
    "outputId": "30922f53-d698-4649-cf94-bd9c80424dec"
   },
   "outputs": [
    {
     "name": "stdout",
     "output_type": "stream",
     "text": [
      "Installing collected packages: mido, pretty-midi, pypianoroll\n",
      "Successfully installed mido-1.2.10 pretty-midi-0.2.10 pypianoroll-1.0.4\n"
     ]
    }
   ],
   "source": [
    "!pip install pypianoroll"
   ]
  },
  {
   "cell_type": "code",
   "execution_count": 1,
   "id": "25ceaad0",
   "metadata": {
    "id": "25ceaad0"
   },
   "outputs": [
    {
     "name": "stderr",
     "output_type": "stream",
     "text": [
      "2023-06-03 11:11:04.149090: I tensorflow/core/platform/cpu_feature_guard.cc:182] This TensorFlow binary is optimized to use available CPU instructions in performance-critical operations.\n",
      "To enable the following instructions: AVX2 FMA, in other operations, rebuild TensorFlow with the appropriate compiler flags.\n"
     ]
    }
   ],
   "source": [
    "import os\n",
    "import numpy as np\n",
    "#from tensorflow.keras.utils import to_categorical\n",
    "from tensorflow.keras.callbacks import ModelCheckpoint, EarlyStopping\n",
    "import tensorflow.keras.backend as K \n",
    "import tensorflow.keras as keras\n",
    "from tensorflow.keras.utils import plot_model\n",
    "#import tensorflow as tf\n",
    "#import gc\n",
    "#import pickle\n",
    "from sklearn.model_selection import train_test_split\n",
    "import pypianoroll as pr\n",
    "import matplotlib.pyplot as plt"
   ]
  },
  {
   "cell_type": "code",
   "execution_count": 34,
   "id": "73544f4c",
   "metadata": {},
   "outputs": [],
   "source": [
    "from tensorflow.python.framework.ops import disable_eager_execution\n",
    "disable_eager_execution()"
   ]
  },
  {
   "cell_type": "code",
   "execution_count": 2,
   "id": "add5860a",
   "metadata": {
    "colab": {
     "base_uri": "https://localhost:8080/"
    },
    "id": "add5860a",
    "outputId": "227c651f-f4e4-4771-c689-4fa8da09c07e"
   },
   "outputs": [],
   "source": [
    "ENV = 'local'\n",
    "if(ENV == 'colab'):\n",
    "    BASE_PATH = '/content/drive/MyDrive/uni/TFG2023/generative-music/'\n",
    "    from google.colab import drive\n",
    "    drive.mount('/content/drive')\n",
    "    \n",
    "elif(ENV == 'local'):\n",
    "    BASE_PATH = './'\n",
    "else:\n",
    "    raise Exception()"
   ]
  },
  {
   "cell_type": "code",
   "execution_count": 118,
   "id": "332f22d6",
   "metadata": {
    "id": "332f22d6"
   },
   "outputs": [],
   "source": [
    "DATASET = 'chopin'\n",
    "DATA_PATH=os.path.join(BASE_PATH, 'data')\n",
    "DATASET_PATH = os.path.join(DATA_PATH, DATASET)\n",
    "\n",
    "STORE_PATH=os.path.join(BASE_PATH,'generated')\n",
    "\n",
    "RANDOM_SEED=616\n",
    "SEQ_LEN=32\n",
    "RESOLUTION=4"
   ]
  },
  {
   "cell_type": "markdown",
   "id": "8b316a7d",
   "metadata": {
    "id": "8b316a7d"
   },
   "source": [
    "### Clases para el preprocesamiento de los datos y la compilación del modelo"
   ]
  },
  {
   "cell_type": "code",
   "execution_count": 5,
   "id": "49866180",
   "metadata": {
    "id": "49866180"
   },
   "outputs": [],
   "source": [
    "# CNNDatasetEncoder\n",
    "class VAEDatasetEncoder:\n",
    "    \n",
    "    def __init__(self, path, seq_len=32, delimiter='/', blend_tracks=False):\n",
    "        self.path = path\n",
    "        self.parsed_files = self.load()\n",
    "        self.seq_len = seq_len\n",
    "        self.delimiter = delimiter\n",
    "        self.blend_tracks = blend_tracks\n",
    "    \n",
    "    def load(self):\n",
    "        \n",
    "        # Get song data from data_path and parse it as a pypianoroll object\n",
    "        songs = {}\n",
    "\n",
    "        for path,subdir,files in os.walk(self.path):\n",
    "            for file in files:\n",
    "                if (file[-3:] == 'mid'):\n",
    "                    try:\n",
    "                        song = pr.read(os.path.join(path,file))\n",
    "                        songs[file[:-4]] = song\n",
    "                    except:\n",
    "                        print(f'Parsing file {file} failed. Skipping.')\n",
    "                        continue\n",
    "        return songs\n",
    "        \n",
    "    def encode(self):\n",
    "        encoded_files = {}\n",
    "        titles, files = list(self.parsed_files.keys()), list(self.parsed_files.values())\n",
    "        \n",
    "        \n",
    "        for i,file in enumerate(files):\n",
    "            print(f'Processing song {titles[i]}')\n",
    "\n",
    "            # Clean short songs\n",
    "            if(file.get_max_length() < self.seq_len):\n",
    "                print(f'Skipping song {titles[i]}')\n",
    "                continue\n",
    "\n",
    "            encoded_file = self.encode_song(file)\n",
    "            encoded_files[titles[i]] = encoded_file\n",
    "        \n",
    "        self.encoded_files = encoded_files\n",
    "    \n",
    "    def encode_song(self, song):\n",
    "        \n",
    "        processed_tracks = {}\n",
    "        \n",
    "        padded = song.set_resolution(RESOLUTION).pad_to_same()\n",
    "        \n",
    "        if(self.blend_tracks):\n",
    "            return { 'MAIN_TRACK':padded.binarize().blend().astype(float) }\n",
    "        \n",
    "        for t in song.tracks:\n",
    "            bt = t.binarize()\n",
    "            processed_tracks[bt.name] = bt.pianoroll.astype(float)\n",
    "        return processed_tracks"
   ]
  },
  {
   "cell_type": "code",
   "execution_count": 42,
   "id": "728a4409",
   "metadata": {
    "id": "728a4409"
   },
   "outputs": [],
   "source": [
    "class VAESequenceGenerator:\n",
    "    def __init__(self, encoder, seq_len=SEQ_LEN):\n",
    "        self.encoded_files = encoder.encoded_files\n",
    "        self.seq_len = seq_len\n",
    "        \n",
    "    def generate_sequences(self, validation_split=0.15):\n",
    "        inputs = []\n",
    "        outputs = []\n",
    "        \n",
    "        for n, s in self.encoded_files.items():\n",
    "            pianoroll = s['MAIN_TRACK']\n",
    "\n",
    "            X_s = [pianoroll[SEQ_LEN*i:SEQ_LEN*i + SEQ_LEN] for i in range(int((pianoroll.shape[0] - SEQ_LEN)/SEQ_LEN))]\n",
    "            y_s = [pianoroll[SEQ_LEN*i + SEQ_LEN:SEQ_LEN*i + SEQ_LEN*2] for i in range(int((pianoroll.shape[0] - SEQ_LEN)/SEQ_LEN))]\n",
    "\n",
    "            inputs = inputs + X_s\n",
    "            outputs = outputs + y_s\n",
    "        \n",
    "        X = np.reshape(inputs, (len(inputs), self.seq_len, 128, 1))\n",
    "        y = np.reshape(outputs, (len(outputs), self.seq_len, 128, 1))\n",
    "        \n",
    "        print(f'Input shape: {X.shape}')\n",
    "        print(f'Output shape: {y.shape}')\n",
    "        \n",
    "        X_train, X_valid, y_train, y_valid = train_test_split(X, y, test_size=validation_split, random_state=RANDOM_SEED)\n",
    "        \n",
    "        return X_train, X_valid, y_train, y_valid\n"
   ]
  },
  {
   "cell_type": "code",
   "execution_count": 55,
   "id": "5a52ea7e",
   "metadata": {
    "id": "5a52ea7e"
   },
   "outputs": [],
   "source": [
    "class VAE:\n",
    "    def __init__(self, enc_num_units, enc_kernels, enc_strides, dec_num_units, dec_kernels, dec_strides, seq_len, lr, r_loss_factor, latent_dim = 64):\n",
    "        \n",
    "        self.name = 'base_conv'\n",
    "        \n",
    "        if(not os.path.exists(os.path.join(BASE_PATH, 'weights',self.name))):\n",
    "            os.mkdir(os.path.join(BASE_PATH, 'weights',self.name))\n",
    "        \n",
    "        self.weights_folder = os.path.join(BASE_PATH, 'weights',self.name)\n",
    "        \n",
    "        input_shape = (seq_len, 128, 1)\n",
    "        self.latent_dim = latent_dim\n",
    "        \n",
    "        # ENCODER\n",
    "        i_e = keras.layers.Input(shape=input_shape, name='enc_input')\n",
    "        \n",
    "        x = keras.layers.Conv2D(filters=enc_num_units[0], kernel_size=enc_kernels[0], strides=enc_strides[0], padding='same', name='conv_1')(i_e)\n",
    "        x = keras.layers.BatchNormalization()(x)\n",
    "        x = keras.layers.LeakyReLU()(x)\n",
    "        \n",
    "        x = keras.layers.Dropout(0.4)(x)\n",
    "        \n",
    "        x = keras.layers.Conv2D(filters=enc_num_units[1], kernel_size=enc_kernels[1], strides=enc_strides[1], padding='same', name='conv_2')(x)\n",
    "        x = keras.layers.BatchNormalization()(x)\n",
    "        x = keras.layers.LeakyReLU()(x)\n",
    "        \n",
    "        x = keras.layers.Dropout(0.4)(x)\n",
    "        \n",
    "        x = keras.layers.Conv2D(filters=enc_num_units[2], kernel_size=enc_kernels[2], strides=enc_strides[2], padding='same', name='conv_3')(x)\n",
    "        x = keras.layers.BatchNormalization()(x)\n",
    "        x = keras.layers.LeakyReLU()(x)\n",
    "        \n",
    "        dec_shape = K.int_shape(x)[1:]\n",
    "        \n",
    "        # VARIATIONAL\n",
    "        \n",
    "        x = keras.layers.Flatten()(x)\n",
    "        \n",
    "        self.mu = keras.layers.Dense(latent_dim, name='mu')(x)\n",
    "        self.log_var = keras.layers.Dense(latent_dim, name='log_var')(x)\n",
    "        \n",
    "        enc_mu_log_var = keras.Model(i_e, (self.mu, self.log_var))\n",
    "        \n",
    "        def z_sampling(args):\n",
    "            mu, log_var = args\n",
    "            epsilon = K.random_normal(shape=K.shape(mu), mean=0, stddev=1.)\n",
    "            return mu + K.exp(log_var/2) * epsilon\n",
    "        \n",
    "        e = keras.layers.Lambda(z_sampling, name='enc_output')([self.mu, self.log_var])\n",
    "        \n",
    "        self.encoder = keras.Model(i_e, e, name='vae_encoder')\n",
    "        \n",
    "        \n",
    "        # DECODER\n",
    "        i_d = keras.layers.Input(shape=(latent_dim,), name='dec_input')\n",
    "        \n",
    "        x = keras.layers.Dense(np.prod(dec_shape))(i_d)\n",
    "        x = keras.layers.Reshape((dec_shape))(x)\n",
    "        \n",
    "        x = keras.layers.Conv2DTranspose(filters=dec_num_units[0], kernel_size=dec_kernels[0], strides=dec_strides[0], padding='same', name='deconv_1')(x)\n",
    "        x = keras.layers.BatchNormalization()(x)\n",
    "        x = keras.layers.LeakyReLU()(x)\n",
    "        \n",
    "        x = keras.layers.Conv2DTranspose(filters=dec_num_units[1], kernel_size=dec_kernels[1], strides=dec_strides[1], padding='same', name='deconv_2')(x)\n",
    "        x = keras.layers.BatchNormalization()(x)\n",
    "        x = keras.layers.LeakyReLU()(x)\n",
    "        \n",
    "        x = keras.layers.Conv2DTranspose(filters=dec_num_units[2], kernel_size=dec_kernels[2], strides=dec_strides[2], padding='same', name='deconv_3')(x)\n",
    "        d = keras.layers.Activation('sigmoid')(x)\n",
    "        \n",
    "        self.decoder = keras.Model(i_d, d, name='vae_decoder')\n",
    "        \n",
    "        autoencoder_input = i_e\n",
    "        autoencoder_output = self.decoder(e)\n",
    "        \n",
    "        self.autoencoder = keras.Model(autoencoder_input, autoencoder_output, name='vae')\n",
    "        \n",
    "        # COMPILATION\n",
    "        opt = keras.optimizers.legacy.Adam(learning_rate=lr)\n",
    "        \n",
    "        \n",
    "        # LOSS FUNCTIONS\n",
    "        def r_loss_function(y_true, y_pred):\n",
    "            loss = K.mean(K.square(y_true - y_pred), axis=[1,2])\n",
    "            return loss * r_loss_factor\n",
    "        \n",
    "        def kl_loss_function(y_true, y_pred):\n",
    "            loss = -0.5 * K.sum(1 + self.log_var - K.square(self.mu) - K.exp(self.log_var), axis=1)\n",
    "            return loss\n",
    "        \n",
    "        def vae_loss(y_true, y_pred):\n",
    "            r_loss = r_loss_function(y_true, y_pred)\n",
    "            kl_loss = kl_loss_function(y_true, y_pred)\n",
    "            return r_loss + kl_loss\n",
    "        \n",
    "        self.autoencoder.compile(optimizer=opt, loss=vae_loss, metrics=[r_loss_function, kl_loss_function])\n",
    "        \n",
    "        self.get_model_summary()\n",
    "        \n",
    "        \n",
    "    def fit_model(self, train_inputs, train_outputs, validation_inputs, validation_outputs, store_path, epochs=100, batch_size=32):\n",
    "    \n",
    "        weights_folder = self.weights_folder\n",
    "\n",
    "        checkpoint = ModelCheckpoint(\n",
    "            os.path.join(weights_folder, f\"{DATASET}_weights.h5\"),\n",
    "            monitor='r_loss_function',\n",
    "            verbose=0,\n",
    "            save_best_only=True,\n",
    "        )\n",
    "\n",
    "        callbacks_list = [ checkpoint ]\n",
    "\n",
    "        history = self.autoencoder.fit(train_inputs, train_outputs\n",
    "                  , epochs=epochs, batch_size=batch_size\n",
    "                  , callbacks=callbacks_list\n",
    "                  , validation_data=(validation_inputs, validation_outputs)\n",
    "                  , shuffle=True\n",
    "                 )\n",
    "        \n",
    "        self.autoencoder.save(os.path.join(weights_folder, f\"{DATASET}_model.h5\"))\n",
    "        \n",
    "        return history\n",
    "    \n",
    "    def get_model_summary(self):\n",
    "        self.encoder.summary()\n",
    "        print('--------------------')\n",
    "        self.decoder.summary()\n",
    "        print('--------------------')\n",
    "        self.autoencoder.summary()\n",
    "        \n",
    "    def plot_model_graph(self, component='full'):\n",
    "        if(component == 'encoder'):\n",
    "            return plot_model(self.encoder)\n",
    "        elif(component == 'decoder'):\n",
    "            return plot_model(self.decoder)\n",
    "        elif(component == 'full'):\n",
    "            return plot_model(self.autoencoder)\n",
    "        else:\n",
    "            raise Exception(\"No valid component specified (Only 'full', 'encoder' or 'decoder' are valid)\")\n",
    "    \n",
    "    def plot_loss(self, history):\n",
    "        plt.figure()\n",
    "        plt.plot(history.history['loss'])\n",
    "        plt.plot(history.history['val_loss'])\n",
    "        \n",
    "        plt.title('Model loss')\n",
    "        plt.ylabel('Loss')\n",
    "        plt.xlabel('Epoch')\n",
    "        plt.legend(['Train loss', 'Validation loss'])\n",
    "        plt.show()"
   ]
  },
  {
   "cell_type": "code",
   "execution_count": 95,
   "id": "7b18a578",
   "metadata": {
    "id": "7b18a578"
   },
   "outputs": [],
   "source": [
    "class VAESampleGenerator:\n",
    "    def __init__(self, model, encoder, store_path=STORE_PATH):\n",
    "        self.vae = model.autoencoder\n",
    "        self.vae_encoder = model.encoder\n",
    "        self.vae_decoder = model.decoder\n",
    "        self.encoder = encoder\n",
    "        self.vae_latent_dim = model.latent_dim\n",
    "        self.n_sample = 0\n",
    "        self.store_path = store_path\n",
    "        \n",
    "        \n",
    "    def generate_seed(self, threshold=0.6):\n",
    "        # random noise vector con la forma del espacio latente\n",
    "        znew = np.random.normal(size = (1, self.vae_latent_dim))\n",
    "        \n",
    "        p_out = self.vae_decoder.predict(np.array(znew))\n",
    "        \n",
    "        p_out[p_out < threshold] = 0.0\n",
    "        p_out[p_out >= threshold] = 1.0\n",
    "        \n",
    "        p_out = np.reshape(p_out, (self.encoder.seq_len,128))\n",
    "        \n",
    "        self.generated_sequence = p_out\n",
    "        self.n_sample=self.n_sample+1\n",
    "        \n",
    "        return p_out\n",
    "        \n",
    "    \n",
    "    def generate(self, seed, sample_length, threshold=0.6):\n",
    "        seed = seed.astype(float)\n",
    "        stream = seed\n",
    "        prob_heatmap = np.array([seed])\n",
    "        print(prob_heatmap.shape)\n",
    "        \n",
    "        for _ in range(sample_length):\n",
    "            cur_seed = stream[-self.encoder.seq_len:]\n",
    "            \n",
    "            \n",
    "            # add dimension for batch\n",
    "            # (1, max_seq_len, vocab_size)\n",
    "            p_in = np.reshape(cur_seed, (1,self.encoder.seq_len, 128, 1))\n",
    "            \n",
    "            uniq,counts = np.unique(p_in,return_counts=True)\n",
    "            print(np.asarray((uniq, counts)).T)\n",
    "            \n",
    "            # make a prediction\n",
    "            p_out = self.vae.predict(p_in,verbose=0)\n",
    "            prob_heatmap = np.append(prob_heatmap,[np.reshape(p_out, (self.encoder.seq_len,128))],axis=0)\n",
    "            \n",
    "            p_out[p_out < threshold] = 0.0\n",
    "            p_out[p_out >= threshold] = 1.0\n",
    "            \n",
    "            # update seed\n",
    "            p_out = np.reshape(p_out, (self.encoder.seq_len,128))\n",
    "            print(f'Generated sample from ts={stream.shape[0]} to ts={stream.shape[0]+self.encoder.seq_len}.')\n",
    "            stream = np.concatenate((stream, p_out))\n",
    "            \n",
    "        self.generated_sequence = stream\n",
    "        self.n_sample=self.n_sample+1\n",
    "        \n",
    "        prob_heatmap = prob_heatmap.reshape(-1, prob_heatmap.shape[-1])\n",
    "        self.prob_heatmap = prob_heatmap\n",
    "        \n",
    "        print(f'Generated sample n.{self.n_sample}')\n",
    "        \n",
    "        \n",
    "    def gen2midi(self):\n",
    "\n",
    "        filename = f'{DATASET}-{self.vae.name}_n_{self.n_sample}.mid'\n",
    "\n",
    "        pianoroll = self.generated_sequence\n",
    "\n",
    "        bt = pr.BinaryTrack(name='track1', pianoroll=pianoroll)\n",
    "        multitrack = pr.Multitrack(name='song1',tracks=[bt],resolution=RESOLUTION)\n",
    "        \n",
    "        self.plot_sample(multitrack)\n",
    "\n",
    "        pr.write(f'{self.store_path}/{filename}', multitrack)\n",
    "        print(f'Saved with name {filename}.')\n",
    "        \n",
    "    def plot_sample(self, midi):\n",
    "        midi.plot()\n",
    "        \n",
    "    def plot_probs_heatmap(self, min_note=15, max_note=100):\n",
    "        fig, ax = plt.subplots(figsize=(50,50))\n",
    "        ax.set_yticks([int(j) for j in range(min_note, max_note)])\n",
    "\n",
    "        heatmap = np.transpose(self.prob_heatmap)\n",
    "        plt.imshow(heatmap[min_note:max_note,:], origin=\"lower\", cmap='plasma', extent=[0, self.prob_heatmap.shape[0], min_note, max_note])\n",
    "        "
   ]
  },
  {
   "cell_type": "markdown",
   "id": "J8tmn9Kv99bH",
   "metadata": {
    "id": "J8tmn9Kv99bH"
   },
   "source": [
    "### Tratamiento de los datos"
   ]
  },
  {
   "cell_type": "markdown",
   "id": "afa06f0a",
   "metadata": {
    "id": "afa06f0a"
   },
   "source": [
    "Se procesan los ficheros MIDI y se convierten a matrices usando la librería pypianoroll:"
   ]
  },
  {
   "cell_type": "code",
   "execution_count": 119,
   "id": "15ccc254",
   "metadata": {
    "id": "15ccc254"
   },
   "outputs": [],
   "source": [
    "encoder = VAEDatasetEncoder(DATASET_PATH, blend_tracks=True)"
   ]
  },
  {
   "cell_type": "code",
   "execution_count": 120,
   "id": "83db1b77",
   "metadata": {
    "colab": {
     "base_uri": "https://localhost:8080/"
    },
    "id": "83db1b77",
    "outputId": "ab593e6a-8d7e-4877-d479-d0575d5e01ea"
   },
   "outputs": [
    {
     "name": "stdout",
     "output_type": "stream",
     "text": [
      "Processing song chpn_op7_1\n",
      "Processing song chpn_op23\n",
      "Processing song chpn-p19\n",
      "Processing song chpn_op7_2\n",
      "Processing song chpn-p18\n",
      "Processing song chpn-p24\n",
      "Processing song chpn-p23\n",
      "Processing song chpn-p9\n",
      "Processing song chpn-p8\n",
      "Processing song chpn-p22\n",
      "Processing song chpn-p20\n",
      "Processing song chpn-p21\n",
      "Processing song chp_op18\n",
      "Processing song chpn_op35_4\n",
      "Processing song chpn_op33_2\n",
      "Processing song chp_op31\n",
      "Processing song chpn_op25_e4\n",
      "Processing song chpn_op35_2\n",
      "Processing song chpn_op25_e1\n",
      "Processing song chpn_op33_4\n",
      "Processing song chpn_op53\n",
      "Processing song chpn_op35_3\n",
      "Processing song chpn_op35_1\n",
      "Processing song chpn_op25_e2\n",
      "Processing song chpn_op25_e3\n",
      "Processing song chpn_op10_e12\n",
      "Processing song chpn_op10_e05\n",
      "Processing song chpn_op10_e01\n",
      "Processing song chpn_op66\n",
      "Processing song chpn-p10\n",
      "Processing song chpn_op25_e12\n",
      "Processing song chpn-p6\n",
      "Processing song chpn-p7\n",
      "Processing song chpn-p11\n",
      "Processing song chpn-p13\n",
      "Processing song chpn_op25_e11\n",
      "Processing song chpn-p5\n",
      "Processing song chpn-p4\n",
      "Processing song chpn-p12\n",
      "Processing song chpn-p16\n",
      "Processing song chpn_op27_2\n",
      "Processing song chpn-p1\n",
      "Processing song chpn-p17\n",
      "Processing song chpn-p15\n",
      "Processing song chpn-p3\n",
      "Processing song chpn_op27_1\n",
      "Processing song chpn-p2\n",
      "Processing song chpn-p14\n"
     ]
    }
   ],
   "source": [
    "encoder.encode()"
   ]
  },
  {
   "cell_type": "markdown",
   "id": "60841b66",
   "metadata": {
    "id": "60841b66"
   },
   "source": [
    "Se generan las secuencias de entrenamiento (X_train, y_train) y validación (X_valid, y_valid):"
   ]
  },
  {
   "cell_type": "code",
   "execution_count": 121,
   "id": "96b7b118",
   "metadata": {
    "id": "96b7b118"
   },
   "outputs": [],
   "source": [
    "seq_generator = VAESequenceGenerator(encoder)"
   ]
  },
  {
   "cell_type": "code",
   "execution_count": 122,
   "id": "f3392163",
   "metadata": {
    "colab": {
     "base_uri": "https://localhost:8080/"
    },
    "id": "f3392163",
    "outputId": "307ff531-60d1-4278-b1c7-456f0a8a237a"
   },
   "outputs": [
    {
     "name": "stdout",
     "output_type": "stream",
     "text": [
      "Input shape: (1937, 32, 128, 1)\n",
      "Output shape: (1937, 32, 128, 1)\n"
     ]
    }
   ],
   "source": [
    "X_train, X_valid, y_train, y_valid = seq_generator.generate_sequences()"
   ]
  },
  {
   "cell_type": "markdown",
   "id": "kgSTjW6b-MFV",
   "metadata": {
    "id": "kgSTjW6b-MFV"
   },
   "source": [
    "### Compilación del modelo"
   ]
  },
  {
   "cell_type": "markdown",
   "id": "08e2b4d6",
   "metadata": {
    "id": "08e2b4d6"
   },
   "source": [
    "Se construye y compila el Autoencoder:"
   ]
  },
  {
   "cell_type": "code",
   "execution_count": 123,
   "id": "9a2b7f4e",
   "metadata": {
    "colab": {
     "base_uri": "https://localhost:8080/"
    },
    "id": "9a2b7f4e",
    "outputId": "1cb4c0bd-81bc-4af3-fe16-1674e70d0eb3"
   },
   "outputs": [
    {
     "name": "stdout",
     "output_type": "stream",
     "text": [
      "Model: \"vae_encoder\"\n",
      "__________________________________________________________________________________________________\n",
      " Layer (type)                   Output Shape         Param #     Connected to                     \n",
      "==================================================================================================\n",
      " enc_input (InputLayer)         [(None, 32, 128, 1)  0           []                               \n",
      "                                ]                                                                 \n",
      "                                                                                                  \n",
      " conv_1 (Conv2D)                (None, 8, 32, 32)    544         ['enc_input[0][0]']              \n",
      "                                                                                                  \n",
      " batch_normalization_61 (BatchN  (None, 8, 32, 32)   128         ['conv_1[0][0]']                 \n",
      " ormalization)                                                                                    \n",
      "                                                                                                  \n",
      " leaky_re_lu_61 (LeakyReLU)     (None, 8, 32, 32)    0           ['batch_normalization_61[0][0]'] \n",
      "                                                                                                  \n",
      " dropout_26 (Dropout)           (None, 8, 32, 32)    0           ['leaky_re_lu_61[0][0]']         \n",
      "                                                                                                  \n",
      " conv_2 (Conv2D)                (None, 2, 8, 64)     32832       ['dropout_26[0][0]']             \n",
      "                                                                                                  \n",
      " batch_normalization_62 (BatchN  (None, 2, 8, 64)    256         ['conv_2[0][0]']                 \n",
      " ormalization)                                                                                    \n",
      "                                                                                                  \n",
      " leaky_re_lu_62 (LeakyReLU)     (None, 2, 8, 64)     0           ['batch_normalization_62[0][0]'] \n",
      "                                                                                                  \n",
      " dropout_27 (Dropout)           (None, 2, 8, 64)     0           ['leaky_re_lu_62[0][0]']         \n",
      "                                                                                                  \n",
      " conv_3 (Conv2D)                (None, 1, 1, 128)    131200      ['dropout_27[0][0]']             \n",
      "                                                                                                  \n",
      " batch_normalization_63 (BatchN  (None, 1, 1, 128)   512         ['conv_3[0][0]']                 \n",
      " ormalization)                                                                                    \n",
      "                                                                                                  \n",
      " leaky_re_lu_63 (LeakyReLU)     (None, 1, 1, 128)    0           ['batch_normalization_63[0][0]'] \n",
      "                                                                                                  \n",
      " flatten_13 (Flatten)           (None, 128)          0           ['leaky_re_lu_63[0][0]']         \n",
      "                                                                                                  \n",
      " mu (Dense)                     (None, 64)           8256        ['flatten_13[0][0]']             \n",
      "                                                                                                  \n",
      " log_var (Dense)                (None, 64)           8256        ['flatten_13[0][0]']             \n",
      "                                                                                                  \n",
      " enc_output (Lambda)            (None, 64)           0           ['mu[0][0]',                     \n",
      "                                                                  'log_var[0][0]']                \n",
      "                                                                                                  \n",
      "==================================================================================================\n",
      "Total params: 181,984\n",
      "Trainable params: 181,536\n",
      "Non-trainable params: 448\n",
      "__________________________________________________________________________________________________\n",
      "--------------------\n",
      "Model: \"vae_decoder\"\n",
      "_________________________________________________________________\n",
      " Layer (type)                Output Shape              Param #   \n",
      "=================================================================\n",
      " dec_input (InputLayer)      [(None, 64)]              0         \n",
      "                                                                 \n",
      " dense_11 (Dense)            (None, 128)               8320      \n",
      "                                                                 \n",
      " reshape_11 (Reshape)        (None, 1, 1, 128)         0         \n",
      "                                                                 \n",
      " deconv_1 (Conv2DTranspose)  (None, 2, 8, 64)          131136    \n",
      "                                                                 \n",
      " batch_normalization_64 (Bat  (None, 2, 8, 64)         256       \n",
      " chNormalization)                                                \n",
      "                                                                 \n",
      " leaky_re_lu_64 (LeakyReLU)  (None, 2, 8, 64)          0         \n",
      "                                                                 \n",
      " deconv_2 (Conv2DTranspose)  (None, 8, 32, 32)         32800     \n",
      "                                                                 \n",
      " batch_normalization_65 (Bat  (None, 8, 32, 32)        128       \n",
      " chNormalization)                                                \n",
      "                                                                 \n",
      " leaky_re_lu_65 (LeakyReLU)  (None, 8, 32, 32)         0         \n",
      "                                                                 \n",
      " deconv_3 (Conv2DTranspose)  (None, 32, 128, 1)        513       \n",
      "                                                                 \n",
      " activation_11 (Activation)  (None, 32, 128, 1)        0         \n",
      "                                                                 \n",
      "=================================================================\n",
      "Total params: 173,153\n",
      "Trainable params: 172,961\n",
      "Non-trainable params: 192\n",
      "_________________________________________________________________\n",
      "--------------------\n",
      "Model: \"vae\"\n",
      "__________________________________________________________________________________________________\n",
      " Layer (type)                   Output Shape         Param #     Connected to                     \n",
      "==================================================================================================\n",
      " enc_input (InputLayer)         [(None, 32, 128, 1)  0           []                               \n",
      "                                ]                                                                 \n",
      "                                                                                                  \n",
      " conv_1 (Conv2D)                (None, 8, 32, 32)    544         ['enc_input[0][0]']              \n",
      "                                                                                                  \n",
      " batch_normalization_61 (BatchN  (None, 8, 32, 32)   128         ['conv_1[0][0]']                 \n",
      " ormalization)                                                                                    \n",
      "                                                                                                  \n",
      " leaky_re_lu_61 (LeakyReLU)     (None, 8, 32, 32)    0           ['batch_normalization_61[0][0]'] \n",
      "                                                                                                  \n",
      " dropout_26 (Dropout)           (None, 8, 32, 32)    0           ['leaky_re_lu_61[0][0]']         \n",
      "                                                                                                  \n",
      " conv_2 (Conv2D)                (None, 2, 8, 64)     32832       ['dropout_26[0][0]']             \n",
      "                                                                                                  \n",
      " batch_normalization_62 (BatchN  (None, 2, 8, 64)    256         ['conv_2[0][0]']                 \n",
      " ormalization)                                                                                    \n"
     ]
    },
    {
     "name": "stdout",
     "output_type": "stream",
     "text": [
      "                                                                                                  \n",
      " leaky_re_lu_62 (LeakyReLU)     (None, 2, 8, 64)     0           ['batch_normalization_62[0][0]'] \n",
      "                                                                                                  \n",
      " dropout_27 (Dropout)           (None, 2, 8, 64)     0           ['leaky_re_lu_62[0][0]']         \n",
      "                                                                                                  \n",
      " conv_3 (Conv2D)                (None, 1, 1, 128)    131200      ['dropout_27[0][0]']             \n",
      "                                                                                                  \n",
      " batch_normalization_63 (BatchN  (None, 1, 1, 128)   512         ['conv_3[0][0]']                 \n",
      " ormalization)                                                                                    \n",
      "                                                                                                  \n",
      " leaky_re_lu_63 (LeakyReLU)     (None, 1, 1, 128)    0           ['batch_normalization_63[0][0]'] \n",
      "                                                                                                  \n",
      " flatten_13 (Flatten)           (None, 128)          0           ['leaky_re_lu_63[0][0]']         \n",
      "                                                                                                  \n",
      " mu (Dense)                     (None, 64)           8256        ['flatten_13[0][0]']             \n",
      "                                                                                                  \n",
      " log_var (Dense)                (None, 64)           8256        ['flatten_13[0][0]']             \n",
      "                                                                                                  \n",
      " enc_output (Lambda)            (None, 64)           0           ['mu[0][0]',                     \n",
      "                                                                  'log_var[0][0]']                \n",
      "                                                                                                  \n",
      " vae_decoder (Functional)       (None, 32, 128, 1)   173153      ['enc_output[0][0]']             \n",
      "                                                                                                  \n",
      "==================================================================================================\n",
      "Total params: 355,137\n",
      "Trainable params: 354,497\n",
      "Non-trainable params: 640\n",
      "__________________________________________________________________________________________________\n"
     ]
    }
   ],
   "source": [
    "enc_num_units = [32, 64, 128]\n",
    "enc_kernels = [(4,4), (4,4), (2,8)]\n",
    "enc_strides = [(4,4), (4,4), (2,8)]\n",
    "dec_num_units = [64, 32, 1]\n",
    "dec_kernels = [(2,8), (4,4), (4,4)]\n",
    "dec_strides = [(2,8), (4,4), (4,4)]\n",
    "lr = 0.001\n",
    "r_loss_factor = 10000\n",
    "\n",
    "cnn = VAE(enc_num_units, enc_kernels, enc_strides, dec_num_units, dec_kernels, dec_strides, SEQ_LEN, lr, r_loss_factor)"
   ]
  },
  {
   "cell_type": "code",
   "execution_count": 14,
   "id": "CAzmJ0jCuzQH",
   "metadata": {
    "colab": {
     "base_uri": "https://localhost:8080/",
     "height": 1000
    },
    "id": "CAzmJ0jCuzQH",
    "outputId": "1e6b2bb3-fccd-47e8-d1a4-c46ea2d4905f"
   },
   "outputs": [
    {
     "data": {
      "image/png": "[encoded data removed]",
      "text/plain": [
       "<IPython.core.display.Image object>"
      ]
     },
     "execution_count": 14,
     "metadata": {},
     "output_type": "execute_result"
    }
   ],
   "source": [
    "cnn.plot_model_graph(component='encoder')"
   ]
  },
  {
   "cell_type": "code",
   "execution_count": 15,
   "id": "yOB8Ls-9u54x",
   "metadata": {
    "colab": {
     "base_uri": "https://localhost:8080/",
     "height": 1000
    },
    "id": "yOB8Ls-9u54x",
    "outputId": "ae591c19-789c-4182-d36e-9b149da9d5d3"
   },
   "outputs": [
    {
     "data": {
      "image/png": "[encoded data removed]",
      "text/plain": [
       "<IPython.core.display.Image object>"
      ]
     },
     "execution_count": 15,
     "metadata": {},
     "output_type": "execute_result"
    }
   ],
   "source": [
    "cnn.plot_model_graph(component='decoder')"
   ]
  },
  {
   "cell_type": "code",
   "execution_count": 16,
   "id": "PfCNKEy-u68O",
   "metadata": {
    "colab": {
     "base_uri": "https://localhost:8080/",
     "height": 1000
    },
    "id": "PfCNKEy-u68O",
    "outputId": "e3d0a450-ca57-48dd-b4d0-ec2e643ae5d0"
   },
   "outputs": [
    {
     "data": {
      "image/png": "[encoded data removed]",
      "text/plain": [
       "<IPython.core.display.Image object>"
      ]
     },
     "execution_count": 16,
     "metadata": {},
     "output_type": "execute_result"
    }
   ],
   "source": [
    "cnn.plot_model_graph()"
   ]
  },
  {
   "cell_type": "markdown",
   "id": "sSf0nszM-Q_C",
   "metadata": {
    "id": "sSf0nszM-Q_C"
   },
   "source": [
    "### Entrenamiento"
   ]
  },
  {
   "cell_type": "markdown",
   "id": "5784ef74",
   "metadata": {
    "id": "5784ef74"
   },
   "source": [
    "Proceso de entrenamiento del modelo:"
   ]
  },
  {
   "cell_type": "code",
   "execution_count": 124,
   "id": "8cbff4d1",
   "metadata": {
    "colab": {
     "base_uri": "https://localhost:8080/"
    },
    "id": "8cbff4d1",
    "outputId": "b0ec3bd0-f4fe-4cbe-dcd2-fbd3d3c8e0d7"
   },
   "outputs": [
    {
     "name": "stdout",
     "output_type": "stream",
     "text": [
      "Train on 1646 samples, validate on 291 samples\n"
     ]
    },
    {
     "name": "stderr",
     "output_type": "stream",
     "text": [
      "2023-06-03 14:19:32.373829: W tensorflow/c/c_api.cc:300] Operation '{name:'training_7/Adam/batch_normalization_62/beta/v/Assign' id:6816 op device:{requested: '', assigned: ''} def:{{{node training_7/Adam/batch_normalization_62/beta/v/Assign}} = AssignVariableOp[_has_manual_control_dependencies=true, dtype=DT_FLOAT, validate_shape=false](training_7/Adam/batch_normalization_62/beta/v, training_7/Adam/batch_normalization_62/beta/v/Initializer/zeros)}}' was changed by setting attribute after it was run by a session. This mutation will have no effect, and will trigger an error in the future. Either don't modify nodes after running them or create a new session.\n"
     ]
    },
    {
     "name": "stdout",
     "output_type": "stream",
     "text": [
      "Epoch 1/50\n",
      "1600/1646 [============================>.] - ETA: 0s - loss: 1992.8604 - r_loss_function: 1970.5101 - kl_loss_function: 22.3500"
     ]
    },
    {
     "name": "stderr",
     "output_type": "stream",
     "text": [
      "2023-06-03 14:19:34.975534: W tensorflow/c/c_api.cc:300] Operation '{name:'loss_4/mul' id:6293 op device:{requested: '', assigned: ''} def:{{{node loss_4/mul}} = Mul[T=DT_FLOAT, _has_manual_control_dependencies=true](loss_4/mul/x, loss_4/vae_decoder_loss/value)}}' was changed by setting attribute after it was run by a session. This mutation will have no effect, and will trigger an error in the future. Either don't modify nodes after running them or create a new session.\n"
     ]
    },
    {
     "name": "stdout",
     "output_type": "stream",
     "text": [
      "1646/1646 [==============================] - 4s 2ms/sample - loss: 1974.9294 - r_loss_function: 1952.6360 - kl_loss_function: 22.2932 - val_loss: 2041.3596 - val_r_loss_function: 2040.5670 - val_kl_loss_function: 0.7928\n",
      "Epoch 2/50\n",
      "1646/1646 [==============================] - 1s 732us/sample - loss: 908.1921 - r_loss_function: 893.6414 - kl_loss_function: 14.5509 - val_loss: 989.3482 - val_r_loss_function: 986.5844 - val_kl_loss_function: 2.7636\n",
      "Epoch 3/50\n",
      "1646/1646 [==============================] - 1s 710us/sample - loss: 498.0816 - r_loss_function: 488.3305 - kl_loss_function: 9.7512 - val_loss: 564.0734 - val_r_loss_function: 560.6219 - val_kl_loss_function: 3.4515\n",
      "Epoch 4/50\n",
      "1646/1646 [==============================] - 1s 702us/sample - loss: 379.6807 - r_loss_function: 373.4571 - kl_loss_function: 6.2236 - val_loss: 414.2533 - val_r_loss_function: 411.9006 - val_kl_loss_function: 2.3527\n",
      "Epoch 5/50\n",
      "1646/1646 [==============================] - 1s 690us/sample - loss: 339.0208 - r_loss_function: 334.4176 - kl_loss_function: 4.6032 - val_loss: 356.0213 - val_r_loss_function: 354.1442 - val_kl_loss_function: 1.8772\n",
      "Epoch 6/50\n",
      "1646/1646 [==============================] - 1s 707us/sample - loss: 320.8921 - r_loss_function: 317.4135 - kl_loss_function: 3.4786 - val_loss: 329.6040 - val_r_loss_function: 328.2462 - val_kl_loss_function: 1.3578\n",
      "Epoch 7/50\n",
      "1646/1646 [==============================] - 1s 731us/sample - loss: 311.2211 - r_loss_function: 308.3430 - kl_loss_function: 2.8781 - val_loss: 314.3334 - val_r_loss_function: 313.3301 - val_kl_loss_function: 1.0033\n",
      "Epoch 8/50\n",
      "1646/1646 [==============================] - 1s 718us/sample - loss: 305.4867 - r_loss_function: 303.0703 - kl_loss_function: 2.4165 - val_loss: 306.9913 - val_r_loss_function: 306.1128 - val_kl_loss_function: 0.8785\n",
      "Epoch 9/50\n",
      "1646/1646 [==============================] - 1s 744us/sample - loss: 301.4267 - r_loss_function: 299.4528 - kl_loss_function: 1.9739 - val_loss: 302.1896 - val_r_loss_function: 301.5009 - val_kl_loss_function: 0.6886\n",
      "Epoch 10/50\n",
      "1646/1646 [==============================] - 1s 808us/sample - loss: 298.7717 - r_loss_function: 297.0894 - kl_loss_function: 1.6822 - val_loss: 298.1727 - val_r_loss_function: 297.4903 - val_kl_loss_function: 0.6823\n",
      "Epoch 11/50\n",
      "1646/1646 [==============================] - 1s 866us/sample - loss: 296.6982 - r_loss_function: 295.2293 - kl_loss_function: 1.4688 - val_loss: 297.0311 - val_r_loss_function: 296.2805 - val_kl_loss_function: 0.7505\n",
      "Epoch 12/50\n",
      "1646/1646 [==============================] - 1s 749us/sample - loss: 295.5265 - r_loss_function: 294.0255 - kl_loss_function: 1.5010 - val_loss: 294.8578 - val_r_loss_function: 293.9554 - val_kl_loss_function: 0.9024\n",
      "Epoch 13/50\n",
      "1646/1646 [==============================] - 1s 812us/sample - loss: 294.4144 - r_loss_function: 292.9389 - kl_loss_function: 1.4755 - val_loss: 293.8493 - val_r_loss_function: 292.7080 - val_kl_loss_function: 1.1412\n",
      "Epoch 14/50\n",
      "1646/1646 [==============================] - 1s 781us/sample - loss: 293.6254 - r_loss_function: 292.0983 - kl_loss_function: 1.5271 - val_loss: 293.1825 - val_r_loss_function: 292.1689 - val_kl_loss_function: 1.0137\n",
      "Epoch 15/50\n",
      "1646/1646 [==============================] - 1s 742us/sample - loss: 293.2044 - r_loss_function: 291.6729 - kl_loss_function: 1.5314 - val_loss: 292.6716 - val_r_loss_function: 291.3505 - val_kl_loss_function: 1.3210\n",
      "Epoch 16/50\n",
      "1646/1646 [==============================] - 1s 715us/sample - loss: 292.4900 - r_loss_function: 290.9037 - kl_loss_function: 1.5863 - val_loss: 292.5649 - val_r_loss_function: 291.3120 - val_kl_loss_function: 1.2529\n",
      "Epoch 17/50\n",
      "1646/1646 [==============================] - 1s 688us/sample - loss: 291.9517 - r_loss_function: 290.3374 - kl_loss_function: 1.6143 - val_loss: 291.7247 - val_r_loss_function: 290.4430 - val_kl_loss_function: 1.2817\n",
      "Epoch 18/50\n",
      "1646/1646 [==============================] - 1s 711us/sample - loss: 291.6010 - r_loss_function: 290.0261 - kl_loss_function: 1.5749 - val_loss: 291.1932 - val_r_loss_function: 289.6234 - val_kl_loss_function: 1.5698\n",
      "Epoch 19/50\n",
      "1646/1646 [==============================] - 1s 698us/sample - loss: 291.1691 - r_loss_function: 289.3750 - kl_loss_function: 1.7941 - val_loss: 291.2053 - val_r_loss_function: 289.4657 - val_kl_loss_function: 1.7396\n",
      "Epoch 20/50\n",
      "1646/1646 [==============================] - 1s 763us/sample - loss: 290.4778 - r_loss_function: 288.7389 - kl_loss_function: 1.7389 - val_loss: 291.4778 - val_r_loss_function: 289.9229 - val_kl_loss_function: 1.5549\n",
      "Epoch 21/50\n",
      "1646/1646 [==============================] - 1s 698us/sample - loss: 290.2513 - r_loss_function: 288.3851 - kl_loss_function: 1.8663 - val_loss: 290.4151 - val_r_loss_function: 288.8928 - val_kl_loss_function: 1.5223\n",
      "Epoch 22/50\n",
      "1646/1646 [==============================] - 1s 724us/sample - loss: 289.7966 - r_loss_function: 287.8691 - kl_loss_function: 1.9275 - val_loss: 289.7826 - val_r_loss_function: 288.0554 - val_kl_loss_function: 1.7272\n",
      "Epoch 23/50\n",
      "1646/1646 [==============================] - 1s 689us/sample - loss: 289.4355 - r_loss_function: 287.3703 - kl_loss_function: 2.0653 - val_loss: 290.5748 - val_r_loss_function: 288.9876 - val_kl_loss_function: 1.5872\n",
      "Epoch 24/50\n",
      "1646/1646 [==============================] - 1s 711us/sample - loss: 289.1716 - r_loss_function: 286.9655 - kl_loss_function: 2.2060 - val_loss: 289.2019 - val_r_loss_function: 287.2269 - val_kl_loss_function: 1.9750\n",
      "Epoch 25/50\n",
      "1646/1646 [==============================] - 1s 698us/sample - loss: 288.7761 - r_loss_function: 286.4217 - kl_loss_function: 2.3544 - val_loss: 289.3988 - val_r_loss_function: 287.1139 - val_kl_loss_function: 2.2849\n",
      "Epoch 26/50\n",
      "1646/1646 [==============================] - 1s 696us/sample - loss: 288.2378 - r_loss_function: 285.4926 - kl_loss_function: 2.7452 - val_loss: 288.6073 - val_r_loss_function: 285.9345 - val_kl_loss_function: 2.6727\n",
      "Epoch 27/50\n",
      "1646/1646 [==============================] - 1s 735us/sample - loss: 287.5315 - r_loss_function: 284.5580 - kl_loss_function: 2.9736 - val_loss: 287.6025 - val_r_loss_function: 284.8836 - val_kl_loss_function: 2.7190\n",
      "Epoch 28/50\n",
      "1646/1646 [==============================] - 1s 771us/sample - loss: 287.2100 - r_loss_function: 284.0950 - kl_loss_function: 3.1150 - val_loss: 288.0509 - val_r_loss_function: 284.8603 - val_kl_loss_function: 3.1906\n",
      "Epoch 29/50\n",
      "1646/1646 [==============================] - 1s 732us/sample - loss: 285.9610 - r_loss_function: 282.4250 - kl_loss_function: 3.5360 - val_loss: 286.5915 - val_r_loss_function: 283.3664 - val_kl_loss_function: 3.2251\n",
      "Epoch 30/50\n",
      "1646/1646 [==============================] - 1s 702us/sample - loss: 285.9446 - r_loss_function: 282.1902 - kl_loss_function: 3.7544 - val_loss: 286.4192 - val_r_loss_function: 282.7008 - val_kl_loss_function: 3.7183\n",
      "Epoch 31/50\n",
      "1646/1646 [==============================] - 1s 792us/sample - loss: 285.0211 - r_loss_function: 281.1123 - kl_loss_function: 3.9088 - val_loss: 285.6299 - val_r_loss_function: 282.2524 - val_kl_loss_function: 3.3775\n",
      "Epoch 32/50\n",
      "1646/1646 [==============================] - 1s 709us/sample - loss: 284.7475 - r_loss_function: 280.7792 - kl_loss_function: 3.9682 - val_loss: 285.1332 - val_r_loss_function: 281.3081 - val_kl_loss_function: 3.8252\n",
      "Epoch 33/50\n",
      "1646/1646 [==============================] - 1s 730us/sample - loss: 284.3418 - r_loss_function: 280.1515 - kl_loss_function: 4.1903 - val_loss: 284.4615 - val_r_loss_function: 280.4658 - val_kl_loss_function: 3.9957\n",
      "Epoch 34/50\n",
      "1646/1646 [==============================] - 1s 708us/sample - loss: 284.0927 - r_loss_function: 279.8731 - kl_loss_function: 4.2196 - val_loss: 284.7370 - val_r_loss_function: 280.4148 - val_kl_loss_function: 4.3221\n",
      "Epoch 35/50\n",
      "1646/1646 [==============================] - 1s 693us/sample - loss: 283.5075 - r_loss_function: 279.0864 - kl_loss_function: 4.4211 - val_loss: 284.6988 - val_r_loss_function: 280.4911 - val_kl_loss_function: 4.2077\n",
      "Epoch 36/50\n",
      "1646/1646 [==============================] - 1s 695us/sample - loss: 282.5615 - r_loss_function: 278.0191 - kl_loss_function: 4.5424 - val_loss: 284.0866 - val_r_loss_function: 279.8557 - val_kl_loss_function: 4.2309\n"
     ]
    },
    {
     "name": "stdout",
     "output_type": "stream",
     "text": [
      "Epoch 37/50\n",
      "1646/1646 [==============================] - 1s 678us/sample - loss: 282.1712 - r_loss_function: 277.6264 - kl_loss_function: 4.5448 - val_loss: 284.9354 - val_r_loss_function: 280.3105 - val_kl_loss_function: 4.6249\n",
      "Epoch 38/50\n",
      "1646/1646 [==============================] - 1s 720us/sample - loss: 281.9577 - r_loss_function: 277.0400 - kl_loss_function: 4.9177 - val_loss: 283.1711 - val_r_loss_function: 278.2913 - val_kl_loss_function: 4.8798\n",
      "Epoch 39/50\n",
      "1646/1646 [==============================] - 1s 680us/sample - loss: 281.6831 - r_loss_function: 276.7676 - kl_loss_function: 4.9155 - val_loss: 283.2248 - val_r_loss_function: 278.5324 - val_kl_loss_function: 4.6924\n",
      "Epoch 40/50\n",
      "1646/1646 [==============================] - 1s 691us/sample - loss: 281.6194 - r_loss_function: 276.5640 - kl_loss_function: 5.0555 - val_loss: 283.2973 - val_r_loss_function: 278.4404 - val_kl_loss_function: 4.8569\n",
      "Epoch 41/50\n",
      "1646/1646 [==============================] - 1s 673us/sample - loss: 280.9236 - r_loss_function: 275.8672 - kl_loss_function: 5.0564 - val_loss: 282.2485 - val_r_loss_function: 276.9362 - val_kl_loss_function: 5.3122\n",
      "Epoch 42/50\n",
      "1646/1646 [==============================] - 1s 757us/sample - loss: 280.2440 - r_loss_function: 275.0508 - kl_loss_function: 5.1931 - val_loss: 283.2057 - val_r_loss_function: 278.7309 - val_kl_loss_function: 4.4749\n",
      "Epoch 43/50\n",
      "1646/1646 [==============================] - 1s 730us/sample - loss: 279.5660 - r_loss_function: 274.3535 - kl_loss_function: 5.2125 - val_loss: 282.3965 - val_r_loss_function: 277.6614 - val_kl_loss_function: 4.7351\n",
      "Epoch 44/50\n",
      "1646/1646 [==============================] - 1s 756us/sample - loss: 279.1976 - r_loss_function: 273.8180 - kl_loss_function: 5.3795 - val_loss: 281.8486 - val_r_loss_function: 277.2932 - val_kl_loss_function: 4.5555\n",
      "Epoch 45/50\n",
      "1646/1646 [==============================] - 1s 774us/sample - loss: 278.6681 - r_loss_function: 273.3341 - kl_loss_function: 5.3340 - val_loss: 282.2138 - val_r_loss_function: 276.8877 - val_kl_loss_function: 5.3260\n",
      "Epoch 46/50\n",
      "1646/1646 [==============================] - 1s 792us/sample - loss: 278.6831 - r_loss_function: 273.2498 - kl_loss_function: 5.4333 - val_loss: 281.0181 - val_r_loss_function: 275.8494 - val_kl_loss_function: 5.1687\n",
      "Epoch 47/50\n",
      "1646/1646 [==============================] - 1s 776us/sample - loss: 278.5901 - r_loss_function: 273.1286 - kl_loss_function: 5.4615 - val_loss: 282.1324 - val_r_loss_function: 276.2917 - val_kl_loss_function: 5.8407\n",
      "Epoch 48/50\n",
      "1646/1646 [==============================] - 1s 723us/sample - loss: 278.3184 - r_loss_function: 272.4360 - kl_loss_function: 5.8825 - val_loss: 281.8769 - val_r_loss_function: 276.1751 - val_kl_loss_function: 5.7018\n",
      "Epoch 49/50\n",
      "1646/1646 [==============================] - 1s 735us/sample - loss: 277.3011 - r_loss_function: 271.5865 - kl_loss_function: 5.7146 - val_loss: 280.0080 - val_r_loss_function: 274.5281 - val_kl_loss_function: 5.4799\n",
      "Epoch 50/50\n",
      "1646/1646 [==============================] - 1s 719us/sample - loss: 277.0574 - r_loss_function: 271.1230 - kl_loss_function: 5.9343 - val_loss: 280.6077 - val_r_loss_function: 274.9421 - val_kl_loss_function: 5.6656\n"
     ]
    }
   ],
   "source": [
    "train_hist=cnn.fit_model(X_train, y_train, X_valid, y_valid, STORE_PATH, epochs=50)"
   ]
  },
  {
   "cell_type": "markdown",
   "id": "68b61cd4",
   "metadata": {
    "id": "68b61cd4"
   },
   "source": [
    "Gráfico de evolución de los errores de entrenamiento y validación durante el proceso de entrenamiento:"
   ]
  },
  {
   "cell_type": "code",
   "execution_count": 125,
   "id": "b87dc4b5",
   "metadata": {
    "colab": {
     "base_uri": "https://localhost:8080/",
     "height": 472
    },
    "id": "b87dc4b5",
    "outputId": "758598b9-fc9d-48fb-bd9a-38c40fa06a4f"
   },
   "outputs": [
    {
     "data": {
      "image/png": "[encoded data removed]",
      "text/plain": [
       "<Figure size 640x480 with 1 Axes>"
      ]
     },
     "metadata": {},
     "output_type": "display_data"
    }
   ],
   "source": [
    "cnn.plot_loss(train_hist)"
   ]
  },
  {
   "cell_type": "markdown",
   "id": "d95t8bcc_PfZ",
   "metadata": {
    "id": "d95t8bcc_PfZ"
   },
   "source": [
    "### Proceso de generación"
   ]
  },
  {
   "cell_type": "markdown",
   "id": "cbf3ccd1",
   "metadata": {
    "id": "cbf3ccd1"
   },
   "source": [
    "Se procede a generar nuevas piezas en base al modelo entrenado:"
   ]
  },
  {
   "cell_type": "code",
   "execution_count": null,
   "id": "2ea6969e",
   "metadata": {
    "colab": {
     "base_uri": "https://localhost:8080/"
    },
    "id": "2ea6969e",
    "outputId": "338e3336-6ccc-4a63-c61b-b9e9d7b1e9db"
   },
   "outputs": [
    {
     "name": "stdout",
     "output_type": "stream",
     "text": [
      "Song cs4-2all from ts=136 to ts=168\n"
     ]
    }
   ],
   "source": [
    "# seed para la generación\n",
    "song_name=np.random.choice(list(encoder.encoded_files.keys()))\n",
    "s=encoder.encoded_files[song_name]\n",
    "pianoroll = s['MAIN_TRACK']\n",
    "start_ts = np.random.randint(pianoroll.shape[0]-SEQ_LEN)\n",
    "s_in=pianoroll[start_ts:start_ts+SEQ_LEN,:]\n",
    "print(f'Song {song_name} from ts={start_ts} to ts={start_ts+32}')"
   ]
  },
  {
   "cell_type": "code",
   "execution_count": 879,
   "id": "ba53453b",
   "metadata": {
    "colab": {
     "base_uri": "https://localhost:8080/"
    },
    "id": "ba53453b",
    "outputId": "5fc1789b-bf7d-4de6-eab5-f3e100aab87b"
   },
   "outputs": [
    {
     "data": {
      "text/plain": [
       "(32, 128)"
      ]
     },
     "execution_count": 879,
     "metadata": {},
     "output_type": "execute_result"
    }
   ],
   "source": [
    "s_in.shape"
   ]
  },
  {
   "cell_type": "code",
   "execution_count": 126,
   "id": "4fc0bc4d",
   "metadata": {
    "id": "4fc0bc4d"
   },
   "outputs": [],
   "source": [
    "# SampleGenerator object\n",
    "sampler = VAESampleGenerator(cnn, encoder)"
   ]
  },
  {
   "cell_type": "code",
   "execution_count": 127,
   "id": "3af89284",
   "metadata": {},
   "outputs": [
    {
     "name": "stderr",
     "output_type": "stream",
     "text": [
      "2023-06-03 14:20:44.771760: W tensorflow/c/c_api.cc:300] Operation '{name:'activation_11/Sigmoid' id:6079 op device:{requested: '', assigned: ''} def:{{{node activation_11/Sigmoid}} = Sigmoid[T=DT_FLOAT, _has_manual_control_dependencies=true](deconv_3_4/BiasAdd)}}' was changed by setting attribute after it was run by a session. This mutation will have no effect, and will trigger an error in the future. Either don't modify nodes after running them or create a new session.\n"
     ]
    }
   ],
   "source": [
    "g_seed = sampler.generate_seed(threshold=0.2)"
   ]
  },
  {
   "cell_type": "code",
   "execution_count": 116,
   "id": "a0150a7d",
   "metadata": {},
   "outputs": [
    {
     "data": {
      "text/plain": [
       "(32, 128)"
      ]
     },
     "execution_count": 116,
     "metadata": {},
     "output_type": "execute_result"
    }
   ],
   "source": [
    "g_seed.shape"
   ]
  },
  {
   "cell_type": "code",
   "execution_count": 130,
   "id": "bcc9a03e",
   "metadata": {
    "colab": {
     "base_uri": "https://localhost:8080/",
     "height": 557
    },
    "id": "bcc9a03e",
    "outputId": "4d132e51-8a08-4cba-ae48-0721b5ebb76e"
   },
   "outputs": [
    {
     "name": "stdout",
     "output_type": "stream",
     "text": [
      "(1, 32, 128)\n",
      "[[0.000e+00 4.073e+03]\n",
      " [1.000e+00 2.300e+01]]\n",
      "Generated sample from ts=32 to ts=64.\n",
      "[[   0. 4096.]]\n",
      "Generated sample from ts=64 to ts=96.\n",
      "[[   0. 4096.]]\n",
      "Generated sample from ts=96 to ts=128.\n",
      "[[   0. 4096.]]\n",
      "Generated sample from ts=128 to ts=160.\n",
      "[[   0. 4096.]]\n",
      "Generated sample from ts=160 to ts=192.\n",
      "[[   0. 4096.]]\n",
      "Generated sample from ts=192 to ts=224.\n",
      "Generated sample n.4\n",
      "Saved with name chopin-vae_n_4.mid.\n"
     ]
    },
    {
     "data": {
      "image/png": "[encoded data removed]",
      "text/plain": [
       "<Figure size 640x480 with 1 Axes>"
      ]
     },
     "metadata": {},
     "output_type": "display_data"
    }
   ],
   "source": [
    "# Generamos una nueva pieza y se guarda en formato MIDI\n",
    "sampler.generate(g_seed, sample_length=6, threshold=0.3)\n",
    "sampler.gen2midi()"
   ]
  },
  {
   "cell_type": "code",
   "execution_count": null,
   "id": "fbc76873",
   "metadata": {
    "id": "fbc76873"
   },
   "outputs": [],
   "source": [
    "bt = pr.BinaryTrack(name='track1', pianoroll=pianoroll)\n",
    "multitrack = pr.Multitrack(name='song1',tracks=[bt],resolution=2)"
   ]
  },
  {
   "cell_type": "code",
   "execution_count": null,
   "id": "7377164c",
   "metadata": {
    "id": "7377164c"
   },
   "outputs": [],
   "source": [
    "pr.write('./coso.mid', multitrack)"
   ]
  },
  {
   "cell_type": "markdown",
   "id": "b0c83e63",
   "metadata": {
    "id": "b0c83e63"
   },
   "source": [
    "#### Heatmap de probabilidades:"
   ]
  },
  {
   "cell_type": "code",
   "execution_count": 99,
   "id": "7e7c525e",
   "metadata": {
    "colab": {
     "base_uri": "https://localhost:8080/",
     "height": 1000
    },
    "id": "7e7c525e",
    "outputId": "ba767806-c98c-4002-a86e-1e18300510b1",
    "scrolled": false
   },
   "outputs": [
    {
     "data": {
      "image/png": "[encoded data removed]",
      "text/plain": [
       "<Figure size 5000x5000 with 1 Axes>"
      ]
     },
     "metadata": {},
     "output_type": "display_data"
    }
   ],
   "source": [
    "sampler.plot_probs_heatmap()"
   ]
  },
  {
   "cell_type": "code",
   "execution_count": null,
   "id": "a0070b3f",
   "metadata": {
    "id": "a0070b3f"
   },
   "outputs": [],
   "source": []
  },
  {
   "cell_type": "code",
   "execution_count": null,
   "id": "1863cc35",
   "metadata": {
    "id": "1863cc35"
   },
   "outputs": [],
   "source": []
  },
  {
   "cell_type": "markdown",
   "id": "752bf819",
   "metadata": {
    "id": "752bf819"
   },
   "source": [
    "### Autoencoder debugging paso a paso"
   ]
  },
  {
   "cell_type": "code",
   "execution_count": null,
   "id": "dc3939d7",
   "metadata": {
    "id": "dc3939d7"
   },
   "outputs": [],
   "source": [
    "def collapsed_rmse(y_true, y_pred):\n",
    "    return K.mean(K.square(y_true - y_pred), axis=[1,2])"
   ]
  },
  {
   "cell_type": "code",
   "execution_count": null,
   "id": "0e49de30",
   "metadata": {
    "id": "0e49de30"
   },
   "outputs": [],
   "source": [
    "MODEL_PATH = os.path.join(BASE_PATH, 'weights/base_conv/cello_model.h5')"
   ]
  },
  {
   "cell_type": "code",
   "execution_count": null,
   "id": "3de624a3",
   "metadata": {
    "id": "3de624a3"
   },
   "outputs": [],
   "source": [
    "cello_autoencoder = keras.models.load_model(MODEL_PATH, custom_objects={'collapsed_rmse':collapsed_rmse})"
   ]
  },
  {
   "cell_type": "code",
   "execution_count": null,
   "id": "6f0336e8",
   "metadata": {
    "id": "6f0336e8"
   },
   "outputs": [],
   "source": [
    "cnn.autoencoder = cello_autoencoder"
   ]
  },
  {
   "cell_type": "code",
   "execution_count": null,
   "id": "0d6a2dfd",
   "metadata": {
    "id": "0d6a2dfd",
    "outputId": "e1bada84-67b8-4006-9766-d49624ce2cd6"
   },
   "outputs": [
    {
     "name": "stdout",
     "output_type": "stream",
     "text": [
      "Model: \"cnn_autoencoder\"\n",
      "_________________________________________________________________\n",
      " Layer (type)                Output Shape              Param #   \n",
      "=================================================================\n",
      " enc_input (InputLayer)      [(None, 32, 128, 1)]      0         \n",
      "                                                                 \n",
      " conv2d_40 (Conv2D)          (None, 32, 128, 32)       320       \n",
      "                                                                 \n",
      " leaky_re_lu_5 (LeakyReLU)   (None, 32, 128, 32)       0         \n",
      "                                                                 \n",
      " conv2d_41 (Conv2D)          (None, 16, 64, 64)        18496     \n",
      "                                                                 \n",
      " leaky_re_lu_6 (LeakyReLU)   (None, 16, 64, 64)        0         \n",
      "                                                                 \n",
      " conv2d_42 (Conv2D)          (None, 16, 64, 128)       73856     \n",
      "                                                                 \n",
      " leaky_re_lu_7 (LeakyReLU)   (None, 16, 64, 128)       0         \n",
      "                                                                 \n",
      " flatten_13 (Flatten)        (None, 131072)            0         \n",
      "                                                                 \n",
      " dense_26 (Dense)            (None, 64)                8388672   \n",
      "                                                                 \n",
      " cnn_decoder (Functional)    (None, 32, 128, 1)        8612225   \n",
      "                                                                 \n",
      "=================================================================\n",
      "Total params: 17,093,569\n",
      "Trainable params: 17,093,569\n",
      "Non-trainable params: 0\n",
      "_________________________________________________________________\n"
     ]
    }
   ],
   "source": [
    "cello_autoencoder.summary()"
   ]
  },
  {
   "cell_type": "code",
   "execution_count": null,
   "id": "8fc2b6ee",
   "metadata": {
    "id": "8fc2b6ee"
   },
   "outputs": [],
   "source": [
    "from keras.models import Model"
   ]
  },
  {
   "cell_type": "code",
   "execution_count": null,
   "id": "0a407e87",
   "metadata": {
    "id": "0a407e87"
   },
   "outputs": [],
   "source": [
    "cello_encoder= Model(inputs=cello_autoencoder.input, outputs=cello_autoencoder.get_layer('dense_26').output)"
   ]
  },
  {
   "cell_type": "code",
   "execution_count": null,
   "id": "02cb32a4",
   "metadata": {
    "id": "02cb32a4",
    "outputId": "39d9fcc7-f47b-407b-fe58-b55358e3e72d"
   },
   "outputs": [
    {
     "name": "stdout",
     "output_type": "stream",
     "text": [
      "Model: \"model_13\"\n",
      "_________________________________________________________________\n",
      " Layer (type)                Output Shape              Param #   \n",
      "=================================================================\n",
      " enc_input (InputLayer)      [(None, 32, 128, 1)]      0         \n",
      "                                                                 \n",
      " conv2d_40 (Conv2D)          (None, 32, 128, 32)       320       \n",
      "                                                                 \n",
      " leaky_re_lu_5 (LeakyReLU)   (None, 32, 128, 32)       0         \n",
      "                                                                 \n",
      " conv2d_41 (Conv2D)          (None, 16, 64, 64)        18496     \n",
      "                                                                 \n",
      " leaky_re_lu_6 (LeakyReLU)   (None, 16, 64, 64)        0         \n",
      "                                                                 \n",
      " conv2d_42 (Conv2D)          (None, 16, 64, 128)       73856     \n",
      "                                                                 \n",
      " leaky_re_lu_7 (LeakyReLU)   (None, 16, 64, 128)       0         \n",
      "                                                                 \n",
      " flatten_13 (Flatten)        (None, 131072)            0         \n",
      "                                                                 \n",
      " dense_26 (Dense)            (None, 64)                8388672   \n",
      "                                                                 \n",
      "=================================================================\n",
      "Total params: 8,481,344\n",
      "Trainable params: 8,481,344\n",
      "Non-trainable params: 0\n",
      "_________________________________________________________________\n"
     ]
    }
   ],
   "source": [
    "cello_encoder.summary()"
   ]
  },
  {
   "cell_type": "code",
   "execution_count": null,
   "id": "92c0eb56",
   "metadata": {
    "id": "92c0eb56"
   },
   "outputs": [],
   "source": [
    "cello_decoder = cello_autoencoder.get_layer('cnn_decoder')"
   ]
  },
  {
   "cell_type": "code",
   "execution_count": null,
   "id": "78bc0a2a",
   "metadata": {
    "id": "78bc0a2a",
    "outputId": "156cd4f5-aed4-4c7f-f130-b683666b3d81"
   },
   "outputs": [
    {
     "data": {
      "text/plain": [
       "array([1., 1., 1., 1., 1., 1., 1., 1., 1., 1., 1., 1., 1., 1., 1., 1., 1.,\n",
       "       1., 1., 1., 1., 1., 1., 1., 1., 1., 1., 1., 1., 1.])"
      ]
     },
     "execution_count": 482,
     "metadata": {},
     "output_type": "execute_result"
    }
   ],
   "source": [
    "p_in[p_in>0]"
   ]
  },
  {
   "cell_type": "code",
   "execution_count": null,
   "id": "d6a8a218",
   "metadata": {
    "id": "d6a8a218"
   },
   "outputs": [],
   "source": [
    "p_in = np.reshape(s_in, (1,32, 128))"
   ]
  },
  {
   "cell_type": "code",
   "execution_count": null,
   "id": "6ca0796a",
   "metadata": {
    "id": "6ca0796a",
    "outputId": "e44b0222-24c7-4c96-b696-3d485d1d6d26"
   },
   "outputs": [
    {
     "name": "stdout",
     "output_type": "stream",
     "text": [
      "1/1 [==============================] - 0s 64ms/step\n"
     ]
    }
   ],
   "source": [
    "encoder_out = cello_encoder.predict(p_in)"
   ]
  },
  {
   "cell_type": "code",
   "execution_count": null,
   "id": "44c8a249",
   "metadata": {
    "id": "44c8a249",
    "outputId": "e7b120d3-15a0-4cde-a7e4-083c89fa61c7"
   },
   "outputs": [
    {
     "data": {
      "text/plain": [
       "array([[ 28.045034 ,  26.726141 , -26.81782  ,  18.787397 , -28.856007 ,\n",
       "        -10.302297 , -15.524402 ,  24.291624 ,  28.67144  ,  22.864805 ,\n",
       "        -27.589104 , -23.547625 ,  28.277987 , -27.21346  ,  27.650772 ,\n",
       "         16.101278 , -25.489244 , -28.83682  , -25.15083  ,  22.271095 ,\n",
       "        -27.921665 , -24.325354 , -18.51132  ,  20.050303 ,  -2.9813104,\n",
       "         27.043327 , -28.940636 ,  22.556269 ,  26.668158 , -25.761135 ,\n",
       "        -30.706991 ,  27.622488 , -19.980145 , -26.762564 ,  21.16973  ,\n",
       "         29.621979 ,  28.052168 ,  19.964235 , -28.430208 , -26.110807 ,\n",
       "         29.493996 ,  16.126373 , -28.752935 , -26.929123 ,  21.632662 ,\n",
       "         24.10541  ,  28.917948 ,  27.764034 , -17.553223 ,  25.473272 ,\n",
       "         27.945309 ,  27.890415 ,  26.022217 ,  26.745584 ,  29.053875 ,\n",
       "        -26.94474  ,  17.374283 , -26.99535  , -22.600546 , -23.477789 ,\n",
       "        -26.748484 ,  27.541327 ,  26.21627  ,  28.386456 ]],\n",
       "      dtype=float32)"
      ]
     },
     "execution_count": 485,
     "metadata": {},
     "output_type": "execute_result"
    }
   ],
   "source": [
    "encoder_out"
   ]
  },
  {
   "cell_type": "code",
   "execution_count": null,
   "id": "0f8a3be9",
   "metadata": {
    "id": "0f8a3be9",
    "outputId": "3f932dc3-f73c-455b-cfef-9756af211366"
   },
   "outputs": [
    {
     "data": {
      "text/plain": [
       "[<keras.engine.input_layer.InputLayer at 0x13f199420>,\n",
       " <keras.layers.core.dense.Dense at 0x13f199000>,\n",
       " <keras.layers.reshaping.reshape.Reshape at 0x13f19bd90>,\n",
       " <keras.layers.convolutional.conv2d_transpose.Conv2DTranspose at 0x13ddeaec0>,\n",
       " <keras.layers.activation.leaky_relu.LeakyReLU at 0x13f124d30>,\n",
       " <keras.layers.convolutional.conv2d_transpose.Conv2DTranspose at 0x13ddeb400>,\n",
       " <keras.layers.activation.leaky_relu.LeakyReLU at 0x13f1983d0>,\n",
       " <keras.layers.convolutional.conv2d_transpose.Conv2DTranspose at 0x13f125ed0>,\n",
       " <keras.layers.core.activation.Activation at 0x13f127e50>]"
      ]
     },
     "execution_count": 486,
     "metadata": {},
     "output_type": "execute_result"
    }
   ],
   "source": [
    "cello_decoder.layers"
   ]
  },
  {
   "cell_type": "code",
   "execution_count": null,
   "id": "0200d22f",
   "metadata": {
    "id": "0200d22f",
    "outputId": "54b3de6b-7918-4676-9872-95befa446171"
   },
   "outputs": [
    {
     "data": {
      "text/plain": [
       "array([[ 28.045034 ,  26.726141 , -26.81782  ,  18.787397 , -28.856007 ,\n",
       "        -10.302297 , -15.524402 ,  24.291624 ,  28.67144  ,  22.864805 ,\n",
       "        -27.589104 , -23.547625 ,  28.277987 , -27.21346  ,  27.650772 ,\n",
       "         16.101278 , -25.489244 , -28.83682  , -25.15083  ,  22.271095 ,\n",
       "        -27.921665 , -24.325354 , -18.51132  ,  20.050303 ,  -2.9813104,\n",
       "         27.043327 , -28.940636 ,  22.556269 ,  26.668158 , -25.761135 ,\n",
       "        -30.706991 ,  27.622488 , -19.980145 , -26.762564 ,  21.16973  ,\n",
       "         29.621979 ,  28.052168 ,  19.964235 , -28.430208 , -26.110807 ,\n",
       "         29.493996 ,  16.126373 , -28.752935 , -26.929123 ,  21.632662 ,\n",
       "         24.10541  ,  28.917948 ,  27.764034 , -17.553223 ,  25.473272 ,\n",
       "         27.945309 ,  27.890415 ,  26.022217 ,  26.745584 ,  29.053875 ,\n",
       "        -26.94474  ,  17.374283 , -26.99535  , -22.600546 , -23.477789 ,\n",
       "        -26.748484 ,  27.541327 ,  26.21627  ,  28.386456 ]],\n",
       "      dtype=float32)"
      ]
     },
     "execution_count": 487,
     "metadata": {},
     "output_type": "execute_result"
    }
   ],
   "source": [
    "encoder_out"
   ]
  },
  {
   "cell_type": "code",
   "execution_count": null,
   "id": "e0a3b5cd",
   "metadata": {
    "id": "e0a3b5cd",
    "outputId": "a0a11b50-2f6c-4b07-c64c-3045a856db39"
   },
   "outputs": [
    {
     "name": "stdout",
     "output_type": "stream",
     "text": [
      "dec_input\n",
      "tf.Tensor(\n",
      "[[ 28.045034   26.726141  -26.81782    18.787397  -28.856007  -10.302297\n",
      "  -15.524402   24.291624   28.67144    22.864805  -27.589104  -23.547625\n",
      "   28.277987  -27.21346    27.650772   16.101278  -25.489244  -28.83682\n",
      "  -25.15083    22.271095  -27.921665  -24.325354  -18.51132    20.050303\n",
      "   -2.9813104  27.043327  -28.940636   22.556269   26.668158  -25.761135\n",
      "  -30.706991   27.622488  -19.980145  -26.762564   21.16973    29.621979\n",
      "   28.052168   19.964235  -28.430208  -26.110807   29.493996   16.126373\n",
      "  -28.752935  -26.929123   21.632662   24.10541    28.917948   27.764034\n",
      "  -17.553223   25.473272   27.945309   27.890415   26.022217   26.745584\n",
      "   29.053875  -26.94474    17.374283  -26.99535   -22.600546  -23.477789\n",
      "  -26.748484   27.541327   26.21627    28.386456 ]], shape=(1, 64), dtype=float32)\n"
     ]
    }
   ],
   "source": [
    "l0 = cello_decoder.layers[0](encoder_out)\n",
    "print(cello_decoder.layers[0].name)\n",
    "print(l0)"
   ]
  },
  {
   "cell_type": "code",
   "execution_count": null,
   "id": "fb0242f0",
   "metadata": {
    "id": "fb0242f0",
    "outputId": "9d80ba98-e0da-48aa-9888-ce0313704d8c"
   },
   "outputs": [
    {
     "name": "stdout",
     "output_type": "stream",
     "text": [
      "dense_27\n",
      "tf.Tensor([[ 2.5158765  5.781309  -7.4028263 ... -3.045957  -4.6127253 -5.711607 ]], shape=(1, 131072), dtype=float32)\n"
     ]
    }
   ],
   "source": [
    "l1 = cello_decoder.layers[1](l0)\n",
    "print(cello_decoder.layers[1].name)\n",
    "print(l1)"
   ]
  },
  {
   "cell_type": "code",
   "execution_count": null,
   "id": "5f4363a3",
   "metadata": {
    "id": "5f4363a3",
    "outputId": "b3951136-b6d5-48c3-a26b-268558364766"
   },
   "outputs": [
    {
     "name": "stdout",
     "output_type": "stream",
     "text": [
      "reshape_13\n",
      "tf.Tensor(\n",
      "[[[[ 2.5158765   5.781309   -7.4028263  ...  8.155597   -0.825825\n",
      "    -4.904072  ]\n",
      "   [-4.7483544   8.489149   -8.539413   ...  9.050387   -4.4479575\n",
      "    -6.33209   ]\n",
      "   [-2.8163357   8.767466   -6.6192927  ...  6.987852   -2.907537\n",
      "    -4.7845173 ]\n",
      "   ...\n",
      "   [-1.0261403   6.9061737  -6.9845314  ...  8.42689    -2.1211352\n",
      "    -6.3299947 ]\n",
      "   [-4.0985804   8.035296   -5.208414   ...  7.5468516  -5.4410963\n",
      "    -3.9179165 ]\n",
      "   [-1.9921591   7.272552   -3.356821   ...  8.457171   -5.3817143\n",
      "    -6.0697665 ]]\n",
      "\n",
      "  [[-5.016197    6.004167   -4.518661   ...  5.3317084  -7.984757\n",
      "     7.3652344 ]\n",
      "   [-6.735937    9.684912   -6.987439   ...  2.152275   -5.9784174\n",
      "    -4.278957  ]\n",
      "   [-7.408337    7.84474    -6.910563   ...  5.2382617  -7.774349\n",
      "    -7.191754  ]\n",
      "   ...\n",
      "   [-5.646018    9.603076   -7.8226647  ...  3.7661278  -6.9259796\n",
      "    -6.892314  ]\n",
      "   [-7.0791125   7.6951156  -6.2338786  ...  2.6975055  -7.9461107\n",
      "    -4.161305  ]\n",
      "   [-7.9294434   7.4481893  -6.2980156  ... -1.6597676  -7.3052254\n",
      "    -6.5889516 ]]\n",
      "\n",
      "  [[-3.7823334   4.5805793  -7.13111    ...  7.190575   -5.6224957\n",
      "     4.8152094 ]\n",
      "   [-6.2029786   7.666973   -7.1760015  ...  6.153436   -5.7021112\n",
      "    -5.0063224 ]\n",
      "   [-5.605887    6.8970046  -7.2861147  ...  4.0363984  -5.633311\n",
      "    -4.8515954 ]\n",
      "   ...\n",
      "   [-4.5357976   7.5099998  -6.3184133  ...  6.60312    -6.382165\n",
      "    -6.098022  ]\n",
      "   [-6.101305    6.1923165  -7.8008275  ...  5.029752   -5.3596954\n",
      "    -4.2629128 ]\n",
      "   [-5.248869    6.3511987  -5.77886    ...  2.4906728  -8.255337\n",
      "    -6.0042305 ]]\n",
      "\n",
      "  ...\n",
      "\n",
      "  [[-5.1370554   6.3163586  -6.683143   ...  6.84856    -7.3960414\n",
      "     3.7614307 ]\n",
      "   [-6.6486874   8.500119   -8.391864   ...  6.880482   -6.020435\n",
      "    -6.820426  ]\n",
      "   [-6.881851    8.895166   -7.823155   ...  5.9435515  -4.390248\n",
      "    -6.534095  ]\n",
      "   ...\n",
      "   [-5.96019     7.830984   -8.218461   ...  5.0491505  -6.122008\n",
      "    -5.97057   ]\n",
      "   [-4.949594    7.7237363  -6.7357726  ...  4.5800667  -5.542727\n",
      "    -7.2537017 ]\n",
      "   [-5.2448883   7.0330167  -5.2483053  ...  3.1325507  -6.8219295\n",
      "    -5.8672466 ]]\n",
      "\n",
      "  [[-6.8481936   8.132433   -7.173591   ...  6.6865644  -6.2309937\n",
      "    -0.9412824 ]\n",
      "   [-4.697436    6.8336887  -6.4478154  ...  5.679046   -6.3213964\n",
      "    -6.4924784 ]\n",
      "   [-6.139372    5.708829   -7.087582   ...  4.8404713  -6.701463\n",
      "    -7.312266  ]\n",
      "   ...\n",
      "   [-5.177017    7.785828   -6.877201   ...  4.9265165  -6.0167117\n",
      "    -3.6256306 ]\n",
      "   [-6.795949    5.088955   -7.5072675  ...  6.1869845  -7.154206\n",
      "    -4.8575277 ]\n",
      "   [-6.692861    5.0697055  -4.3230853  ...  2.0788302  -7.2169766\n",
      "    -5.3044443 ]]\n",
      "\n",
      "  [[-2.8815968   4.8667183  -0.9657339  ...  4.7700343  -6.0353403\n",
      "     5.6856666 ]\n",
      "   [-6.089659    8.719464   -4.406837   ...  0.42418697 -7.6590853\n",
      "    -3.6786406 ]\n",
      "   [-5.998493    5.8094864  -3.471754   ...  0.7259419  -7.490977\n",
      "    -1.1930559 ]\n",
      "   ...\n",
      "   [-4.8805475   5.656426   -3.4365704  ...  1.7457292  -6.2072444\n",
      "    -2.9610753 ]\n",
      "   [-6.949901    4.7019973  -5.472911   ...  0.28465554 -4.146914\n",
      "     1.90388   ]\n",
      "   [-6.575706    7.0440364  -0.35937306 ... -3.045957   -4.6127253\n",
      "    -5.711607  ]]]], shape=(1, 16, 64, 128), dtype=float32)\n"
     ]
    }
   ],
   "source": [
    "l2=cello_decoder.layers[2](l1)\n",
    "print(cello_decoder.layers[2].name)\n",
    "print(l2)"
   ]
  },
  {
   "cell_type": "code",
   "execution_count": null,
   "id": "f486351e",
   "metadata": {
    "id": "f486351e",
    "outputId": "93b27e4c-90f2-4464-a275-3cf50f57aa68"
   },
   "outputs": [
    {
     "name": "stdout",
     "output_type": "stream",
     "text": [
      "conv2d_transpose_39\n",
      "tf.Tensor(\n",
      "[[[[ 38.943836  31.544588 -23.42413  ...  41.673775  26.375431\n",
      "     28.139154]\n",
      "   [ 40.363525  41.24036  -36.61161  ...  59.280643  41.4044\n",
      "     38.447025]\n",
      "   [ 40.530434  43.58769  -41.84736  ...  60.352806  40.500076\n",
      "     40.32756 ]\n",
      "   ...\n",
      "   [ 38.577465  43.74812  -38.502068 ...  59.312943  38.890156\n",
      "     41.174335]\n",
      "   [ 39.291965  39.427055 -37.015945 ...  58.82185   41.215183\n",
      "     40.0902  ]\n",
      "   [ 18.980986  17.029116 -24.500322 ...  37.901608  26.977667\n",
      "     25.945618]]\n",
      "\n",
      "  [[ 56.079002  50.820644 -37.57349  ...  57.192818  52.76405\n",
      "     41.9062  ]\n",
      "   [ 67.99002   68.29351  -58.213306 ...  93.01562   68.562096\n",
      "     55.985573]\n",
      "   [ 69.63033   67.40735  -58.77234  ...  92.78815   70.16603\n",
      "     60.20433 ]\n",
      "   ...\n",
      "   [ 67.932884  63.396427 -57.437862 ...  88.563446  64.828316\n",
      "     59.35804 ]\n",
      "   [ 66.55896   62.14233  -57.10024  ...  83.66141   65.08439\n",
      "     55.7349  ]\n",
      "   [ 37.619312  30.301323 -36.799232 ...  54.844067  41.084652\n",
      "     33.97891 ]]\n",
      "\n",
      "  [[ 55.24921   49.79858  -38.578762 ...  61.4173    51.18598\n",
      "     41.014286]\n",
      "   [ 66.226     72.176636 -57.665363 ...  90.52102   68.89554\n",
      "     58.56875 ]\n",
      "   [ 68.50659   69.01375  -60.214535 ...  92.74153   67.32164\n",
      "     59.8409  ]\n",
      "   ...\n",
      "   [ 64.13435   66.765045 -59.418156 ...  90.23259   64.286316\n",
      "     59.44911 ]\n",
      "   [ 62.65685   61.684605 -57.25964  ...  85.018295  63.129124\n",
      "     57.474537]\n",
      "   [ 34.88019   30.687798 -38.673656 ...  52.47589   40.865486\n",
      "     35.40952 ]]\n",
      "\n",
      "  ...\n",
      "\n",
      "  [[ 54.305065  50.227455 -37.62228  ...  58.594646  49.64115\n",
      "     39.400925]\n",
      "   [ 68.047585  70.376305 -58.89771  ...  90.44902   65.11313\n",
      "     58.00879 ]\n",
      "   [ 66.11376   66.22833  -59.490376 ...  92.554184  65.81123\n",
      "     59.3355  ]\n",
      "   ...\n",
      "   [ 67.05615   65.96172  -58.52614  ...  90.30749   65.37586\n",
      "     58.594574]\n",
      "   [ 63.5758    58.177616 -54.11308  ...  86.170204  62.348087\n",
      "     55.339268]\n",
      "   [ 36.06948   29.518835 -36.797703 ...  55.39251   40.16078\n",
      "     35.46543 ]]\n",
      "\n",
      "  [[ 55.562004  48.706444 -35.472874 ...  54.1906    50.918236\n",
      "     42.38352 ]\n",
      "   [ 69.71977   67.64215  -53.30753  ...  90.39729   63.38239\n",
      "     60.161457]\n",
      "   [ 66.96225   64.90756  -54.54198  ...  89.8942    65.022644\n",
      "     57.55371 ]\n",
      "   ...\n",
      "   [ 68.741104  65.601425 -54.19935  ...  88.61351   64.50468\n",
      "     59.66139 ]\n",
      "   [ 66.60099   60.65256  -51.56916  ...  85.079926  61.651566\n",
      "     56.108444]\n",
      "   [ 36.57663   30.022589 -33.928127 ...  54.31991   40.433743\n",
      "     31.720945]]\n",
      "\n",
      "  [[ 30.302496  28.492085 -22.793213 ...  30.007656  39.75192\n",
      "     26.536139]\n",
      "   [ 40.1915    42.25154  -34.645893 ...  54.091316  46.208485\n",
      "     30.531992]\n",
      "   [ 41.929165  43.675655 -36.85713  ...  53.549446  49.15821\n",
      "     30.648577]\n",
      "   ...\n",
      "   [ 40.42531   43.004833 -34.99229  ...  50.547478  47.113716\n",
      "     29.74488 ]\n",
      "   [ 38.423306  39.734516 -34.83715  ...  47.577965  46.693375\n",
      "     27.317396]\n",
      "   [ 24.141314  19.702492 -23.351458 ...  27.833393  29.215157\n",
      "     13.906992]]]], shape=(1, 16, 64, 64), dtype=float32)\n"
     ]
    }
   ],
   "source": [
    "l3=cello_decoder.layers[3](l2)\n",
    "print(cello_decoder.layers[3].name)\n",
    "print(l3)"
   ]
  },
  {
   "cell_type": "code",
   "execution_count": null,
   "id": "2fe79923",
   "metadata": {
    "id": "2fe79923",
    "outputId": "20a61c49-9328-42ca-b1f5-674ffd28f6f7"
   },
   "outputs": [
    {
     "name": "stdout",
     "output_type": "stream",
     "text": [
      "leaky_re_lu_8\n",
      "tf.Tensor(\n",
      "[[[[ 38.943836   31.544588   -7.0272393 ...  41.673775   26.375431\n",
      "     28.139154 ]\n",
      "   [ 40.363525   41.24036   -10.983483  ...  59.280643   41.4044\n",
      "     38.447025 ]\n",
      "   [ 40.530434   43.58769   -12.554208  ...  60.352806   40.500076\n",
      "     40.32756  ]\n",
      "   ...\n",
      "   [ 38.577465   43.74812   -11.550621  ...  59.312943   38.890156\n",
      "     41.174335 ]\n",
      "   [ 39.291965   39.427055  -11.104784  ...  58.82185    41.215183\n",
      "     40.0902   ]\n",
      "   [ 18.980986   17.029116   -7.350097  ...  37.901608   26.977667\n",
      "     25.945618 ]]\n",
      "\n",
      "  [[ 56.079002   50.820644  -11.272047  ...  57.192818   52.76405\n",
      "     41.9062   ]\n",
      "   [ 67.99002    68.29351   -17.463993  ...  93.01562    68.562096\n",
      "     55.985573 ]\n",
      "   [ 69.63033    67.40735   -17.631702  ...  92.78815    70.16603\n",
      "     60.20433  ]\n",
      "   ...\n",
      "   [ 67.932884   63.396427  -17.23136   ...  88.563446   64.828316\n",
      "     59.35804  ]\n",
      "   [ 66.55896    62.14233   -17.130072  ...  83.66141    65.08439\n",
      "     55.7349   ]\n",
      "   [ 37.619312   30.301323  -11.03977   ...  54.844067   41.084652\n",
      "     33.97891  ]]\n",
      "\n",
      "  [[ 55.24921    49.79858   -11.573629  ...  61.4173     51.18598\n",
      "     41.014286 ]\n",
      "   [ 66.226      72.176636  -17.29961   ...  90.52102    68.89554\n",
      "     58.56875  ]\n",
      "   [ 68.50659    69.01375   -18.064362  ...  92.74153    67.32164\n",
      "     59.8409   ]\n",
      "   ...\n",
      "   [ 64.13435    66.765045  -17.825447  ...  90.23259    64.286316\n",
      "     59.44911  ]\n",
      "   [ 62.65685    61.684605  -17.177893  ...  85.018295   63.129124\n",
      "     57.474537 ]\n",
      "   [ 34.88019    30.687798  -11.6020975 ...  52.47589    40.865486\n",
      "     35.40952  ]]\n",
      "\n",
      "  ...\n",
      "\n",
      "  [[ 54.305065   50.227455  -11.286684  ...  58.594646   49.64115\n",
      "     39.400925 ]\n",
      "   [ 68.047585   70.376305  -17.669313  ...  90.44902    65.11313\n",
      "     58.00879  ]\n",
      "   [ 66.11376    66.22833   -17.847113  ...  92.554184   65.81123\n",
      "     59.3355   ]\n",
      "   ...\n",
      "   [ 67.05615    65.96172   -17.557842  ...  90.30749    65.37586\n",
      "     58.594574 ]\n",
      "   [ 63.5758     58.177616  -16.233925  ...  86.170204   62.348087\n",
      "     55.339268 ]\n",
      "   [ 36.06948    29.518835  -11.039311  ...  55.39251    40.16078\n",
      "     35.46543  ]]\n",
      "\n",
      "  [[ 55.562004   48.706444  -10.641863  ...  54.1906     50.918236\n",
      "     42.38352  ]\n",
      "   [ 69.71977    67.64215   -15.992259  ...  90.39729    63.38239\n",
      "     60.161457 ]\n",
      "   [ 66.96225    64.90756   -16.362595  ...  89.8942     65.022644\n",
      "     57.55371  ]\n",
      "   ...\n",
      "   [ 68.741104   65.601425  -16.259806  ...  88.61351    64.50468\n",
      "     59.66139  ]\n",
      "   [ 66.60099    60.65256   -15.470749  ...  85.079926   61.651566\n",
      "     56.108444 ]\n",
      "   [ 36.57663    30.022589  -10.178438  ...  54.31991    40.433743\n",
      "     31.720945 ]]\n",
      "\n",
      "  [[ 30.302496   28.492085   -6.837964  ...  30.007656   39.75192\n",
      "     26.536139 ]\n",
      "   [ 40.1915     42.25154   -10.393768  ...  54.091316   46.208485\n",
      "     30.531992 ]\n",
      "   [ 41.929165   43.675655  -11.057138  ...  53.549446   49.15821\n",
      "     30.648577 ]\n",
      "   ...\n",
      "   [ 40.42531    43.004833  -10.497687  ...  50.547478   47.113716\n",
      "     29.74488  ]\n",
      "   [ 38.423306   39.734516  -10.451145  ...  47.577965   46.693375\n",
      "     27.317396 ]\n",
      "   [ 24.141314   19.702492   -7.0054374 ...  27.833393   29.215157\n",
      "     13.906992 ]]]], shape=(1, 16, 64, 64), dtype=float32)\n"
     ]
    }
   ],
   "source": [
    "l4=cello_decoder.layers[4](l3)\n",
    "print(cello_decoder.layers[4].name)\n",
    "print(l4)"
   ]
  },
  {
   "cell_type": "code",
   "execution_count": null,
   "id": "685c25ae",
   "metadata": {
    "id": "685c25ae",
    "outputId": "b7ae21b9-1956-4a6f-bfcb-25522de65699"
   },
   "outputs": [
    {
     "name": "stdout",
     "output_type": "stream",
     "text": [
      "conv2d_transpose_40\n",
      "tf.Tensor(\n",
      "[[[[-1.08074160e+01 -1.60636578e+01  1.49333429e+01 ...  1.70158653e+01\n",
      "     9.64703336e-02 -2.01597939e+01]\n",
      "   [ 7.52222538e+00 -2.39560394e+01  1.29888411e+01 ...  1.44642735e+00\n",
      "     1.57291574e+01 -1.76931572e+01]\n",
      "   [-4.50862198e+01 -1.34427443e+01  1.73000259e+01 ...  3.53914642e+01\n",
      "    -3.30382180e+00 -3.98747177e+01]\n",
      "   ...\n",
      "   [ 8.89426041e+00 -3.22973938e+01  1.50312786e+01 ...  2.45517278e+00\n",
      "     1.95271358e+01 -2.40693550e+01]\n",
      "   [-4.75348701e+01 -3.76750159e+00  4.85138130e+00 ...  2.95178909e+01\n",
      "    -8.31688595e+00 -3.26575432e+01]\n",
      "   [ 5.09803915e+00 -2.05606155e+01  8.55414963e+00 ...  2.89922881e+00\n",
      "     1.21979370e+01 -1.53671551e+01]]\n",
      "\n",
      "  [[-1.33041630e+01 -2.14869881e+01  1.19876451e+01 ...  1.44099789e+01\n",
      "    -4.51809692e+00 -1.17803478e+01]\n",
      "   [-9.84392166e+00 -1.58181391e+01  2.23991470e+01 ...  3.04121571e+01\n",
      "     3.25526929e+00 -6.51295757e+00]\n",
      "   [-3.23533287e+01 -3.01452656e+01  3.84372787e+01 ...  5.04064941e+01\n",
      "     2.75419176e-01 -3.79577904e+01]\n",
      "   ...\n",
      "   [-1.56622200e+01 -2.27659912e+01  2.99974823e+01 ...  4.26404266e+01\n",
      "     5.79092121e+00 -9.50070095e+00]\n",
      "   [-2.86032066e+01 -1.92118244e+01  3.96422691e+01 ...  5.09502831e+01\n",
      "     5.86994267e+00 -3.66168671e+01]\n",
      "   [-8.72737885e+00 -1.38130417e+01  1.94803104e+01 ...  2.70036030e+01\n",
      "     3.68292141e+00 -6.42711926e+00]]\n",
      "\n",
      "  [[-2.84202023e+01 -3.03843365e+01  4.90837517e+01 ...  5.25999565e+01\n",
      "     8.83526134e+00 -4.28349113e+01]\n",
      "   [ 8.21459866e+00 -4.81233521e+01  3.86732674e+01 ...  3.67501602e+01\n",
      "     4.18785896e+01 -3.30416374e+01]\n",
      "   [-1.03969315e+02 -4.14198418e+01  8.53391418e+01 ...  1.00415001e+02\n",
      "     1.42606525e+01 -9.44318695e+01]\n",
      "   ...\n",
      "   [ 8.57779026e+00 -6.33532295e+01  4.91717987e+01 ...  4.98663712e+01\n",
      "     5.62916374e+01 -4.26361847e+01]\n",
      "   [-1.14282990e+02 -2.48689098e+01  5.51974869e+01 ...  8.33436050e+01\n",
      "     5.70167065e+00 -7.50768585e+01]\n",
      "   [ 5.98197269e+00 -3.92888184e+01  2.78970432e+01 ...  3.16401005e+01\n",
      "     3.57031059e+01 -2.46583729e+01]]\n",
      "\n",
      "  ...\n",
      "\n",
      "  [[-1.96292858e+01 -2.68694611e+01  1.39989872e+01 ...  2.07016277e+01\n",
      "    -8.39361286e+00 -1.89295120e+01]\n",
      "   [-1.65547581e+01 -2.25211926e+01  3.23548355e+01 ...  4.34339867e+01\n",
      "     2.95919180e+00 -1.06205540e+01]\n",
      "   [-4.54216957e+01 -4.51313896e+01  4.86736641e+01 ...  7.09850388e+01\n",
      "    -1.75774670e+00 -5.39677162e+01]\n",
      "   ...\n",
      "   [-2.21811161e+01 -3.24806633e+01  4.13994942e+01 ...  6.02361450e+01\n",
      "     6.08830166e+00 -1.53780222e+01]\n",
      "   [-4.03733635e+01 -2.82104378e+01  5.31156044e+01 ...  7.01182709e+01\n",
      "     8.34455872e+00 -5.25867424e+01]\n",
      "   [-1.35907745e+01 -2.03799572e+01  2.58101196e+01 ...  3.79814529e+01\n",
      "     3.99706912e+00 -9.48544216e+00]]\n",
      "\n",
      "  [[-2.35148182e+01 -2.44604664e+01  5.17280388e+01 ...  5.53461037e+01\n",
      "     1.43287201e+01 -3.36893272e+01]\n",
      "   [-1.93392292e-01 -3.42107620e+01  4.01310272e+01 ...  4.72954865e+01\n",
      "     3.84607391e+01 -2.28484077e+01]\n",
      "   [-9.38712921e+01 -3.79848022e+01  9.89728470e+01 ...  1.03769455e+02\n",
      "     2.75115585e+01 -7.97211609e+01]\n",
      "   ...\n",
      "   [-1.60900784e+00 -4.94253349e+01  4.87930336e+01 ...  6.64792557e+01\n",
      "     5.50430489e+01 -2.80297871e+01]\n",
      "   [-1.02905243e+02 -3.08902302e+01  7.03853455e+01 ...  8.24574738e+01\n",
      "     2.19663582e+01 -6.58172455e+01]\n",
      "   [ 1.01415014e+00 -3.09061451e+01  2.85259094e+01 ...  4.25697937e+01\n",
      "     3.51040878e+01 -1.50809278e+01]]\n",
      "\n",
      "  [[-1.25918608e+01 -1.65281086e+01  8.73749924e+00 ...  1.07594385e+01\n",
      "    -7.64875746e+00 -1.07744532e+01]\n",
      "   [-1.02462997e+01 -1.40232630e+01  1.92068214e+01 ...  2.71217918e+01\n",
      "     7.83572376e-01 -7.10422230e+00]\n",
      "   [-2.93322430e+01 -2.76275768e+01  2.94031849e+01 ...  4.27636871e+01\n",
      "    -3.15101337e+00 -3.25104866e+01]\n",
      "   ...\n",
      "   [-1.43552256e+01 -2.04580574e+01  2.46823502e+01 ...  3.60710297e+01\n",
      "     6.91294789e-01 -9.28721237e+00]\n",
      "   [-2.57224789e+01 -1.77235146e+01  2.97591286e+01 ...  4.25803528e+01\n",
      "     3.53476429e+00 -3.16291790e+01]\n",
      "   [-8.98689175e+00 -1.32376318e+01  1.56883192e+01 ...  2.11134338e+01\n",
      "    -5.54359138e-01 -4.37312078e+00]]]], shape=(1, 32, 128, 32), dtype=float32)\n"
     ]
    }
   ],
   "source": [
    "l5=cello_decoder.layers[5](l4)\n",
    "print(cello_decoder.layers[5].name)\n",
    "print(l5)"
   ]
  },
  {
   "cell_type": "code",
   "execution_count": null,
   "id": "1983f982",
   "metadata": {
    "id": "1983f982",
    "outputId": "fa09c15a-00a1-4620-e476-5ba8fb671e22"
   },
   "outputs": [
    {
     "name": "stdout",
     "output_type": "stream",
     "text": [
      "leaky_re_lu_9\n",
      "tf.Tensor(\n",
      "[[[[-3.24222493e+00 -4.81909752e+00  1.49333429e+01 ...  1.70158653e+01\n",
      "     9.64703336e-02 -6.04793835e+00]\n",
      "   [ 7.52222538e+00 -7.18681192e+00  1.29888411e+01 ...  1.44642735e+00\n",
      "     1.57291574e+01 -5.30794716e+00]\n",
      "   [-1.35258665e+01 -4.03282356e+00  1.73000259e+01 ...  3.53914642e+01\n",
      "    -9.91146564e-01 -1.19624157e+01]\n",
      "   ...\n",
      "   [ 8.89426041e+00 -9.68921852e+00  1.50312786e+01 ...  2.45517278e+00\n",
      "     1.95271358e+01 -7.22080660e+00]\n",
      "   [-1.42604618e+01 -1.13025057e+00  4.85138130e+00 ...  2.95178909e+01\n",
      "    -2.49506593e+00 -9.79726315e+00]\n",
      "   [ 5.09803915e+00 -6.16818476e+00  8.55414963e+00 ...  2.89922881e+00\n",
      "     1.21979370e+01 -4.61014652e+00]]\n",
      "\n",
      "  [[-3.99124908e+00 -6.44609690e+00  1.19876451e+01 ...  1.44099789e+01\n",
      "    -1.35542917e+00 -3.53410459e+00]\n",
      "   [-2.95317650e+00 -4.74544191e+00  2.23991470e+01 ...  3.04121571e+01\n",
      "     3.25526929e+00 -1.95388734e+00]\n",
      "   [-9.70599937e+00 -9.04358006e+00  3.84372787e+01 ...  5.04064941e+01\n",
      "     2.75419176e-01 -1.13873377e+01]\n",
      "   ...\n",
      "   [-4.69866610e+00 -6.82979774e+00  2.99974823e+01 ...  4.26404266e+01\n",
      "     5.79092121e+00 -2.85021043e+00]\n",
      "   [-8.58096218e+00 -5.76354742e+00  3.96422691e+01 ...  5.09502831e+01\n",
      "     5.86994267e+00 -1.09850607e+01]\n",
      "   [-2.61821365e+00 -4.14391279e+00  1.94803104e+01 ...  2.70036030e+01\n",
      "     3.68292141e+00 -1.92813587e+00]]\n",
      "\n",
      "  [[-8.52606106e+00 -9.11530113e+00  4.90837517e+01 ...  5.25999565e+01\n",
      "     8.83526134e+00 -1.28504744e+01]\n",
      "   [ 8.21459866e+00 -1.44370060e+01  3.86732674e+01 ...  3.67501602e+01\n",
      "     4.18785896e+01 -9.91249180e+00]\n",
      "   [-3.11907959e+01 -1.24259529e+01  8.53391418e+01 ...  1.00415001e+02\n",
      "     1.42606525e+01 -2.83295612e+01]\n",
      "   ...\n",
      "   [ 8.57779026e+00 -1.90059700e+01  4.91717987e+01 ...  4.98663712e+01\n",
      "     5.62916374e+01 -1.27908564e+01]\n",
      "   [-3.42848969e+01 -7.46067333e+00  5.51974869e+01 ...  8.33436050e+01\n",
      "     5.70167065e+00 -2.25230579e+01]\n",
      "   [ 5.98197269e+00 -1.17866459e+01  2.78970432e+01 ...  3.16401005e+01\n",
      "     3.57031059e+01 -7.39751196e+00]]\n",
      "\n",
      "  ...\n",
      "\n",
      "  [[-5.88878584e+00 -8.06083870e+00  1.39989872e+01 ...  2.07016277e+01\n",
      "    -2.51808405e+00 -5.67885399e+00]\n",
      "   [-4.96642780e+00 -6.75635815e+00  3.23548355e+01 ...  4.34339867e+01\n",
      "     2.95919180e+00 -3.18616629e+00]\n",
      "   [-1.36265097e+01 -1.35394173e+01  4.86736641e+01 ...  7.09850388e+01\n",
      "    -5.27324021e-01 -1.61903152e+01]\n",
      "   ...\n",
      "   [-6.65433502e+00 -9.74419975e+00  4.13994942e+01 ...  6.02361450e+01\n",
      "     6.08830166e+00 -4.61340666e+00]\n",
      "   [-1.21120100e+01 -8.46313190e+00  5.31156044e+01 ...  7.01182709e+01\n",
      "     8.34455872e+00 -1.57760229e+01]\n",
      "   [-4.07723236e+00 -6.11398745e+00  2.58101196e+01 ...  3.79814529e+01\n",
      "     3.99706912e+00 -2.84563279e+00]]\n",
      "\n",
      "  [[-7.05444574e+00 -7.33814001e+00  5.17280388e+01 ...  5.53461037e+01\n",
      "     1.43287201e+01 -1.01067982e+01]\n",
      "   [-5.80176897e-02 -1.02632294e+01  4.01310272e+01 ...  4.72954865e+01\n",
      "     3.84607391e+01 -6.85452271e+00]\n",
      "   [-2.81613884e+01 -1.13954411e+01  9.89728470e+01 ...  1.03769455e+02\n",
      "     2.75115585e+01 -2.39163494e+01]\n",
      "   ...\n",
      "   [-4.82702374e-01 -1.48276014e+01  4.87930336e+01 ...  6.64792557e+01\n",
      "     5.50430489e+01 -8.40893650e+00]\n",
      "   [-3.08715744e+01 -9.26706982e+00  7.03853455e+01 ...  8.24574738e+01\n",
      "     2.19663582e+01 -1.97451744e+01]\n",
      "   [ 1.01415014e+00 -9.27184391e+00  2.85259094e+01 ...  4.25697937e+01\n",
      "     3.51040878e+01 -4.52427864e+00]]\n",
      "\n",
      "  [[-3.77755833e+00 -4.95843267e+00  8.73749924e+00 ...  1.07594385e+01\n",
      "    -2.29462743e+00 -3.23233604e+00]\n",
      "   [-3.07388997e+00 -4.20697927e+00  1.92068214e+01 ...  2.71217918e+01\n",
      "     7.83572376e-01 -2.13126683e+00]\n",
      "   [-8.79967308e+00 -8.28827381e+00  2.94031849e+01 ...  4.27636871e+01\n",
      "    -9.45304036e-01 -9.75314617e+00]\n",
      "   ...\n",
      "   [-4.30656767e+00 -6.13741732e+00  2.46823502e+01 ...  3.60710297e+01\n",
      "     6.91294789e-01 -2.78616381e+00]\n",
      "   [-7.71674395e+00 -5.31705475e+00  2.97591286e+01 ...  4.25803528e+01\n",
      "     3.53476429e+00 -9.48875427e+00]\n",
      "   [-2.69606757e+00 -3.97128963e+00  1.56883192e+01 ...  2.11134338e+01\n",
      "    -1.66307747e-01 -1.31193626e+00]]]], shape=(1, 32, 128, 32), dtype=float32)\n"
     ]
    }
   ],
   "source": [
    "l6=cello_decoder.layers[6](l5)\n",
    "print(cello_decoder.layers[6].name)\n",
    "print(l6)"
   ]
  },
  {
   "cell_type": "code",
   "execution_count": null,
   "id": "8c9dee76",
   "metadata": {
    "id": "8c9dee76",
    "outputId": "97194837-c56b-467e-8433-001d24247b2b"
   },
   "outputs": [
    {
     "data": {
      "text/plain": [
       "[<tf.Variable 'conv2d_transpose_41/kernel:0' shape=(3, 3, 1, 32) dtype=float32, numpy=\n",
       " array([[[[-0.07370659,  0.00962245, -0.13201514, -0.05736502,\n",
       "           -0.06718591, -0.01043948, -0.06129002,  0.11781043,\n",
       "            0.03930991,  0.07716038,  0.06305761,  0.10952831,\n",
       "           -0.06825352, -0.04324741,  0.04894667,  0.02477586,\n",
       "           -0.07953695, -0.0431023 , -0.09159931,  0.00287426,\n",
       "            0.10032887, -0.14060234, -0.04876757, -0.0860716 ,\n",
       "           -0.11748661, -0.14512353,  0.03807541,  0.04474178,\n",
       "            0.09385206, -0.04389098,  0.11324543,  0.05198344]],\n",
       " \n",
       "         [[ 0.12099554, -0.00055463, -0.04264565, -0.00064711,\n",
       "            0.03448325, -0.02097735, -0.03461795, -0.08557708,\n",
       "            0.05006867,  0.11812288,  0.12868465, -0.10595585,\n",
       "           -0.1076342 , -0.01790748, -0.00734784, -0.01703246,\n",
       "           -0.12204074, -0.05012959,  0.09598829, -0.10601254,\n",
       "            0.10311479,  0.07532651, -0.14858478,  0.02693971,\n",
       "            0.12781048, -0.08799265, -0.048439  ,  0.09720985,\n",
       "            0.078526  , -0.14864737,  0.0968958 , -0.12632719]],\n",
       " \n",
       "         [[ 0.08132476,  0.08446661, -0.03105551, -0.14449637,\n",
       "           -0.0614305 , -0.05696046,  0.13197467,  0.07948257,\n",
       "           -0.05504493,  0.06002216,  0.02649417, -0.06602692,\n",
       "           -0.0473989 ,  0.1375714 , -0.04763756,  0.1332116 ,\n",
       "           -0.03459401, -0.05509197,  0.08928858, -0.06217249,\n",
       "            0.03604155,  0.00450016,  0.03643646, -0.10219489,\n",
       "           -0.07421156, -0.07839696,  0.01217694, -0.15008263,\n",
       "           -0.0904309 , -0.0115422 ,  0.01698255,  0.02194389]]],\n",
       " \n",
       " \n",
       "        [[[-0.07783413,  0.10875154,  0.01284471, -0.03119977,\n",
       "           -0.01883212, -0.13777818, -0.05866303, -0.07125647,\n",
       "           -0.10002618,  0.06423973, -0.1357971 ,  0.06921068,\n",
       "            0.01227872,  0.12808628,  0.11409681, -0.04529697,\n",
       "           -0.11984883, -0.12426852,  0.07873802, -0.00587639,\n",
       "           -0.0802615 , -0.03422141,  0.02369718, -0.11572865,\n",
       "            0.06798445,  0.09335994, -0.061178  , -0.01840126,\n",
       "           -0.12945805,  0.00553832, -0.03613105,  0.05070884]],\n",
       " \n",
       "         [[-0.10209328, -0.0122684 , -0.07212878,  0.03203529,\n",
       "           -0.02114385,  0.08081304, -0.13801378, -0.08215557,\n",
       "           -0.09717339, -0.05681992, -0.11829296, -0.13506328,\n",
       "            0.10131939, -0.07604018, -0.09794015, -0.06186768,\n",
       "           -0.14083393, -0.04645765, -0.12519486, -0.10100554,\n",
       "           -0.12377775, -0.09687794, -0.05347581,  0.0833802 ,\n",
       "            0.02789127,  0.10375775, -0.12706311, -0.11260103,\n",
       "           -0.10050373,  0.09509281, -0.0259266 , -0.06479045]],\n",
       " \n",
       "         [[ 0.04429061,  0.0343108 ,  0.11008772, -0.13561046,\n",
       "           -0.06870987, -0.13541794, -0.01903103,  0.09932621,\n",
       "           -0.14700145, -0.07852571, -0.06387698, -0.04650934,\n",
       "            0.12195044, -0.0167941 , -0.10760657,  0.04862659,\n",
       "           -0.13144504,  0.03165457, -0.10723162,  0.1118778 ,\n",
       "            0.11139037, -0.12162453,  0.07215902,  0.07420016,\n",
       "            0.13343279, -0.02437812,  0.02759642, -0.02414271,\n",
       "           -0.11825892, -0.14223301,  0.0286702 ,  0.11480961]]],\n",
       " \n",
       " \n",
       "        [[[ 0.13959154,  0.07611919, -0.04663499,  0.01836577,\n",
       "            0.07548001,  0.08456773,  0.09598609,  0.14137012,\n",
       "           -0.00924951, -0.05945835, -0.02749829, -0.08431456,\n",
       "           -0.03070815,  0.0213926 ,  0.05954329, -0.14142242,\n",
       "           -0.00733298,  0.06108752, -0.0998293 , -0.05739392,\n",
       "            0.0816059 ,  0.09020128,  0.08066207,  0.04440776,\n",
       "           -0.06178373, -0.11945938, -0.04911056,  0.05862655,\n",
       "           -0.0070364 , -0.11670171, -0.05801627,  0.04015596]],\n",
       " \n",
       "         [[-0.03642894, -0.01130547, -0.14547251, -0.14524357,\n",
       "           -0.11537934, -0.11208332, -0.06127181, -0.07679519,\n",
       "            0.02589616,  0.12080664, -0.02500513, -0.06678577,\n",
       "           -0.03019111,  0.01219209, -0.12339617,  0.0810062 ,\n",
       "            0.05556076, -0.14716323,  0.04776783,  0.09695484,\n",
       "           -0.04979657, -0.1175503 , -0.09491119, -0.14206545,\n",
       "            0.02648958, -0.03433516, -0.08846518, -0.11317303,\n",
       "           -0.0349211 , -0.02580189, -0.07125289,  0.01417431]],\n",
       " \n",
       "         [[ 0.10810471, -0.00416012,  0.00567825, -0.06613249,\n",
       "            0.12498464, -0.08215734, -0.09408944,  0.11309862,\n",
       "            0.01271175, -0.01397109,  0.04711381, -0.0594286 ,\n",
       "            0.12891544, -0.05422739,  0.01305744, -0.02854996,\n",
       "            0.08673938, -0.00054625, -0.0013248 , -0.11414989,\n",
       "            0.12868279,  0.05157962, -0.0241989 ,  0.11540692,\n",
       "            0.10233724, -0.11422328,  0.10426728, -0.11640834,\n",
       "           -0.03968096,  0.07241184, -0.12661731,  0.08965436]]]],\n",
       "       dtype=float32)>,\n",
       " <tf.Variable 'conv2d_transpose_41/bias:0' shape=(1,) dtype=float32, numpy=array([-0.01148814], dtype=float32)>]"
      ]
     },
     "execution_count": 496,
     "metadata": {},
     "output_type": "execute_result"
    }
   ],
   "source": [
    "cello_decoder.layers[7].weights"
   ]
  },
  {
   "cell_type": "code",
   "execution_count": null,
   "id": "a57d50b3",
   "metadata": {
    "id": "a57d50b3",
    "outputId": "70519441-3240-425f-fe99-d5fc19e7e8fb"
   },
   "outputs": [
    {
     "name": "stdout",
     "output_type": "stream",
     "text": [
      "conv2d_transpose_41\n",
      "tf.Tensor(\n",
      "[[[[ -47.441162]\n",
      "   [ -89.68424 ]\n",
      "   [-127.464554]\n",
      "   ...\n",
      "   [-153.36644 ]\n",
      "   [-122.07687 ]\n",
      "   [ -86.84428 ]]\n",
      "\n",
      "  [[ -70.58846 ]\n",
      "   [-158.04286 ]\n",
      "   [-203.12292 ]\n",
      "   ...\n",
      "   [-271.33527 ]\n",
      "   [-205.20848 ]\n",
      "   [-163.27147 ]]\n",
      "\n",
      "  [[-106.57338 ]\n",
      "   [-226.78143 ]\n",
      "   [-298.2114  ]\n",
      "   ...\n",
      "   [-365.78088 ]\n",
      "   [-287.66925 ]\n",
      "   [-207.6816  ]]\n",
      "\n",
      "  ...\n",
      "\n",
      "  [[-137.42726 ]\n",
      "   [-223.55196 ]\n",
      "   [-358.8812  ]\n",
      "   ...\n",
      "   [-376.55692 ]\n",
      "   [-337.74265 ]\n",
      "   [-224.2251  ]]\n",
      "\n",
      "  [[ -92.79373 ]\n",
      "   [-212.7017  ]\n",
      "   [-264.94928 ]\n",
      "   ...\n",
      "   [-330.78314 ]\n",
      "   [-260.59808 ]\n",
      "   [-187.92722 ]]\n",
      "\n",
      "  [[ -89.087585]\n",
      "   [-108.247314]\n",
      "   [-214.08981 ]\n",
      "   ...\n",
      "   [-179.01793 ]\n",
      "   [-192.27032 ]\n",
      "   [-105.255646]]]], shape=(1, 32, 128, 1), dtype=float32)\n"
     ]
    }
   ],
   "source": [
    "l7=cello_decoder.layers[7](l6)\n",
    "print(cello_decoder.layers[7].name)\n",
    "print(l7)"
   ]
  },
  {
   "cell_type": "code",
   "execution_count": null,
   "id": "08457001",
   "metadata": {
    "id": "08457001",
    "outputId": "67eaf037-3ada-44fc-f211-0ab6b8b47000"
   },
   "outputs": [
    {
     "name": "stdout",
     "output_type": "stream",
     "text": [
      "activation_13\n",
      "tf.Tensor(\n",
      "[[[[2.4920979e-21]\n",
      "   [0.0000000e+00]\n",
      "   [0.0000000e+00]\n",
      "   ...\n",
      "   [0.0000000e+00]\n",
      "   [0.0000000e+00]\n",
      "   [1.9231358e-38]]\n",
      "\n",
      "  [[2.2070903e-31]\n",
      "   [0.0000000e+00]\n",
      "   [0.0000000e+00]\n",
      "   ...\n",
      "   [0.0000000e+00]\n",
      "   [0.0000000e+00]\n",
      "   [0.0000000e+00]]\n",
      "\n",
      "  [[0.0000000e+00]\n",
      "   [0.0000000e+00]\n",
      "   [0.0000000e+00]\n",
      "   ...\n",
      "   [0.0000000e+00]\n",
      "   [0.0000000e+00]\n",
      "   [0.0000000e+00]]\n",
      "\n",
      "  ...\n",
      "\n",
      "  [[0.0000000e+00]\n",
      "   [0.0000000e+00]\n",
      "   [0.0000000e+00]\n",
      "   ...\n",
      "   [0.0000000e+00]\n",
      "   [0.0000000e+00]\n",
      "   [0.0000000e+00]]\n",
      "\n",
      "  [[0.0000000e+00]\n",
      "   [0.0000000e+00]\n",
      "   [0.0000000e+00]\n",
      "   ...\n",
      "   [0.0000000e+00]\n",
      "   [0.0000000e+00]\n",
      "   [0.0000000e+00]]\n",
      "\n",
      "  [[0.0000000e+00]\n",
      "   [0.0000000e+00]\n",
      "   [0.0000000e+00]\n",
      "   ...\n",
      "   [0.0000000e+00]\n",
      "   [0.0000000e+00]\n",
      "   [0.0000000e+00]]]], shape=(1, 32, 128, 1), dtype=float32)\n"
     ]
    }
   ],
   "source": [
    "l8=cello_decoder.layers[8](l7)\n",
    "print(cello_decoder.layers[8].name)\n",
    "print(l8)"
   ]
  },
  {
   "cell_type": "code",
   "execution_count": null,
   "id": "bf07d4d0",
   "metadata": {
    "id": "bf07d4d0"
   },
   "outputs": [],
   "source": []
  }
 ],
 "metadata": {
  "accelerator": "GPU",
  "colab": {
   "gpuType": "T4",
   "provenance": [],
   "toc_visible": true
  },
  "gpuClass": "standard",
  "kernelspec": {
   "display_name": "Python 3 (ipykernel)",
   "language": "python",
   "name": "python3"
  },
  "language_info": {
   "codemirror_mode": {
    "name": "ipython",
    "version": 3
   },
   "file_extension": ".py",
   "mimetype": "text/x-python",
   "name": "python",
   "nbconvert_exporter": "python",
   "pygments_lexer": "ipython3",
   "version": "3.10.8"
  }
 },
 "nbformat": 4,
 "nbformat_minor": 5
}
