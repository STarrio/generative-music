{
 "cells": [
  {
   "cell_type": "markdown",
   "id": "8fe4d36a",
   "metadata": {},
   "source": [
    "# Limpieza y matcheo de POP909"
   ]
  },
  {
   "cell_type": "code",
   "execution_count": 1,
   "id": "947f1875",
   "metadata": {},
   "outputs": [],
   "source": [
    "import pandas as pd\n",
    "import random\n",
    "import pypianoroll as pr\n",
    "import shutil\n",
    "import os"
   ]
  },
  {
   "cell_type": "code",
   "execution_count": 9,
   "id": "dcd739cf",
   "metadata": {},
   "outputs": [],
   "source": [
    "for s in os.listdir('../POP909-Dataset-master/POP909/'):\n",
    "    if(s[0]=='.' or s=='index.xlsx'):\n",
    "        continue\n",
    "    shutil.copy(f'../POP909-Dataset-master/POP909/{s}/{s}.mid', f'./data/POP909/{s}.mid')"
   ]
  }
 ],
 "metadata": {
  "kernelspec": {
   "display_name": "Python 3 (ipykernel)",
   "language": "python",
   "name": "python3"
  },
  "language_info": {
   "codemirror_mode": {
    "name": "ipython",
    "version": 3
   },
   "file_extension": ".py",
   "mimetype": "text/x-python",
   "name": "python",
   "nbconvert_exporter": "python",
   "pygments_lexer": "ipython3",
   "version": "3.10.8"
  }
 },
 "nbformat": 4,
 "nbformat_minor": 5
}
